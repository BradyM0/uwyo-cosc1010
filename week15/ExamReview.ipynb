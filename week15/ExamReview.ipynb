{
 "cells": [
  {
   "cell_type": "markdown",
   "metadata": {},
   "source": [
    "# <p style=\"text-align: Center;\">Exam Review</p>\n",
    "## <p style=\"text-align: Center;\">University of Wyoming COSC 1010</p>\n"
   ]
  },
  {
   "cell_type": "markdown",
   "metadata": {},
   "source": [
    "## Exam content\n",
    "---\n",
    "* Random questions shown each section\n",
    "    * One question viewable at a time\n",
    "    * Cannot go back to questions \n",
    "* General knowledge\n",
    "    * Things covered in lecture slides\n",
    "* Parts of a program\n",
    "    * Identify the different parts of a program\n",
    "* Code analysis \n",
    "    * Look at code snippets and be able to identify what is happening "
   ]
  },
  {
   "cell_type": "markdown",
   "metadata": {},
   "source": [
    "## Exam content\n",
    "---\n",
    "* First section will deal with the first half of the semester\n",
    "    * Meaning the Exam is cumulative \n",
    "    * All multiple choice\n",
    "* Second section is general knowledge on the second half of the semester\n",
    "    * Again multiple choice\n",
    "* Third section will be code analysis \n",
    "    * Largely multiple choice\n",
    "    * Some short answer\n"
   ]
  },
  {
   "cell_type": "markdown",
   "metadata": {},
   "source": [
    "## Exam content\n",
    "---\n",
    "* Fourth section, problem solving \n",
    "    * Some short answer\n",
    "    * Some multiple choice\n",
    "* Final section\n",
    "    * Longer answer questions\n"
   ]
  },
  {
   "cell_type": "markdown",
   "metadata": {},
   "source": [
    "## General Knowledge \n",
    "--- \n",
    "* Understand basics in python\n",
    "    * Types of values\n",
    "    * Declarations \n",
    "    * Mathematical operations\n",
    "    * Logical comparisons\n",
    "    * Declarations of different types "
   ]
  },
  {
   "cell_type": "markdown",
   "metadata": {},
   "source": [
    "## General Knowledge \n",
    "--- \n",
    "* Understand basics in python\n",
    "    * Accessing elements in a list \n",
    "    * List index positions \n",
    "    * List operations \n",
    "    * Working with dictionaries\n",
    "    * Declaring functions"
   ]
  },
  {
   "cell_type": "markdown",
   "metadata": {},
   "source": [
    "## General Knowledge \n",
    "--- \n",
    "* Understand basics in python\n",
    "    * If statement usage and evaluation\n",
    "    * Looping \n",
    "    * Utilizing variables\n",
    "    * Declaring classes\n",
    "    * Instantiating a class object"
   ]
  },
  {
   "cell_type": "markdown",
   "metadata": {},
   "source": [
    "## General Knowledge \n",
    "--- \n",
    "* Understand basics in python\n",
    "    * Work with files\n",
    "        * Read in from\n",
    "        * Write out to\n"
   ]
  },
  {
   "cell_type": "markdown",
   "metadata": {},
   "source": [
    "## Parts of Code\n",
    "---\n",
    "* Identify different aspects of a program\n",
    "    * Code blocks\n",
    "    * Function definitions\n",
    "    * Function calls\n",
    "    * Method calls\n",
    "    * Class definitions\n",
    "    * Imports"
   ]
  },
  {
   "cell_type": "markdown",
   "metadata": {},
   "source": [
    "## Code Evaluation\n",
    "---\n",
    "* Understand how the code works\n",
    "    * Be able to identify the output\n",
    "    * Follow the logic of the code\n",
    "    * Understand what the execution flow of a program will be"
   ]
  },
  {
   "cell_type": "markdown",
   "metadata": {},
   "source": [
    "## Code Evaluation\n",
    "---\n",
    "* Understand how the code works\n",
    "    * Know what parts of a program do\n",
    "    * Understand how different parts of code work together\n",
    "    * Difference between if/elif and if/if/else \n",
    "    "
   ]
  },
  {
   "cell_type": "markdown",
   "metadata": {},
   "source": [
    "## Code Evaluation\n",
    "---\n",
    "* Understand how looping works\n",
    "* Know the different parts of a function \n",
    "* Know what the different parts of a class do\n",
    "* Know how to interact with the different parts of a class"
   ]
  },
  {
   "cell_type": "markdown",
   "metadata": {},
   "source": [
    "## Problem Solving\n",
    "---\n",
    "* Be able to understand and apply the basic problem solving techniques from lecture\n",
    "    * Identify a problem\n",
    "    * Always have a plan \n",
    "    * Restate the problem \n",
    "    * Divide the problem \n",
    "    * Start with what you know\n",
    "    * Reduce the problem \n",
    "    * Look for analogies\n",
    "    * Experiment\n",
    "    * Don't get frustrated "
   ]
  }
 ],
 "metadata": {
  "language_info": {
   "name": "python"
  }
 },
 "nbformat": 4,
 "nbformat_minor": 2
}
