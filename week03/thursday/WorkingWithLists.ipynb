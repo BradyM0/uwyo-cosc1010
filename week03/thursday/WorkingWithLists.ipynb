{
 "cells": [
  {
   "cell_type": "markdown",
   "metadata": {},
   "source": [
    "# <p style=\"text-align: Center;\">Introducing Lists</p>\n",
    "## <p style=\"text-align: Center;\">University of Wyoming COSC 1010</p>\n",
    "### <p style=\"text-align: Center;\">Adapted from: *Python Crash Course 3rd Ed* By Eric Matthes </p>"
   ]
  },
  {
   "cell_type": "markdown",
   "metadata": {},
   "source": [
    "## <p style=\"text-align: Center;\">Working with Lists</p>"
   ]
  },
  {
   "cell_type": "markdown",
   "metadata": {},
   "source": [
    "## Working with Lists\n",
    "---\n",
    "* Last time we saw how to create a simple list\n",
    "* we also learned to work with individual elements in a list\n",
    "* This time we will learn how to loop through an entire list\n",
    "* This can be down with just a few lines of code \n",
    "* *Looping* allows you to take the same action, or set of actions, with every item in a list"
   ]
  },
  {
   "cell_type": "markdown",
   "metadata": {},
   "source": [
    "## Looping through an Entire List\n",
    "---\n",
    "* Often you will want to run through a list\n",
    "* Performing the same task on each element \n",
    "* Perhaps you want to sum all the numbers in a list manually\n",
    "* Or display all titles from a list of headlines"
   ]
  },
  {
   "cell_type": "markdown",
   "metadata": {},
   "source": [
    "## Looping Through an Entire List\n",
    "---\n",
    "* When you want to do the same action for every item, you can use a `for` loop\n",
    "* Suppose we had our list of cities from last time\n",
    "* And this time you want to go through and print each city individually\n",
    "* Sure the list is small, we could do it manually by every index\n",
    "* But that is repetitive and tedious "
   ]
  },
  {
   "cell_type": "code",
   "execution_count": 1,
   "metadata": {},
   "outputs": [
    {
     "name": "stdout",
     "output_type": "stream",
     "text": [
      "Laramie\n",
      "Casper\n",
      "Jackson Hole\n",
      "Cheyenne\n"
     ]
    }
   ],
   "source": [
    "cities = [\"Laramie\",\"Casper\",\"Jackson Hole\",\"Cheyenne\"]\n",
    "print(cities[0])\n",
    "print(cities[1])\n",
    "print(cities[2])\n",
    "print(cities[3])"
   ]
  },
  {
   "cell_type": "markdown",
   "metadata": {},
   "source": [
    "## Looping Through an Entire List\n",
    "---\n",
    "* There is a better way to do this\n",
    "* Using a `for` loop avoids both the tedium and repetition \n",
    "* It also works for long lists where doing it manually isn't an option \n",
    "* Let's take a look at using a `for` loop"
   ]
  },
  {
   "cell_type": "code",
   "execution_count": 2,
   "metadata": {},
   "outputs": [
    {
     "name": "stdout",
     "output_type": "stream",
     "text": [
      "Laramie\n",
      "Casper\n",
      "Jackson Hole\n",
      "Cheyenne\n"
     ]
    }
   ],
   "source": [
    "cities = [\"Laramie\",\"Casper\",\"Jackson Hole\",\"Cheyenne\"]\n",
    "\n",
    "for city in cities: \n",
    "    print(city)"
   ]
  },
  {
   "cell_type": "markdown",
   "metadata": {},
   "source": [
    "## Looping Through an Entire List\n",
    "---\n",
    "* That code section starts by declaring a list as we saw last time \n",
    "* Then it defines a `for` loop \n",
    "* The for loop is of the form **`for` *noun* `in` *list name*`:`**\n",
    "* Recall lists are pluralized. the noun used is typically the singular version of the list name"
   ]
  },
  {
   "cell_type": "markdown",
   "metadata": {},
   "source": [
    "## Looping Through an Entire List\n",
    "---\n",
    "* Python repeats the code inside the loop as many times aas needed\n",
    "* Note the *indentation* in the code\n",
    "* Code indented under the `for city in cities:` line is the code executed during the loop"
   ]
  },
  {
   "cell_type": "markdown",
   "metadata": {},
   "source": [
    "## A Closer Look at Looping \n",
    "---\n",
    "* Looping is one of the most common wats a computer automates repetitive tasks\n",
    "* In the loop above we used it to print the city names\n",
    "* The line `for city in cities:` tells python to take the first value in the list and then associate it with the variable city\n",
    "* Each iteration through it re-associates city with the next value stored\n",
    "* Until it reaches the end of the List"
   ]
  },
  {
   "cell_type": "markdown",
   "metadata": {},
   "source": [
    "## A Closer Look at Looping \n",
    "---\n",
    "* When you're using loops for the first time remember the set of steps is repeated for each item \n",
    "* This means if you have millions of items in the list python will run through the loop millions of times\n",
    "* Also remember when writing loops you can choose any variable name you want \n",
    "* It is helpful to select something meaningful for the individual item "
   ]
  },
  {
   "cell_type": "markdown",
   "metadata": {},
   "source": []
  }
 ],
 "metadata": {
  "kernelspec": {
   "display_name": "Python 3",
   "language": "python",
   "name": "python3"
  },
  "language_info": {
   "codemirror_mode": {
    "name": "ipython",
    "version": 3
   },
   "file_extension": ".py",
   "mimetype": "text/x-python",
   "name": "python",
   "nbconvert_exporter": "python",
   "pygments_lexer": "ipython3",
   "version": "3.10.12"
  },
  "orig_nbformat": 4
 },
 "nbformat": 4,
 "nbformat_minor": 2
}
