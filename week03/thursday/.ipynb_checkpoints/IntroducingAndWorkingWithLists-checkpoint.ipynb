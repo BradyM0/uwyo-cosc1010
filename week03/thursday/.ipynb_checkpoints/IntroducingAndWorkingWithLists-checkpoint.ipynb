{
 "cells": [
  {
   "cell_type": "markdown",
   "metadata": {
    "slideshow": {
     "slide_type": "slide"
    }
   },
   "source": [
    "# <p style=\"text-align: Center;\">Introducing Lists</p>\n",
    "## <p style=\"text-align: Center;\">University of Wyoming COSC 1010</p>\n",
    "### <p style=\"text-align: Center;\">Adapted from: *Python Crash Course 3rd Ed* By Eric Matthes </p>"
   ]
  },
  {
   "cell_type": "markdown",
   "metadata": {
    "slideshow": {
     "slide_type": "slide"
    }
   },
   "source": [
    "## <p style=\"text-align: Center;\">Introducing Lists</p>"
   ]
  },
  {
   "cell_type": "markdown",
   "metadata": {
    "slideshow": {
     "slide_type": "slide"
    }
   },
   "source": [
    "## Introuduction\n",
    "---\n",
    "* We wills tart learning about lists, and for to start working with them\n",
    "* Lists allow you to store sets of information in one place\n",
    "* Lists can range from a few items to millions\n",
    "* One of the most powerful programming features\n",
    "* Tie together many important concepts"
   ]
  },
  {
   "cell_type": "markdown",
   "metadata": {
    "slideshow": {
     "slide_type": "slide"
    }
   },
   "source": [
    "## What is a List?\n",
    "---\n",
    "* A collection of items ina  particular order\n",
    "* The list can include\n",
    "    * The digits 0 to 9\n",
    "    * The names of all the people in your family\n",
    "    * Really anything you want \n",
    "* The items in a list don't have to be related"
   ]
  },
  {
   "cell_type": "markdown",
   "metadata": {
    "slideshow": {
     "slide_type": "slide"
    }
   },
   "source": [
    "## What is a List?\n",
    "---\n",
    "* Lists usually contain more than one element so their names are the plural form of the word\n",
    "    * letters\n",
    "    * digits\n",
    "    * names\n",
    "*  In Python **square brackets**  `[]` indicate a list \n",
    "*  Individual items in a list are separated by commas"
   ]
  },
  {
   "cell_type": "code",
   "execution_count": 1,
   "metadata": {
    "slideshow": {
     "slide_type": "slide"
    }
   },
   "outputs": [
    {
     "name": "stdout",
     "output_type": "stream",
     "text": [
      "['trek', 'cannondale', 'specialized']\n"
     ]
    }
   ],
   "source": [
    "# create our list of bikes \n",
    "bikes = [\"trek\",\"cannondale\",\"specialized\"]\n",
    "# and print the list \n",
    "print(bikes)"
   ]
  },
  {
   "cell_type": "markdown",
   "metadata": {
    "slideshow": {
     "slide_type": "slide"
    }
   },
   "source": [
    "## Accessing Elements in a List\n",
    "---\n",
    "* Lists are ordered collections\n",
    "* You can access any element in a list by telling Python the position or *index* \n",
    "* To access an element you write the name of the list followed by the index of the item enclosed in square brackets "
   ]
  },
  {
   "cell_type": "code",
   "execution_count": 2,
   "metadata": {
    "slideshow": {
     "slide_type": "slide"
    }
   },
   "outputs": [
    {
     "name": "stdout",
     "output_type": "stream",
     "text": [
      "trek\n"
     ]
    }
   ],
   "source": [
    "bikes = [\"trek\",\"cannondale\",\"specialized\"]\n",
    "print(bikes[0])"
   ]
  },
  {
   "cell_type": "markdown",
   "metadata": {
    "slideshow": {
     "slide_type": "slide"
    }
   },
   "source": [
    "## Accessing Elements in a List\n",
    "---\n",
    "* When you ask for a single item python will return just that\n",
    "* Notice it didn't include the brackets as the previous code did\n",
    "* It just returned the string element, so you can use the string methods we talked about earlier on it!\n"
   ]
  },
  {
   "cell_type": "code",
   "execution_count": 3,
   "metadata": {
    "slideshow": {
     "slide_type": "slide"
    }
   },
   "outputs": [
    {
     "name": "stdout",
     "output_type": "stream",
     "text": [
      "Trek\n"
     ]
    }
   ],
   "source": [
    "bikes = [\"trek\",\"cannondale\",\"specialized\"]\n",
    "print(bikes[0].title())"
   ]
  },
  {
   "cell_type": "markdown",
   "metadata": {
    "slideshow": {
     "slide_type": "slide"
    }
   },
   "source": [
    "## Index Positions Start at 0 **Not** 1\n",
    "---\n",
    "* You may have noticed in the code slides, for our list `[\"trek\",\"cannondale\",\"specialized\"]` we used `bikes[0]` to get `trek`\n",
    "* This is because python considers the first item in a list to be at position `0`\n",
    "* This applies to most programming languages \n",
    "* If you have strange behavior in your code, check to see if you're making a simple but common *off-by one* error"
   ]
  },
  {
   "cell_type": "markdown",
   "metadata": {
    "slideshow": {
     "slide_type": "slide"
    }
   },
   "source": [
    "## Index Positions Start at 0 **Not** 1\n",
    "---\n",
    "* The second item in a list has an index of 1\n",
    "* Using this counting method you can get any element you want from a list by subtracting one from its position in the list \n",
    "* To get the 4th item you use index 3, etc.\n",
    "* Python has a special syntax for when you wish to access the last element in an array `-1`"
   ]
  },
  {
   "cell_type": "code",
   "execution_count": 4,
   "metadata": {
    "slideshow": {
     "slide_type": "slide"
    }
   },
   "outputs": [
    {
     "name": "stdout",
     "output_type": "stream",
     "text": [
      "Specialized\n"
     ]
    }
   ],
   "source": [
    "bikes = [\"trek\",\"cannondale\",\"specialized\"]\n",
    "print(bikes[-1].title())"
   ]
  },
  {
   "cell_type": "markdown",
   "metadata": {
    "slideshow": {
     "slide_type": "slide"
    }
   },
   "source": [
    "## Index Positions Start at 0 **Not** 1\n",
    "---\n",
    "* The previous code returned `specialized`\n",
    "* The syntax can be quite useful \n",
    "* This enables you to access the last element without needing to know (or check) how long the array is\n",
    "* This convention extends to other negative index values\n",
    "* `-2` will return the second to last element \n",
    "* `-3` returns the third to last\n",
    "* And onwards"
   ]
  },
  {
   "cell_type": "markdown",
   "metadata": {
    "slideshow": {
     "slide_type": "slide"
    }
   },
   "source": [
    "## Using Individual Values from a List\n",
    "---\n",
    "* You can use an individual value from a list as you would a variable\n",
    "* You can even assign it to a variable, but you don't need to. It's already stored! \n",
    "* f-strings can be used to create a message based on a  value from the list "
   ]
  },
  {
   "cell_type": "code",
   "execution_count": 5,
   "metadata": {
    "slideshow": {
     "slide_type": "slide"
    }
   },
   "outputs": [
    {
     "name": "stdout",
     "output_type": "stream",
     "text": [
      "My first bike was a Trek\n"
     ]
    }
   ],
   "source": [
    "bikes = [\"trek\",\"cannondale\",\"specialized\"]\n",
    "message = f\"My first bike was a {bikes[0].title()}\"\n",
    "print(message)"
   ]
  },
  {
   "cell_type": "markdown",
   "metadata": {
    "slideshow": {
     "slide_type": "slide"
    }
   },
   "source": [
    "## Modifying, Adding, and Removing Elements \n",
    "---\n",
    "* Most lists created will be dynamic\n",
    "* This means the list will be built then elements can be added or removed as the program runs\n",
    "* For example, you could create a game with aliens for a player to shoot\n",
    "    * As a player shoots aliens they will be removed\n",
    "    * As more aliens spawn they can be added to the list\n",
    "* The length of the array will expand and contract as the game runs"
   ]
  },
  {
   "cell_type": "markdown",
   "metadata": {
    "slideshow": {
     "slide_type": "slide"
    }
   },
   "source": [
    "## Modifying Elements in a List\n",
    "---\n",
    "* the syntax for modifying an element is similar to the syntax for access ing an element in a list \n",
    "* To change an element use the name of the list followed by the index of the element \n",
    "* Then provide a new value to be stored in tht index position \n",
    "* This is done in the same way you assign a variable, just with the value being stored in a list \n"
   ]
  },
  {
   "cell_type": "code",
   "execution_count": 1,
   "metadata": {
    "slideshow": {
     "slide_type": "slide"
    }
   },
   "outputs": [
    {
     "name": "stdout",
     "output_type": "stream",
     "text": [
      "['Laramie', 'Casper', 'Jackson Hole', 'Cheyenne']\n",
      "['Laramie', 'Casper', 'Jackson Hole', 'Sheridan']\n"
     ]
    }
   ],
   "source": [
    "cities = [\"Laramie\",\"Casper\",\"Jackson Hole\",\"Cheyenne\"]\n",
    "print(cities)\n",
    "\n",
    "cities[3] = \"Sheridan\"\n",
    "print(cities)"
   ]
  },
  {
   "cell_type": "markdown",
   "metadata": {
    "slideshow": {
     "slide_type": "slide"
    }
   },
   "source": [
    "## Modifying Elements in a List\n",
    "---\n",
    "* In the previous cell we defines the list `cities`\n",
    "* Then we overwrite `Cheyenne` with the value `Sheridan`\n",
    "* Printing the list at each stage shows the output \n",
    "* You can change the value of any item, based on it's index "
   ]
  },
  {
   "cell_type": "markdown",
   "metadata": {
    "slideshow": {
     "slide_type": "slide"
    }
   },
   "source": [
    "## Adding an Element to a List\n",
    "---\n",
    "* Recall lists are dynamic\n",
    "* Meaning things can be added to lists, not just at their declaration \n",
    "* Perhaps you are storing cities in which people live, and want to add more as more people say where they're from\n",
    "* Python provides several ways to add new data to existing lists "
   ]
  },
  {
   "cell_type": "markdown",
   "metadata": {
    "slideshow": {
     "slide_type": "slide"
    }
   },
   "source": [
    "## Appending items to the End of a List \n",
    "---\n",
    "* The easiest way to add an element is to *append* it to the list\n",
    "* When an item is appended it is added to the end of the list \n",
    "* Using the previous cities we can show how to add items using the `.append()` function"
   ]
  },
  {
   "cell_type": "code",
   "execution_count": 2,
   "metadata": {
    "slideshow": {
     "slide_type": "slide"
    }
   },
   "outputs": [
    {
     "name": "stdout",
     "output_type": "stream",
     "text": [
      "['Laramie', 'Casper', 'Jackson Hole', 'Cheyenne']\n",
      "['Laramie', 'Casper', 'Jackson Hole', 'Cheyenne', 'Sheridan']\n"
     ]
    }
   ],
   "source": [
    "cities = [\"Laramie\",\"Casper\",\"Jackson Hole\",\"Cheyenne\"]\n",
    "print(cities)\n",
    "\n",
    "cities.append(\"Sheridan\")\n",
    "print(cities)"
   ]
  },
  {
   "cell_type": "markdown",
   "metadata": {
    "slideshow": {
     "slide_type": "slide"
    }
   },
   "source": [
    "## Appending items to the End of a List \n",
    "---\n",
    "* Here we are able to append `Sheridan` without also have to remove `Cheyenne`\n",
    "* The append method makes it easy to build lists dynamically \n",
    "* You could even start with an empty list and use append to build it out as needed!"
   ]
  },
  {
   "cell_type": "code",
   "execution_count": 3,
   "metadata": {
    "slideshow": {
     "slide_type": "slide"
    }
   },
   "outputs": [
    {
     "name": "stdout",
     "output_type": "stream",
     "text": [
      "['dog', 'cat', 'bird']\n"
     ]
    }
   ],
   "source": [
    "#declare the empty list\n",
    "animals = [] \n",
    "#now add in different animals\n",
    "animals.append(\"dog\")\n",
    "animals.append(\"cat\")\n",
    "animals.append(\"bird\")\n",
    "\n",
    "print(animals)"
   ]
  },
  {
   "cell_type": "markdown",
   "metadata": {
    "slideshow": {
     "slide_type": "slide"
    }
   },
   "source": [
    "## Appending items to the End of a List \n",
    "---\n",
    "* Append can be used to build lists out nicely\n",
    "* Items are indexed in order of when they are appended\n",
    "* So if starting with an empty list the first element appended will be the first element in the list \n",
    "* Building lists this way is common, as you won't always know what data a user will want to store in a program until after the program is running \n",
    "* To put users in control, start by defining an empty list that will hold user's values\n",
    "* Append each new value to the empty list"
   ]
  },
  {
   "cell_type": "markdown",
   "metadata": {
    "slideshow": {
     "slide_type": "slide"
    }
   },
   "source": [
    "## Inserting Elements into a List\n",
    "---\n",
    "* New elements can be added at any position in a list by using `.insert()`\n",
    "* You can do this by specifying the index of the new element and the value of the new item "
   ]
  },
  {
   "cell_type": "code",
   "execution_count": 4,
   "metadata": {
    "slideshow": {
     "slide_type": "slide"
    }
   },
   "outputs": [
    {
     "name": "stdout",
     "output_type": "stream",
     "text": [
      "['Laramie', 'Casper', 'Jackson Hole', 'Cheyenne']\n",
      "['Laramie', 'Sheridan', 'Casper', 'Jackson Hole', 'Cheyenne']\n"
     ]
    }
   ],
   "source": [
    "cities = [\"Laramie\",\"Casper\",\"Jackson Hole\",\"Cheyenne\"]\n",
    "print(cities)\n",
    "\n",
    "cities.insert(1,\"Sheridan\")\n",
    "print(cities)"
   ]
  },
  {
   "cell_type": "markdown",
   "metadata": {
    "slideshow": {
     "slide_type": "slide"
    }
   },
   "source": [
    "## Inserting Elements into a List\n",
    "---\n",
    "* We inserted Sheridan at the second position (index value 1)\n",
    "* The `.insert()` function opens a space at the position specified and stores the value in that position \n",
    "* This shifts every other value after the index listed one position to the right "
   ]
  },
  {
   "cell_type": "markdown",
   "metadata": {
    "slideshow": {
     "slide_type": "slide"
    }
   },
   "source": [
    "## Removing Elements from a List\n",
    "---\n",
    "* The other side of the dynamic coin means that elements ca also be removed from lists\n",
    "* Going back to the alien example, if a player shoots down one\n",
    "* Or if you're voting on cities and the one with the least amount of votes gets removed \n",
    "* Or perhaps you are writing code for an application and users are able to delete their accounts \n",
    "* Items can be removed from a  list according to its position in the list ot its value "
   ]
  },
  {
   "cell_type": "markdown",
   "metadata": {
    "slideshow": {
     "slide_type": "slide"
    }
   },
   "source": [
    "## Removing an Item Using the del Statement\n",
    "---\n",
    "* If you know the position of the item you want to remove from a list you can use the `del` statement \n",
    "* this statement can be used to delete any position, not just the first \n",
    "* Once the `del` statement is used the value can no longer be accessed"
   ]
  },
  {
   "cell_type": "code",
   "execution_count": 5,
   "metadata": {
    "slideshow": {
     "slide_type": "slide"
    }
   },
   "outputs": [
    {
     "name": "stdout",
     "output_type": "stream",
     "text": [
      "['Laramie', 'Casper', 'Jackson Hole', 'Cheyenne']\n",
      "['Laramie', 'Jackson Hole', 'Cheyenne']\n"
     ]
    }
   ],
   "source": [
    "cities = [\"Laramie\",\"Casper\",\"Jackson Hole\",\"Cheyenne\"]\n",
    "print(cities)\n",
    "\n",
    "del cities[1]\n",
    "print(cities)"
   ]
  },
  {
   "cell_type": "markdown",
   "metadata": {
    "slideshow": {
     "slide_type": "slide"
    }
   },
   "source": [
    "## Removing an Item Using the `.pop()` method\n",
    "---\n",
    "* Sometimes you want to get the value of an item before it is removed \n",
    "* Suppose you want to get the x and y position of an alien that was removed from the screen\n",
    "* Or if you want to remove a user from a list of active members and mve them to a list of inactive \n",
    "* The `.pop()` method removes the last item in a list\n",
    "    * It lets you work with that item after removing it\n",
    "* The term *pop* comes from thinking of a list as a stack of item off the top of the stack\n",
    "* In this analogy the top of a stack corresponds to the end of a list"
   ]
  },
  {
   "cell_type": "code",
   "execution_count": 6,
   "metadata": {
    "slideshow": {
     "slide_type": "slide"
    }
   },
   "outputs": [
    {
     "name": "stdout",
     "output_type": "stream",
     "text": [
      "['Laramie', 'Casper', 'Jackson Hole', 'Cheyenne']\n",
      "We removed Cheyenne\n",
      "['Laramie', 'Casper', 'Jackson Hole']\n"
     ]
    }
   ],
   "source": [
    "cities = [\"Laramie\",\"Casper\",\"Jackson Hole\",\"Cheyenne\"]\n",
    "print(cities)\n",
    "\n",
    "print(f\"We removed {cities.pop()}\")\n",
    "\n",
    "print(cities)"
   ]
  },
  {
   "cell_type": "markdown",
   "metadata": {
    "slideshow": {
     "slide_type": "slide"
    }
   },
   "source": [
    "## Removing an Item Using the `.pop()` method\n",
    "---\n",
    "* In the previous cell we\n",
    "    * Defined and printed the `cities` list\n",
    "    * Popped a value from the list\n",
    "    * While using that value ina  print statement\n",
    "    * Printed the list to show the city had been removed\n",
    "* Alternatively you could assign the popped city to a variable\n",
    "* `city = cities.pop()`"
   ]
  },
  {
   "cell_type": "markdown",
   "metadata": {
    "slideshow": {
     "slide_type": "slide"
    }
   },
   "source": [
    "## Removing an Item Using the `.pop()` method\n",
    "---\n",
    "* How might `.pop()` be useful? \n",
    "* Imagine we had a list of motorcycles that store motorcycles in chronological order\n",
    "    * That is to say the order in which they were owned \n",
    "* Pop can then be used to print the last bike owned "
   ]
  },
  {
   "cell_type": "markdown",
   "metadata": {
    "slideshow": {
     "slide_type": "slide"
    }
   },
   "source": [
    "## Popping Items from Any Position in a List\n",
    "---\n",
    "* In addition to removing items from the end of the list `.pop()` can remove elements from any index\n",
    "* This is done by including the index position within the parenthesis \n"
   ]
  },
  {
   "cell_type": "code",
   "execution_count": 7,
   "metadata": {
    "slideshow": {
     "slide_type": "slide"
    }
   },
   "outputs": [
    {
     "name": "stdout",
     "output_type": "stream",
     "text": [
      "['Laramie', 'Casper', 'Jackson Hole', 'Cheyenne']\n",
      "We removed Casper\n",
      "['Laramie', 'Jackson Hole', 'Cheyenne']\n"
     ]
    }
   ],
   "source": [
    "cities = [\"Laramie\",\"Casper\",\"Jackson Hole\",\"Cheyenne\"]\n",
    "print(cities)\n",
    "\n",
    "print(f\"We removed {cities.pop(1)}\")\n",
    "\n",
    "print(cities)"
   ]
  },
  {
   "cell_type": "markdown",
   "metadata": {
    "slideshow": {
     "slide_type": "slide"
    }
   },
   "source": [
    "## Popping Items from Any Position in a List\n",
    "---\n",
    "* Remember each time `.pop()` is used the item will no longer be stored within the list \n",
    "* If you are unsure if `del` or `.pop()` is better just think about if you want to use the removed item or not\n",
    "* If you want to use the item as it is removed use `.pop()`\n",
    "* If you don't need to use the value then `del` "
   ]
  },
  {
   "cell_type": "markdown",
   "metadata": {
    "slideshow": {
     "slide_type": "slide"
    }
   },
   "source": [
    "## Removing an Item by Value\n",
    "---\n",
    "* Sometimes you won't know the index position of an item\n",
    "* But you will know the Value! \n",
    "* If you know the value then the `.remove()` method can be used "
   ]
  },
  {
   "cell_type": "code",
   "execution_count": 10,
   "metadata": {
    "slideshow": {
     "slide_type": "slide"
    }
   },
   "outputs": [
    {
     "name": "stdout",
     "output_type": "stream",
     "text": [
      "['Laramie', 'Casper', 'Jackson Hole', 'Cheyenne']\n",
      "['Laramie', 'Jackson Hole', 'Cheyenne']\n"
     ]
    }
   ],
   "source": [
    "cities = [\"Laramie\",\"Casper\",\"Jackson Hole\",\"Cheyenne\"]\n",
    "print(cities)\n",
    "\n",
    "cities.remove('Casper')\n",
    "\n",
    "print(cities)"
   ]
  },
  {
   "cell_type": "markdown",
   "metadata": {
    "slideshow": {
     "slide_type": "slide"
    }
   },
   "source": [
    "## Removing an Item by Value\n",
    "---\n",
    "* The `.remove()` method tells Python to figure out where `Casper` appears and remove it\n",
    "* Remove can also be used to work with a value being removed\n",
    "    * By assigning the value to a variable\n",
    "    * Then using that variable in remove \n",
    "* Remove only removes the first occurrence of the specified value\n",
    "* If there is a possibility that the value occurs more than one time a loop is needed\n",
    "    * We'll talk about loops during a later lecture "
   ]
  },
  {
   "cell_type": "markdown",
   "metadata": {
    "slideshow": {
     "slide_type": "slide"
    }
   },
   "source": [
    "## Organizing a List\n",
    "---\n",
    "* Often lists will be created in an unpredictable order\n",
    "* AS programmers you can't always control what order users put data in\n",
    "* Although this is unavoidable, it isn't final\n",
    "* You may want your data to be ina  certain order \n",
    "    * Sometimes you will want to preserve the original order\n",
    "    * Other times you'll want to change the original order\n",
    "* Python provides a number of different ways to organize lists "
   ]
  },
  {
   "cell_type": "markdown",
   "metadata": {
    "slideshow": {
     "slide_type": "slide"
    }
   },
   "source": [
    "## Sorting a List Permanently with the `.sort()` Method \n",
    "---\n",
    "* Python's `.sort()` method makes it relatively easy to sort a list  \n",
    "* Imagine you want to sort the list of Wyoming cities from earlier alphabetically \n",
    "* And that you want to change the order of the list to store them as such\n",
    "* To keep the task simple everything should be of the same casing "
   ]
  },
  {
   "cell_type": "code",
   "execution_count": 11,
   "metadata": {
    "slideshow": {
     "slide_type": "slide"
    }
   },
   "outputs": [
    {
     "name": "stdout",
     "output_type": "stream",
     "text": [
      "['Laramie', 'Casper', 'Jackson Hole', 'Cheyenne']\n",
      "['Casper', 'Cheyenne', 'Jackson Hole', 'Laramie']\n"
     ]
    }
   ],
   "source": [
    "cities = [\"Laramie\",\"Casper\",\"Jackson Hole\",\"Cheyenne\"]\n",
    "print(cities)\n",
    "\n",
    "cities.sort() \n",
    "print(cities)"
   ]
  },
  {
   "cell_type": "markdown",
   "metadata": {
    "slideshow": {
     "slide_type": "slide"
    }
   },
   "source": [
    "## Sorting a List Permanently with the `.sort()` Method \n",
    "---\n",
    "* The `.sort()` method changes the order of the list permanently\n",
    "* The cities are now in alphabetical order, and cannot be reverted back to the original order\n",
    "* You can also sort the list in reverse-alphabetical order\n",
    "* This is done by passing the argument `reverse=True` to `.sort()`\n",
    "    * `cities.sort(reverse=True)`\n",
    "    * This sorting is also permanent\n"
   ]
  },
  {
   "cell_type": "code",
   "execution_count": 12,
   "metadata": {
    "slideshow": {
     "slide_type": "slide"
    }
   },
   "outputs": [
    {
     "name": "stdout",
     "output_type": "stream",
     "text": [
      "['Laramie', 'Casper', 'Jackson Hole', 'Cheyenne']\n",
      "['Laramie', 'Jackson Hole', 'Cheyenne', 'Casper']\n"
     ]
    }
   ],
   "source": [
    "cities = [\"Laramie\",\"Casper\",\"Jackson Hole\",\"Cheyenne\"]\n",
    "print(cities)\n",
    "\n",
    "cities.sort(reverse=True) \n",
    "print(cities)"
   ]
  },
  {
   "cell_type": "markdown",
   "metadata": {
    "slideshow": {
     "slide_type": "slide"
    }
   },
   "source": [
    "## Sorting a List Temporarily with the `.sorted()` Function\n",
    "---\n",
    "* Sometimes you will want to maintain the original order of a list\n",
    "* this can be done with the `sorted()` function\n",
    "* The `sorted()` function lets you display the list in a particular order\n",
    "* It doesn't change the original order of the list"
   ]
  },
  {
   "cell_type": "code",
   "execution_count": 1,
   "metadata": {
    "slideshow": {
     "slide_type": "slide"
    }
   },
   "outputs": [
    {
     "name": "stdout",
     "output_type": "stream",
     "text": [
      "['Laramie', 'Casper', 'Jackson Hole', 'Cheyenne']\n",
      "['Casper', 'Cheyenne', 'Jackson Hole', 'Laramie']\n",
      "['Laramie', 'Casper', 'Jackson Hole', 'Cheyenne']\n"
     ]
    }
   ],
   "source": [
    "cities = [\"Laramie\",\"Casper\",\"Jackson Hole\",\"Cheyenne\"]\n",
    "print(cities)\n",
    "\n",
    "print(sorted(cities))\n",
    "\n",
    "print(cities)"
   ]
  },
  {
   "cell_type": "markdown",
   "metadata": {
    "slideshow": {
     "slide_type": "slide"
    }
   },
   "source": [
    "## Sorting a List Temporarily with the `.sorted()` Function\n",
    "---\n",
    "* Note the list still exists in its original order after `sorted()` being used \n",
    "* The `sorted()` function can also accept a `reverse=True` \n",
    "* Sorting alphabetically is harder when casing isn't consistent "
   ]
  },
  {
   "cell_type": "markdown",
   "metadata": {
    "slideshow": {
     "slide_type": "slide"
    }
   },
   "source": [
    "## Printing a List in reverse Order\n",
    "---\n",
    "* To reverse the original order of a list the `reverse()` method can be used\n",
    "* The `.reverse()` method changes the order permanently\n",
    "* You can revert back by simply calling `.reverse()` again! "
   ]
  },
  {
   "cell_type": "code",
   "execution_count": 2,
   "metadata": {
    "slideshow": {
     "slide_type": "slide"
    }
   },
   "outputs": [
    {
     "name": "stdout",
     "output_type": "stream",
     "text": [
      "['Laramie', 'Casper', 'Jackson Hole', 'Cheyenne']\n",
      "['Cheyenne', 'Jackson Hole', 'Casper', 'Laramie']\n",
      "['Laramie', 'Casper', 'Jackson Hole', 'Cheyenne']\n"
     ]
    }
   ],
   "source": [
    "cities = [\"Laramie\",\"Casper\",\"Jackson Hole\",\"Cheyenne\"]\n",
    "print(cities)\n",
    "cities.reverse() \n",
    "print(cities)\n",
    "cities.reverse()\n",
    "print(cities)"
   ]
  },
  {
   "cell_type": "markdown",
   "metadata": {
    "slideshow": {
     "slide_type": "slide"
    }
   },
   "source": [
    "## Finding the Length of a List\n",
    "---\n",
    "* You can quickly find the length of a list by using `len()`\n",
    "* It will give you the number of items in a list \n",
    "* Python counts the items in a list starting at **one**"
   ]
  },
  {
   "cell_type": "code",
   "execution_count": 3,
   "metadata": {
    "slideshow": {
     "slide_type": "slide"
    }
   },
   "outputs": [
    {
     "name": "stdout",
     "output_type": "stream",
     "text": [
      "4\n"
     ]
    }
   ],
   "source": [
    "cities = [\"Laramie\",\"Casper\",\"Jackson Hole\",\"Cheyenne\"]\n",
    "print(len(cities))"
   ]
  },
  {
   "cell_type": "markdown",
   "metadata": {
    "slideshow": {
     "slide_type": "slide"
    }
   },
   "source": [
    "## Avoiding Index Errors When Working With Lists\n",
    "---\n",
    "* There is one type of error when working with lists\n",
    "* Let's assume you have a list with four cities and try to access the city at index position 4"
   ]
  },
  {
   "cell_type": "code",
   "execution_count": 4,
   "metadata": {
    "slideshow": {
     "slide_type": "slide"
    }
   },
   "outputs": [
    {
     "ename": "IndexError",
     "evalue": "list index out of range",
     "output_type": "error",
     "traceback": [
      "\u001b[0;31m---------------------------------------------------------------------------\u001b[0m",
      "\u001b[0;31mIndexError\u001b[0m                                Traceback (most recent call last)",
      "\u001b[0;32m/tmp/ipykernel_1339/3269608785.py\u001b[0m in \u001b[0;36m<module>\u001b[0;34m\u001b[0m\n\u001b[1;32m      1\u001b[0m \u001b[0mcities\u001b[0m \u001b[0;34m=\u001b[0m \u001b[0;34m[\u001b[0m\u001b[0;34m\"Laramie\"\u001b[0m\u001b[0;34m,\u001b[0m\u001b[0;34m\"Casper\"\u001b[0m\u001b[0;34m,\u001b[0m\u001b[0;34m\"Jackson Hole\"\u001b[0m\u001b[0;34m,\u001b[0m\u001b[0;34m\"Cheyenne\"\u001b[0m\u001b[0;34m]\u001b[0m\u001b[0;34m\u001b[0m\u001b[0;34m\u001b[0m\u001b[0m\n\u001b[0;32m----> 2\u001b[0;31m \u001b[0mprint\u001b[0m\u001b[0;34m(\u001b[0m\u001b[0mcities\u001b[0m\u001b[0;34m[\u001b[0m\u001b[0;36m4\u001b[0m\u001b[0;34m]\u001b[0m\u001b[0;34m)\u001b[0m\u001b[0;34m\u001b[0m\u001b[0;34m\u001b[0m\u001b[0m\n\u001b[0m",
      "\u001b[0;31mIndexError\u001b[0m: list index out of range"
     ]
    }
   ],
   "source": [
    "cities = [\"Laramie\",\"Casper\",\"Jackson Hole\",\"Cheyenne\"]\n",
    "print(cities[4])"
   ]
  },
  {
   "cell_type": "markdown",
   "metadata": {
    "slideshow": {
     "slide_type": "slide"
    }
   },
   "source": [
    "## Avoiding Index Errors When Working With Lists\n",
    "---\n",
    "* Python attempts to give you the item at index four\n",
    "* But, when it searches the list there are no items with that index\n",
    "* Because of the *off-by-one* nature of indexing in lists, this error is typical \n",
    "* People think the third item is number 3, as they start counting at 1\n",
    "* But, the third item is really 2"
   ]
  },
  {
   "cell_type": "markdown",
   "metadata": {
    "slideshow": {
     "slide_type": "slide"
    }
   },
   "source": [
    "## Avoiding Index Errors When Working With Lists\n",
    "---\n",
    "* An index error means Python can't find an item at the index requested\n",
    "* If you encounter an index error, try adjusting your count by `-1`\n",
    "* Run the program again to ensure if you are correct\n",
    "* Remember, when you want to access the last item in a list you can use `cities[-1]`"
   ]
  },
  {
   "cell_type": "markdown",
   "metadata": {
    "slideshow": {
     "slide_type": "skip"
    }
   },
   "source": []
  }
 ],
 "metadata": {
  "celltoolbar": "Slideshow",
  "kernelspec": {
   "display_name": "Python 3 (ipykernel)",
   "language": "python",
   "name": "python3"
  },
  "language_info": {
   "codemirror_mode": {
    "name": "ipython",
    "version": 3
   },
   "file_extension": ".py",
   "mimetype": "text/x-python",
   "name": "python",
   "nbconvert_exporter": "python",
   "pygments_lexer": "ipython3",
   "version": "3.10.12"
  }
 },
 "nbformat": 4,
 "nbformat_minor": 2
}
