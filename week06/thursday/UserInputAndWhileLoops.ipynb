{
 "cells": [
  {
   "cell_type": "markdown",
   "metadata": {},
   "source": [
    "# <p style=\"text-align: Center;\">User Input and While Loops</p>\n",
    "## <p style=\"text-align: Center;\">University of Wyoming COSC 1010</p>\n",
    "### <p style=\"text-align: Center;\">Adapted from: *Python Crash Course 3rd Ed* By Eric Matthes </p>"
   ]
  },
  {
   "cell_type": "markdown",
   "metadata": {},
   "source": [
    "## User Input and While Loops\n",
    "---\n",
    "* Most programs are written to solve and end user's problems\n",
    "* To do so you typically need to get some information from the user\n",
    "* For example, maybe someone wants to see if they are old enough to vote\n",
    "* To write a program to solve this you need to know the user's age "
   ]
  },
  {
   "cell_type": "markdown",
   "metadata": {},
   "source": [
    "## User Input and While Loops\n",
    "---\n",
    "* The program would need to ask the user to enter, or input their age\n",
    "* Once the program has the information they can make a decision regarding if the user is old enough to vote\n",
    "* We will talk about accepting input from a user\n",
    "* As well as keeping programs running indefinitely "
   ]
  },
  {
   "cell_type": "markdown",
   "metadata": {},
   "source": [
    "## How the `input()` function works\n",
    "---\n",
    "* The `input()` function pauses your program and waits for the user to enter some text\n",
    "* When the input is received it can be assigned to a variable\n",
    "* This makes it very convenient to work with \n",
    "* The `input()` function takes one argument, the *prompt* that displays to the user"
   ]
  },
  {
   "cell_type": "code",
   "execution_count": 1,
   "metadata": {},
   "outputs": [
    {
     "name": "stdout",
     "output_type": "stream",
     "text": [
      "HIClass\n"
     ]
    }
   ],
   "source": [
    "echo = input(\"Tell me something and I will say it back\")\n",
    "print(echo)"
   ]
  },
  {
   "cell_type": "markdown",
   "metadata": {},
   "source": [
    "## How the `input()` function works\n",
    "---\n",
    "* In this example python runs the first line\n",
    "    * Showing the suer the prompt\n",
    "* Then the program waits until the user inputs something by typing out thew message and hitting enter\n",
    "* The response is then assigned to the variable `message` and displayed back "
   ]
  },
  {
   "cell_type": "markdown",
   "metadata": {},
   "source": [
    "## Writing Clear Prompts\n",
    "---\n",
    "* Each time `input()` is used, it should include a clear message telling the user exactly what it wants \n",
    "* Add a space at the end of the prompts to separate the prompt from the user input\n",
    "    * `input(\"Please enter your name: )`\n",
    "* Sometimes you will need a long prompt, one longer than a line \n",
    "* To do so you can build your message in a variable and pass that variable to `input()`"
   ]
  },
  {
   "cell_type": "code",
   "execution_count": 3,
   "metadata": {},
   "outputs": [
    {
     "name": "stdout",
     "output_type": "stream",
     "text": [
      "Oh good!\n"
     ]
    }
   ],
   "source": [
    "message = \"Good Morning Class,\\n\"\n",
    "message += \"I hope you are doing well today.\\n\"\n",
    "message += \"And enjoying COSC1010\\n\"\n",
    "message += \"Are you enjoying class? yes or no\"\n",
    "\n",
    "answer = input(message)\n",
    "\n",
    "if answer.lower() == \"yes\":\n",
    "    print(\"Oh good!\")\n",
    "else:\n",
    "    print(\"womp womp\")"
   ]
  },
  {
   "cell_type": "markdown",
   "metadata": {},
   "source": [
    "## Using `int()` to Accept Numerical Input\n",
    "---\n",
    "* When using the `input()` function Python interprets everything as a string\n",
    "* As it is text entered through the input\n",
    "* But, what if you are trying to judge a user's age?\n",
    "* You cannot compare string adn integer values "
   ]
  },
  {
   "cell_type": "code",
   "execution_count": 4,
   "metadata": {},
   "outputs": [
    {
     "name": "stdout",
     "output_type": "stream",
     "text": [
      "<class 'str'>\n",
      "21\n"
     ]
    }
   ],
   "source": [
    "age = input(\"how old are you?\")\n",
    "print(type(age))\n",
    "print(age)"
   ]
  },
  {
   "cell_type": "code",
   "execution_count": 5,
   "metadata": {},
   "outputs": [
    {
     "ename": "TypeError",
     "evalue": "'>=' not supported between instances of 'str' and 'int'",
     "output_type": "error",
     "traceback": [
      "\u001b[0;31m---------------------------------------------------------------------------\u001b[0m",
      "\u001b[0;31mTypeError\u001b[0m                                 Traceback (most recent call last)",
      "\u001b[0;32m/tmp/ipykernel_12737/2494762085.py\u001b[0m in \u001b[0;36m<module>\u001b[0;34m\u001b[0m\n\u001b[1;32m      1\u001b[0m \u001b[0mage\u001b[0m \u001b[0;34m=\u001b[0m \u001b[0minput\u001b[0m\u001b[0;34m(\u001b[0m\u001b[0;34m\"how old are you?\"\u001b[0m\u001b[0;34m)\u001b[0m\u001b[0;34m\u001b[0m\u001b[0;34m\u001b[0m\u001b[0m\n\u001b[0;32m----> 2\u001b[0;31m \u001b[0;32mif\u001b[0m \u001b[0mage\u001b[0m \u001b[0;34m>=\u001b[0m \u001b[0;36m18\u001b[0m\u001b[0;34m:\u001b[0m\u001b[0;34m\u001b[0m\u001b[0;34m\u001b[0m\u001b[0m\n\u001b[0m\u001b[1;32m      3\u001b[0m     \u001b[0mprint\u001b[0m\u001b[0;34m(\u001b[0m\u001b[0;34m\"You can vote\"\u001b[0m\u001b[0;34m)\u001b[0m\u001b[0;34m\u001b[0m\u001b[0;34m\u001b[0m\u001b[0m\n\u001b[1;32m      4\u001b[0m \u001b[0;32melse\u001b[0m\u001b[0;34m:\u001b[0m\u001b[0;34m\u001b[0m\u001b[0;34m\u001b[0m\u001b[0m\n\u001b[1;32m      5\u001b[0m     \u001b[0mprint\u001b[0m\u001b[0;34m(\u001b[0m\u001b[0;34m\"You can't vote\"\u001b[0m\u001b[0;34m)\u001b[0m\u001b[0;34m\u001b[0m\u001b[0;34m\u001b[0m\u001b[0m\n",
      "\u001b[0;31mTypeError\u001b[0m: '>=' not supported between instances of 'str' and 'int'"
     ]
    }
   ],
   "source": [
    "age = input(\"how old are you?\")\n",
    "if age >= 18:\n",
    "    print(\"You can vote\")\n",
    "else:\n",
    "    print(\"You can't vote\")"
   ]
  },
  {
   "cell_type": "markdown",
   "metadata": {},
   "source": [
    "## Using `int()` to Accept Numerical Input\n",
    "---\n",
    "* When the entered age is compared to the integer age an error is returned\n",
    "    * `TypeError: '>=' not supported between instances of 'str' and 'int'`\n",
    "* The string representation of the numerical value is entered \n",
    "* Again, Python doesn't know how to compare integers and strings"
   ]
  },
  {
   "cell_type": "markdown",
   "metadata": {},
   "source": [
    "## Using `int()` to Accept Numerical Input\n",
    "---\n",
    "* This issue can be resolved by using the `int()` function\n",
    "* This converts the input string to a numerical \n",
    "* Once the conversion occurs the comparison can happen "
   ]
  },
  {
   "cell_type": "code",
   "execution_count": 6,
   "metadata": {},
   "outputs": [
    {
     "name": "stdout",
     "output_type": "stream",
     "text": [
      "<class 'int'>\n",
      "You can vote\n"
     ]
    }
   ],
   "source": [
    "age = input(\"how old are you?\")\n",
    "age = int(age)\n",
    "print(type(age))\n",
    "if age >= 18:\n",
    "    print(\"You can vote\")\n",
    "else:\n",
    "    print(\"You can't vote\")"
   ]
  },
  {
   "cell_type": "markdown",
   "metadata": {},
   "source": [
    "## Using `int()` to Accept Numerical Input\n",
    "---\n",
    "* Now when you enter a number it is converted to an integer value\n",
    "* So, the comparison is able to occur\n",
    "* Now, when you use numerical input  to do calculations and comparisons you can convert the string to a number"
   ]
  },
  {
   "cell_type": "markdown",
   "metadata": {},
   "source": [
    "## The Modulo Operator\n",
    "---\n",
    "* A useful tool for working with numerical information is teh *modulo operator* % \n",
    "* this divides one number by another and returns the remainder \n",
    "* It doesn't tell you how many times one number fits in another, just what the remainder is\n",
    "* When one number is divisible by another the remainder is 0 "
   ]
  },
  {
   "cell_type": "code",
   "execution_count": 7,
   "metadata": {},
   "outputs": [
    {
     "name": "stdout",
     "output_type": "stream",
     "text": [
      "1\n",
      "2\n",
      "0\n",
      "1\n"
     ]
    }
   ],
   "source": [
    "print(4%3)\n",
    "print(5%3)\n",
    "print(33%3)\n",
    "print(7%3)"
   ]
  },
  {
   "cell_type": "markdown",
   "metadata": {},
   "source": [
    "## Introducing `while` Loops\n",
    "---\n",
    "* The `for` loop takes a collection of items\n",
    "* It executes a block of code once for each item in the collection  \n",
    "* The `while` loop runs as long as a condition is met\n",
    "* Or, *while* a condition is met "
   ]
  },
  {
   "cell_type": "markdown",
   "metadata": {},
   "source": [
    "# The `while` Loop in Action \n",
    "---\n",
    "* For a basic example `while` loops can be used to count through a series of numbers\n"
   ]
  },
  {
   "cell_type": "code",
   "execution_count": 1,
   "metadata": {},
   "outputs": [
    {
     "name": "stdout",
     "output_type": "stream",
     "text": [
      "0\n",
      "1\n",
      "2\n",
      "3\n",
      "4\n"
     ]
    }
   ],
   "source": [
    "num = 0 \n",
    "while num < 5:\n",
    "    print(num)\n",
    "    num += 1"
   ]
  },
  {
   "cell_type": "markdown",
   "metadata": {},
   "source": [
    "# The `while` Loop in Action \n",
    "---\n",
    "* The first line we assign 0 to the `num` variable\n",
    "* The `while` loop is then set to run while `num` is `< 5`\n",
    "* The code inside prints the value of `num` and increments it by 1\n",
    "* Python repeats the loop until `num >= 5`"
   ]
  },
  {
   "cell_type": "markdown",
   "metadata": {},
   "source": [
    "# The `while` Loop in Action \n",
    "---\n",
    "* Often programs contain `while` loops\n",
    "* While loops can be used to keep a game running as long as it is played\n",
    "* While loops can be used to keep programs running until told to stop"
   ]
  },
  {
   "cell_type": "markdown",
   "metadata": {},
   "source": [
    "## Letting the User Choose When to Quit\n",
    "---\n",
    "* You can make a program run as long as needed by embedding code in a `while`\n",
    "* Then you can define an *exit* value \n",
    "* This value will be used to exit a while loop\n",
    "* And as a result stop the execution of a program"
   ]
  },
  {
   "cell_type": "code",
   "execution_count": 2,
   "metadata": {},
   "outputs": [
    {
     "name": "stdout",
     "output_type": "stream",
     "text": [
      "test\n",
      "hello\n"
     ]
    }
   ],
   "source": [
    "prompt = \"Give me something to echo, 'exit' to quit\"\n",
    "\n",
    "message = \"\"\n",
    "while message != \"exit\":\n",
    "    message = input(prompt)\n",
    "    if message != \"exit\":\n",
    "        print(message)"
   ]
  },
  {
   "cell_type": "markdown",
   "metadata": {},
   "source": [
    "## Letting the User Choose When to Quit\n",
    "---\n",
    "* The prompt is declared, telling the user how to exit \n",
    "* The `message` variable is set to be the empty string \n",
    "* The `while` loop is set to run *while* `message != \"exit\"`\n",
    "    * Inside the loop users are prompted for input\n",
    "    * There is an `if` before the message is printed, don't want to print `exit`"
   ]
  },
  {
   "cell_type": "markdown",
   "metadata": {},
   "source": [
    "## Using a Flag\n",
    "---\n",
    "* In the previous loop the program performed tasks while a condition was true\n",
    "* But as programs become more complicated, many event could cause a program to start\n",
    "* For a program that should run only as long as many conditions are `True`, a variable can be used\n",
    "* These kinds are variables are known as *flags*, acting as a signal to the program "
   ]
  },
  {
   "cell_type": "markdown",
   "metadata": {},
   "source": [
    "## Using a Flag\n",
    "---\n",
    "* Programs can be written so they set the flag to `True` \n",
    "* This can happen when any number of events set the flag to `False`\n",
    "* Then all other tests can be neatly placed in the rest of the program \n"
   ]
  },
  {
   "cell_type": "code",
   "execution_count": 4,
   "metadata": {},
   "outputs": [
    {
     "name": "stdout",
     "output_type": "stream",
     "text": [
      "hi\n",
      "class\n"
     ]
    }
   ],
   "source": [
    "prompt = \"Give me something to echo, 'exit' to quit\"\n",
    "\n",
    "active = True\n",
    "while active:\n",
    "    message = input(prompt)\n",
    "    if message != \"exit\":\n",
    "        print(message)\n",
    "    else:\n",
    "        active = False"
   ]
  },
  {
   "cell_type": "markdown",
   "metadata": {},
   "source": [
    "## Using a Flag\n",
    "---\n",
    "* Rather than checking message to control the loop, the `active` variable is set as `True`\n",
    "* Doing so makes the `while` statement simpler, as it doesn't include a comparison \n",
    "* In the `if` statement inside an `else` has been added to set the flag to `False`\n",
    "* The program functions in the same fashion as previously "
   ]
  },
  {
   "cell_type": "markdown",
   "metadata": {},
   "source": [
    "## Using `break` to Exit a Loop\n",
    "---\n",
    "* To exit a while loop immediately without running any remaining code a `break` can be used\n",
    "* This works regardless of the result of any condition test\n",
    "* Tt directs the flow of a program, and can be used to control which lines of code are executed\n",
    "    * And which aren't"
   ]
  },
  {
   "cell_type": "code",
   "execution_count": 5,
   "metadata": {},
   "outputs": [
    {
     "name": "stdout",
     "output_type": "stream",
     "text": [
      "hi\n",
      "there\n"
     ]
    }
   ],
   "source": [
    "prompt = \"Give me something to echo, 'exit' to quit\"\n",
    "\n",
    "\n",
    "while True:\n",
    "    message = input(prompt)\n",
    "    if message == \"exit\":\n",
    "        break\n",
    "    else:\n",
    "        print(message)"
   ]
  },
  {
   "cell_type": "markdown",
   "metadata": {},
   "source": [
    "## Using `break` to Exit a Loop\n",
    "---\n",
    "* The loop starts with `while True:` while would typically cause the loop to run forever \n",
    "* The loop then continues asking for user input until 'quit' is entered\n",
    "* At which point the `break` will trigger in the `if`, exiting the loop "
   ]
  },
  {
   "cell_type": "markdown",
   "metadata": {},
   "source": [
    "## Using `continue` in a Loop\n",
    "---\n",
    "* Rather than breaking out of a loop without executing the code, `continue` can return it to the top of the loop\n",
    "* This is done based on a conditional test within the loop "
   ]
  },
  {
   "cell_type": "code",
   "execution_count": 8,
   "metadata": {},
   "outputs": [
    {
     "name": "stdout",
     "output_type": "stream",
     "text": [
      "1\n",
      "3\n",
      "5\n",
      "7\n",
      "9\n"
     ]
    }
   ],
   "source": [
    "num = 0 \n",
    "while num < 10: \n",
    "    num += 1\n",
    "    if num % 2 == 0:\n",
    "        continue \n",
    "    print(num)"
   ]
  },
  {
   "cell_type": "markdown",
   "metadata": {},
   "source": [
    "## Using `continue` in a Loop\n",
    "---\n",
    "* That loop starts counting at 0 \n",
    "* It increments the number right away\n",
    "* If the number is even the loop jumps back to the increment, thanks to the continue\n",
    "    * This skips the print statement \n",
    "* If the number is odd, the continue is not executed so the print happens"
   ]
  },
  {
   "cell_type": "markdown",
   "metadata": {},
   "source": [
    "## Avoiding Infinite Loops\n",
    "---\n",
    "* Every `while` loop needs a way tos top running, so it doesn't run forever \n",
    "* For example consider a loop to count 1-5 \n",
    "```\n",
    "x = 1\n",
    "while x <= 5:\n",
    "    print(x)\n",
    "    x += 1\n",
    "```"
   ]
  },
  {
   "cell_type": "markdown",
   "metadata": {},
   "source": [
    "## Avoiding Infinite Loops\n",
    "---\n",
    "* If the `x += 1` were omitted the loop would run indefinitely, print 1 each time \n",
    "```\n",
    "x = 1\n",
    "while x <= 5:\n",
    "    print(x)\n",
    "```"
   ]
  },
  {
   "cell_type": "markdown",
   "metadata": {},
   "source": [
    "## Avoiding Infinite Loops\n",
    "---\n",
    "* Every programmer writes an infinite `while` loop at some point\n",
    "    * Especially if the loop has subtle exit conditions \n",
    "* If your program gets stuck in an infinite loop `ctrl-c` typically stops it\n",
    "    * or close the terminal window "
   ]
  },
  {
   "cell_type": "markdown",
   "metadata": {},
   "source": [
    "## Avoiding Infinite Loops\n",
    "---\n",
    "* To avoid infinite loops test every `while` loop\n",
    "* If you want the program to end when a user enters a specific value test for that\n",
    "    * Run the program and test the input \n",
    "* If the program doesn't end as expected go through your code"
   ]
  },
  {
   "cell_type": "markdown",
   "metadata": {},
   "source": [
    "## Using a `while` loop with Lists and Dictionaries\n",
    "--- \n",
    "* Thus far only one piece of user has been worked with at a time \n",
    "* The user was able to input something and then a response was printed \n",
    "* The program only held one message at a time, not maintaining a record of which user submitted it\n",
    "* To keep track of many users and pieces of information lists adn dictionaries are needed"
   ]
  },
  {
   "cell_type": "markdown",
   "metadata": {},
   "source": [
    "## Using a `while` loop with Lists and Dictionaries\n",
    "--- \n",
    "* `for` loops work well for looping through a list\n",
    "* But no modification should be made while looping though the list  as Python will have issues tracking elements\n",
    "* To modify a list as you work through it a `while` loop should instead be used \n",
    "* Using `while` loops with lists and dictionaries allows you to collect, store and organize many inputs "
   ]
  },
  {
   "cell_type": "markdown",
   "metadata": {},
   "source": [
    "## Moving Items from One List to another\n",
    "---\n",
    "* Suppose you need to move elements from on list to another\n",
    "    * Perhaps you have a website that users can sign up for\n",
    "    * And you have lists of verified and unverified users\n",
    "    * Unverified users would need to be moved to the verified list upon verification "
   ]
  },
  {
   "cell_type": "code",
   "execution_count": 9,
   "metadata": {},
   "outputs": [
    {
     "name": "stdout",
     "output_type": "stream",
     "text": [
      "['steamboat', 'pistol pete', 'cowboy joe']\n"
     ]
    }
   ],
   "source": [
    "unverified_users = [\"cowboy joe\",\"pistol pete\",\"steamboat\"]\n",
    "verified_users =[]\n",
    "\n",
    "while unverified_users:\n",
    "    verified_users.append(unverified_users.pop())\n",
    "print(verified_users)"
   ]
  },
  {
   "cell_type": "markdown",
   "metadata": {},
   "source": [
    "## Moving Items from One List to another\n",
    "---\n",
    "* The `unverified_users` list began empty\n",
    "* The `verified_users` list had three elements initially \n",
    "* At the end of execution `unverified_users` is empty\n",
    "* `verified_users` now has the three items "
   ]
  },
  {
   "cell_type": "markdown",
   "metadata": {},
   "source": [
    "## Removing All Instances of  Specific Value in a List\n",
    "---\n",
    "* Recall we talked about the `.remove()`\n",
    "* It only removed the first occurrence of an element \n",
    "* We can now use `while` loops to remove all occurrences without having to know their index position "
   ]
  },
  {
   "cell_type": "code",
   "execution_count": 10,
   "metadata": {},
   "outputs": [
    {
     "name": "stdout",
     "output_type": "stream",
     "text": [
      "['dog', 'cat', 'dog', 'goldfish', 'cat', 'rabbit', 'cat']\n",
      "['dog', 'dog', 'goldfish', 'rabbit']\n"
     ]
    }
   ],
   "source": [
    "pets = ['dog', 'cat', 'dog', 'goldfish', 'cat', 'rabbit', 'cat']\n",
    "print(pets)\n",
    "\n",
    "while \"cat\" in pets:\n",
    "    pets.remove(\"cat\")\n",
    "print(pets)"
   ]
  },
  {
   "cell_type": "markdown",
   "metadata": {},
   "source": [
    "## Removing All Instances of  Specific Value in a List\n",
    "---\n",
    "* Using the while loop allows one to remove all occurrences from a list\n",
    "* It will go through however many times is needed, removing the first occurrence each time\n",
    "* Until none are left "
   ]
  },
  {
   "cell_type": "markdown",
   "metadata": {},
   "source": [
    "## Filling a Dictionary with User Input\n",
    "---\n",
    "* Within a while loop there is no limit to how much prompting is done \n",
    "* Once the prompting has been done you can store it in whatever fashion you wish "
   ]
  },
  {
   "cell_type": "code",
   "execution_count": 12,
   "metadata": {},
   "outputs": [
    {
     "name": "stdout",
     "output_type": "stream",
     "text": [
      "Printing responses\n",
      "pistol pete's favorite color is gold\n",
      "cowboy joe's favorite color is brown\n"
     ]
    }
   ],
   "source": [
    "responses = {} \n",
    "polling = True \n",
    "\n",
    "while polling:\n",
    "    name = input(\"What is your name? \")\n",
    "    response = input('What is your favorite color')\n",
    "    responses[name] = response \n",
    "\n",
    "    ask_again = input(\"Should another be asked yes/no\")\n",
    "    if ask_again == \"no\":\n",
    "        polling = False \n",
    "print(\"Printing responses\")\n",
    "for name in responses:\n",
    "    print(f\"{name}'s favorite color is {responses[name]}\")"
   ]
  },
  {
   "cell_type": "markdown",
   "metadata": {},
   "source": [
    "## Filling a Dictionary with User Input\n",
    "---\n",
    "* The program defines an empty list\n",
    "* It then goes through a loop prompting users several time\n",
    "* As many users can respond to the prompt as needed "
   ]
  },
  {
   "cell_type": "markdown",
   "metadata": {},
   "source": []
  }
 ],
 "metadata": {
  "kernelspec": {
   "display_name": "Python 3",
   "language": "python",
   "name": "python3"
  },
  "language_info": {
   "codemirror_mode": {
    "name": "ipython",
    "version": 3
   },
   "file_extension": ".py",
   "mimetype": "text/x-python",
   "name": "python",
   "nbconvert_exporter": "python",
   "pygments_lexer": "ipython3",
   "version": "3.10.12"
  },
  "orig_nbformat": 4
 },
 "nbformat": 4,
 "nbformat_minor": 2
}
