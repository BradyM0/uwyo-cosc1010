{
 "cells": [
  {
   "cell_type": "markdown",
   "metadata": {},
   "source": [
    "# <p style=\"text-align: Center;\">Classes</p>\n",
    "## <p style=\"text-align: Center;\">University of Wyoming COSC 1010</p>\n",
    "### <p style=\"text-align: Center;\">Adapted from: *Python Crash Course 3rd Ed* By Eric Matthes </p>"
   ]
  },
  {
   "cell_type": "markdown",
   "metadata": {},
   "source": [
    "## Classes\n",
    "---\n",
    "* Objected-oriented programming (OOP) is an effective approach to writing software\n",
    "* In OOP you write *classes* that represent real-world things and situations \n",
    "* Then you create *objects* based on those classes\n",
    "* When you write a class you define the general behavior that a whole category of objects can have"
   ]
  },
  {
   "cell_type": "markdown",
   "metadata": {},
   "source": [
    "## Classes\n",
    "---\n",
    "* You can create individual objects from the class\n",
    "* Each object is automatically equipped with the general behavior of the class \n",
    "    * Then each object can have unique behavior \n",
    "* Real world situations can be modeled very well with OOP"
   ]
  },
  {
   "cell_type": "markdown",
   "metadata": {},
   "source": [
    "## Classes\n",
    "---\n",
    "* Making an object from a class is called *instantiation* \n",
    "    * You work with *instances* of a class \n",
    "* Here we will demonstrate how to define classes and create instances\n",
    "* In addition to defining a class to hold information, we can add functionality to the class\n",
    "* With classes you can do more with less code "
   ]
  },
  {
   "cell_type": "markdown",
   "metadata": {},
   "source": [
    "## Classes\n",
    "---\n",
    "* Learning about OOP will help you see the world as a programmer does\n",
    "* It will help you understand your code\n",
    "    * Not just line by line but also the overall concepts \n",
    "* Knowing the logic behind classes helps to allow you to think more logically\n",
    "* Classes also make life easier on you as a programmer when you work with increasingly complex challenges "
   ]
  },
  {
   "cell_type": "markdown",
   "metadata": {},
   "source": [
    "## Creating and Using a Class\n",
    "---\n",
    "* You can model almost anything with the use of classes\n",
    "* For example you can start with a `Dog` class, that represents a dog\n",
    "* But not just a specific dog **any** dog "
   ]
  },
  {
   "cell_type": "markdown",
   "metadata": {},
   "source": [
    "## Creating and Using a Class\n",
    "---\n",
    "* What do we know about dogs in general? \n",
    "    * They have a name\n",
    "    * They have (a) breed(s)\n",
    "    * They have an age\n",
    "    * Most also know commands like sit and stay"
   ]
  },
  {
   "cell_type": "markdown",
   "metadata": {},
   "source": [
    "## Creating and Using a Class\n",
    "---\n",
    "* All of that information can be put into a class as they are common attributes\n",
    "* This class will tell Python how to make an object representing a dog\n",
    "* After the class is written it can be used to make individual instances \n",
    "* Each of these instances can represent a specific dog"
   ]
  },
  {
   "cell_type": "code",
   "execution_count": 3,
   "metadata": {},
   "outputs": [],
   "source": [
    "class Dog:\n",
    "    \"\"\"A simple Dog class\"\"\"\n",
    "    def __init__(self, name, age, breed):\n",
    "        \"\"\"Initialize the name, age, and breed\"\"\" \n",
    "        self.name = name \n",
    "        self.age = age \n",
    "        self.breed = breed\n",
    "    def sit(self):\n",
    "        \"\"\"Simulate a dog sitting\"\"\"\n",
    "        print(f\"{self.name.title()} is now sitting\")\n",
    "    def stay(self):\n",
    "        \"\"\"Simulate the dog rolling over\"\"\"\n",
    "        print(f\"{self.name.title()} is now staying\")"
   ]
  },
  {
   "cell_type": "markdown",
   "metadata": {},
   "source": [
    "## Creating the Dog Class\n",
    "---\n",
    "* Each instance created from the `Dog` class will store:\n",
    "    * The name\n",
    "    * The age\n",
    "    * The breed\n",
    "* In addition each instance will have the ability to\n",
    "    * Sit\n",
    "    * Stay"
   ]
  },
  {
   "cell_type": "markdown",
   "metadata": {},
   "source": [
    "## Creating the Dog Class\n",
    "---\n",
    "* There is a lot to going, but the structure will be broken down in the remaining portions of the lecture \n",
    "* You'll notice that the definition is `class Dog:`\n",
    "    * We begin with the `class` keyword \n",
    "* By convention class names begin with capitol letters \n",
    "* There are no parenthesis for class declarations in python\n",
    "* It is followed by a docstring "
   ]
  },
  {
   "cell_type": "markdown",
   "metadata": {},
   "source": [
    "## The `__init__()` Method\n",
    "---\n",
    "* A function that is part of a class is a *method* \n",
    "* Everything we have previously learned about functions applies to methods \n",
    "* The primary difference is how methods and functions are called"
   ]
  },
  {
   "cell_type": "markdown",
   "metadata": {},
   "source": [
    "## The `__init__()` Method\n",
    "---\n",
    "* The `__init__()` method is a special method that Python runs automatically when a new instance is made\n",
    "* This method has two leading underscores and two trailing underscores\n",
    "* This is a convention that helps default Python method names from conflicting with ones you make\n",
    "* The two underscores on each side are needed\n",
    "* If you use just one on each side the method won't be called automagically "
   ]
  },
  {
   "cell_type": "markdown",
   "metadata": {},
   "source": [
    "## The `__init__()` Method\n",
    "---\n",
    "* The `__init()__` method is defined to have four parameters:\n",
    "    * self\n",
    "    * name\n",
    "    * age\n",
    "    * breed"
   ]
  },
  {
   "cell_type": "markdown",
   "metadata": {},
   "source": [
    "## The `__init__()` Method\n",
    "---\n",
    "* The `self` parameter is required in the method definition and must come first\n",
    "* It must be included in the definition because when Python calls this method later, `self` is automatically passed\n",
    "* Every method call associated with an instance will automatically pass `self` as an argument\n",
    "* `self` is a reference to the instance itself\n",
    "    * It gives an individual instance access to the attributes and the methods in the class "
   ]
  },
  {
   "cell_type": "markdown",
   "metadata": {},
   "source": [
    "## The `__init__()` Method\n",
    "---\n",
    "* When an instance of `Dog` is made Python calls the `__init__()` method\n",
    "* `Dog()` will be passed a name, age, and  breed as arguments\n",
    "    * Self is passed automatically so we don't need to\n",
    "* Whenever you want to make an instance of `Dog` you will need to pass the appropriate arguments\n"
   ]
  },
  {
   "cell_type": "markdown",
   "metadata": {},
   "source": [
    "## The `__init__()` Method\n",
    "---\n",
    "* The variables within the `__init__()` method each have the `self` prefix\n",
    "* Any variable with `self` prefixed to it will be available to every class method\n",
    "* In addition they can be accessed through the class instance\n",
    "* The line `self.name = name` takes the value associated with the `name` parameter and assigns it to the variable `name`\n",
    "* The variable `name` is attached to the instance created "
   ]
  },
  {
   "cell_type": "markdown",
   "metadata": {},
   "source": [
    "## The `__init__()` Method\n",
    "---\n",
    "* Variables that are accessible through instances are called *attributes*\n",
    "* The `Dog` class also has two methods defined `sit()` and `stay()`\n",
    "* These methods don't need any additional information to run, so they are only defined with the `self` parameter \n",
    "* Any instances made will have access to these methods\n",
    " "
   ]
  },
  {
   "cell_type": "markdown",
   "metadata": {},
   "source": [
    "## The `__init__()` Method\n",
    "---\n",
    "* That means any instances of `Dog` will be able to sit and stay\n",
    "* These functions don't do a lot, but this concept can extend as needed\n",
    "* If these were part of a computer game they could make an animated dog sit and stay \n"
   ]
  },
  {
   "cell_type": "markdown",
   "metadata": {},
   "source": [
    "## Making an Instance from a Class\n",
    "---\n",
    "* Think of a class like a set of instructions \n",
    "* These are instructions on how an instance should be created \n",
    "* So how can we represent a specific class instance? "
   ]
  },
  {
   "cell_type": "code",
   "execution_count": 4,
   "metadata": {},
   "outputs": [
    {
     "name": "stdout",
     "output_type": "stream",
     "text": [
      "My dog's name is Apollo and is a GSD/Husky that is 3 years old\n"
     ]
    }
   ],
   "source": [
    "my_dog = Dog(\"Apollo\", 3, 'GSD/Husky')\n",
    "\n",
    "print(f\"My dog's name is {my_dog.name} and is a {my_dog.breed} that is {my_dog.age} years old\")"
   ]
  },
  {
   "cell_type": "markdown",
   "metadata": {},
   "source": [
    "## Making an Instance from a Class\n",
    "---\n",
    "* That code utilizes the `Dog` class from earlier \n",
    "* We create an instance of `Dog` with:\n",
    "    * `name` set to be Apollo\n",
    "    * `age` set as 3\n",
    "    * `breed` set as GSD/Husky "
   ]
  },
  {
   "cell_type": "markdown",
   "metadata": {},
   "source": [
    "## Making an Instance from a Class\n",
    "---\n",
    "* Note we didn't need to explicitly call `__init__()` \n",
    "* Instead when python sees `my_dog = Dog(\"Apollo\", 3, 'GSD/Husky')` it calls it for us\n",
    "* The `__init__()` method then creates an instance represented by this particular dog\n",
    "* It sets the `name`, `age`, and `breed` attributes\n",
    "* Python then returns an instance representing the dog"
   ]
  },
  {
   "cell_type": "markdown",
   "metadata": {},
   "source": [
    "## Making an Instance from a Class\n",
    "---\n",
    "* The returned instance is then assigned to the variable `my_dog`\n",
    "* Naming conventions help, the capitalized `Dog` refers to the class\n",
    "* And a lowercase like `my_dog` refers to a single instance created from a class"
   ]
  },
  {
   "cell_type": "markdown",
   "metadata": {},
   "source": [
    "## Accessing Attributes\n",
    "---\n",
    "* To access the attributes of an instance the dot notation is used\n",
    "    * `my_dog.name`\n",
    "* Dot notation is often used in python \n",
    "* That syntax demonstrates how to access an attributes value\n",
    "* Note, there are no parenthesis, those are only for function/method calls"
   ]
  },
  {
   "cell_type": "markdown",
   "metadata": {},
   "source": [
    "## Accessing Attributes\n",
    "---\n",
    "* `my_dog.name` refers to the same attribute referred to by `self.name`\n",
    "* This same approach can be used with any attribute \n",
    "* Or, methods!"
   ]
  },
  {
   "cell_type": "markdown",
   "metadata": {},
   "source": [
    "## Calling Methods\n",
    "---\n",
    "* After an instance is created the dot notation can also be used to call methods\n",
    "* This is done by using the method name followed by parenthesis\n",
    "* As with other function calls if any arguments are needed they are placed in the parenthesis \n",
    "* But, even if no arguments are needed the parenthesis still are  needed"
   ]
  },
  {
   "cell_type": "code",
   "execution_count": 5,
   "metadata": {},
   "outputs": [
    {
     "name": "stdout",
     "output_type": "stream",
     "text": [
      "Apollo is now sitting\n",
      "Apollo is now staying\n"
     ]
    }
   ],
   "source": [
    "my_dog.sit() \n",
    "my_dog.stay()"
   ]
  },
  {
   "cell_type": "markdown",
   "metadata": {},
   "source": [
    "## Calling Methods\n",
    "---\n",
    "* To call a method give:\n",
    "    * The name of the instance\n",
    "    * The dot operator\n",
    "    * The method you wish to call \n",
    "    * `my_dog.sit()`"
   ]
  },
  {
   "cell_type": "markdown",
   "metadata": {},
   "source": [
    "## Calling Methods\n",
    "---\n",
    "* When Python sees `My_dog.sit()` it looks for the method `.sit()` in the class `Dog`\n",
    "* If the corresponding method is found, then the code is run \n",
    "* This syntax is helpful\n",
    "* When attributes and methods have been given appropriately descriptive names they can be easily used\n",
    "* It also makes it easier to understand what a block of code is doing "
   ]
  },
  {
   "cell_type": "markdown",
   "metadata": {},
   "source": [
    "## Creating Multiple Instances \n",
    "--- \n",
    "* You can create as many instances of a class as you need\n",
    "* You could create a whole sled team's worth of dogs for example,\n",
    "* Or really whatever you may want or need"
   ]
  },
  {
   "cell_type": "code",
   "execution_count": 6,
   "metadata": {},
   "outputs": [
    {
     "name": "stdout",
     "output_type": "stream",
     "text": [
      "My dog's name is Apollo.\n",
      "My dog is 3 years old.\n",
      "Apollo is now sitting\n",
      "\n",
      "Your dog's name is Lassie.\n",
      "Your dog is Collie years old.\n",
      "Lassie is now sitting\n"
     ]
    }
   ],
   "source": [
    "your_dog = Dog(\"Lassie\",\"Collie\", \"6\")\n",
    "\n",
    "print(f\"My dog's name is {my_dog.name}.\")\n",
    "print(f\"My dog is {my_dog.age} years old.\")\n",
    "my_dog.sit()\n",
    "print(f\"\\nYour dog's name is {your_dog.name}.\")\n",
    "print(f\"Your dog is {your_dog.age} years old.\")\n",
    "your_dog.sit()"
   ]
  },
  {
   "cell_type": "markdown",
   "metadata": {},
   "source": [
    "## Creating Multiple Instances \n",
    "--- \n",
    "* That example instantiates another dog\n",
    "* We still have access to the original dog as well\n",
    "* Both instances function similarly, but they each hold their unique attributes\n",
    "* Even if you pass in the same attributes to a dog, Python would make a new instance "
   ]
  },
  {
   "cell_type": "markdown",
   "metadata": {},
   "source": [
    "## Working with Classes and Instances \n",
    "---\n",
    "* You can use classes to represent many real-word situations\n",
    "* Once a class is written, most of what you will work with are the instances\n",
    "* One of the first tasks being modifying the associated attributes\n",
    "* Attributes can be modified directly, or through the use of methods"
   ]
  },
  {
   "cell_type": "markdown",
   "metadata": {},
   "source": [
    "## The Car Class\n",
    "---\n",
    "* We can write a new class, this time representing a car\n",
    "* This class will store information relating to a car\n",
    "* As well as a method to summarize information "
   ]
  },
  {
   "cell_type": "code",
   "execution_count": 8,
   "metadata": {},
   "outputs": [
    {
     "name": "stdout",
     "output_type": "stream",
     "text": [
      "2023 audi R8\n"
     ]
    }
   ],
   "source": [
    "class Car:\n",
    "    \"\"\"A simple car representation\"\"\"\n",
    "    def __init__(self, make, model, year):\n",
    "        \"\"\"Initialize attributes to describe a car\"\"\"\n",
    "        self.make = make \n",
    "        self.model = model \n",
    "        self.year = year \n",
    "    def get_descriptive_name(self):\n",
    "        \"\"\"Return a neatly formatted descriptive name\"\"\"\n",
    "        long_name = f\"{self.year} {self.make} {self.model}\"\n",
    "        return long_name\n",
    "        \n",
    "new_car = Car ('audi', 'R8', '2023')\n",
    "print(new_car.get_descriptive_name())"
   ]
  },
  {
   "cell_type": "markdown",
   "metadata": {},
   "source": [
    "## The Car Class\n",
    "---\n",
    "* In the car class we define the `__init__()` method with:\n",
    "    * The `self` parameter\n",
    "    * The additional parameters `make, model, year` \n",
    "* `__init__()` once again takes in the parameters and assigns them to corresponding attributes\n",
    "* These attributes will be associated with instances made from this class\n",
    "* When a new car is made `make, model, year` all need to be specified "
   ]
  },
  {
   "cell_type": "markdown",
   "metadata": {},
   "source": [
    "## The Car Class\n",
    "---\n",
    "* In addition a method `get_descriptive_name()` is defined \n",
    "* It puts a cars year, make, and model in a nice format\n",
    "    * To work with the attributes the `self.` prefix is needed within the method \n",
    "* Outside of the class a new car can be instantiated  and assigned to a variable \n",
    "* As the class is right now it is relatively static, it can be expanded to include changing attributes "
   ]
  },
  {
   "cell_type": "markdown",
   "metadata": {},
   "source": [
    "## Setting a Default Value for an Attribute \n",
    "---\n",
    "* When an instance is created attributes can be defined without being passed as parameters\n",
    "* These attributes can be defined in the `__init__()` method \n",
    "    * They would have a default value assigned within\n",
    "* Suppose we want to expand car to also have an `odometer_reading`\n",
    "    * That always starts with `0`"
   ]
  },
  {
   "cell_type": "code",
   "execution_count": 2,
   "metadata": {},
   "outputs": [
    {
     "name": "stdout",
     "output_type": "stream",
     "text": [
      "2023 Audi R8\n",
      "This car has 0 miles on it\n"
     ]
    }
   ],
   "source": [
    "class CarMK2:\n",
    "    \"\"\"A simple car representation\"\"\"\n",
    "    def __init__(self, make, model, year):\n",
    "        \"\"\"Initialize attributes to describe a car\"\"\"\n",
    "        self.make = make \n",
    "        self.model = model \n",
    "        self.year = year \n",
    "        self.odometer = 0\n",
    "    def get_descriptive_name(self):\n",
    "        \"\"\"Return a neatly formatted descriptive name\"\"\"\n",
    "        long_name = f\"{self.year} {self.make} {self.model}\".title()\n",
    "        return long_name\n",
    "    def read_odometer(self):\n",
    "        \"\"\"A function to read the odometer of a car\"\"\"\n",
    "        print(f\"This car has {self.odometer} miles on it\")\n",
    "        \n",
    "new_car_two = CarMK2 ('audi', 'R8', '2023')\n",
    "print(new_car_two.get_descriptive_name())\n",
    "new_car_two.read_odometer()\n"
   ]
  },
  {
   "cell_type": "markdown",
   "metadata": {},
   "source": [
    "## Setting a Default Value for an Attribute \n",
    "---\n",
    "* That time when Python calls the `__init__()` method to create a new instance, it stores the make, model, and year\n",
    "* But, Python also creates a new attribute `odometer` that it sets to 0\n",
    "* We also added a new method `read_odometer()`\n",
    "* But, the odometer will not always be `0` so we need a way to change it"
   ]
  },
  {
   "cell_type": "markdown",
   "metadata": {},
   "source": [
    "## Modifying Attribute Values\n",
    "---\n",
    "* An attributes value can be changed in three different ways:\n",
    "    * Directly through the instance\n",
    "    * Through a method \n",
    "    * Increment through a method "
   ]
  },
  {
   "cell_type": "markdown",
   "metadata": {},
   "source": [
    "## Modifying an Attribute's Value Directly \n",
    "---\n",
    "* The simplest way to modify the value of an attribute is to access the attribute directly\n",
    "* This can be done using the dot operator and doing an assignment \n"
   ]
  },
  {
   "cell_type": "code",
   "execution_count": 3,
   "metadata": {},
   "outputs": [
    {
     "name": "stdout",
     "output_type": "stream",
     "text": [
      "This car has 0 miles on it\n",
      "This car has 13 miles on it\n"
     ]
    }
   ],
   "source": [
    "new_car_two.read_odometer()\n",
    "new_car_two.odometer = 13 \n",
    "new_car_two.read_odometer()"
   ]
  },
  {
   "cell_type": "markdown",
   "metadata": {},
   "source": [
    "## Modifying an Attribute's Value Directly \n",
    "---\n",
    "* Dot notation is used to access the car's `odometer_reading` attribute\n",
    "* it then is able to directly set the value\n",
    "* This line `new_car_two.odometer = 13 ` tells python to:\n",
    "    * Take the instance `new_car_two` \n",
    "    * Find the attribute `odometer_reading` associated with it\n",
    "    * Set the value of that attribute to be 13\n"
   ]
  },
  {
   "cell_type": "markdown",
   "metadata": {},
   "source": [
    "## Modifying an Attribute's Value Through a Method\n",
    "---\n",
    "* It can be helpful to have methods update certain attributes\n",
    "* Instead of access the attribute directly, you can pass the new value to a method\n",
    "* The method then directly handles the changing of the variable "
   ]
  },
  {
   "cell_type": "code",
   "execution_count": 8,
   "metadata": {},
   "outputs": [],
   "source": [
    "class CarMK3:\n",
    "    \"\"\"A simple car representation\"\"\"\n",
    "    def __init__(self, make, model, year):\n",
    "        \"\"\"Initialize attributes to describe a car\"\"\"\n",
    "        self.make = make \n",
    "        self.model = model \n",
    "        self.year = year \n",
    "        self.odometer = 0\n",
    "    def get_descriptive_name(self):\n",
    "        \"\"\"Return a neatly formatted descriptive name\"\"\"\n",
    "        long_name = f\"{self.year} {self.make} {self.model}\".title()\n",
    "        return long_name\n",
    "    def read_odometer(self):\n",
    "        \"\"\"A function to read the odometer of a car\"\"\"\n",
    "        print(f\"This car has {self.odometer} miles on it\")\n",
    "    def update_odometer(self, mileage):\n",
    "        if mileage >= 0:\n",
    "            self.odometer += mileage"
   ]
  },
  {
   "cell_type": "code",
   "execution_count": 7,
   "metadata": {},
   "outputs": [
    {
     "name": "stdout",
     "output_type": "stream",
     "text": [
      "2023 Audi R8\n",
      "This car has 0 miles on it\n",
      "This car has 13 miles on it\n"
     ]
    }
   ],
   "source": [
    "new_car_thr = CarMK3 ('audi', 'R8', '2023')\n",
    "print(new_car_thr.get_descriptive_name())\n",
    "new_car_thr.read_odometer()\n",
    "new_car_thr.update_odometer(13)\n",
    "new_car_thr.read_odometer()"
   ]
  },
  {
   "cell_type": "markdown",
   "metadata": {},
   "source": [
    "## Modifying an Attribute's Value Through a Method\n",
    "---\n",
    "* the only modification to `CarMK3` is the addition of `Update_odometer()`\n",
    "* this method takes in a mileage value and increments the odometer by it \n",
    "* Using the `new_car_thr` instance we can call `update_odometer` with `13` as an argument \n",
    "* This sets the odometer reading to 13\n",
    "* It also ensures we are only incrementing the odometer by positive values"
   ]
  },
  {
   "cell_type": "markdown",
   "metadata": {},
   "source": [
    "## Inheritance\n",
    "---\n",
    "* You don't always have to start from scratch when writing a class\n",
    "* If the class you're writing is a specialized version of another class you wrote, you can use *inheritance*\n",
    "* When one class *inherits* from another it takes on the attributes and methods from the first class\n",
    "* The original class is the *parent* class and the new class is the *child* \n",
    "* The *child* can inherent any and all the attributes and methods from its parent class, or define new ones"
   ]
  },
  {
   "cell_type": "markdown",
   "metadata": {},
   "source": [
    "## The `__init__()` Method for a Child Class\n",
    "---\n",
    "* When writing a new class based on an existing one, often the parent `__init__()` needs to be called\n",
    "* This will initialize any attributes that were defined in the parent\n",
    "* It also makes these attributes available to the child class \n",
    "* An example could be modeling an electric car, which really is just a specific type of car"
   ]
  },
  {
   "cell_type": "markdown",
   "metadata": {},
   "source": [
    "## The `__init__()` Method for a Child Class\n",
    "---\n",
    "* This means we could have a child class that only has attributes specifically for an electric car\n",
    "* It would be based on the Car class from earlier \n",
    "    * Specifically mk3\n",
    "* We shall name this new class `ElectricCar`"
   ]
  },
  {
   "cell_type": "code",
   "execution_count": 11,
   "metadata": {},
   "outputs": [
    {
     "name": "stdout",
     "output_type": "stream",
     "text": [
      "2023 Nissan Leaf\n"
     ]
    }
   ],
   "source": [
    "class ElectricCar(CarMK3):\n",
    "    \"\"\"Represents aspects of an electric car\"\"\"\n",
    "\n",
    "    def __init__(self,make,model,year):\n",
    "        super().__init__(make,model,year)\n",
    "\n",
    "leaf = ElectricCar('nissan','leaf',2023)\n",
    "print(leaf.get_descriptive_name())"
   ]
  },
  {
   "cell_type": "markdown",
   "metadata": {},
   "source": [
    "## The `__init__()` Method for a Child Class\n",
    "---\n",
    "* This class builds on the `CarMK3` class\n",
    "* When using inheritance the parent class must be in the current file\n",
    "* Then a child class is defined, `ElectricCar`\n",
    "* The name of the parent must be included in parenthesis in the definition of the child class\n",
    "* The `__init__()` method takes the information required to make a Car"
   ]
  },
  {
   "cell_type": "markdown",
   "metadata": {},
   "source": [
    "## The `__init__()` Method for a Child Class\n",
    "---\n",
    "* The `super()` function is a special function that lets Python call a method from the parent class \n",
    "* Specifically `super().__init__(make,model,year)` tells it to call the `__init__()` from the parent\n",
    "* This gives an `ElectricCar` instance all the attributes defined in the parent `__init__()`\n",
    "* The *super* name comes from a convention of calling the parent class a *superclass* and the child class a *subclass*  "
   ]
  },
  {
   "cell_type": "markdown",
   "metadata": {},
   "source": [
    "## The `__init__()` Method for a Child Class\n",
    "---\n",
    "* To show that inheritance is working correctly by creating an `ElectricCar` instance\n",
    "    * Then we call the parent's `.get_descriptive_name()` method\n",
    "    * Which, is not defined in the `ElectricCar` class\n",
    "* `leaf = ELectricCar('nissan','leaf',2023)` calls the `__init__()` of `ElectricCar` which in turn calls the `__init__()` of the parent class `CarMK3`\n"
   ]
  },
  {
   "cell_type": "markdown",
   "metadata": {},
   "source": [
    "## Defining Attributes and Methods for the Child Class\n",
    "---\n",
    "* Once you have a child class defined that inherits from a parent class, new attributes and methods can be added \n",
    "* So, for the electric cars concept we can add something unique to electric cars\n",
    "* How about battery size?"
   ]
  },
  {
   "cell_type": "code",
   "execution_count": 12,
   "metadata": {},
   "outputs": [
    {
     "name": "stdout",
     "output_type": "stream",
     "text": [
      "This car has a 40-KWh battery\n",
      "None\n"
     ]
    }
   ],
   "source": [
    "class ElectricCarMK2(CarMK3):\n",
    "    \"\"\"Represents aspects of an electric car\"\"\"\n",
    "\n",
    "    def __init__(self,make,model,year):\n",
    "        super().__init__(make, model, year)\n",
    "        self.battery_size = 40\n",
    "    \n",
    "    def describe_battery(self):\n",
    "        \"\"\"Describes the battery associated with this car\"\"\"\n",
    "        print(f\"This car has a {self.battery_size}-KWh battery\")\n",
    "\n",
    "leaf = ElectricCarMK2('nissan','leaf',2023)\n",
    "print(leaf.describe_battery())"
   ]
  },
  {
   "cell_type": "markdown",
   "metadata": {},
   "source": [
    "## Defining Attributes and Methods for the Child Class\n",
    "---\n",
    "* A new attribute `batter_size` is added, with an initial value of 40 \n",
    "* This attribute will only be associated with instances created from `ElectricCarMK2`\n",
    "* It won't be associated with any instances of `CarMK3`\n",
    "* We also added a method just for the subclass "
   ]
  },
  {
   "cell_type": "markdown",
   "metadata": {},
   "source": [
    "## Defining Attributes and Methods for the Child Class\n",
    "---\n",
    "* There is no limit to how much you can specialize the `ElectricCar` class\n",
    "* You can add as many attributes and methods as are needed \n",
    "* An attribute that could belong to any kind of car, not just an electric one, should go in the parent class \n",
    "* Then, anyone using `Car` will have that functionality available\n",
    "* And the `ElectricCar` will only contain things for electric cars "
   ]
  },
  {
   "cell_type": "markdown",
   "metadata": {},
   "source": [
    "## Overriding Methods from then Parent Class\n",
    "---\n",
    "* You can override any method from the parent class that doesn't fit the child class\n",
    "* To do this, define a method in the child class with the same name as one in the parent class\n",
    "* Python will then disregard the parent class method and only pay attention to the child's method \n"
   ]
  },
  {
   "cell_type": "code",
   "execution_count": 16,
   "metadata": {},
   "outputs": [
    {
     "name": "stdout",
     "output_type": "stream",
     "text": [
      "Hi\n",
      "Children can't vote\n"
     ]
    }
   ],
   "source": [
    "class Adult:\n",
    "    def __init__(self):\n",
    "        pass \n",
    "    def vote(self):\n",
    "        print(\"the adult voted\")\n",
    "    def sayHi():\n",
    "        print(\"Hi\")\n",
    "class Child(Adult):\n",
    "    def __init__(self):\n",
    "        pass \n",
    "    def vote():\n",
    "        print(\"Children can't vote\")\n",
    "\n",
    "person = Child\n",
    "\n",
    "person.sayHi()\n",
    "person.vote()"
   ]
  },
  {
   "cell_type": "markdown",
   "metadata": {},
   "source": [
    "## Overriding Methods from then Parent Class\n",
    "---\n",
    "* If someone tries to call `.vote()` on the child they will see a different message than if the parent hadn't be inherited\n",
    "* Python will find the vote method in the `Child` class and run it instead \n",
    "* When using inheritance make child classes retain what they need\n",
    "* Overwrite what they don't "
   ]
  },
  {
   "cell_type": "markdown",
   "metadata": {},
   "source": [
    "## Instances as Attributes\n",
    "---\n",
    "* When modeling something from the *real-world* in code you may end up adding more and more detail to a class \n",
    "* You'll find that classes may have a growing list of attributes and methods \n",
    "* In these situations you might recognize that part of one class can be written as a separate class\n",
    "* Large classes can be broken into smaller classes that work together\n",
    "* This is called *composition* "
   ]
  },
  {
   "cell_type": "markdown",
   "metadata": {},
   "source": [
    "## Instances as Attributes\n",
    "---\n",
    "* For example we could add more details to the `ElectricCar` class outlining the battery \n",
    "* Or, we could instead make a separate `Battery` class that deals only with the battery \n",
    "* Then, an instance of battery can be used within the `ElectricCar` class "
   ]
  },
  {
   "cell_type": "code",
   "execution_count": 21,
   "metadata": {},
   "outputs": [
    {
     "name": "stdout",
     "output_type": "stream",
     "text": [
      "This car has a 40-KWh battery\n"
     ]
    }
   ],
   "source": [
    "class Battery:\n",
    "    def __init__(self,battery_size = 40):\n",
    "        self.battery_size = battery_size\n",
    "\n",
    "    def describe_battery(self):\n",
    "        \"\"\"Describes the battery associated with this car\"\"\"\n",
    "        print(f\"This car has a {self.battery_size}-KWh battery\")\n",
    "\n",
    "class ElectricCarMK3(CarMK3):\n",
    "    \"\"\"Represents aspects of an electric car\"\"\"\n",
    "\n",
    "    def __init__(self,make,model,year):\n",
    "        super().__init__(make, model, year)\n",
    "        self.battery = Battery() \n",
    "    \n",
    "leaf = ElectricCarMK3('nissan','leaf',2023)\n",
    "leaf.battery.describe_battery()"
   ]
  },
  {
   "cell_type": "markdown",
   "metadata": {},
   "source": [
    "## Instances as Attributes\n",
    "---\n",
    "* There a new class `Battery` was defined, which doesn't inherit from any other class\n",
    "* The `__init__()` method has one parameter, `battery_size`, in addition to `self`\n",
    "* This is an optional parameter, as it has a default value associated with it \n",
    "* `describe_battery` has moved to this class as well \n"
   ]
  },
  {
   "cell_type": "markdown",
   "metadata": {},
   "source": [
    "## Instances as Attributes\n",
    "---\n",
    "* `leaf.battery.describe_battery()` looks at the instance leaf, then finds teh attribute `battery` within, which is another class instance \n",
    "* While this may look like extra work, it ultimately allows `ElectricCar` to remain (relatively) uncluttered "
   ]
  },
  {
   "cell_type": "markdown",
   "metadata": {},
   "source": [
    "## Modeling Real-World Objects \n",
    "---\n",
    "* As you begin to model more complicated things, like electric cars, there is an interesting question?\n",
    "    * Is the range of a car a property of the car or the battery?\n",
    "* And the answer is, it depends and is a bit more nuanced \n",
    "* Describing a single kind of car, maybe range belongs with the battery\n",
    "* Describing a whole line-up of cars? Maybe range belongs in `ElectricCar`, as different cars' weight will change the range \n",
    "* Or, you could keep it with battery and pass the parameter from `ElectricCar` to `Battery`"
   ]
  },
  {
   "cell_type": "markdown",
   "metadata": {},
   "source": [
    "## Modeling Real-World Objects \n",
    "---\n",
    "* This hopefully brings you to an interesting point in your growth as a programmer\n",
    "* When you wrestle with questions like these you're thinking at a high logical level\n",
    "    * Rather than purely syntax focused\n",
    "* You begin to think about not Python itself, but how to use code to represent the \"real world\" \n",
    "* When your each this point you may quickly realize there aren't necessarily right and wrong answers"
   ]
  },
  {
   "cell_type": "markdown",
   "metadata": {},
   "source": [
    "## Python Standard Library\n",
    "---\n",
    "* The *Python Standard Library* is a set of modules included with every Python installation \n",
    "* These modules are things other programmers have written,a dn you can use them to expand your code's functionality\n",
    "* You can use any function or class in the standard library by including an `import` statement \n"
   ]
  },
  {
   "cell_type": "markdown",
   "metadata": {},
   "source": [
    "## Python Standard Library\n",
    "---\n",
    "* To begin we will look at the `random` module \n",
    "* It includes a helpful function `randint()` among others\n",
    "* This function takes two integers and returns a randomly selected integer between those numbers, inclusive\n",
    "* `random` also allows you to randomly pick an element out of a list or tuple with `choice()`\n",
    "* `random` shouldn't be used for security related projects"
   ]
  },
  {
   "cell_type": "code",
   "execution_count": 26,
   "metadata": {},
   "outputs": [
    {
     "name": "stdout",
     "output_type": "stream",
     "text": [
      "4\n",
      "Fir\n"
     ]
    }
   ],
   "source": [
    "from random import randint \n",
    "from random import choice \n",
    "print(randint(1,5))\n",
    "tree_species = [\n",
    "    \"Oak\",\n",
    "    \"Maple\",\n",
    "    \"Pine\",\n",
    "    \"Birch\",\n",
    "    \"Willow\",\n",
    "    \"Cedar\",\n",
    "    \"Fir\",\n",
    "    \"Redwood\",\n",
    "    \"Ash\",\n",
    "    \"Elm\"\n",
    "]\n",
    "\n",
    "print(choice(tree_species))"
   ]
  },
  {
   "cell_type": "markdown",
   "metadata": {},
   "source": [
    "## Styling Classes\n",
    "---\n",
    "* There are a few styling issues related to classes\n",
    "* Class names should be written in *CamelCase* \n",
    "    * The first letter of every word should be capitalized \n",
    "    * Underscores aren't used \n",
    "* Instance and module names should be written in lowercase, with underscores between words"
   ]
  },
  {
   "cell_type": "markdown",
   "metadata": {},
   "source": [
    "## Styling Classes\n",
    "---\n",
    "* Every class should have a docstring immediately following the class definition \n",
    "* The docstring should be a brief description of what the class does\n",
    "* The same formatting conventions should be followed as writing function docstrings\n",
    "* Blank lines can be sued to organize code, but not excessively \n",
    "* When importing things the imports should occur at the top of the file"
   ]
  }
 ],
 "metadata": {
  "kernelspec": {
   "display_name": "Python 3",
   "language": "python",
   "name": "python3"
  },
  "language_info": {
   "codemirror_mode": {
    "name": "ipython",
    "version": 3
   },
   "file_extension": ".py",
   "mimetype": "text/x-python",
   "name": "python",
   "nbconvert_exporter": "python",
   "pygments_lexer": "ipython3",
   "version": "3.10.12"
  }
 },
 "nbformat": 4,
 "nbformat_minor": 2
}
