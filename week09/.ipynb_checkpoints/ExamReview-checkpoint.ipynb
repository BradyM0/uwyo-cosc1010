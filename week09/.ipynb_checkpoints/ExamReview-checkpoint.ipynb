{
 "cells": [
  {
   "cell_type": "markdown",
   "metadata": {},
   "source": [
    "# <p style=\"text-align: Center;\">Exam Review</p>\n",
    "## <p style=\"text-align: Center;\">University of Wyoming COSC 1010</p>\n"
   ]
  },
  {
   "cell_type": "markdown",
   "metadata": {},
   "source": [
    "## Announcements\n",
    "---\n",
    "* Exam next week\n",
    "    * Available on Tuesday and Wednesday\n",
    "    * You will have 75 minutes\n",
    "    * One attempt only \n",
    "    * You are not allowed to work with anyone else\n",
    "    * It is NOT open note\n",
    "    * 25 Questions\n",
    "    * Once you answer a question you cannot go back\n"
   ]
  },
  {
   "cell_type": "markdown",
   "metadata": {},
   "source": [
    "## <p style=\"text-align: Center;\">Exam Review</p>"
   ]
  },
  {
   "cell_type": "markdown",
   "metadata": {},
   "source": [
    "## Exam content\n",
    "---\n",
    "* Random questions shown each section\n",
    "    * One question viewable at a time\n",
    "    * Cannot go back to questions \n",
    "* General knowledge\n",
    "    * Things covered in lecture slides\n",
    "* Parts of a program\n",
    "    * Identify the different parts of a program\n",
    "* Code analysis \n",
    "    * Look at code snippets and be able to identify what is happening \n",
    "* Truth Tables, Boolean Equations, Circuit diagrams"
   ]
  },
  {
   "cell_type": "markdown",
   "metadata": {},
   "source": [
    "## General Knowledge \n",
    "--- \n",
    "* Understand basics in python\n",
    "    * Types of values\n",
    "    * Declarations \n",
    "    * Mathematical operations\n",
    "    * Logical comparisons\n",
    "    * Declarations of different types "
   ]
  },
  {
   "cell_type": "markdown",
   "metadata": {},
   "source": [
    "## General Knowledge \n",
    "--- \n",
    "* Understand basics in python\n",
    "    * Accessing elements in a list \n",
    "    * List index positions \n",
    "    * List operations "
   ]
  },
  {
   "cell_type": "markdown",
   "metadata": {},
   "source": [
    "## General Knowledge \n",
    "--- \n",
    "* Understand basics in python\n",
    "    * If statement usage and evaluation\n",
    "    * Looping \n",
    "    * Utilizing variables"
   ]
  },
  {
   "cell_type": "markdown",
   "metadata": {},
   "source": [
    "## Parts of code\n",
    "---\n",
    "* Identify different aspects of a program\n",
    "    * Code blocks\n",
    "    * Function definitions\n",
    "    * Function calls\n",
    "    * Method calls"
   ]
  },
  {
   "cell_type": "markdown",
   "metadata": {},
   "source": [
    "## Code evaluation\n",
    "---\n",
    "* Understand how the code works\n",
    "    * Be able to identify the output\n",
    "    * Follow the logic of the code\n",
    "    * Understand what the execution flow of a program will be"
   ]
  },
  {
   "cell_type": "markdown",
   "metadata": {},
   "source": [
    "## Code evaluation\n",
    "---\n",
    "* Understand how the code works\n",
    "    * Know what parts of a program do\n",
    "    * Understand how different parts of code work together\n",
    "    * Difference between if/elif and if/if/else \n",
    "    "
   ]
  },
  {
   "cell_type": "markdown",
   "metadata": {},
   "source": [
    "## Truth Tables\n",
    "---\n",
    "* Be able to fill out truth tables \n",
    "* Understand what the different symbols mean\n",
    "    * `xy` denotes and\n",
    "    * `x+y` denotes or\n",
    "    * `x'` is negation \n",
    "* Recorded lecture is expanded from the one given in class "
   ]
  },
  {
   "cell_type": "markdown",
   "metadata": {},
   "source": [
    "## Boolean Expressions\n",
    "---\n",
    "* Translate boolean expressions to their code representation \n",
    "* Know how to do proper nesting within the code"
   ]
  },
  {
   "cell_type": "markdown",
   "metadata": {},
   "source": [
    "## Circuit Diagram\n",
    "---\n",
    "* Be able to translate from a  circuit diagram to a truth table\n",
    "* Recognize all 2 input symbols given in the lecture and what their corresponding table is \n"
   ]
  },
  {
   "cell_type": "markdown",
   "metadata": {},
   "source": []
  }
 ],
 "metadata": {
  "celltoolbar": "Slideshow",
  "kernelspec": {
   "display_name": "Python 3 (ipykernel)",
   "language": "python",
   "name": "python3"
  },
  "language_info": {
   "codemirror_mode": {
    "name": "ipython",
    "version": 3
   },
   "file_extension": ".py",
   "mimetype": "text/x-python",
   "name": "python",
   "nbconvert_exporter": "python",
   "pygments_lexer": "ipython3",
   "version": "3.8.10"
  }
 },
 "nbformat": 4,
 "nbformat_minor": 2
}
