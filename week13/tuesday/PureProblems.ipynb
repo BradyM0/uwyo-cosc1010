{
 "cells": [
  {
   "cell_type": "markdown",
   "metadata": {},
   "source": [
    "# <p style=\"text-align: Center;\">Pure Problems</p>\n",
    "## <p style=\"text-align: Center;\">University of Wyoming COSC 1010</p>\n",
    "### <p style=\"text-align: Center;\">Adapted from: *Think Like a Programmer* By V. Anton Spraul </p>"
   ]
  },
  {
   "cell_type": "markdown",
   "metadata": {},
   "source": [
    "## Half a Square\n",
    "---\n",
    "* The goal of this is to write a program to produce the following pattern\n",
    "```\n",
    "    #####\n",
    "    ####\n",
    "    ###\n",
    "    ##\n",
    "    #\n",
    "```"
   ]
  },
  {
   "cell_type": "code",
   "execution_count": 3,
   "metadata": {},
   "outputs": [
    {
     "name": "stdout",
     "output_type": "stream",
     "text": [
      "#####\n"
     ]
    }
   ],
   "source": [
    "for i in range(0,5):\n",
    "    print(\"#\",end=\"\")\n",
    "print()"
   ]
  },
  {
   "cell_type": "code",
   "execution_count": 2,
   "metadata": {},
   "outputs": [
    {
     "name": "stdout",
     "output_type": "stream",
     "text": [
      "#####\n",
      "#####\n",
      "#####\n",
      "#####\n",
      "#####\n"
     ]
    }
   ],
   "source": [
    "for j in range(0,5):\n",
    "    for i in range(0,5):\n",
    "        print(\"#\",end=\"\")\n",
    "    print()"
   ]
  },
  {
   "cell_type": "code",
   "execution_count": 4,
   "metadata": {},
   "outputs": [
    {
     "name": "stdout",
     "output_type": "stream",
     "text": [
      "5\n",
      "4\n",
      "3\n",
      "2\n",
      "1\n"
     ]
    }
   ],
   "source": [
    "i = 5 \n",
    "while i > 0:\n",
    "    print(i)\n",
    "    i -= 1"
   ]
  },
  {
   "cell_type": "code",
   "execution_count": 9,
   "metadata": {},
   "outputs": [
    {
     "name": "stdout",
     "output_type": "stream",
     "text": [
      "[5, 4, 3, 2, 1]\n",
      "5\n",
      "4\n",
      "3\n",
      "2\n",
      "1\n"
     ]
    }
   ],
   "source": [
    "rng = list(range(1,6))\n",
    "rng.reverse()\n",
    "print(rng)\n",
    "for i in rng:\n",
    "    print(i)"
   ]
  },
  {
   "cell_type": "code",
   "execution_count": 10,
   "metadata": {},
   "outputs": [
    {
     "name": "stdout",
     "output_type": "stream",
     "text": [
      "#####\n",
      "#####\n",
      "#####\n",
      "#####\n",
      "#####\n"
     ]
    }
   ],
   "source": [
    "for j in range(0,5):\n",
    "    for i in range(0,5):\n",
    "        print(\"#\",end=\"\")\n",
    "    print()"
   ]
  },
  {
   "cell_type": "markdown",
   "metadata": {},
   "source": [
    "## A Square\n",
    "---\n",
    "| row | j | desired num of # | sum of j+dn# |\n",
    "|-----|---|------------------|--------------|\n",
    "| 1   | 0 |        5         |5             |\n",
    "| 2   | 1 |        4         |5             |\n",
    "| 3   | 2 |        3         |5             |\n",
    "| 4   | 3 |        2         |5             |\n",
    "| 5   | 4 |        1         |5             |"
   ]
  },
  {
   "cell_type": "code",
   "execution_count": 11,
   "metadata": {},
   "outputs": [
    {
     "name": "stdout",
     "output_type": "stream",
     "text": [
      "#####\n",
      "####\n",
      "###\n",
      "##\n",
      "#\n"
     ]
    }
   ],
   "source": [
    "for j in range(0,5):\n",
    "    for i in range(0,5-j):\n",
    "        print(\"#\",end=\"\")\n",
    "    print()"
   ]
  },
  {
   "cell_type": "markdown",
   "metadata": {},
   "source": [
    "# A Sideways Triangle\n",
    "---\n",
    "* Now we are going to write a program using the same outputs to produce the following:\n",
    "```\n",
    "    #\n",
    "    ##\n",
    "    ###\n",
    "    ####\n",
    "    ###\n",
    "    ##\n",
    "    #\n",
    "```"
   ]
  },
  {
   "cell_type": "code",
   "execution_count": 12,
   "metadata": {},
   "outputs": [
    {
     "name": "stdout",
     "output_type": "stream",
     "text": [
      "####\n",
      "####\n",
      "####\n",
      "####\n",
      "####\n",
      "####\n",
      "####\n"
     ]
    }
   ],
   "source": [
    "for i in range (0,7):\n",
    "    for j in range (0,4):\n",
    "        print(\"#\",end=\"\")\n",
    "    print()"
   ]
  },
  {
   "cell_type": "markdown",
   "metadata": {},
   "source": [
    "# A Sideways Triangle\n",
    "---\n",
    "| row | i | dn # | 4 - i|\n",
    "|-----|---|------|------|\n",
    "| 1   | 0 | 1    | 4    | \n",
    "| 2   | 1 | 2    | 3    | \n",
    "| 3   | 2 | 3    | 2    | \n",
    "| 4   | 3 | 4    | 1    | \n",
    "| 5   | 4 | 3    | 0    |\n",
    "| 6   | 5 | 2    | -1   | \n",
    "| 7   | 6 | 1    | -2   | "
   ]
  },
  {
   "cell_type": "markdown",
   "metadata": {},
   "source": [
    "# A Sideways Triangle\n",
    "---\n",
    "| row | i | dn # | 4 - i|\n",
    "|-----|---|------|------|\n",
    "| 1   | 1 | 1    | 3    | \n",
    "| 2   | 2 | 2    | 2    | \n",
    "| 3   | 3 | 3    | 1    | \n",
    "| 4   | 4 | 4    | 0    | \n",
    "| 5   | 5 | 3    | -1   |\n",
    "| 6   | 6 | 2    | -2   | \n",
    "| 7   | 7 | 1    | -3   | "
   ]
  },
  {
   "cell_type": "markdown",
   "metadata": {},
   "source": [
    "# A Sideways Triangle\n",
    "---\n",
    "| row | i | dn # | 4 - i| 4 - abs(4-i) |\n",
    "|-----|---|------|------|--------------|\n",
    "| 1   | 1 | 1    | 3    | 1            |\n",
    "| 2   | 2 | 2    | 2    | 2            |\n",
    "| 3   | 3 | 3    | 1    | 3            |\n",
    "| 4   | 4 | 4    | 0    | 4            |\n",
    "| 5   | 5 | 3    | -1   | 3            |\n",
    "| 6   | 6 | 2    | -2   | 2            |\n",
    "| 7   | 7 | 1    | -3   | 1            |"
   ]
  },
  {
   "cell_type": "code",
   "execution_count": 14,
   "metadata": {},
   "outputs": [
    {
     "name": "stdout",
     "output_type": "stream",
     "text": [
      "#\n",
      "##\n",
      "###\n",
      "####\n",
      "###\n",
      "##\n",
      "#\n"
     ]
    }
   ],
   "source": [
    "for i in range (1,8):\n",
    "    for j in range (0,4-abs(4-i)):\n",
    "        print(\"#\",end=\"\")\n",
    "    print()"
   ]
  },
  {
   "cell_type": "markdown",
   "metadata": {},
   "source": []
  }
 ],
 "metadata": {
  "kernelspec": {
   "display_name": "Python 3",
   "language": "python",
   "name": "python3"
  },
  "language_info": {
   "codemirror_mode": {
    "name": "ipython",
    "version": 3
   },
   "file_extension": ".py",
   "mimetype": "text/x-python",
   "name": "python",
   "nbconvert_exporter": "python",
   "pygments_lexer": "ipython3",
   "version": "3.10.12"
  }
 },
 "nbformat": 4,
 "nbformat_minor": 2
}
