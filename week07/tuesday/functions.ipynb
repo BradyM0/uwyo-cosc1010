{
 "cells": [
  {
   "cell_type": "markdown",
   "metadata": {},
   "source": [
    "# <p style=\"text-align: Center;\">Functions</p>\n",
    "## <p style=\"text-align: Center;\">University of Wyoming COSC 1010</p>\n",
    "### <p style=\"text-align: Center;\">Adapted from: *Python Crash Course 3rd Ed* By Eric Matthes </p>"
   ]
  },
  {
   "cell_type": "markdown",
   "metadata": {},
   "source": [
    "## Functions\n",
    "---\n",
    "* Now we can talk about writing *functions*\n",
    "* You've been using functions this whole time\n",
    "* Functions are specific blocks of code defined to do a specific task\n",
    "* When you want to perform that task you *call* "
   ]
  },
  {
   "cell_type": "markdown",
   "metadata": {},
   "source": [
    "## Functions\n",
    "---\n",
    "* This prevents you from needing to type the code again and again \n",
    "* Using functions makes writing code easier to read and write \n",
    "* Information can be passed to functions\n",
    "* Functions can display information, process data, return a set of values, whatever you need"
   ]
  },
  {
   "cell_type": "markdown",
   "metadata": {},
   "source": [
    "## Defining a Function\n",
    "---\n",
    "* Functions need to be defined before they can be called\n",
    "* Function definitions need: \n",
    "    * The `def` keyword\n",
    "    * The function name\n",
    "    * A set of parenthesis, optionally with variables inside \n",
    "    * A colon "
   ]
  },
  {
   "cell_type": "code",
   "execution_count": 2,
   "metadata": {},
   "outputs": [
    {
     "name": "stdout",
     "output_type": "stream",
     "text": [
      "Hello there\n"
     ]
    }
   ],
   "source": [
    "def greet_user():\n",
    "    \"\"\"This is a simple greeting function\"\"\"\n",
    "    print(\"Hello there\")\n",
    "\n",
    "greet_user()"
   ]
  },
  {
   "cell_type": "markdown",
   "metadata": {},
   "source": [
    "## Defining a Function\n",
    "---\n",
    "* That example is a simple function\n",
    "* The first line uses the `def` keyword to tell python you are defining a function \n",
    "* The *function definition* tells python the name of the function, and any information it may need\n",
    "    * The function name was `greet_user`\n",
    "    * The empty parenthesis indicate it needs no information "
   ]
  },
  {
   "cell_type": "markdown",
   "metadata": {},
   "source": [
    "## Defining a Function\n",
    "---\n",
    "* Regardless of if the parenthesis are empty, they need to be present \n",
    "* The second line is known as a *docstring*, it describes what the function does\n",
    "* When python generates documentation about a function it uses this string \n",
    "* Typically these strings are enclosed in triple quotes so they can be written on multiple lines "
   ]
  },
  {
   "cell_type": "markdown",
   "metadata": {},
   "source": [
    "## Defining a Function\n",
    "---\n",
    "* The line `print(\"Hello there\")` is the only line of code within the function \n",
    "* Notice it is indented as with loops and conditional statement code blocks \n",
    "* Finally to utilize this function a *function call* is needed\n",
    "* This tells python to call the function \n",
    "* To call a function you write its name, followed by any information that may be needed"
   ]
  },
  {
   "cell_type": "markdown",
   "metadata": {},
   "source": [
    "## Passing Information to a Function \n",
    "--- \n",
    "* The `greet_user()` function can be modified to greet a user by name \n",
    "* For the function to do this, something needs to be within the parenthesis in the declaration \n",
    "    * For our purposes `username`\n",
    "* By adding `username` the function can accept any value specified\n",
    "* This also means you need to supply something during a function call"
   ]
  },
  {
   "cell_type": "code",
   "execution_count": 4,
   "metadata": {},
   "outputs": [
    {
     "name": "stdout",
     "output_type": "stream",
     "text": [
      "Hello there, class\n"
     ]
    }
   ],
   "source": [
    "def greet_user(username):\n",
    "    \"\"\"This is a simple greeting function\"\"\"\n",
    "    print(f\"Hello there, {username}\")\n",
    "\n",
    "greet_user(\"class\")"
   ]
  },
  {
   "cell_type": "markdown",
   "metadata": {},
   "source": [
    "## Passing Information to a Function \n",
    "--- \n",
    "* Entering `greet_user(\"class\")` means the function will be called\n",
    "    * This time with the string `'class'` passed\n",
    "* Then the function displays the name passed within its output "
   ]
  },
  {
   "cell_type": "markdown",
   "metadata": {},
   "source": [
    "## Arguments and Parameters\n",
    "---\n",
    "* In the preceding `greet_user()` it requires on value for username\n",
    "* Once the function is called, with information passed, it prints out the passed string\n",
    "* The variable `username` in the declaration is an example of a *parameter* \n",
    "    * A piece of information the function needs "
   ]
  },
  {
   "cell_type": "markdown",
   "metadata": {},
   "source": [
    "## Arguments and Parameters\n",
    "---\n",
    "* The value `'class'` in `greet_user(\"class\")` is an example of an *argument* \n",
    "    * An *argument* is a piece of information that is passed from a function call to a function \n",
    "* When the function is called the value the function will work with is placed in the parenthesis \n",
    "* In this case the argument `'class'` was passed to the function `greet_user()`\n",
    "* The value was assigned to the parameter  `username` \n",
    "* Within the function it can access the value passed via that variable name"
   ]
  },
  {
   "cell_type": "markdown",
   "metadata": {},
   "source": [
    "## Passing Arguments\n",
    "---\n",
    "* Function definitions can have multiple parameters \n",
    "* A function call may need multiple arguments as a result \n",
    "* You can pass arguments to a function in a number of ways\n",
    "    * Positional Arguments\n",
    "    * Keyword arguments"
   ]
  },
  {
   "cell_type": "markdown",
   "metadata": {},
   "source": [
    "## Passing Arguments\n",
    "---\n",
    "* Positional arguments need to be in the same order the parameters are written\n",
    "* Keyword arguments use both a variable name and value \n",
    "* Or, lists and dictionaries of values "
   ]
  },
  {
   "cell_type": "markdown",
   "metadata": {},
   "source": [
    "## Positional Arguments \n",
    "---\n",
    "* When a function is called Python matches each argument in a function call to a parameter \n",
    "* The easiest way to do so is based on the order of provided arguments \n",
    "* Values matched this way are called positional arguments \n",
    "* Consider a function that displays information about pets\n",
    "* You may need to supply a species and name"
   ]
  },
  {
   "cell_type": "code",
   "execution_count": 1,
   "metadata": {},
   "outputs": [
    {
     "name": "stdout",
     "output_type": "stream",
     "text": [
      "I have a dog\n",
      "My dog's name is Apollo\n"
     ]
    }
   ],
   "source": [
    "def describe_pet(animal_type, pet_name):\n",
    "    \"\"\"Display information about a pet\"\"\"\n",
    "    print(f\"I have a {animal_type}\")\n",
    "    print(f\"My {animal_type}'s name is {pet_name}\")\n",
    "\n",
    "describe_pet(\"dog\",\"Apollo\")"
   ]
  },
  {
   "cell_type": "markdown",
   "metadata": {},
   "source": [
    "## Positional Arguments \n",
    "---\n",
    "* The definition shows that the function needs a type of animal, and its name\n",
    "* When `describe_pet()` is called that information needs to be provided\n",
    "    * We supplied **dog** for the type and **Apollo** for the name\n",
    "* In the function body those two parameters are used to display information about the pet "
   ]
  },
  {
   "cell_type": "markdown",
   "metadata": {},
   "source": [
    "## Multiple Function Calls\n",
    "---\n",
    "* A function can be called as many times as needed\n",
    "* Describing a second pet just needs a second call to the same function \n",
    "* You can call these functions at any point, you could do so within a loop even \n",
    "* Calling a function multiple times is an efficient way to work, and the main purpose of functions "
   ]
  },
  {
   "cell_type": "code",
   "execution_count": 3,
   "metadata": {},
   "outputs": [
    {
     "name": "stdout",
     "output_type": "stream",
     "text": [
      "I have a dog\n",
      "My dog's name is Apollo\n",
      "I have a cat\n",
      "My cat's name is Winston\n",
      "I have a fish\n",
      "My fish's name is Flip\n",
      "I have a hamster\n",
      "My hamster's name is Harry\n"
     ]
    }
   ],
   "source": [
    "def describe_pet(animal_type, pet_name):\n",
    "    \"\"\"Display information about a pet\"\"\"\n",
    "    print(f\"I have a {animal_type}\")\n",
    "    print(f\"My {animal_type}'s name is {pet_name}\")\n",
    "\n",
    "pets = {\"Apollo\":\"dog\",\"Winston\":\"cat\",\"Flip\":\"fish\", \"Harry\":\"hamster\"}\n",
    "\n",
    "for pet in pets:\n",
    "    describe_pet(pets[pet],pet)"
   ]
  },
  {
   "cell_type": "markdown",
   "metadata": {},
   "source": [
    "## Order Matters in Positional Arguments\n",
    "---\n",
    "* If you do not follow the order of arguments defined, odd results can occur \n",
    "* Thinking on out `describe_pet()` what if we had displaced `\"dog\"` and `\"Apollo`\n",
    "    * Having: `describe_pet(\"Apollo\",\"dog\")`\n",
    "    * Rather than: `describe_pet(\"dog\",\"Apollo\")`\n",
    "* IF you see weird output, check the order of your arguments"
   ]
  },
  {
   "cell_type": "code",
   "execution_count": 4,
   "metadata": {},
   "outputs": [
    {
     "name": "stdout",
     "output_type": "stream",
     "text": [
      "I have a dog\n",
      "My dog's name is Apollo\n",
      "I have a Apollo\n",
      "My Apollo's name is dog\n"
     ]
    }
   ],
   "source": [
    "def describe_pet(animal_type, pet_name):\n",
    "    \"\"\"Display information about a pet\"\"\"\n",
    "    print(f\"I have a {animal_type}\")\n",
    "    print(f\"My {animal_type}'s name is {pet_name}\")\n",
    "\n",
    "describe_pet(\"dog\",\"Apollo\")\n",
    "describe_pet(\"Apollo\",\"dog\")"
   ]
  },
  {
   "cell_type": "markdown",
   "metadata": {},
   "source": [
    "## Keyword Arguments\n",
    "--- \n",
    "* A *keyword argument* is a name-value pair that is passed to a function \n",
    "* With this a name can be directly associated with a value within the argument \n",
    "* This allows the avoidance of mixing up the arguments and their order"
   ]
  },
  {
   "cell_type": "code",
   "execution_count": 5,
   "metadata": {},
   "outputs": [
    {
     "name": "stdout",
     "output_type": "stream",
     "text": [
      "I have a dog\n",
      "My dog's name is Apollo\n",
      "I have a dog\n",
      "My dog's name is Apollo\n"
     ]
    }
   ],
   "source": [
    "def describe_pet(animal_type, pet_name):\n",
    "    \"\"\"Display information about a pet\"\"\"\n",
    "    print(f\"I have a {animal_type}\")\n",
    "    print(f\"My {animal_type}'s name is {pet_name}\")\n",
    "\n",
    "describe_pet(\"dog\",\"Apollo\")\n",
    "describe_pet(pet_name=\"Apollo\",animal_type=\"dog\")"
   ]
  },
  {
   "cell_type": "markdown",
   "metadata": {},
   "source": [
    "## Keyword Arguments\n",
    "--- \n",
    "* The definition of the function doesn't need to change\n",
    "* Instead in the function call what argument  aligns with which parameter is  explicitly stated\n",
    "* So, even though the values are passed in reverse order they are still assigned to the correct parameter \n",
    "* The order of keyword arguments doesn't matter"
   ]
  },
  {
   "cell_type": "markdown",
   "metadata": {},
   "source": [
    "## Default Values\n",
    "---\n",
    "* When writing a function you can define a *default value* for each parameter \n",
    "* If an argument for a parameter is provided in the function call, Python uses the argument \n",
    "* Otherwise it uses the functions default value \n",
    "* When defining a default value you can exclude the corresponding argument if the default value is fine \n",
    "* Using default values can simplify function calls "
   ]
  },
  {
   "cell_type": "code",
   "execution_count": 7,
   "metadata": {},
   "outputs": [
    {
     "name": "stdout",
     "output_type": "stream",
     "text": [
      "I have a dog\n",
      "My dog's name is Apollo\n",
      "I have a dog\n",
      "My dog's name is Apollo\n"
     ]
    }
   ],
   "source": [
    "def describe_pet(pet_name, animal_type=\"dog\"):\n",
    "    \"\"\"Display information about a pet\"\"\"\n",
    "    print(f\"I have a {animal_type}\")\n",
    "    print(f\"My {animal_type}'s name is {pet_name}\")\n",
    "\n",
    "describe_pet(\"Apollo\")\n",
    "describe_pet(pet_name=\"Apollo\")"
   ]
  },
  {
   "cell_type": "markdown",
   "metadata": {},
   "source": [
    "## Default Values\n",
    "---\n",
    "* In that version of the function the definition included a default value for `animal_type`\n",
    "* Now when the function is called with no `animal_type` provided it will default to `'dog'`\n",
    "* The order of the parameters in the function definition had to be changed \n",
    "* Because the default value makes it unnecessary to specify an animal type, we want the name to appear first\n",
    "* This is so positional arguments can still be used "
   ]
  },
  {
   "cell_type": "markdown",
   "metadata": {},
   "source": [
    "## Equivalent Function Calls\n",
    "---\n",
    "* Positional and keyword arguments along with default values can all be used together\n",
    "* This will give several equivalent ways to call a function\n",
    "* it doesn't really matter how you call a function, as long as the results are correct"
   ]
  },
  {
   "cell_type": "code",
   "execution_count": 8,
   "metadata": {},
   "outputs": [
    {
     "name": "stdout",
     "output_type": "stream",
     "text": [
      "I have a dog\n",
      "My dog's name is Apollo\n",
      "I have a dog\n",
      "My dog's name is Apollo\n",
      "I have a dog\n",
      "My dog's name is Apollo\n",
      "I have a dog\n",
      "My dog's name is Apollo\n"
     ]
    }
   ],
   "source": [
    "def describe_pet(pet_name, animal_type=\"dog\"):\n",
    "    \"\"\"Display information about a pet\"\"\"\n",
    "    print(f\"I have a {animal_type}\")\n",
    "    print(f\"My {animal_type}'s name is {pet_name}\")\n",
    "\n",
    "describe_pet(\"Apollo\")\n",
    "describe_pet(\"Apollo\",\"dog\")\n",
    "describe_pet(pet_name=\"Apollo\")\n",
    "describe_pet(animal_type=\"dog\",pet_name=\"Apollo\")"
   ]
  },
  {
   "cell_type": "markdown",
   "metadata": {},
   "source": [
    "## Avoiding Argument Errors\n",
    "---\n",
    "* When you start using functions, you may encounter errors about unmatched arguments \n",
    "* Unmatched arguments occur when fewer or  more arguments than are needed are provided \n",
    "* Utilizing default values can help prevent this "
   ]
  },
  {
   "cell_type": "code",
   "execution_count": 9,
   "metadata": {},
   "outputs": [
    {
     "ename": "TypeError",
     "evalue": "describe_pet() missing 1 required positional argument: 'animal_type'",
     "output_type": "error",
     "traceback": [
      "\u001b[0;31m---------------------------------------------------------------------------\u001b[0m",
      "\u001b[0;31mTypeError\u001b[0m                                 Traceback (most recent call last)",
      "\u001b[0;32m/tmp/ipykernel_1410/3215276067.py\u001b[0m in \u001b[0;36m<module>\u001b[0;34m\u001b[0m\n\u001b[1;32m      4\u001b[0m     \u001b[0mprint\u001b[0m\u001b[0;34m(\u001b[0m\u001b[0;34mf\"My {animal_type}'s name is {pet_name}\"\u001b[0m\u001b[0;34m)\u001b[0m\u001b[0;34m\u001b[0m\u001b[0;34m\u001b[0m\u001b[0m\n\u001b[1;32m      5\u001b[0m \u001b[0;34m\u001b[0m\u001b[0m\n\u001b[0;32m----> 6\u001b[0;31m \u001b[0mdescribe_pet\u001b[0m\u001b[0;34m(\u001b[0m\u001b[0;34m\"Apollo\"\u001b[0m\u001b[0;34m)\u001b[0m\u001b[0;34m\u001b[0m\u001b[0;34m\u001b[0m\u001b[0m\n\u001b[0m",
      "\u001b[0;31mTypeError\u001b[0m: describe_pet() missing 1 required positional argument: 'animal_type'"
     ]
    }
   ],
   "source": [
    "def describe_pet(pet_name, animal_type):\n",
    "    \"\"\"Display information about a pet\"\"\"\n",
    "    print(f\"I have a {animal_type}\")\n",
    "    print(f\"My {animal_type}'s name is {pet_name}\")\n",
    "\n",
    "describe_pet(\"Apollo\")"
   ]
  },
  {
   "cell_type": "markdown",
   "metadata": {},
   "source": [
    "## Avoiding Argument Errors\n",
    "---\n",
    "* The traceback error is helpful in this case\n",
    "* It identifies that one positional argument is missing, and which one  it is \n",
    "* Python is helpful in that it reads the function's code for us and tells what the names are for the arguments needed\n",
    "* If you provide too many arguments you would get a similar error "
   ]
  },
  {
   "cell_type": "markdown",
   "metadata": {},
   "source": [
    "## Return Values \n",
    "---\n",
    "* A function doesn't always have to display its output directly \n",
    "* Sometimes it can process data and return a value or set of\n",
    "* The value the function returns is called a return value \n",
    "* The `return` statement takes a value from inside a function\n",
    "* It then sends it back to the line that called the function \n",
    "* Return values allow you to move much of a programs work to functions"
   ]
  },
  {
   "cell_type": "code",
   "execution_count": 11,
   "metadata": {},
   "outputs": [
    {
     "name": "stdout",
     "output_type": "stream",
     "text": [
      "Cowboy Joe\n"
     ]
    }
   ],
   "source": [
    "def get_formatted_name(first_name, last_name):\n",
    "    \"\"\"Return a full name formatted properly\"\"\"\n",
    "    return f\"{first_name} {last_name}\".title()\n",
    "\n",
    "name = get_formatted_name(\"cowboy\", \"joe\")\n",
    "print(name)"
   ]
  },
  {
   "cell_type": "markdown",
   "metadata": {},
   "source": [
    "## Returning a Simple Value\n",
    "---\n",
    "* The definition of `get_formatted_name()` takes as parameters a first and last name \n",
    "* The function combines these two names, adds a space and returns them in title casing\n",
    "* When a function that returns a name is called, aa variable needs to be provide \n",
    "    * To assign the returned value to\n",
    "* In this case `name` was provided "
   ]
  },
  {
   "cell_type": "markdown",
   "metadata": {},
   "source": [
    "## Returning a Simple Value\n",
    "---\n",
    "* The beauty of functions is that they can be called over again\n",
    "* This means if you are storing a lot of first and last names separately they can be combined\n",
    "* Or whatever the use case may be\n",
    "* Whenever  you have a set of code you need to happen multiple times, use a function\n",
    "* This is better than rewriting it in each individual place"
   ]
  },
  {
   "cell_type": "markdown",
   "metadata": {},
   "source": [
    "## Making an Argument Optional\n",
    "--- \n",
    "* Sometimes you may want an argument to be optional\n",
    "* This expands the functions use case, accepting extra information only when needed\n",
    "* For example, the format name function could be expanded to include middle names \n",
    "* Default values can be used to make a value optional"
   ]
  },
  {
   "cell_type": "code",
   "execution_count": 13,
   "metadata": {},
   "outputs": [
    {
     "name": "stdout",
     "output_type": "stream",
     "text": [
      "Cowboy No Middle Name Needed Joe\n"
     ]
    }
   ],
   "source": [
    "def get_formatted_name(first_name, middle_name, last_name):\n",
    "    \"\"\"Return a full name formatted properly\"\"\"\n",
    "    return f\"{first_name} {middle_name} {last_name}\".title()\n",
    "\n",
    "name = get_formatted_name(\"cowboy\", \"no middle name needed\",\"joe\")\n",
    "print(name)"
   ]
  },
  {
   "cell_type": "markdown",
   "metadata": {},
   "source": [
    "## Making an Argument Optional\n",
    "--- \n",
    "* That iteration only includes a middle name parameter\n",
    "* It however doesn't make it optional \n",
    "* Middle names aren't always needed and as written that function would require a middle name\n",
    "* Again, we can utilize default values to make it work properly"
   ]
  },
  {
   "cell_type": "code",
   "execution_count": 16,
   "metadata": {},
   "outputs": [
    {
     "name": "stdout",
     "output_type": "stream",
     "text": [
      "Cowboy Joe\n",
      "John F Kennedy\n"
     ]
    }
   ],
   "source": [
    "def get_formatted_name(first_name, last_name, middle_name=\"\"):\n",
    "    \"\"\"Return a full name formatted properly\"\"\"\n",
    "    if middle_name:\n",
    "        return f\"{first_name} {middle_name} {last_name}\".title()\n",
    "    else:\n",
    "        return f\"{first_name} {last_name}\".title()\n",
    "\n",
    "name = get_formatted_name(\"cowboy\", \"joe\")\n",
    "print(name)\n",
    "\n",
    "name = get_formatted_name(\"John\", \"Kennedy\", \"F\")\n",
    "print(name)"
   ]
  },
  {
   "cell_type": "markdown",
   "metadata": {},
   "source": [
    "## Making an Argument Optional\n",
    "--- \n",
    "* In that expanded functionality there are two cases\n",
    "    * One for when a middle name is supplied\n",
    "    * One for when one isn't \n",
    "* This allows the function to be called with just a first and last\n",
    "* Or also including a middle name"
   ]
  },
  {
   "cell_type": "markdown",
   "metadata": {},
   "source": [
    "## Returning a Dictionary\n",
    "---\n",
    "* A function can return any kind of value needed\n",
    "* This extends beyond strings to also include more complicated data structures \n",
    "* For example a dictionary could be build to describe someone\n"
   ]
  },
  {
   "cell_type": "code",
   "execution_count": 17,
   "metadata": {},
   "outputs": [
    {
     "name": "stdout",
     "output_type": "stream",
     "text": [
      "{'first:': 'pistol', 'last': 'pete'}\n"
     ]
    }
   ],
   "source": [
    "def build_person(first_name, last_name):\n",
    "    \"\"\"Return a dictionary describing a person\"\"\"\n",
    "    person = {'first:':first_name, 'last':last_name}\n",
    "    return person \n",
    "\n",
    "mascot = build_person(\"pistol\",\"pete\")\n",
    "print(mascot)"
   ]
  },
  {
   "cell_type": "markdown",
   "metadata": {},
   "source": [
    "## Returning a Dictionary\n",
    "---\n",
    "* The function `build_person()` takes in a first and last name\n",
    "* It stores these values in a dictionary \n",
    "* Then the dictionary representing a person is returned \n",
    "* Finally the dictionary is printed for verification "
   ]
  },
  {
   "cell_type": "markdown",
   "metadata": {},
   "source": [
    "## Returning a Dictionary\n",
    "---\n",
    "* That function can take in simple text and put it into a more meaningful form \n",
    "* This can be expanded to include optional parameters\n",
    "* But, a bit more thought needs to be put in than for the previous one \n",
    "* You can utilize `None` as a default value \n",
    "* In conditional tests it will evaluate to false"
   ]
  },
  {
   "cell_type": "code",
   "execution_count": 19,
   "metadata": {},
   "outputs": [
    {
     "name": "stdout",
     "output_type": "stream",
     "text": [
      "{'first:': 'pistol', 'last': 'pete'}\n",
      "{'first:': 'cowboy', 'last': 'joe', 'age': 73}\n"
     ]
    }
   ],
   "source": [
    "def build_person(first_name, last_name, age = None):\n",
    "    \"\"\"Return a dictionary describing a person\"\"\"\n",
    "    person = {'first:':first_name, 'last':last_name}\n",
    "    if age:\n",
    "        person[\"age\"] = age\n",
    "    return person \n",
    "\n",
    "mascot = build_person(\"pistol\",\"pete\")\n",
    "print(mascot)\n",
    "\n",
    "cj = build_person(\"cowboy\",\"joe\",73)\n",
    "print(cj)\n"
   ]
  },
  {
   "cell_type": "markdown",
   "metadata": {},
   "source": [
    "## Using a Function with a While Loop\n",
    "---\n",
    "* Functions can be used with all Python concepts we've discussed thus far\n",
    "* For example `formatted_name()` could be used in a `while` loop to greet users more formally\n",
    "* A while loop could be used to prompt users continually \n",
    "* Don't forget an exit condition!"
   ]
  },
  {
   "cell_type": "code",
   "execution_count": 21,
   "metadata": {},
   "outputs": [
    {
     "name": "stdout",
     "output_type": "stream",
     "text": [
      "Enter q to exit the loop\n"
     ]
    }
   ],
   "source": [
    "def get_formatted_name(first_name, last_name, middle_name=\"\"):\n",
    "    \"\"\"Return a full name formatted properly\"\"\"\n",
    "    if middle_name:\n",
    "        return f\"{first_name} {middle_name} {last_name}\".title()\n",
    "    else:\n",
    "        return f\"{first_name} {last_name}\".title()\n",
    "    \n",
    "while True:\n",
    "    print(\"Enter q to exit the loop\")\n",
    "    f_name = input(\"Please enter a first name: \")\n",
    "    if f_name == 'q':\n",
    "        break \n",
    "    l_name = input(\"Please enter a last name: \" )\n",
    "\n",
    "    if l_name =='q':\n",
    "        break \n",
    "    else:\n",
    "        print(f\"Hello there, {get_formatted_name(f_name,l_name)}\")\n",
    "    "
   ]
  },
  {
   "cell_type": "markdown",
   "metadata": {},
   "source": [
    "## Passing a List\n",
    "--- \n",
    "* Often it may be useful to pass a list to a function \n",
    "* When passing a list to a function, the function gets direct access to the contents of a list \n",
    "* But functions can be used to make working with a list more efficient\n"
   ]
  },
  {
   "cell_type": "code",
   "execution_count": 22,
   "metadata": {},
   "outputs": [
    {
     "name": "stdout",
     "output_type": "stream",
     "text": [
      "Hello there, Steamboat\n",
      "Hello there, Cowboy Joe\n",
      "Hello there, Pistol Pete\n"
     ]
    }
   ],
   "source": [
    "def greet_users(names):\n",
    "    \"\"\"Print a simple greeting to users in a list\"\"\"\n",
    "    for name in names:\n",
    "        print(f\"Hello there, {name.title()}\")\n",
    "\n",
    "entities = [\"steamboat\",\"cowboy joe\",\"pistol pete\"]\n",
    "greet_users(entities)"
   ]
  },
  {
   "cell_type": "markdown",
   "metadata": {},
   "source": [
    "## Modifying a List in a Function \n",
    "--- \n",
    "* When a list is passed to a function, the function can modify the list\n",
    "* Any changes made within the function body are permanent \n",
    "* This allows you to efficiently work with lists, even when there is a large amount of data"
   ]
  },
  {
   "cell_type": "code",
   "execution_count": 31,
   "metadata": {},
   "outputs": [
    {
     "name": "stdout",
     "output_type": "stream",
     "text": [
      "['apple', 'banana', 'cherry', 'dog', 'elephant', 'football', 'grape', 'happiness', 'internet', 'jazz', 'kiwi', 'lemon', 'mountain', 'notebook', 'ocean', 'penguin', 'quartz', 'rainbow', 'sunset', 'tiger']\n",
      "['carrot', 'dolphin', 'elephant', 'fox', 'guitar', 'hamster', 'igloo', 'jellyfish', 'kangaroo', 'leopard', 'moon', 'narwhal', 'octopus', 'panda', 'quokka', 'raccoon', 'squirrel', 'turtle', 'umbrella', 'violin']\n",
      "purged:\n",
      "['cherry', 'dog', 'internet', 'kiwi', 'lemon', 'notebook', 'penguin', 'sunset', 'tiger']\n",
      "['dolphin', 'fox', 'igloo', 'jellyfish', 'moon', 'octopus', 'squirrel', 'turtle', 'violin']\n"
     ]
    }
   ],
   "source": [
    "list1 = [\n",
    "    \"apple\", \"banana\", \"cherry\", \"dog\", \"elephant\",\n",
    "    \"football\", \"grape\", \"happiness\", \"internet\", \"jazz\",\n",
    "    \"kiwi\", \"lemon\", \"mountain\", \"notebook\", \"ocean\",\n",
    "    \"penguin\", \"quartz\", \"rainbow\", \"sunset\", \"tiger\"\n",
    "]\n",
    "\n",
    "# A second list of 20 random words\n",
    "list2 = [\n",
    "    \"carrot\", \"dolphin\", \"elephant\", \"fox\", \"guitar\",\n",
    "    \"hamster\", \"igloo\", \"jellyfish\", \"kangaroo\", \"leopard\",\n",
    "    \"moon\", \"narwhal\", \"octopus\", \"panda\", \"quokka\",\n",
    "    \"raccoon\", \"squirrel\", \"turtle\", \"umbrella\", \"violin\"\n",
    "]\n",
    "\n",
    "def a_purge(words):\n",
    "    \"\"\"Purges words with 'a' in them\"\"\"\n",
    "    purge_words = []\n",
    "    for word in words:\n",
    "        \n",
    "        if \"a\" in word.lower():\n",
    "            purge_words.append(word)\n",
    "    for word in purge_words:\n",
    "        words.remove(word)\n",
    "\n",
    "print(list1)\n",
    "print(list2)\n",
    "\n",
    "a_purge(list1)\n",
    "a_purge(list2)\n",
    "print(\"purged:\")\n",
    "print(list1)\n",
    "print(list2)"
   ]
  },
  {
   "cell_type": "markdown",
   "metadata": {},
   "source": [
    "## Modifying a List in a Function \n",
    "--- \n",
    "* That function takes in a list\n",
    "* It then purges all words with an `\"a\"` in them\n",
    "* It modifies the original list provided, as demonstrated by the final prints\n",
    "* Every function should have one specific job to do\n",
    "* If you need more functionality, more functions!"
   ]
  },
  {
   "cell_type": "markdown",
   "metadata": {},
   "source": [
    "## Preventing a Function from Modifying a List\n",
    "---\n",
    "* Sometimes you'll want to prevent a function from modifying a list\n",
    "* In this case you can address the issue by passing a passing a copy of the list\n",
    "* Now any changes made will not be reflected in the original list \n",
    "* This leaves the original intact "
   ]
  },
  {
   "cell_type": "markdown",
   "metadata": {},
   "source": [
    "## Preventing a Function from Modifying a List\n",
    "---\n",
    "* This is done similarly to how we made a copy of a list earlier\n",
    "* It is done by slicing the list and passing that slice\n",
    "    * `listname[:]`\n",
    "* The slice notation makes a copy of the list and sends it to the function \n",
    "* Now the original will remain intact"
   ]
  },
  {
   "cell_type": "markdown",
   "metadata": {},
   "source": [
    "## Passing an Arbitrary Number of Arguments\n",
    "---\n",
    "* Sometimes you may not know how many parameters a function will need\n",
    "* Python allows you to craft a function that can collect an arbitrary number of arguments\n",
    "* Consider that you have  a function that builds a pizza\n",
    "* You won't necessarily know how many toppings someone may request \n",
    "* To do so prepend a `*` to the parameter name"
   ]
  },
  {
   "cell_type": "code",
   "execution_count": 34,
   "metadata": {},
   "outputs": [
    {
     "name": "stdout",
     "output_type": "stream",
     "text": [
      "<class 'tuple'> ('cheese',)\n",
      "<class 'tuple'> ('cheese', 'pepperoni', 'sausage')\n"
     ]
    }
   ],
   "source": [
    "def make_pizza(*toppings):\n",
    "    \"\"\"Print the list of pizza toppings\"\"\"\n",
    "    print(type(toppings),toppings)\n",
    "\n",
    "make_pizza(\"cheese\")\n",
    "make_pizza(\"cheese\",\"pepperoni\",\"sausage\")"
   ]
  },
  {
   "cell_type": "markdown",
   "metadata": {},
   "source": [
    "## Passing an Arbitrary Number of Arguments\n",
    "---\n",
    "* The asterisk in the parameter name `*toppings` tell Python to make a `tuple` called `toppings`\n",
    "* It will contain all the values the function receives \n",
    "* The print function in the body produces an output showing the tuple \n",
    "* It will be a tuple even if only one parameter is received  "
   ]
  },
  {
   "cell_type": "code",
   "execution_count": 36,
   "metadata": {},
   "outputs": [
    {
     "name": "stdout",
     "output_type": "stream",
     "text": [
      "cheese\n",
      "pepperoni\n",
      "sausage\n"
     ]
    }
   ],
   "source": [
    "def make_pizza(*toppings):\n",
    "    \"\"\"Print the list of pizza toppings\"\"\"\n",
    "    for topping in toppings:\n",
    "        print(topping)\n",
    "\n",
    "make_pizza(\"cheese\",\"pepperoni\",\"sausage\")"
   ]
  },
  {
   "cell_type": "markdown",
   "metadata": {},
   "source": [
    "## Mixing Positional and Arbitrary Arguments\n",
    "---\n",
    "* If you want a function to accept several kinds of arguments you can!\n",
    "* The parameter that accepts an arbitrary number of arguments must be placed last in the function definition \n",
    "* Python matches positional and keyword arguments first and then collects any remaining arguments in the final parameter \n",
    "* Suppose the pizza function needs to be expanded to include size"
   ]
  },
  {
   "cell_type": "code",
   "execution_count": 38,
   "metadata": {},
   "outputs": [
    {
     "name": "stdout",
     "output_type": "stream",
     "text": [
      "You ordered a 16\" pizza with the following toppings:\n",
      "cheese\n",
      "pepperoni\n",
      "sausage\n"
     ]
    }
   ],
   "source": [
    "def make_pizza(size,*toppings):\n",
    "    \"\"\"Print the list of pizza toppings\"\"\"\n",
    "    print(f\"You ordered a {size}\\\" pizza with the following toppings:\")\n",
    "    for topping in toppings:\n",
    "        print(topping)\n",
    "\n",
    "make_pizza(16,\"cheese\",\"pepperoni\",\"sausage\")"
   ]
  },
  {
   "cell_type": "markdown",
   "metadata": {},
   "source": [
    "## Mixing Positional and Arbitrary Arguments\n",
    "---\n",
    "* In the definition Python assigns the first value received to `size`\n",
    "* All other values that come after are stored int he tuple\n",
    "* The function call includes size first \n",
    "* Then as many toppings as are required can be passed"
   ]
  },
  {
   "cell_type": "markdown",
   "metadata": {},
   "source": [
    "## Using Arbitrary Keyword Arguments\n",
    "---\n",
    "* Sometimes you'll want to accept an arbitrary number of arguments\n",
    "* But, you may not know ahead of time what information will be passed\n",
    "* In this case a function can be written that accepts as many key:value pairs as are provided\n",
    "* Suppose you're building suer profiles, you know you'll get use information but aren't sure what"
   ]
  },
  {
   "cell_type": "code",
   "execution_count": 39,
   "metadata": {},
   "outputs": [
    {
     "name": "stdout",
     "output_type": "stream",
     "text": [
      "{'favcolor': 'gold', 'favteam': 'wyoming', 'first_name': 'pistol', 'last_name': 'pete'}\n"
     ]
    }
   ],
   "source": [
    "def build_profile(first, last, **user_info):\n",
    "    \"\"\"BUild a dictionary based on information passed\"\"\"\n",
    "    user_info[\"first_name\"] = first \n",
    "    user_info[\"last_name\"]  = last \n",
    "    return user_info\n",
    "user_profile = build_profile(\"pistol\",\"pete\",favcolor=\"gold\",favteam=\"wyoming\")\n",
    "\n",
    "print(user_profile)"
   ]
  },
  {
   "cell_type": "markdown",
   "metadata": {},
   "source": [
    "## Using Arbitrary Keyword Arguments\n",
    "---\n",
    "* The definition expects a first and last name, then some number of key:value pairs\n",
    "* The double asterisk before the parameter causes Python to create a dictionary\n",
    "    * it will name it `user_info` based on the parameter name\n",
    "* It will contain all  the extra key:value pairs the function receives\n",
    "* They key:value pairs can be accessed within the function body"
   ]
  },
  {
   "cell_type": "markdown",
   "metadata": {},
   "source": [
    "## Using Arbitrary Keyword Arguments\n",
    "---\n",
    "* You can mix positional, keyword, and arbitrary values in many different ways\n",
    "* When writing your own functions you have all the power in how they are defined\n",
    "    * Or called\n",
    "* It is useful to know that all these argument types exist as they are useful\n",
    "    * And often used\n",
    "* it takes practice to use the different types correctly"
   ]
  },
  {
   "cell_type": "markdown",
   "metadata": {},
   "source": [
    "## Styling Functions\n",
    "---\n",
    "* You need to keep a few details in mind when you're styling functions\n",
    "* Functions should have descriptive names\n",
    "* Functions should sue lowercase and underscores\n",
    "* Descriptive names help you (and others) know what the code is trying to do"
   ]
  },
  {
   "cell_type": "markdown",
   "metadata": {},
   "source": [
    "## Styling Functions\n",
    "---\n",
    "* Functions should have a comment that explains concisely what it does\n",
    "* The comment should appear immediately after the function definition\n",
    "* It should use the docstring format \n",
    "* In a well-documented function, other programmers can use it by reading only the description \n",
    "* They should be able to trust that the code works as described"
   ]
  },
  {
   "cell_type": "markdown",
   "metadata": {},
   "source": [
    "## Styling Functions\n",
    "---\n",
    "*  As long as other programmers know the name of the function, the arguments needed, and the return type they should be able to use it in their programs\n",
    "* If you specify a default value, no spaces should be used on either side of the equals sign\n",
    "* The same convention should be followed for keyword arguments \n",
    "* it is recommended that lines are limited to 79 characters\n",
    "* If your code has more than one function you can separate each by two blank lines "
   ]
  },
  {
   "cell_type": "markdown",
   "metadata": {},
   "source": []
  }
 ],
 "metadata": {
  "kernelspec": {
   "display_name": "Python 3",
   "language": "python",
   "name": "python3"
  },
  "language_info": {
   "codemirror_mode": {
    "name": "ipython",
    "version": 3
   },
   "file_extension": ".py",
   "mimetype": "text/x-python",
   "name": "python",
   "nbconvert_exporter": "python",
   "pygments_lexer": "ipython3",
   "version": "3.10.12"
  }
 },
 "nbformat": 4,
 "nbformat_minor": 2
}
