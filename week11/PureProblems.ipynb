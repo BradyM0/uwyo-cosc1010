{
 "cells": [
  {
   "cell_type": "markdown",
   "metadata": {},
   "source": [
    "# <p style=\"text-align: Center;\">Pure Problems</p>\n",
    "## <p style=\"text-align: Center;\">University of Wyoming COSC 1010</p>\n",
    "### <p style=\"text-align: Center;\">Adapted from: *Think Like a Programmer* By V. Anton Spraul </p>"
   ]
  },
  {
   "cell_type": "markdown",
   "metadata": {},
   "source": [
    "## Pure Puzzles\n",
    "---\n",
    "* We wills tart looking at using code to solve different problems \n",
    "* The goal here is to solve the problems, not to worry about the code to do so\n",
    "* Once you figure out what you want to do, you can translate your thoughts into code"
   ]
  },
  {
   "cell_type": "markdown",
   "metadata": {},
   "source": [
    "## Output Patterns\n",
    "--- \n",
    "* For this lecture we will work through three main problems \n",
    "* But, we will utilize the problem division and reduction techniques to turn these into sub problems \n",
    "* We will look at a series of problems to output specific patterns "
   ]
  },
  {
   "cell_type": "markdown",
   "metadata": {},
   "source": [
    "## Half a Square\n",
    "---\n",
    "* The goal of this is to write a program to produce the following pattern\n",
    "```\n",
    "    #####\n",
    "    ####\n",
    "    ###\n",
    "    ##\n",
    "    #\n",
    "```"
   ]
  },
  {
   "cell_type": "markdown",
   "metadata": {},
   "source": [
    "## Half a Square\n",
    "---\n",
    "* But, problems have constraints!\n",
    "* In this case you can only use the following print statements:\n",
    "    * `print()`, printing a newline character \n",
    "    * `print('#', end=\"\")`, printing a single hash  without a new line \n",
    "    * Each of these can only occur once in your program\n",
    "* If we ignored constraints this problem would be easy to solve\n",
    "* But as we can only use the two print statements to output to the terminal, it becomes more difficult\n"
   ]
  },
  {
   "cell_type": "markdown",
   "metadata": {},
   "source": [
    "## Half a Square\n",
    "---\n",
    "* As we have the constraints, and know we need to have multiple outputs we logically turn to loops \n",
    "* You may already have a solution in your head, but what if you don't? \n",
    "* How can rwe reduce the problem so it is easy to solve \n",
    "* What if we started with a whole square? "
   ]
  },
  {
   "cell_type": "markdown",
   "metadata": {},
   "source": [
    "## A Square\n",
    "---\n",
    "* Can we write a program that outputs a full square, rather than the half we want?\n",
    "* This is a far more trivial of a problem \n",
    "* But, it gives us a starting place to solve our half a square problem "
   ]
  },
  {
   "cell_type": "code",
   "execution_count": 3,
   "metadata": {},
   "outputs": [
    {
     "name": "stdout",
     "output_type": "stream",
     "text": [
      "#####\n"
     ]
    }
   ],
   "source": [
    "for i in range(0,5):\n",
    "    print(\"#\",end=\"\")\n",
    "print()"
   ]
  },
  {
   "cell_type": "markdown",
   "metadata": {},
   "source": [
    "## A Square\n",
    "---\n",
    "* That is a basic reduction\n",
    "* It shows us how to print `######` out easily using a single loop\n",
    "* We can then add to out code to print the full square shape\n",
    "* We just need to repeat our current pattern five times\n",
    "* Seems like its time for another loop! "
   ]
  },
  {
   "cell_type": "code",
   "execution_count": 2,
   "metadata": {},
   "outputs": [
    {
     "name": "stdout",
     "output_type": "stream",
     "text": [
      "#####\n",
      "#####\n",
      "#####\n",
      "#####\n",
      "#####\n"
     ]
    }
   ],
   "source": [
    "for j in range(0,5):\n",
    "    for i in range(0,5):\n",
    "        print(\"#\",end=\"\")\n",
    "    print()"
   ]
  },
  {
   "cell_type": "markdown",
   "metadata": {},
   "source": [
    "## A Square\n",
    "---\n",
    "* We placed our first code in a second loop\n",
    "* Now our original code repeats 5 times \n",
    "* So, we are getting closer to the proper solution for our ultimate problem \n",
    "* But, how do we modify the code we have here to produce the half square?"
   ]
  },
  {
   "cell_type": "markdown",
   "metadata": {},
   "source": [
    "## A Square\n",
    "---\n",
    "* We know we want five rows, so our outer loop is correct\n",
    "* The issue is our inner loop then, which prints to columns of our output \n",
    "* What we need then is a way to adjust the number of of symbols produced by the inner loop\n",
    "* We need 5 in the first row, 4 in the second ..."
   ]
  },
  {
   "cell_type": "markdown",
   "metadata": {},
   "source": [
    "## A Square\n",
    "---\n",
    "* We'll start by making another reduced program to experiment\n",
    "* It is often easiest to work on troublesome portions of a problem in isolation\n",
    "* We will forget hash symbols for a moment and just focus on numbers\n",
    "* Write a program that displays the numbers 5-1, in that order\n",
    "* We want each number on a separate line "
   ]
  },
  {
   "cell_type": "code",
   "execution_count": 4,
   "metadata": {},
   "outputs": [
    {
     "name": "stdout",
     "output_type": "stream",
     "text": [
      "5\n",
      "4\n",
      "3\n",
      "2\n",
      "1\n"
     ]
    }
   ],
   "source": [
    "i = 5 \n",
    "while i > 0:\n",
    "    print(i)\n",
    "    i -= 1"
   ]
  },
  {
   "cell_type": "code",
   "execution_count": 9,
   "metadata": {},
   "outputs": [
    {
     "name": "stdout",
     "output_type": "stream",
     "text": [
      "[5, 4, 3, 2, 1]\n",
      "5\n",
      "4\n",
      "3\n",
      "2\n",
      "1\n"
     ]
    }
   ],
   "source": [
    "rng = list(range(1,6))\n",
    "rng.reverse()\n",
    "print(rng)\n",
    "for i in rng:\n",
    "    print(i)"
   ]
  },
  {
   "cell_type": "markdown",
   "metadata": {},
   "source": [
    "## A Square\n",
    "---\n",
    "* We need an *expression* of some kind that is 5 when row 1\n",
    "    * 4 when row is 2 ....\n",
    "* Essentially we need an expression that decreases as row increases \n",
    "* Perhaps we could utilize a minus sign that corresponds with row? "
   ]
  },
  {
   "cell_type": "code",
   "execution_count": 10,
   "metadata": {},
   "outputs": [
    {
     "name": "stdout",
     "output_type": "stream",
     "text": [
      "#####\n",
      "#####\n",
      "#####\n",
      "#####\n",
      "#####\n"
     ]
    }
   ],
   "source": [
    "for j in range(0,5):\n",
    "    for i in range(0,5):\n",
    "        print(\"#\",end=\"\")\n",
    "    print()"
   ]
  },
  {
   "cell_type": "markdown",
   "metadata": {},
   "source": [
    "## A Square\n",
    "---\n",
    "| row | j | desired num of # | sum of j+dn# |\n",
    "|-----|---|------------------|--------------|\n",
    "| 1   | 0 |        5         |5             |\n",
    "| 2   | 1 |        4         |5             |\n",
    "| 3   | 2 |        3         |5             |\n",
    "| 4   | 3 |        2         |5             |\n",
    "| 5   | 4 |        1         |5             |"
   ]
  },
  {
   "cell_type": "markdown",
   "metadata": {},
   "source": [
    "## A Square\n",
    "---\n",
    "* Once you list out everything hopefully you can see something helpful \n",
    "    * The number of `#` we want on each line, dn# can be determined by `dn# = 5 -j`\n",
    "* This is excellent, as `j` is part of our upper loop, which we already decided was what we needed\n",
    "* So how can we use our newly discovered formula to produce the correct output?"
   ]
  },
  {
   "cell_type": "code",
   "execution_count": 11,
   "metadata": {},
   "outputs": [
    {
     "name": "stdout",
     "output_type": "stream",
     "text": [
      "#####\n",
      "####\n",
      "###\n",
      "##\n",
      "#\n"
     ]
    }
   ],
   "source": [
    "for j in range(0,5):\n",
    "    for i in range(0,5-j):\n",
    "        print(\"#\",end=\"\")\n",
    "    print()"
   ]
  },
  {
   "cell_type": "markdown",
   "metadata": {},
   "source": [
    "## Half a Square\n",
    "---\n",
    "* TADA! \n",
    "* This works out nicely, and if it hadn't the changes likely would have been minor\n",
    "* Using the reduction technique requires more steps to get from the problem to a solution\n",
    "    * But, each step is easier to accomplish\n",
    "* it is kind of like using pulleys, you may have to pull the rope farther but it will be easier to do so"
   ]
  },
  {
   "cell_type": "markdown",
   "metadata": {},
   "source": [
    "# A Sideways Triangle\n",
    "---\n",
    "* Now we are going to write a program using the same outputs to produce the following:\n",
    "```\n",
    "    #\n",
    "    ##\n",
    "    ###\n",
    "    ####\n",
    "    ###\n",
    "    ##\n",
    "    #\n",
    "```"
   ]
  },
  {
   "cell_type": "markdown",
   "metadata": {},
   "source": [
    "# A Sideways Triangle\n",
    "---\n",
    "* We don't need to go through the same amount of steps as last time\n",
    "* Largely as this problem is analogous to the \"half a square\" problem we just did \n",
    "* So, what can we learn from our previous problem that we can apply to the current problem? \n",
    "* Remember to always start with what you know"
   ]
  },
  {
   "cell_type": "markdown",
   "metadata": {},
   "source": [
    "# A Sideways Triangle\n",
    "---\n",
    "* So what do we know?\n",
    "    * How to display a row of symbols of a particular length with a loop\n",
    "    * How to display a series of rows using nested loops\n",
    "    * How to create a varying number of symbols in each row\n",
    "    * How to discover the correct expression through experimentation\n"
   ]
  },
  {
   "cell_type": "markdown",
   "metadata": {},
   "source": [
    "# A Sideways Triangle\n",
    "---\n",
    "* Most of the mental work has already done, while solving the previous problem\n",
    "* We can start by experimenting once again \n",
    "* In our previous problem subtracting the row from the larger number worked well\n",
    "    * But that isn't directly applicable here as we increase and decrease the number of elements\n",
    "* We can break things into a table again, and some starting code"
   ]
  },
  {
   "cell_type": "code",
   "execution_count": 12,
   "metadata": {},
   "outputs": [
    {
     "name": "stdout",
     "output_type": "stream",
     "text": [
      "####\n",
      "####\n",
      "####\n",
      "####\n",
      "####\n",
      "####\n",
      "####\n"
     ]
    }
   ],
   "source": [
    "for i in range (0,7):\n",
    "    for j in range (0,4):\n",
    "        print(\"#\",end=\"\")\n",
    "    print()"
   ]
  },
  {
   "cell_type": "markdown",
   "metadata": {},
   "source": [
    "# A Sideways Triangle\n",
    "---\n",
    "| row | i | dn # | 4 - i|\n",
    "|-----|---|------|------|\n",
    "| 1   | 0 | 1    | 4    | \n",
    "| 2   | 1 | 2    | 3    | \n",
    "| 3   | 2 | 3    | 2    | \n",
    "| 4   | 3 | 4    | 1    | \n",
    "| 5   | 4 | 3    | 0    |\n",
    "| 6   | 5 | 2    | -1   | \n",
    "| 7   | 6 | 1    | -2   | "
   ]
  },
  {
   "cell_type": "markdown",
   "metadata": {},
   "source": [
    "# A Sideways Triangle\n",
    "---\n",
    "* That isn't quite it\n",
    "* But what adjustments can we make to maybe make it a bit closer to what we want\n",
    "* What if we start i at 1, rather than 0? \n",
    "* Would that help us at all? "
   ]
  },
  {
   "cell_type": "markdown",
   "metadata": {},
   "source": [
    "# A Sideways Triangle\n",
    "---\n",
    "| row | i | dn # | 4 - i|\n",
    "|-----|---|------|------|\n",
    "| 1   | 1 | 1    | 3    | \n",
    "| 2   | 2 | 2    | 2    | \n",
    "| 3   | 3 | 3    | 1    | \n",
    "| 4   | 4 | 4    | 0    | \n",
    "| 5   | 5 | 3    | -1   |\n",
    "| 6   | 6 | 2    | -2   | \n",
    "| 7   | 7 | 1    | -3   | "
   ]
  },
  {
   "cell_type": "markdown",
   "metadata": {},
   "source": [
    "# A Sideways Triangle\n",
    "---\n",
    "* Looking at that, how can we form our expression to get dn#\n",
    "* For rows 1-4 our `dn# = 4 - (4-i)`\n",
    "* But what about for rows 5-7?\n",
    "    * Our dn# could be expressed as `dn# = 4 + (4-i)`\n",
    "* Can we make our lives easier to express these in the same equation "
   ]
  },
  {
   "cell_type": "markdown",
   "metadata": {},
   "source": [
    "# A Sideways Triangle\n",
    "---\n",
    "* If we have the negative values of what we want to subtract, how can we get the positive? \n",
    "* Well for rows 5-7 we could multiply `4-i` by `-1`\n",
    "    * But then our equation wouldn't be generic enough to work for rows 1-4\n",
    "* Really what we are looking for is the *absolute value* of `4-i` \n"
   ]
  },
  {
   "cell_type": "markdown",
   "metadata": {},
   "source": [
    "# A Sideways Triangle\n",
    "---\n",
    "| row | i | dn # | 4 - i| 4 - abs(4-i) |\n",
    "|-----|---|------|------|--------------|\n",
    "| 1   | 1 | 1    | 3    | 1            |\n",
    "| 2   | 2 | 2    | 2    | 2            |\n",
    "| 3   | 3 | 3    | 1    | 3            |\n",
    "| 4   | 4 | 4    | 0    | 4            |\n",
    "| 5   | 5 | 3    | -1   | 3            |\n",
    "| 6   | 6 | 2    | -2   | 2            |\n",
    "| 7   | 7 | 1    | -3   | 1            |"
   ]
  },
  {
   "cell_type": "code",
   "execution_count": 14,
   "metadata": {},
   "outputs": [
    {
     "name": "stdout",
     "output_type": "stream",
     "text": [
      "#\n",
      "##\n",
      "###\n",
      "####\n",
      "###\n",
      "##\n",
      "#\n"
     ]
    }
   ],
   "source": [
    "for i in range (1,8):\n",
    "    for j in range (0,4-abs(4-i)):\n",
    "        print(\"#\",end=\"\")\n",
    "    print()"
   ]
  },
  {
   "cell_type": "markdown",
   "metadata": {},
   "source": []
  }
 ],
 "metadata": {
  "kernelspec": {
   "display_name": "Python 3",
   "language": "python",
   "name": "python3"
  },
  "language_info": {
   "codemirror_mode": {
    "name": "ipython",
    "version": 3
   },
   "file_extension": ".py",
   "mimetype": "text/x-python",
   "name": "python",
   "nbconvert_exporter": "python",
   "pygments_lexer": "ipython3",
   "version": "3.10.12"
  }
 },
 "nbformat": 4,
 "nbformat_minor": 2
}
