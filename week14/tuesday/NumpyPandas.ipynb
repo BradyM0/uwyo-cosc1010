{
 "cells": [
  {
   "cell_type": "markdown",
   "metadata": {},
   "source": [
    "# <p style=\"text-align: Center;\">NumPy and Pandas</p>\n",
    "## <p style=\"text-align: Center;\">University of Wyoming COSC 1010</p>\n",
    "### <p style=\"text-align: Center;\">Adapted from: *Data Visualization with Python and JavaScript* By Kyran Dale </p>"
   ]
  },
  {
   "cell_type": "markdown",
   "metadata": {},
   "source": [
    "## <p style=\"text-align: Center;\">Introduction to NumPy</p>"
   ]
  },
  {
   "cell_type": "markdown",
   "metadata": {},
   "source": [
    "## Introduction to NumPy\n",
    "---\n",
    "* NumPy stands for the Numeric Python library \n",
    "* It is a key building block of Pandas, the primary data analysis library \n",
    "* NumPy is a module that allows access to fast multi-dimensional array manipulation, implemented by low-level libraries \n",
    "    * These libraries are written in C and Fortran \n",
    "* Natively, Python is pretty slow"
   ]
  },
  {
   "cell_type": "markdown",
   "metadata": {},
   "source": [
    "## Introduction to NumPy\n",
    "---\n",
    "* NumPy allows you to perform parallel operations on large arrays all at once \n",
    "    * This makes it quite quick \n",
    "* NumPy is the primary building block of many Python data processing libraries\n",
    "* This ecosystem extends beyond just Pandas\n",
    "* Understanding NumPy gives you an edge when working with a magnitude of libraries \n",
    "* The key to understanding NumPy is its arrays "
   ]
  },
  {
   "cell_type": "markdown",
   "metadata": {},
   "source": [
    "## The NumPy Array\n",
    "--- \n",
    "* Everything in NumPy is built around its `ndarray` object\n",
    "* Operations on these arrays are performed quickly using compiled libraries \n",
    "    * This allows NumPy to out perform native Python \n",
    "* Among other things you can perform standard arithmetic on these arrays\n",
    "    * like a Python int or float "
   ]
  },
  {
   "cell_type": "code",
   "execution_count": 34,
   "metadata": {},
   "outputs": [
    {
     "name": "stdout",
     "output_type": "stream",
     "text": [
      "[2 4 6]\n"
     ]
    }
   ],
   "source": [
    "import numpy as np \n",
    "\n",
    "a = np.array([1,2,3])\n",
    "\n",
    "print(a+a)"
   ]
  },
  {
   "cell_type": "markdown",
   "metadata": {},
   "source": [
    "## The NumPy Array\n",
    "--- \n",
    "* There we were able to add an array to itself as easily as adding numbers \n",
    "* `import numpy as np` is the standard way to import the library \n",
    "* NumPy can leverage the massively parallel computation available to modern CPUs\n",
    "    * This allows large computations to happen quickly \n",
    "* The key properties of a NumPy `ndarray` are:\n",
    "    * The number of dimensions (`ndim`) \n",
    "    * shape (`shape`)\n",
    "    * numeric type (`dtype`)"
   ]
  },
  {
   "cell_type": "markdown",
   "metadata": {},
   "source": [
    "## The NumPy Array\n",
    "--- \n",
    "* The same array of numbers can be reshaped in place\n",
    "* This sometimes involves changing the array's number of dimensions \n"
   ]
  },
  {
   "cell_type": "code",
   "execution_count": 2,
   "metadata": {},
   "outputs": [
    {
     "name": "stdout",
     "output_type": "stream",
     "text": [
      "[1 2 3 4 5 6 7 8]\n",
      "Dimensions: 1\n",
      "shape: (8,)\n",
      "dtype: int64\n"
     ]
    }
   ],
   "source": [
    "def print_array_details(a):\n",
    "    print(f\"Dimensions: {a.ndim}\\nshape: {a.shape}\\ndtype: {a.dtype}\")\n",
    "\n",
    "a = np.array([1,2,3,4,5,6,7,8])\n",
    "print(a)\n",
    "print_array_details(a)"
   ]
  },
  {
   "cell_type": "markdown",
   "metadata": {},
   "source": [
    "## The NumPy Array\n",
    "--- \n",
    "* Using the `reshape` method the array shape and dimensions can be changed\n",
    "    * An 8 element array can be changed to a 2d array of `2*4`\n",
    "    * Or a 3d array of `2*2*2`\n",
    "* The shape and numeric type of an array can be specified on creation of an array, or later \n",
    "* The easiest way to change an array's numeric type is by using the `astype` method\n",
    "    * This makes a resized copy of the original with a new type "
   ]
  },
  {
   "cell_type": "code",
   "execution_count": 3,
   "metadata": {},
   "outputs": [
    {
     "name": "stdout",
     "output_type": "stream",
     "text": [
      "[[1 2 3 4]\n",
      " [5 6 7 8]]\n"
     ]
    }
   ],
   "source": [
    "#first a 2d array from our 1d array \n",
    "a2 = a.reshape([2,4])\n",
    "print(a2)"
   ]
  },
  {
   "cell_type": "code",
   "execution_count": 4,
   "metadata": {},
   "outputs": [
    {
     "name": "stdout",
     "output_type": "stream",
     "text": [
      "[[[1 2]\n",
      "  [3 4]]\n",
      "\n",
      " [[5 6]\n",
      "  [7 8]]]\n"
     ]
    }
   ],
   "source": [
    "#Then a 3d array from our 1d array \n",
    "a3 = a.reshape([2,2,2])\n",
    "print(a3)"
   ]
  },
  {
   "cell_type": "markdown",
   "metadata": {},
   "source": [
    "## Creating Arrays \n",
    "--- \n",
    "* As demonstrated NumPy can create arrays with lists of numbers\n",
    "* It also provides some utility functionality to create arrays with a specific shape\n",
    "    * `zeros` and `ones` are the most common functions to create prefilled arrays \n",
    "* Alternatively `empty` can be used, which is faster but leaves the initialization to you "
   ]
  },
  {
   "cell_type": "code",
   "execution_count": 8,
   "metadata": {},
   "outputs": [
    {
     "name": "stdout",
     "output_type": "stream",
     "text": [
      "[[0. 0. 0.]\n",
      " [0. 0. 0.]]\n",
      "\n",
      "[[1. 1. 1.]\n",
      " [1. 1. 1.]\n",
      " [1. 1. 1.]]\n",
      "\n",
      "[[4.68677518e-310 0.00000000e+000]\n",
      " [4.68616830e-310 4.68616830e-310]]\n"
     ]
    }
   ],
   "source": [
    "print(np.zeros([2,3]))\n",
    "print()\n",
    "print(np.ones([3,3]))\n",
    "print()\n",
    "print(np.empty([2,2]))"
   ]
  },
  {
   "cell_type": "markdown",
   "metadata": {},
   "source": [
    "## Creating Arrays \n",
    "--- \n",
    "* You can also create arrays with random elements using np's `random`\n",
    "* The `linspace` method creates a specified number of evenly spaced samples over an interval \n",
    "* `arrange` is similar, but uses a step-size argument \n",
    "    * unlike `arange` `linspace` is inclusive on the upper bound"
   ]
  },
  {
   "cell_type": "code",
   "execution_count": 11,
   "metadata": {},
   "outputs": [
    {
     "name": "stdout",
     "output_type": "stream",
     "text": [
      "[[0.36800437 0.12884575]\n",
      " [0.40857825 0.43752508]]\n",
      "[ 2.  4.  6.  8. 10.]\n",
      "[2 4 6 8]\n"
     ]
    }
   ],
   "source": [
    "print(np.random.random((2,2)))\n",
    "print(np.linspace(2,10,5)) # five numbers range 2-10\n",
    "print(np.arange(2,10,2)) # 2 being the step size"
   ]
  },
  {
   "cell_type": "markdown",
   "metadata": {},
   "source": [
    "## Array Indexing and Slicing \n",
    "--- \n",
    "* One-dimensional arrays are indexed and sliced much like Python lists \n",
    "* Indexing multi-dimension arrays is also similar\n",
    "    * Each dimension has its own indexing/slicing operation \n",
    "    * These are specified by comma separated tuples \n",
    "* If the number of objects in a selected tuple is less than the dimensions, the remaining dimensions are assumed to be fully selected \n",
    "* Ellipses (`...`) can be used to denote a full selection "
   ]
  },
  {
   "cell_type": "code",
   "execution_count": 14,
   "metadata": {},
   "outputs": [
    {
     "name": "stdout",
     "output_type": "stream",
     "text": [
      "3\n",
      "[4 5]\n",
      "[1 3]\n",
      "[8 7 6 5 4 3 2 1]\n"
     ]
    }
   ],
   "source": [
    "print(a[2])\n",
    "print(a[3:5]) # a slice \n",
    "print(a[:4:2]) # lice of 0:4 every second item \n",
    "print(a[::-1]) #reversed "
   ]
  },
  {
   "cell_type": "code",
   "execution_count": 17,
   "metadata": {},
   "outputs": [
    {
     "name": "stdout",
     "output_type": "stream",
     "text": [
      "[[[ 0  1  2  3]\n",
      "  [ 4  5  6  7]]\n",
      "\n",
      " [[ 8  9 10 11]\n",
      "  [12 13 14 15]]]\n",
      "14\n"
     ]
    }
   ],
   "source": [
    "ax = np.arange(16,dtype='int32')\n",
    "ax = ax.reshape([2,2,4])\n",
    "print(ax)\n",
    "print(ax[1,1,2])"
   ]
  },
  {
   "cell_type": "markdown",
   "metadata": {},
   "source": [
    "## A Few Basic Operations \n",
    "---\n",
    "* With NumPy arrays you can perform basic (and more advanced) operations like you would with normal numeric variables \n",
    "* Being able to manipulate arrays as easily as single numbers is a huge strength of NumPy\n",
    "* Boolean operators work ina  similar way to arithmetic ones\n"
   ]
  },
  {
   "cell_type": "code",
   "execution_count": 20,
   "metadata": {},
   "outputs": [
    {
     "name": "stdout",
     "output_type": "stream",
     "text": [
      "[1 2 3 4 5 6 7 8]\n",
      "[ 2  4  6  8 10 12 14 16]\n",
      "[-1  0  1  2  3  4  5  6]\n",
      "[0.5 1.  1.5 2.  2.5 3.  3.5 4. ]\n",
      "[ True  True  True False False False False False]\n"
     ]
    }
   ],
   "source": [
    "print(a)\n",
    "print(a*2)#multiply all elements by 2\n",
    "print(a-2)#subtract 2 from all elements\n",
    "print(a/2)#divide all numbers\n",
    "print(a < 4)#check if all numbers are <4"
   ]
  },
  {
   "cell_type": "markdown",
   "metadata": {},
   "source": [
    "## A Few Basic Operations \n",
    "---\n",
    "* Arrays also have a useful number of methods\n",
    "    * `min` find the minimum \n",
    "    * `sum` sum the numbers \n",
    "    * `mean` take the average \n",
    "    * `std` find the standard deviation "
   ]
  },
  {
   "cell_type": "markdown",
   "metadata": {},
   "source": [
    "## A Few Basic Operations \n",
    "---\n",
    "* In addition there are a large number of built-in array functions \n",
    "    * `np.pi` not an array function, but gives you pi \n",
    "    * `np.degrees` translates radians to degrees \n",
    "    * `np.sin` take the sin of each element in the array \n",
    "    * `np.round` round numbers to a provided number of decimal places "
   ]
  },
  {
   "cell_type": "markdown",
   "metadata": {},
   "source": [
    "## <p style=\"text-align: Center;\">Introduction to Pandas</p>"
   ]
  },
  {
   "cell_type": "markdown",
   "metadata": {},
   "source": [
    "## Introduction to Pandas\n",
    "---\n",
    "* Pandas isa  key element in a data visualization toolchain \n",
    "* Used for both cleaning and exploring data\n",
    "* We will introduce the key concepts and show how Pandas works with existing data "
   ]
  },
  {
   "cell_type": "markdown",
   "metadata": {},
   "source": [
    "## Why Pandas is Tailor-Made for Dataviz \n",
    "---\n",
    "* Pandas is tailor-made to manipulate row-column data tables\n",
    "* This is done through its core datatype, the `DataFrame` \n",
    "    * The `DataFrame` can be thought of as a fast programmatic spreadsheet "
   ]
  },
  {
   "cell_type": "markdown",
   "metadata": {},
   "source": [
    "## Heterogeneous Data and Categorizing Measurements\n",
    "---\n",
    "* Pandas can be used to get data out of common data stores, like CSV files\n",
    "* First though, we will talk about the heterogeneous datasets that Pandas was designed to work with\n",
    "* A visualization likely presents the results of some sort of measurement \n",
    "* Measurements largely fall under two categories:\n",
    "    * numerical\n",
    "    * categorical "
   ]
  },
  {
   "cell_type": "markdown",
   "metadata": {},
   "source": [
    "## Heterogeneous Data and Categorizing Measurements\n",
    "---\n",
    "* Numerical values can be divided into interval and ratio scales\n",
    "* Categorical values can in turn be divided into normal and ordinary measurements \n",
    "* These give four broad categories of observation "
   ]
  },
  {
   "cell_type": "markdown",
   "metadata": {},
   "source": [
    "## Heterogeneous Data and Categorizing Measurements\n",
    "---\n",
    "* Suppose you ahd information about a tweet as JSON data:\n",
    "```\n",
    "    {\n",
    "       \"text\": \"#Python and #JavaScript sitting in a tree...\",\n",
    "        \"id\": 2103303030333004303,\n",
    "        \"favorited\": true,\n",
    "        \"filter_level\":\"medium\",\n",
    "        \"created_at\": \"Wed Mar 23 14:07:43 +0000 2015\",\n",
    "        \"retweet_count\":23,\n",
    "        \"coordinates\":[-97.5, 45.3]\n",
    "    }\n",
    "```"
   ]
  },
  {
   "cell_type": "markdown",
   "metadata": {},
   "source": [
    "## Heterogeneous Data and Categorizing Measurements\n",
    "--- \n",
    "* The `text` and `id` fields are unique identifiers \n",
    "    * text may be categorical information \n",
    "* `favorited` is Boolean categorical information \n",
    "    * This would be nominal, it can be counted but not ordered\n",
    "* `filter_level` is also categorical, but also ordinal\n",
    "    * There is on order low->medium->high \n",
    "* `created_at` is a timestamp, a numerical value on an interval scale \n",
    "    * Tweets could be ordered based on this value, something Pandas can do automatically\n",
    "*  `retweet_count` is also a numerical scale, but a ratio scale\n",
    "    * A ratio scale has a meaningful concept of 0 "
   ]
  },
  {
   "cell_type": "markdown",
   "metadata": {},
   "source": [
    "## Heterogeneous Data and Categorizing Measurements\n",
    "--- \n",
    "* Some data about the tweet contains heterogeneous information \n",
    "* This information covers all the generally accepted divisions of measurements \n",
    "* NumPy arrays are great for homogeneous numerical number crunching\n",
    "* pandas however is designed for categorical data, time series, and items that reflect the heterogeneous nature of the world "
   ]
  },
  {
   "cell_type": "markdown",
   "metadata": {},
   "source": [
    "## The `DataFrame`\n",
    "---\n",
    "* The first step in a Pandas session is to load some data\n",
    "* There are various ways to do so, and data can be loaded from multiple sources \n",
    "* For now we wills tart with some JSON data\n",
    "* You can utilize Pandas' `read_json()` method to get a data frame based on the JSON \n",
    "* By convention `DataFrame` objects' name starts with `df`"
   ]
  },
  {
   "cell_type": "code",
   "execution_count": 5,
   "metadata": {},
   "outputs": [],
   "source": [
    "import pandas as pd \n",
    "df = pd.read_json('151pokemon.json')"
   ]
  },
  {
   "cell_type": "markdown",
   "metadata": {},
   "source": [
    "## The `DataFrame`\n",
    "---\n",
    "* With the `df` in hand we cans ee and work with the contents\n",
    "* A quick way to get the row-column structure of a `DF` is to use the `head` method \n",
    "* The head method shows the first five elements "
   ]
  },
  {
   "cell_type": "code",
   "execution_count": 6,
   "metadata": {},
   "outputs": [
    {
     "data": {
      "text/plain": [
       "<bound method NDFrame.head of      number        name                                       types  \\\n",
       "0         1   Bulbasaur   [{'type1': 'Grass'}, {'type2': 'Poison'}]   \n",
       "1         2     Ivysaur   [{'type1': 'Grass'}, {'type2': 'Poison'}]   \n",
       "2         3    Venusaur   [{'type1': 'Grass'}, {'type2': 'Poison'}]   \n",
       "3         4  Charmander      [{'type1': 'Fire'}, {'type2': 'none'}]   \n",
       "4         5  Charmeleon      [{'type1': 'Fire'}, {'type2': 'none'}]   \n",
       "..      ...         ...                                         ...   \n",
       "146     147     Dratini    [{'type1': 'Dragon'}, {'type2': 'none'}]   \n",
       "147     148   Dragonair    [{'type1': 'Dragon'}, {'type2': 'none'}]   \n",
       "148     149   Dragonite  [{'type1': 'Dragon'}, {'type2': 'Flying'}]   \n",
       "149     150      Mewtwo   [{'type1': 'Psychic'}, {'type2': 'none'}]   \n",
       "150     151         Mew   [{'type1': 'Psychic'}, {'type2': 'none'}]   \n",
       "\n",
       "                                                 stats  \n",
       "0    [{'total': '318'}, {'hp': '45'}, {'attack': '4...  \n",
       "1    [{'total': '405'}, {'hp': '60'}, {'attack': '6...  \n",
       "2    [{'total': '525'}, {'hp': '80'}, {'attack': '8...  \n",
       "3    [{'total': '309'}, {'hp': '39'}, {'attack': '5...  \n",
       "4    [{'total': '405'}, {'hp': '58'}, {'attack': '6...  \n",
       "..                                                 ...  \n",
       "146  [{'total': '300'}, {'hp': '41'}, {'attack': '6...  \n",
       "147  [{'total': '420'}, {'hp': '61'}, {'attack': '8...  \n",
       "148  [{'total': '600'}, {'hp': '91'}, {'attack': '1...  \n",
       "149  [{'total': '680'}, {'hp': '106'}, {'attack': '...  \n",
       "150  [{'total': '600'}, {'hp': '100'}, {'attack': '...  \n",
       "\n",
       "[151 rows x 4 columns]>"
      ]
     },
     "execution_count": 6,
     "metadata": {},
     "output_type": "execute_result"
    }
   ],
   "source": [
    "df.head"
   ]
  },
  {
   "cell_type": "markdown",
   "metadata": {},
   "source": [
    "## Indices\n",
    "---\n",
    "* The `df`'s columns are indexed by the `column` property\n",
    "    * It is a `Pandas` `index` instance \n",
    "    * The columns can be accessed and selected \n",
    "* Initially Pandas `rows` have a single numeric index \n",
    "    * Pandas can handle multiple if needed \n"
   ]
  },
  {
   "cell_type": "code",
   "execution_count": 9,
   "metadata": {},
   "outputs": [
    {
     "data": {
      "text/plain": [
       "Index(['number', 'name', 'types', 'stats'], dtype='object')"
      ]
     },
     "execution_count": 9,
     "metadata": {},
     "output_type": "execute_result"
    }
   ],
   "source": [
    "df.columns"
   ]
  },
  {
   "cell_type": "code",
   "execution_count": 10,
   "metadata": {},
   "outputs": [
    {
     "data": {
      "text/plain": [
       "RangeIndex(start=0, stop=151, step=1)"
      ]
     },
     "execution_count": 10,
     "metadata": {},
     "output_type": "execute_result"
    }
   ],
   "source": [
    "df.index"
   ]
  },
  {
   "cell_type": "markdown",
   "metadata": {},
   "source": [
    "## Indices\n",
    "---\n",
    "* As well as integers, row indices can be:\n",
    "    * Strings\n",
    "    * DatetimeIndices\n",
    "    * PeriodIndices for time based data \n",
    "* To aid selections, a column of `DataFrame` can be set to the index via `set_index`\n",
    "* The `loc` method can be used to select a row by a index label"
   ]
  },
  {
   "cell_type": "code",
   "execution_count": 20,
   "metadata": {},
   "outputs": [
    {
     "data": {
      "text/plain": [
       "number                                                    6\n",
       "types              [{'type1': 'Fire'}, {'type2': 'Flying'}]\n",
       "stats     [{'total': '534'}, {'hp': '78'}, {'attack': '8...\n",
       "Name: Charizard, dtype: object"
      ]
     },
     "execution_count": 20,
     "metadata": {},
     "output_type": "execute_result"
    }
   ],
   "source": [
    "dfx = df.set_index('name')\n",
    "dfx.loc[\"Charizard\"]"
   ]
  },
  {
   "cell_type": "markdown",
   "metadata": {},
   "source": [
    "## Rows and  Columns \n",
    "---\n",
    "* The rows and columns of a `DatFrame` are stored as `Pandas Series`\n",
    "    * A heterogeneous counterpart of NumPy arrays\n",
    "* These are essentially one-dimensional arrays that can contain any datatype \n",
    "* There are two main ways to select a row from the `DataFrame`\n",
    "    * The `loc` method as demonstrated \n",
    "    * The `iloc` method which selects by position"
   ]
  },
  {
   "cell_type": "code",
   "execution_count": 22,
   "metadata": {},
   "outputs": [
    {
     "data": {
      "text/plain": [
       "number                                                    6\n",
       "name                                              Charizard\n",
       "types              [{'type1': 'Fire'}, {'type2': 'Flying'}]\n",
       "stats     [{'total': '534'}, {'hp': '78'}, {'attack': '8...\n",
       "Name: 5, dtype: object"
      ]
     },
     "execution_count": 22,
     "metadata": {},
     "output_type": "execute_result"
    }
   ],
   "source": [
    "df.iloc[5]"
   ]
  },
  {
   "cell_type": "markdown",
   "metadata": {},
   "source": [
    "## Rows and  Columns \n",
    "---\n",
    "* You can grab a column using `DataFrame` dot notation, or the conventional array access via keyword\n",
    "* It will return a Pandas `series` \n",
    "    * With all the column fields and their `DataFrame` indices preserved"
   ]
  },
  {
   "cell_type": "code",
   "execution_count": 24,
   "metadata": {},
   "outputs": [
    {
     "data": {
      "text/plain": [
       "pandas.core.series.Series"
      ]
     },
     "execution_count": 24,
     "metadata": {},
     "output_type": "execute_result"
    }
   ],
   "source": [
    "name_col = df.name \n",
    "type(name_col)"
   ]
  },
  {
   "cell_type": "code",
   "execution_count": 25,
   "metadata": {},
   "outputs": [
    {
     "data": {
      "text/plain": [
       "0       Bulbasaur\n",
       "1         Ivysaur\n",
       "2        Venusaur\n",
       "3      Charmander\n",
       "4      Charmeleon\n",
       "          ...    \n",
       "146       Dratini\n",
       "147     Dragonair\n",
       "148     Dragonite\n",
       "149        Mewtwo\n",
       "150           Mew\n",
       "Name: name, Length: 151, dtype: object"
      ]
     },
     "execution_count": 25,
     "metadata": {},
     "output_type": "execute_result"
    }
   ],
   "source": [
    "name_col"
   ]
  },
  {
   "cell_type": "markdown",
   "metadata": {},
   "source": [
    "## Selecting Groups \n",
    "---\n",
    "* There are various ways to select groups (subset of rows)\n",
    "* This operation will occur on a `DataFrame` and return a filtered `DataFrame`\n",
    "* Often it will be a selection of all columns with a specified column value\n",
    "* One way to accomplish this is utilizing the `groupby` method\n",
    "    * This groups a column (or list  of) \n",
    "* `get_group` method allows you to select the desired group"
   ]
  },
  {
   "cell_type": "markdown",
   "metadata": {},
   "source": [
    "## Creating and Saving DataFrames\n",
    "---\n",
    "* The easiest way to create a `DataFrame` is to use a Python dictionary \n",
    "    * Though it won't often be used \n",
    "    * Typically the data will be read in from a file \n",
    "* The `from_dict` method can be used"
   ]
  },
  {
   "cell_type": "code",
   "execution_count": 26,
   "metadata": {},
   "outputs": [
    {
     "data": {
      "text/html": [
       "<div>\n",
       "<style scoped>\n",
       "    .dataframe tbody tr th:only-of-type {\n",
       "        vertical-align: middle;\n",
       "    }\n",
       "\n",
       "    .dataframe tbody tr th {\n",
       "        vertical-align: top;\n",
       "    }\n",
       "\n",
       "    .dataframe thead th {\n",
       "        text-align: right;\n",
       "    }\n",
       "</style>\n",
       "<table border=\"1\" class=\"dataframe\">\n",
       "  <thead>\n",
       "    <tr style=\"text-align: right;\">\n",
       "      <th></th>\n",
       "      <th>name</th>\n",
       "      <th>category</th>\n",
       "    </tr>\n",
       "  </thead>\n",
       "  <tbody>\n",
       "    <tr>\n",
       "      <th>0</th>\n",
       "      <td>Albert Einstein</td>\n",
       "      <td>Physics</td>\n",
       "    </tr>\n",
       "    <tr>\n",
       "      <th>1</th>\n",
       "      <td>Marie Curie</td>\n",
       "      <td>Chemistry</td>\n",
       "    </tr>\n",
       "    <tr>\n",
       "      <th>2</th>\n",
       "      <td>William Faulkner</td>\n",
       "      <td>Literature</td>\n",
       "    </tr>\n",
       "  </tbody>\n",
       "</table>\n",
       "</div>"
      ],
      "text/plain": [
       "               name    category\n",
       "0   Albert Einstein     Physics\n",
       "1       Marie Curie   Chemistry\n",
       "2  William Faulkner  Literature"
      ]
     },
     "execution_count": 26,
     "metadata": {},
     "output_type": "execute_result"
    }
   ],
   "source": [
    "dfn = pd.DataFrame.from_dict([\n",
    "{'name': 'Albert Einstein', 'category':'Physics'},\n",
    "{'name': 'Marie Curie', 'category':'Chemistry'},\n",
    "{'name': 'William Faulkner', 'category':'Literature'}\n",
    "])\n",
    "\n",
    "dfn"
   ]
  },
  {
   "cell_type": "markdown",
   "metadata": {},
   "source": [
    "## Creating and Saving DataFrames\n",
    "---\n",
    "* Pandas as a large amount of `read_[format]` or `to_[Format]` methods\n",
    "* It covers most data-loading use cases, from CSV to databases \n",
    "* By default Pandas will try to convert the loaded data sensibly"
   ]
  },
  {
   "cell_type": "markdown",
   "metadata": {},
   "source": [
    "## CSV\n",
    "---\n",
    "* Pandas is able to handle CSV files in a sophisticated fashion \n",
    "* conventional CSV files load without issue\n",
    "* There are a lot of different possibilities for the CSV files though that aren't comma separated \n",
    "* Any non-standard can be specified with the `sep` parameter of `pd.read_csv()`"
   ]
  },
  {
   "cell_type": "markdown",
   "metadata": {},
   "source": [
    "## Excel Files\n",
    "---\n",
    "* Pandas uses pythons `xlrd` module to read Excel files \n",
    "* Excel documents have multiple named sheets, each of which can be passed to a `DataFrame`\n",
    "* The `read_excel` method can be used to easily read in a workbook, or sheets\n",
    "    * Sheets can be specified via index or name with the `sheetname` parameter \n",
    "    * By default the first sheet is returned "
   ]
  },
  {
   "cell_type": "markdown",
   "metadata": {},
   "source": [
    "## Series into DataFrames\n",
    "---\n",
    "* The key idea with Pandas `Series` is the index\n",
    "* These indices function as labels for the heterogeneous data\n",
    "* When Pandas operates on more than one data object, these indices are used to align fields \n",
    "* Series can be created in one fo three ways\n",
    "    * From a Python list or NumPy array\n",
    "    * With a Python Dict\n",
    "    * A single scalar value "
   ]
  },
  {
   "cell_type": "code",
   "execution_count": 27,
   "metadata": {},
   "outputs": [
    {
     "data": {
      "text/plain": [
       "0    1\n",
       "1    2\n",
       "2    3\n",
       "3    4\n",
       "dtype: int64"
      ]
     },
     "execution_count": 27,
     "metadata": {},
     "output_type": "execute_result"
    }
   ],
   "source": [
    "s = pd.Series([1,2,3,4]) #automatically assigns int indices \n",
    "s"
   ]
  },
  {
   "cell_type": "code",
   "execution_count": 28,
   "metadata": {},
   "outputs": [
    {
     "data": {
      "text/plain": [
       "a    1\n",
       "b    2\n",
       "c    3\n",
       "d    4\n",
       "dtype: int64"
      ]
     },
     "execution_count": 28,
     "metadata": {},
     "output_type": "execute_result"
    }
   ],
   "source": [
    "# Alternatively can specify indices \n",
    "s = pd.Series([1,2,3,4],index=['a','b','c','d'])\n",
    "s"
   ]
  },
  {
   "cell_type": "code",
   "execution_count": 29,
   "metadata": {},
   "outputs": [
    {
     "data": {
      "text/plain": [
       "a    1\n",
       "b    2\n",
       "c    3\n",
       "dtype: int64"
      ]
     },
     "execution_count": 29,
     "metadata": {},
     "output_type": "execute_result"
    }
   ],
   "source": [
    "# A dict can be used to specify data and indices \n",
    "\n",
    "s = pd.Series({'a':1,'b':2,'c':3})\n",
    "s"
   ]
  },
  {
   "cell_type": "code",
   "execution_count": 30,
   "metadata": {},
   "outputs": [
    {
     "data": {
      "text/plain": [
       "b    9\n",
       "c    9\n",
       "a    9\n",
       "dtype: int64"
      ]
     },
     "execution_count": 30,
     "metadata": {},
     "output_type": "execute_result"
    }
   ],
   "source": [
    "# Finally a scalar can be passed with indices \n",
    "pd.Series(9,{'a','b','c'})"
   ]
  },
  {
   "cell_type": "markdown",
   "metadata": {},
   "source": [
    "## Series into DataFrames\n",
    "---\n",
    "* Slicing operations work as they would in Python `lists` or `ndarrays`\n",
    "    * The labels will be preserved \n",
    "* Creating and manipulating individual series is useful when interacting with NumPy \n",
    "    * Or creating visualizations \n",
    "* Series are the building blocks of `DataFrames` so they can be easily joined together to create a `DataFrame`"
   ]
  }
 ],
 "metadata": {
  "kernelspec": {
   "display_name": "Python 3",
   "language": "python",
   "name": "python3"
  },
  "language_info": {
   "codemirror_mode": {
    "name": "ipython",
    "version": 3
   },
   "file_extension": ".py",
   "mimetype": "text/x-python",
   "name": "python",
   "nbconvert_exporter": "python",
   "pygments_lexer": "ipython3",
   "version": "3.10.12"
  }
 },
 "nbformat": 4,
 "nbformat_minor": 2
}
