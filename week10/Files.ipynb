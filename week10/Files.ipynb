{
 "cells": [
  {
   "cell_type": "markdown",
   "metadata": {},
   "source": [
    "# <p style=\"text-align: Center;\">Files and Exceptions</p>\n",
    "## <p style=\"text-align: Center;\">University of Wyoming COSC 1010</p>\n",
    "### <p style=\"text-align: Center;\">Adapted from: *Python Crash Course 3rd Ed* By Eric Matthes </p>"
   ]
  },
  {
   "cell_type": "markdown",
   "metadata": {},
   "source": [
    "## Files and Exceptions\n",
    "---\n",
    "* Hopefully by now you have a grasp on all of the basics in Python \n",
    "* You should be able to write and organize multi-faceted programs\n",
    "* Now we can move on to more advanced applications, like opening and working with files\n",
    "* this allows programs to quickly have access to and work with lots of data"
   ]
  },
  {
   "cell_type": "markdown",
   "metadata": {},
   "source": [
    "## Files and Exceptions\n",
    "---\n",
    "* In addition we will look at handling errors\n",
    "    * This will allow your program to handle unexpected behavior \n",
    "* In addition we will talk about *exceptions* which are special objects in Python to manage errors"
   ]
  },
  {
   "cell_type": "markdown",
   "metadata": {},
   "source": [
    "## Files and Exceptions\n",
    "---\n",
    "* Working with files and saving data makes programs easier for people to use\n",
    "* It allows people to choose what data to enter and when to enter it\n",
    "* It also introduces persistence to your programs, their state will reflect previous interactions \n",
    "* Handling exceptions allows you to deal with situations when files don't exists, or when your program may crash \n"
   ]
  },
  {
   "cell_type": "markdown",
   "metadata": {},
   "source": [
    "## Reading from a File\n",
    "--- \n",
    "* Text files can contain incredible amounts of data\n",
    "* They could contain data about weather, traffic, literary works, etc \n",
    "* Reading from a  file is particularly useful in data analysis applications \n",
    "* It is applicable for any situation where you amy want to read, write, or analyze the contents of a file\n",
    "* You could write a program that reads in the contents of a text file, adn rewrites the file with formatting to be read by a browser "
   ]
  },
  {
   "cell_type": "markdown",
   "metadata": {},
   "source": [
    "## Reading the Contents of a File\n",
    "---\n",
    "*  We can start with a file that contains the first 30 decimal places of pi \n",
    "    ```\n",
    "    3.1415926535\n",
    "      8979323846\n",
    "      2643383279\n",
    "    ```\n",
    "* We can then write a program that opens the file"
   ]
  },
  {
   "cell_type": "code",
   "execution_count": 1,
   "metadata": {},
   "outputs": [
    {
     "name": "stdout",
     "output_type": "stream",
     "text": [
      "3.1415926535\n",
      "  8979323846\n",
      "  2643383279\n"
     ]
    }
   ],
   "source": [
    "from pathlib import Path \n",
    "\n",
    "path = Path('pi.txt')\n",
    "contents = path.read_text()\n",
    "print(contents)"
   ]
  },
  {
   "cell_type": "markdown",
   "metadata": {},
   "source": [
    "## Reading the Contents of a File\n",
    "---\n",
    "* To work with the contents of a file, we need to tell Python the *path* \n",
    "* A *path* is the exact location of a file or folder ona system\n",
    "* Python includes  a module *pathlib* that makes working with files easy, no matter the OS of the system \n",
    "* A module that provides this kind of functionality is often called a *library*"
   ]
  },
  {
   "cell_type": "markdown",
   "metadata": {},
   "source": [
    "## Reading the Contents of a File\n",
    "---\n",
    "* We started by importing the `Path` class from `pathlib`\n",
    "* There is a lot that can be done with a path object pointing to a file\n",
    "    * You can check if the file exists before trying to work with it\n",
    "    * Read the contents\n",
    "    * Write new data to it\n",
    "    "
   ]
  },
  {
   "cell_type": "markdown",
   "metadata": {},
   "source": [
    "## Reading the Contents of a File\n",
    "---\n",
    "* We built a `Path` object representing the file `pi.txt`\n",
    "* The object is assigned to the variable `path`\n",
    "* The file is saved in the same directory as the Python code, so the file name is all that is needed\n",
    "* With a `Path` object representing the file `.read_text()` can be used to read the contents\n",
    "* The contents are returned as a string, which are then printed "
   ]
  },
  {
   "cell_type": "markdown",
   "metadata": {},
   "source": [
    "## Reading the Contents of a File\n",
    "---\n",
    "* There is a difference when compared to the original file\n",
    "    * It will print an extra blank line when it is output\n",
    "* The blank line appears because `.read_text()` returns an empty string when it reaches the end of the file, displaying as a blank line\n",
    "* This empty string can be removed with `.rstrip()`"
   ]
  },
  {
   "cell_type": "markdown",
   "metadata": {},
   "source": [
    "## Relative and Absolute File Paths\n",
    "---\n",
    "* When you pass a simple file name to `Path`, Python looks in the current directory, where the code is being stored\n",
    "* Sometimes the file you want to open won't be in the same directory\n",
    "* Perhaps you will have a sub directory called `data`\n",
    "* As a result you would no longer be able to pass in just the file name \n",
    "    * As Python won't look in sub directories for the file \n",
    "* To get python to open the file you will need to tell it where the file is stored"
   ]
  },
  {
   "cell_type": "markdown",
   "metadata": {},
   "source": [
    "## Relative and Absolute File Paths\n",
    "---\n",
    "* There are two main ways to specify paths in programming\n",
    "    * *Relative* paths\n",
    "    * *Absolute* paths\n"
   ]
  },
  {
   "cell_type": "markdown",
   "metadata": {},
   "source": [
    "## Relative and Absolute File Paths\n",
    "---\n",
    "* A *relative* path tells Python to look for a given location relative to your current location\n",
    "* If `data` were inside your current directory, a path needs to be built including `data`\n",
    "    * `path = Path('data/pi.txt')`"
   ]
  },
  {
   "cell_type": "markdown",
   "metadata": {},
   "source": [
    "## Relative and Absolute File Paths\n",
    "---\n",
    "* You can also tell python where the file is on your computer regardless of where the program is being executed\n",
    "* This is called teh *absolute* path \n",
    "* An *absolute* path can be used if a relative path doesn't work \n",
    "* Absolute paths start at the root of the file system \n",
    "* using absolute paths you can read files from any location on your system "
   ]
  },
  {
   "cell_type": "markdown",
   "metadata": {},
   "source": [
    "## Accessing a File's Lines\n",
    "--- \n",
    "* When working with a file, often you will want to examine each line of the file\n",
    "* Maybe you;re looking for certain information, or want to modify the text in some fashion\n",
    "* You may want to read through a file of weather data and work with any line that includes the word *sunny*\n",
    "* To look at the lines `.splitlines()` can be used  "
   ]
  },
  {
   "cell_type": "code",
   "execution_count": 6,
   "metadata": {},
   "outputs": [
    {
     "name": "stdout",
     "output_type": "stream",
     "text": [
      "3.1415926535\n",
      "  8979323846\n",
      "  2643383279\n"
     ]
    }
   ],
   "source": [
    "path = Path('pi.txt')\n",
    "contents = path.read_text()\n",
    "\n",
    "lines = contents.splitlines()\n",
    "for line in lines:\n",
    "    print(line)"
   ]
  },
  {
   "cell_type": "markdown",
   "metadata": {},
   "source": [
    "## Accessing a File's Lines\n",
    "--- \n",
    "* That again reads the files contents\n",
    "* It then splits it into a list, based on the lines \n",
    "    * `.splitlines()` returns a list\n",
    "* We can then iterate through the list to print all the lines "
   ]
  },
  {
   "cell_type": "markdown",
   "metadata": {},
   "source": [
    "## Working with a File's Contents \n",
    "--- \n",
    "* After you've read the contents into memory, you can do whatever you want with them \n",
    "* For example, we can join all the digits of pi into a single string \n",
    "    * With no white space in it!"
   ]
  },
  {
   "cell_type": "code",
   "execution_count": 8,
   "metadata": {},
   "outputs": [
    {
     "name": "stdout",
     "output_type": "stream",
     "text": [
      "32\n",
      "3.141592653589793238462643383279\n"
     ]
    }
   ],
   "source": [
    "path = Path('pi.txt')\n",
    "contents = path.read_text()\n",
    "\n",
    "lines = contents.splitlines()\n",
    "pi_string = \"\"\n",
    "for line in lines:\n",
    "    pi_string += line.strip()\n",
    "\n",
    "print(len(pi_string))\n",
    "print(pi_string)"
   ]
  },
  {
   "cell_type": "markdown",
   "metadata": {},
   "source": [
    "## Working with a File's Contents \n",
    "--- \n",
    "* Again the file is read\n",
    "* Rather than printing each line in the file we instead string the whitespace \n",
    "* And append them to a string \n"
   ]
  },
  {
   "cell_type": "markdown",
   "metadata": {},
   "source": [
    "## Large Files\n",
    "---\n",
    "* Our initial file was relatively small\n",
    "* Instead, we can look at a file with Pi to a million decimal places\n",
    "* However, despite the drastically larger file the process is the same\n",
    "* We can turn it into a single string with no breaks\n",
    "* Python has no inherit limits to how much data you can work with\n",
    "* You can handle as much data as your system's memory can handle "
   ]
  },
  {
   "cell_type": "code",
   "execution_count": 11,
   "metadata": {},
   "outputs": [
    {
     "name": "stdout",
     "output_type": "stream",
     "text": [
      "1000002\n",
      "3.14159265358979323846264338327950288419716939937510\n"
     ]
    }
   ],
   "source": [
    "path = Path('pi_million_digits.txt')\n",
    "contents = path.read_text()\n",
    "\n",
    "lines = contents.splitlines()\n",
    "pi_string = \"\"\n",
    "for line in lines:\n",
    "    pi_string += line.strip()\n",
    "\n",
    "print(len(pi_string))\n",
    "print(pi_string[:52])"
   ]
  },
  {
   "cell_type": "markdown",
   "metadata": {},
   "source": [
    "## Is Your Birthday in PI?\n",
    "---\n",
    "* With a million digits there are a lot of possible number combinations\n",
    "* So, a question you could ask is \"Is my birthday in Pi?\"\n",
    "* Well, now with the power of programming we can figure out!\n",
    "* We will need pi as a string\n",
    "* And a date as a string!"
   ]
  },
  {
   "cell_type": "code",
   "execution_count": 12,
   "metadata": {},
   "outputs": [
    {
     "name": "stdout",
     "output_type": "stream",
     "text": [
      "Your birthday is in Pi!\n"
     ]
    }
   ],
   "source": [
    "path = Path('pi_million_digits.txt')\n",
    "contents = path.read_text()\n",
    "\n",
    "lines = contents.splitlines()\n",
    "pi_string = \"\"\n",
    "for line in lines:\n",
    "    pi_string += line.strip()\n",
    "\n",
    "birthday = input(\"Please provide your birthday in mmddyy format\")\n",
    "\n",
    "if birthday in pi_string:\n",
    "    print(\"Your birthday is in Pi!\")\n",
    "else:\n",
    "    print(\"Birthday not found in Pi\")"
   ]
  },
  {
   "cell_type": "markdown",
   "metadata": {},
   "source": [
    "## Writing to a File\n",
    "--- \n",
    "* One of the simplest ways to save data is to write it to a file \n",
    "* When you write text to a file, the output wills till be available after the program stops running \n",
    "* You can examine output after a program finishes running\n",
    "* You can even share the output file with others if you need!\n",
    "* Or, write a program that reads the data back in "
   ]
  },
  {
   "cell_type": "markdown",
   "metadata": {},
   "source": [
    "## Writing a single Line\n",
    "---\n",
    "* Once you have path defined, you can write to a file with `.write_text()`\n",
    "* This works in a similar fashion to how `.read_text()` worked\n",
    "* But, we will need to supply an argument\n",
    "    * What we want to write to the file! \n",
    "* Note, python can only write strings to files"
   ]
  },
  {
   "cell_type": "code",
   "execution_count": 13,
   "metadata": {},
   "outputs": [
    {
     "data": {
      "text/plain": [
       "21"
      ]
     },
     "execution_count": 13,
     "metadata": {},
     "output_type": "execute_result"
    }
   ],
   "source": [
    "path = Path('example.txt')\n",
    "path.write_text('Now we can save data!')"
   ]
  },
  {
   "cell_type": "markdown",
   "metadata": {},
   "source": [
    "## Writing Multiple Lines\n",
    "---\n",
    "* `.write_lines()` does a few things behind the scenes\n",
    "* If the file that `path` points to doesn't exist, it creates the file\n",
    "* After writing the string it also makes sure that the file is properly closed\n",
    "    * This helps avoid files being corrupted if not closed correctly\n",
    "* To write more than one line, a string containing all lines needs to be built\n",
    "* Then `.write_text()` can be called with that string"
   ]
  },
  {
   "cell_type": "code",
   "execution_count": 15,
   "metadata": {},
   "outputs": [
    {
     "data": {
      "text/plain": [
       "437"
      ]
     },
     "execution_count": 15,
     "metadata": {},
     "output_type": "execute_result"
    }
   ],
   "source": [
    "to_write = \"He always sings raggy music to the cattle as he swings back and forward in the saddle, on a horse - a pretty good horse!\\n\"\n",
    "to_write += \"He's got a syncopated gaiter, and you ought to hear the meter to the roar of his repeater; how they run - yes run!\\n\"\n",
    "to_write += \"when they hear that he's 'a-comin', cause the western folks all know, he's a high-falootin', rootin, tootin', son of a gun from ol' Wyoming,\\n\"\n",
    "to_write += \"Ragtime Cowboy, Talk about your Cowboy, Ragtime Cowboy Joe. \"\n",
    "\n",
    "path = Path(\"ragtime.txt\")\n",
    "path.write_text(to_write)"
   ]
  },
  {
   "cell_type": "markdown",
   "metadata": {},
   "source": [
    "## Writing Multiple Lines\n",
    "---\n",
    "* We defined the variable `to_write` that holds all the lines we wish to write out\n",
    "* Then the `+=` operator is used to add the subsequent lines\n",
    "* Each line includes a newline character `\\n` so there will be line breaks in files\n",
    "* Spaces, tabs, blanks, etc can be used to format the string as you want"
   ]
  },
  {
   "cell_type": "markdown",
   "metadata": {},
   "source": [
    "## Exceptions \n",
    "---\n",
    "* Python uses special objects called *exceptions* to manage errors\n",
    "* Whenever an error occurs that make sPython unsure of what to do next, an exception is created\n",
    "* If you write code that handles the exception the program will keep running, rather than crash \n",
    "* IF the exceptions aren't handled the program will stop and a *traceback* will be shown\n"
   ]
  },
  {
   "cell_type": "markdown",
   "metadata": {},
   "source": [
    "## Exceptions\n",
    "--- \n",
    "* Exceptions are handled in *try-except* blocks\n",
    "* A *try-except* block asks Python to do something, but it also tells python what to do if an exception is raised\n",
    "* When using `try-except` blocks your program will continue running even if things go wrong \n",
    "* Instead of tracebacks users would see a message written by you the developer! \n",
    "* To demonstrate let's do something impossible, like dividing by zero!"
   ]
  },
  {
   "cell_type": "markdown",
   "metadata": {},
   "source": [
    "## Handling the ZeroDivisionError Exception\n",
    "---\n",
    "* Dividing by zero is a simple error that would cause Python to raise an exception \n",
    "* It is impossible to divide by zero, so trying to get python to will cause an error"
   ]
  },
  {
   "cell_type": "code",
   "execution_count": 1,
   "metadata": {},
   "outputs": [
    {
     "ename": "ZeroDivisionError",
     "evalue": "division by zero",
     "output_type": "error",
     "traceback": [
      "\u001b[0;31m---------------------------------------------------------------------------\u001b[0m",
      "\u001b[0;31mZeroDivisionError\u001b[0m                         Traceback (most recent call last)",
      "\u001b[0;32m/tmp/ipykernel_25817/1152173066.py\u001b[0m in \u001b[0;36m<module>\u001b[0;34m\u001b[0m\n\u001b[0;32m----> 1\u001b[0;31m \u001b[0mprint\u001b[0m\u001b[0;34m(\u001b[0m\u001b[0;36m5\u001b[0m\u001b[0;34m/\u001b[0m\u001b[0;36m0\u001b[0m\u001b[0;34m)\u001b[0m\u001b[0;34m\u001b[0m\u001b[0;34m\u001b[0m\u001b[0m\n\u001b[0m",
      "\u001b[0;31mZeroDivisionError\u001b[0m: division by zero"
     ]
    }
   ],
   "source": [
    "print(5/0)"
   ]
  },
  {
   "cell_type": "markdown",
   "metadata": {},
   "source": [
    "## Handling the ZeroDivisionError Exception\n",
    "---\n",
    "* AS Python is unable to divide by zero, we get a traceback\n",
    "* `ZeroDivisionError` is an exception object\n",
    "* Python creates this kind of object in response to a situation where it can't do what is asked of it\n",
    "* When this happens Python stops the program and states the exception \n",
    "* This information can be used to modify a program "
   ]
  },
  {
   "cell_type": "markdown",
   "metadata": {},
   "source": [
    "## Using `try-except` Blocks\n",
    "---\n",
    "* At some points in your code you may have areas that are prone to errors \n",
    "* You can use a `try-except` block to handle any exception that may be raised \n",
    "* This is done by telling Python to try to run some code\n",
    "* And what to do if the code results in an error \n",
    "* You can also monitor for specific errors, like `ZeroDivisionError`"
   ]
  },
  {
   "cell_type": "code",
   "execution_count": 2,
   "metadata": {},
   "outputs": [
    {
     "name": "stdout",
     "output_type": "stream",
     "text": [
      "You can't divide by 0!\n"
     ]
    }
   ],
   "source": [
    "try:\n",
    "    print(5/0)\n",
    "except ZeroDivisionError:\n",
    "    print(\"You can't divide by 0!\")"
   ]
  },
  {
   "cell_type": "markdown",
   "metadata": {},
   "source": [
    "## Using `try-except` Blocks\n",
    "---\n",
    "* The `print(5/0)` line is within a try block\n",
    "* If the code in the `try` block works Python skips over the `except`\n",
    "* If the code in the `try` causes an error then Python will look for a matching block and run the code within\n",
    "* Here Python looked for a `ZeroDivisionError` except block\n",
    "    * Python found it, so the coded in that block was run "
   ]
  },
  {
   "cell_type": "markdown",
   "metadata": {},
   "source": [
    "## Using Exceptions to Prevent Crashes\n",
    "---\n",
    "* Handling `errors` correctly is especially important when the program has more work to do after the error\n",
    "* This happens often in programs that prompt users for input\n",
    "* If the input is not properly validated an error could occur, crashing the program \n",
    "* Instead, we can utilize `try-except` blocks to alow programs to gracefully continue\n",
    "* It typically isn't a good idea to let users see tracebacks "
   ]
  },
  {
   "cell_type": "code",
   "execution_count": 6,
   "metadata": {},
   "outputs": [
    {
     "name": "stdout",
     "output_type": "stream",
     "text": [
      "Give me two numbers and I will divide them\n",
      "'q' to quit\n"
     ]
    },
    {
     "ename": "ZeroDivisionError",
     "evalue": "division by zero",
     "output_type": "error",
     "traceback": [
      "\u001b[0;31m---------------------------------------------------------------------------\u001b[0m",
      "\u001b[0;31mZeroDivisionError\u001b[0m                         Traceback (most recent call last)",
      "\u001b[0;32m/tmp/ipykernel_25817/3123755407.py\u001b[0m in \u001b[0;36m<module>\u001b[0;34m\u001b[0m\n\u001b[1;32m      8\u001b[0m     \u001b[0;32mif\u001b[0m \u001b[0msecond_num\u001b[0m \u001b[0;34m==\u001b[0m \u001b[0;34m'q'\u001b[0m\u001b[0;34m:\u001b[0m\u001b[0;34m\u001b[0m\u001b[0;34m\u001b[0m\u001b[0m\n\u001b[1;32m      9\u001b[0m         \u001b[0;32mbreak\u001b[0m\u001b[0;34m\u001b[0m\u001b[0;34m\u001b[0m\u001b[0m\n\u001b[0;32m---> 10\u001b[0;31m     \u001b[0manswer\u001b[0m \u001b[0;34m=\u001b[0m \u001b[0mint\u001b[0m\u001b[0;34m(\u001b[0m\u001b[0mfirst_num\u001b[0m\u001b[0;34m)\u001b[0m\u001b[0;34m/\u001b[0m\u001b[0mint\u001b[0m\u001b[0;34m(\u001b[0m\u001b[0msecond_num\u001b[0m\u001b[0;34m)\u001b[0m\u001b[0;34m\u001b[0m\u001b[0;34m\u001b[0m\u001b[0m\n\u001b[0m\u001b[1;32m     11\u001b[0m     \u001b[0mprint\u001b[0m\u001b[0;34m(\u001b[0m\u001b[0manswer\u001b[0m\u001b[0;34m)\u001b[0m\u001b[0;34m\u001b[0m\u001b[0;34m\u001b[0m\u001b[0m\n",
      "\u001b[0;31mZeroDivisionError\u001b[0m: division by zero"
     ]
    }
   ],
   "source": [
    "print(\"Give me two numbers and I will divide them\\n'q' to quit\")\n",
    "\n",
    "while True:\n",
    "    first_num = input(\"\\nfirst number: \")\n",
    "    if first_num == 'q':\n",
    "        break \n",
    "    second_num = input('second number: ')\n",
    "    if second_num == 'q':\n",
    "        break \n",
    "    answer = int(first_num)/int(second_num)\n",
    "    print(answer)"
   ]
  },
  {
   "cell_type": "markdown",
   "metadata": {},
   "source": [
    "## The `else` Block\n",
    "---\n",
    "* The program can be made more resilient by wrapping the division line in a `try-except`\n",
    "* We can expand it to also include an `else` block\n",
    "* Any code that is dependent on the `try` block executing correctly goes in the `else`\n",
    "* Then it will execute upon successful completion of the `try`"
   ]
  },
  {
   "cell_type": "code",
   "execution_count": 7,
   "metadata": {},
   "outputs": [
    {
     "name": "stdout",
     "output_type": "stream",
     "text": [
      "Give me two numbers and I will divide them\n",
      "'q' to quit\n",
      "Can't divide by zero!\n"
     ]
    }
   ],
   "source": [
    "print(\"Give me two numbers and I will divide them\\n'q' to quit\")\n",
    "\n",
    "while True:\n",
    "    first_num = input(\"\\nfirst number: \")\n",
    "    if first_num == 'q':\n",
    "        break \n",
    "    second_num = input('second number: ')\n",
    "    if second_num == 'q':\n",
    "        break \n",
    "    try:\n",
    "        answer = int(first_num)/int(second_num)\n",
    "    except ZeroDivisionError:\n",
    "        print(\"Can't divide by zero!\")\n",
    "    else:\n",
    "        print(answer)"
   ]
  },
  {
   "cell_type": "markdown",
   "metadata": {},
   "source": [
    "## The `else` Block\n",
    "---\n",
    "* Now Python will again try to do the division\n",
    "    * But, will keep running even if the second number is a zero \n",
    "* Any code that depends on the try block succeeding is added to the `else` block \n",
    "* So, if the division is successful then the answer will print \n",
    "* The `except` block tells python how  to respond when a `ZeroDivisionError` arises"
   ]
  },
  {
   "cell_type": "markdown",
   "metadata": {},
   "source": [
    "## The `else` Block\n",
    "---\n",
    "* The only code that should go in a `try` block is code that may cause an error\n",
    "* Sometimes you may have additional code that should be run only if the `try` block succeeds, which should be in the `else`\n",
    "* By anticipating likely sources of errors you can write robust programs that continue to run even if there is an error\n",
    "* Your code will be resistant to innocent user mistakes and malicious attacks"
   ]
  },
  {
   "cell_type": "markdown",
   "metadata": {},
   "source": [
    "## Handling FileNotFoundError Exceptions\n",
    "---\n",
    "* One common issue when working with files is handling missing files\n",
    "* The file you're looking for might:\n",
    "    * Be in a different location\n",
    "    * The file name may be misspelled\n",
    "    * The file may not exist\n",
    "* All of these can be handled with a single `try-except` block"
   ]
  },
  {
   "cell_type": "code",
   "execution_count": 10,
   "metadata": {},
   "outputs": [
    {
     "ename": "FileNotFoundError",
     "evalue": "[Errno 2] No such file or directory: 'fakefile.nowhere'",
     "output_type": "error",
     "traceback": [
      "\u001b[0;31m---------------------------------------------------------------------------\u001b[0m",
      "\u001b[0;31mFileNotFoundError\u001b[0m                         Traceback (most recent call last)",
      "\u001b[0;32m/tmp/ipykernel_25817/2510817648.py\u001b[0m in \u001b[0;36m<module>\u001b[0;34m\u001b[0m\n\u001b[1;32m      2\u001b[0m \u001b[0;34m\u001b[0m\u001b[0m\n\u001b[1;32m      3\u001b[0m \u001b[0mpath\u001b[0m \u001b[0;34m=\u001b[0m \u001b[0mPath\u001b[0m\u001b[0;34m(\u001b[0m\u001b[0;34m\"fakefile.nowhere\"\u001b[0m\u001b[0;34m)\u001b[0m\u001b[0;34m\u001b[0m\u001b[0;34m\u001b[0m\u001b[0m\n\u001b[0;32m----> 4\u001b[0;31m \u001b[0mcontents\u001b[0m \u001b[0;34m=\u001b[0m \u001b[0mpath\u001b[0m\u001b[0;34m.\u001b[0m\u001b[0mread_text\u001b[0m\u001b[0;34m(\u001b[0m\u001b[0mencoding\u001b[0m\u001b[0;34m=\u001b[0m\u001b[0;34m'utf-8'\u001b[0m\u001b[0;34m)\u001b[0m\u001b[0;34m\u001b[0m\u001b[0;34m\u001b[0m\u001b[0m\n\u001b[0m",
      "\u001b[0;32m/usr/lib/python3.10/pathlib.py\u001b[0m in \u001b[0;36mread_text\u001b[0;34m(self, encoding, errors)\u001b[0m\n\u001b[1;32m   1132\u001b[0m         \"\"\"\n\u001b[1;32m   1133\u001b[0m         \u001b[0mencoding\u001b[0m \u001b[0;34m=\u001b[0m \u001b[0mio\u001b[0m\u001b[0;34m.\u001b[0m\u001b[0mtext_encoding\u001b[0m\u001b[0;34m(\u001b[0m\u001b[0mencoding\u001b[0m\u001b[0;34m)\u001b[0m\u001b[0;34m\u001b[0m\u001b[0;34m\u001b[0m\u001b[0m\n\u001b[0;32m-> 1134\u001b[0;31m         \u001b[0;32mwith\u001b[0m \u001b[0mself\u001b[0m\u001b[0;34m.\u001b[0m\u001b[0mopen\u001b[0m\u001b[0;34m(\u001b[0m\u001b[0mmode\u001b[0m\u001b[0;34m=\u001b[0m\u001b[0;34m'r'\u001b[0m\u001b[0;34m,\u001b[0m \u001b[0mencoding\u001b[0m\u001b[0;34m=\u001b[0m\u001b[0mencoding\u001b[0m\u001b[0;34m,\u001b[0m \u001b[0merrors\u001b[0m\u001b[0;34m=\u001b[0m\u001b[0merrors\u001b[0m\u001b[0;34m)\u001b[0m \u001b[0;32mas\u001b[0m \u001b[0mf\u001b[0m\u001b[0;34m:\u001b[0m\u001b[0;34m\u001b[0m\u001b[0;34m\u001b[0m\u001b[0m\n\u001b[0m\u001b[1;32m   1135\u001b[0m             \u001b[0;32mreturn\u001b[0m \u001b[0mf\u001b[0m\u001b[0;34m.\u001b[0m\u001b[0mread\u001b[0m\u001b[0;34m(\u001b[0m\u001b[0;34m)\u001b[0m\u001b[0;34m\u001b[0m\u001b[0;34m\u001b[0m\u001b[0m\n\u001b[1;32m   1136\u001b[0m \u001b[0;34m\u001b[0m\u001b[0m\n",
      "\u001b[0;32m/usr/lib/python3.10/pathlib.py\u001b[0m in \u001b[0;36mopen\u001b[0;34m(self, mode, buffering, encoding, errors, newline)\u001b[0m\n\u001b[1;32m   1117\u001b[0m         \u001b[0;32mif\u001b[0m \u001b[0;34m\"b\"\u001b[0m \u001b[0;32mnot\u001b[0m \u001b[0;32min\u001b[0m \u001b[0mmode\u001b[0m\u001b[0;34m:\u001b[0m\u001b[0;34m\u001b[0m\u001b[0;34m\u001b[0m\u001b[0m\n\u001b[1;32m   1118\u001b[0m             \u001b[0mencoding\u001b[0m \u001b[0;34m=\u001b[0m \u001b[0mio\u001b[0m\u001b[0;34m.\u001b[0m\u001b[0mtext_encoding\u001b[0m\u001b[0;34m(\u001b[0m\u001b[0mencoding\u001b[0m\u001b[0;34m)\u001b[0m\u001b[0;34m\u001b[0m\u001b[0;34m\u001b[0m\u001b[0m\n\u001b[0;32m-> 1119\u001b[0;31m         return self._accessor.open(self, mode, buffering, encoding, errors,\n\u001b[0m\u001b[1;32m   1120\u001b[0m                                    newline)\n\u001b[1;32m   1121\u001b[0m \u001b[0;34m\u001b[0m\u001b[0m\n",
      "\u001b[0;31mFileNotFoundError\u001b[0m: [Errno 2] No such file or directory: 'fakefile.nowhere'"
     ]
    }
   ],
   "source": [
    "from pathlib import Path\n",
    "\n",
    "path = Path(\"fakefile.nowhere\")\n",
    "contents = path.read_text(encoding='utf-8')"
   ]
  },
  {
   "cell_type": "markdown",
   "metadata": {},
   "source": [
    "## Handling FileNotFoundError Exceptions\n",
    "---\n",
    "* There we tried `.read_text()` which previously worked with no issue\n",
    "* But, now we tried to open a file that doesn't exist\n",
    "* The `encoding` argument is needed when that system's encoding default doesn't match the file\n",
    "* Regardless, Python can't read the file as it doesn't exist \n",
    "    * So, an exception is raised  "
   ]
  },
  {
   "cell_type": "markdown",
   "metadata": {},
   "source": [
    "## Handling FileNotFoundError Exceptions\n",
    "---\n",
    "* The traceback is a longer one than we have seen previously, so we can talk about making sense of longer tracebacks\n",
    "* When presented with a long traceback it is often best to start at the end \n",
    "    * `FileNotFoundError: [Errno 2] No such file or directory: 'fakefile.nowhere'`\n",
    "    * This is the actual error\n",
    "* Earlier in the file shows where the error occurred in the file"
   ]
  },
  {
   "cell_type": "markdown",
   "metadata": {},
   "source": [
    "## Handling FileNotFoundError Exceptions\n",
    "---\n",
    "* To handle the error we can again utilize a `try-except` block\n",
    "    * We know from the traceback the error is `FileNotFoundError`\n",
    "* So the code can be modified to then handle such errors\n",
    "* If the file doesn't exist the program likely doesn't have anything else it needs to do"
   ]
  },
  {
   "cell_type": "code",
   "execution_count": 11,
   "metadata": {},
   "outputs": [
    {
     "name": "stdout",
     "output_type": "stream",
     "text": [
      "uh oh, file not found\n"
     ]
    }
   ],
   "source": [
    "from pathlib import Path\n",
    "\n",
    "path = Path(\"fakefile.nowhere\")\n",
    "try:\n",
    "    contents = path.read_text(encoding='utf-8')\n",
    "except FileNotFoundError:\n",
    "    print(\"uh oh, file not found\")\n",
    "else:\n",
    "    print(contents)"
   ]
  },
  {
   "cell_type": "markdown",
   "metadata": {},
   "source": [
    "## Analyzing Text\n",
    "--- \n",
    "* You can analyze text files that represent entire books\n",
    "    * You can find public domain books on *https://gutenberg.org* \n",
    "    * Project Gutenberg maintains a collection of literary works that are available in the public domain\n",
    "* For this example we can pull in *The Great Gatsby* and calculate the number of words"
   ]
  },
  {
   "cell_type": "code",
   "execution_count": 13,
   "metadata": {},
   "outputs": [
    {
     "name": "stdout",
     "output_type": "stream",
     "text": [
      "The file greatgatsby.txt has about 51225 words\n"
     ]
    }
   ],
   "source": [
    "path = Path(\"greatgatsby.txt\")\n",
    "try:\n",
    "    contents = path.read_text()\n",
    "except FileNotFoundError:\n",
    "    print(f\"Sorry {path} not found\")\n",
    "else:\n",
    "    print(f\"The file {path} has about {len(contents.split())} words\")"
   ]
  },
  {
   "cell_type": "markdown",
   "metadata": {},
   "source": [
    "## Analyzing Text\n",
    "--- \n",
    "* We opened the file `greatgatsby.txt` \n",
    "* We then read all the text into the variable contents\n",
    "* Then we split contents on spaces, and get the length of the resulting array\n",
    "* The count is higher than the book truly has, as Project Gutenberg includes some additional information"
   ]
  },
  {
   "cell_type": "markdown",
   "metadata": {},
   "source": [
    "## Working with Multiple Files\n",
    "---\n",
    "* You could automate this to include multiple books to analyze \n",
    "* Moving the analysis to a function is a good way to start\n",
    "* Then, you can hold a list of file names you with to work with\n",
    "* Looping through the list you could then form a path from each and read as normal"
   ]
  },
  {
   "cell_type": "markdown",
   "metadata": {},
   "source": [
    "## Failing Silently\n",
    "--- \n",
    "* Previously we printed a message when a code block failed\n",
    "* However, we don't have to do so\n",
    "* You don't need to report every exception that you catch \n",
    "* In fact sometimes you will want the program to fail without notification, continuing on as if nothing happened\n",
    "* To do so you would place a `pass`  statement in the except block "
   ]
  },
  {
   "cell_type": "code",
   "execution_count": 14,
   "metadata": {},
   "outputs": [],
   "source": [
    "try:\n",
    "    print(5/0)\n",
    "except:\n",
    "    pass"
   ]
  },
  {
   "cell_type": "markdown",
   "metadata": {},
   "source": [
    "## Failing Silently\n",
    "--- \n",
    "* The pass can also act as a placeholder\n",
    "* It's a reminder that you are explicitly doing nothing in a code block\n",
    "    * But, you may want to do something with it later "
   ]
  },
  {
   "cell_type": "markdown",
   "metadata": {},
   "source": [
    "## Deciding Which Errors to Report\n",
    "---\n",
    "* How do you know which errors are worth reporting?\n",
    "* If a user knows which texts are supposed to be analyzed, then they may appreciate a notification on why some texts weren't \n",
    "* However, if a user expects results but doesn't necessarily know which texts are included they may not need to know which failed\n",
    "* Giving users information they aren't looking for can reduce usability of a program"
   ]
  },
  {
   "cell_type": "markdown",
   "metadata": {},
   "source": []
  }
 ],
 "metadata": {
  "kernelspec": {
   "display_name": "Python 3",
   "language": "python",
   "name": "python3"
  },
  "language_info": {
   "codemirror_mode": {
    "name": "ipython",
    "version": 3
   },
   "file_extension": ".py",
   "mimetype": "text/x-python",
   "name": "python",
   "nbconvert_exporter": "python",
   "pygments_lexer": "ipython3",
   "version": "3.10.12"
  }
 },
 "nbformat": 4,
 "nbformat_minor": 2
}
