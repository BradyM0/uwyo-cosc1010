{
 "cells": [
  {
   "cell_type": "markdown",
   "metadata": {
    "slideshow": {
     "slide_type": "slide"
    }
   },
   "source": [
    "# <p style=\"text-align: Center;\">Introducing Lists</p>\n",
    "## <p style=\"text-align: Center;\">University of Wyoming COSC 1010</p>\n",
    "### <p style=\"text-align: Center;\">Adapted from: *Python Crash Course 3rd Ed* By Eric Matthes </p>"
   ]
  },
  {
   "cell_type": "markdown",
   "metadata": {
    "slideshow": {
     "slide_type": "slide"
    }
   },
   "source": [
    "## <p style=\"text-align: Center;\">Working with Lists</p>"
   ]
  },
  {
   "cell_type": "markdown",
   "metadata": {
    "slideshow": {
     "slide_type": "slide"
    }
   },
   "source": [
    "## Working with Lists\n",
    "---\n",
    "* Last time we saw how to create a simple list\n",
    "* we also learned to work with individual elements in a list\n",
    "* This time we will learn how to loop through an entire list\n",
    "* This can be down with just a few lines of code \n",
    "* *Looping* allows you to take the same action, or set of actions, with every item in a list"
   ]
  },
  {
   "cell_type": "markdown",
   "metadata": {
    "slideshow": {
     "slide_type": "slide"
    }
   },
   "source": [
    "## Looping through an Entire List\n",
    "---\n",
    "* Often you will want to run through a list\n",
    "* Performing the same task on each element \n",
    "* Perhaps you want to sum all the numbers in a list manually\n",
    "* Or display all titles from a list of headlines"
   ]
  },
  {
   "cell_type": "markdown",
   "metadata": {
    "slideshow": {
     "slide_type": "slide"
    }
   },
   "source": [
    "## Looping Through an Entire List\n",
    "---\n",
    "* When you want to do the same action for every item, you can use a `for` loop\n",
    "* Suppose we had our list of cities from last time\n",
    "* And this time you want to go through and print each city individually\n",
    "* Sure the list is small, we could do it manually by every index\n",
    "* But that is repetitive and tedious "
   ]
  },
  {
   "cell_type": "code",
   "execution_count": 1,
   "metadata": {
    "slideshow": {
     "slide_type": "slide"
    }
   },
   "outputs": [
    {
     "name": "stdout",
     "output_type": "stream",
     "text": [
      "Laramie\n",
      "Casper\n",
      "Jackson Hole\n",
      "Cheyenne\n"
     ]
    }
   ],
   "source": [
    "cities = [\"Laramie\",\"Casper\",\"Jackson Hole\",\"Cheyenne\"]\n",
    "print(cities[0])\n",
    "print(cities[1])\n",
    "print(cities[2])\n",
    "print(cities[3])"
   ]
  },
  {
   "cell_type": "markdown",
   "metadata": {
    "slideshow": {
     "slide_type": "slide"
    }
   },
   "source": [
    "## Looping Through an Entire List\n",
    "---\n",
    "* There is a better way to do this\n",
    "* Using a `for` loop avoids both the tedium and repetition \n",
    "* It also works for long lists where doing it manually isn't an option \n",
    "* Let's take a look at using a `for` loop"
   ]
  },
  {
   "cell_type": "code",
   "execution_count": 2,
   "metadata": {
    "slideshow": {
     "slide_type": "slide"
    }
   },
   "outputs": [
    {
     "name": "stdout",
     "output_type": "stream",
     "text": [
      "Laramie\n",
      "Casper\n",
      "Jackson Hole\n",
      "Cheyenne\n"
     ]
    }
   ],
   "source": [
    "cities = [\"Laramie\",\"Casper\",\"Jackson Hole\",\"Cheyenne\"]\n",
    "\n",
    "for city in cities: \n",
    "    print(city)"
   ]
  },
  {
   "cell_type": "markdown",
   "metadata": {
    "slideshow": {
     "slide_type": "slide"
    }
   },
   "source": [
    "## Looping Through an Entire List\n",
    "---\n",
    "* That code section starts by declaring a list as we saw last time \n",
    "* Then it defines a `for` loop \n",
    "* The for loop is of the form **`for` *noun* `in` *list name*`:`**\n",
    "* Recall lists are pluralized. the noun used is typically the singular version of the list name"
   ]
  },
  {
   "cell_type": "markdown",
   "metadata": {
    "slideshow": {
     "slide_type": "slide"
    }
   },
   "source": [
    "## Looping Through an Entire List\n",
    "---\n",
    "* Python repeats the code inside the loop as many times aas needed\n",
    "* Note the *indentation* in the code\n",
    "* Code indented under the `for city in cities:` line is the code executed during the loop"
   ]
  },
  {
   "cell_type": "markdown",
   "metadata": {
    "slideshow": {
     "slide_type": "slide"
    }
   },
   "source": [
    "## A Closer Look at Looping \n",
    "---\n",
    "* Looping is one of the most common wats a computer automates repetitive tasks\n",
    "* In the loop above we used it to print the city names\n",
    "* The line `for city in cities:` tells python to take the first value in the list and then associate it with the variable city\n",
    "* Each iteration through it re-associates city with the next value stored\n",
    "* Until it reaches the end of the List"
   ]
  },
  {
   "cell_type": "markdown",
   "metadata": {
    "slideshow": {
     "slide_type": "slide"
    }
   },
   "source": [
    "## A Closer Look at Looping \n",
    "---\n",
    "* When you're using loops for the first time remember the set of steps is repeated for each item \n",
    "* This means if you have millions of items in the list python will run through the loop millions of times\n",
    "* Also remember when writing loops you can choose any variable name you want \n",
    "* It is helpful to select something meaningful for the individual item \n",
    "* Single adn plur names help you identify where you are"
   ]
  },
  {
   "cell_type": "markdown",
   "metadata": {
    "slideshow": {
     "slide_type": "slide"
    }
   },
   "source": [
    "## Doing More Work Within an for Loop\n",
    "---\n",
    "* You can do just about anything for each item in a loop\n",
    "* We can build on the previous example by printing a message for each city\n",
    "* Let's say that each is a city in Wyoming "
   ]
  },
  {
   "cell_type": "code",
   "execution_count": 1,
   "metadata": {
    "slideshow": {
     "slide_type": "slide"
    }
   },
   "outputs": [
    {
     "name": "stdout",
     "output_type": "stream",
     "text": [
      "Laramie is a city in Wyoming!\n",
      "Casper is a city in Wyoming!\n",
      "Jackson Hole is a city in Wyoming!\n",
      "Cheyenne is a city in Wyoming!\n"
     ]
    }
   ],
   "source": [
    "cities = [\"Laramie\",\"Casper\",\"Jackson Hole\",\"Cheyenne\"]\n",
    "\n",
    "for city in cities: \n",
    "    print(f\"{city} is a city in Wyoming!\")"
   ]
  },
  {
   "cell_type": "markdown",
   "metadata": {
    "slideshow": {
     "slide_type": "slide"
    }
   },
   "source": [
    "## Doing More Work Within an for Loop\n",
    "---\n",
    "* The difference from the previous loop is out inclusion of the *f-string* \n",
    "* You can write as many lines as you want in a loop\n",
    "* Every indented line following the line `for city in cities` is part of the loop\n",
    "* Each indented line is executed once for each item in the list\n"
   ]
  },
  {
   "cell_type": "markdown",
   "metadata": {
    "slideshow": {
     "slide_type": "slide"
    }
   },
   "source": [
    "## Doing More Work Within an for Loop\n",
    "---\n",
    "* You can do as much or as little work on an item as you want\n",
    "* In practice it is often helpful to do a lot of work on items\n",
    "* So don't be afraid to do as much work as you need/want"
   ]
  },
  {
   "cell_type": "markdown",
   "metadata": {
    "slideshow": {
     "slide_type": "slide"
    }
   },
   "source": [
    "## Doing Something *After* a for Loop\n",
    "---\n",
    "* What happens once a loop has finished executing?\n",
    "* Usually you want to summarize a block of output or more on to more work\n",
    "* Any lines of code after the `for` loop that aren't indented will be executed \n",
    "* For example after out cities print we can do a final message"
   ]
  },
  {
   "cell_type": "code",
   "execution_count": 2,
   "metadata": {
    "slideshow": {
     "slide_type": "slide"
    }
   },
   "outputs": [
    {
     "name": "stdout",
     "output_type": "stream",
     "text": [
      "Laramie is a city in Wyoming!\n",
      "Casper is a city in Wyoming!\n",
      "Jackson Hole is a city in Wyoming!\n",
      "Cheyenne is a city in Wyoming!\n",
      "Which one is your favorite?\n"
     ]
    }
   ],
   "source": [
    "cities = [\"Laramie\",\"Casper\",\"Jackson Hole\",\"Cheyenne\"]\n",
    "\n",
    "for city in cities: \n",
    "    print(f\"{city} is a city in Wyoming!\")\n",
    "print(\"Which one is your favorite?\")"
   ]
  },
  {
   "cell_type": "markdown",
   "metadata": {
    "slideshow": {
     "slide_type": "slide"
    }
   },
   "source": [
    "## Doing Something *After* a for Loop\n",
    "---\n",
    "* When processing data using a `for` loop , adding a print after is a good way to summarize\n",
    "* It also helps to signify that all the data has been gone through\n",
    "* For example, if you're setting up a game ou can see that all the characters have been initialized \n",
    "* You might then write some additional code after the loop to display a `play now` button"
   ]
  },
  {
   "cell_type": "markdown",
   "metadata": {
    "slideshow": {
     "slide_type": "slide"
    }
   },
   "source": [
    "## Avoiding Indentation Errors\n",
    "---\n",
    "* Python uses indentation to determine how a line, or a group of lines, is related to the rest of the program\n",
    "* The earlier print line was part of the loop because it was *indented* \n",
    "* Python's use of indentation makes code easy to read \n",
    "* It uses whitespace to force you to write neatly formatted code \n",
    "* This code has a clear visual structure "
   ]
  },
  {
   "cell_type": "markdown",
   "metadata": {
    "slideshow": {
     "slide_type": "slide"
    }
   },
   "source": [
    "## Avoiding Indentation Errors\n",
    "---\n",
    "* In longer programs there may several layers of indentation \n",
    "* These indentation levels help gain a sense of program organization \n",
    "* As you begin to write code that relies on proper indentation there are some errors that may arise \n",
    "* Maybe over indenting, maybe forgetting to indent "
   ]
  },
  {
   "cell_type": "markdown",
   "metadata": {
    "slideshow": {
     "slide_type": "slide"
    }
   },
   "source": [
    "## Forgetting to Indent\n",
    "---\n",
    "* When writing a for loop you **always** need to indent the next line\n",
    "* Failing to do so will result in an error \n"
   ]
  },
  {
   "cell_type": "code",
   "execution_count": 1,
   "metadata": {
    "slideshow": {
     "slide_type": "slide"
    }
   },
   "outputs": [
    {
     "ename": "IndentationError",
     "evalue": "expected an indented block after 'for' statement on line 3 (3736988856.py, line 4)",
     "output_type": "error",
     "traceback": [
      "\u001b[0;36m  File \u001b[0;32m\"/tmp/ipykernel_1264/3736988856.py\"\u001b[0;36m, line \u001b[0;32m4\u001b[0m\n\u001b[0;31m    print(f\"{city} is a city in Wyoming!\")\u001b[0m\n\u001b[0m    ^\u001b[0m\n\u001b[0;31mIndentationError\u001b[0m\u001b[0;31m:\u001b[0m expected an indented block after 'for' statement on line 3\n"
     ]
    }
   ],
   "source": [
    "cities = [\"Laramie\",\"Casper\",\"Jackson Hole\",\"Cheyenne\"]\n",
    "\n",
    "for city in cities: \n",
    "print(f\"{city} is a city in Wyoming!\")"
   ]
  },
  {
   "cell_type": "markdown",
   "metadata": {
    "slideshow": {
     "slide_type": "slide"
    }
   },
   "source": [
    "## Forgetting to Indent\n",
    "---\n",
    "* In that code snippet we *forgot* to indent the print statement \n",
    "* As a result python gives us an *indentation error* \n",
    "* This errors are typically easily resolved, by going back and indenting what is needed"
   ]
  },
  {
   "cell_type": "markdown",
   "metadata": {
    "slideshow": {
     "slide_type": "slide"
    }
   },
   "source": [
    "## Forgetting to Indent Additional Lines\n",
    "---\n",
    "* Sometimes your loop will run without errors\n",
    "    * But still won't produce the desired result \n",
    "* This can happen when you want to have several tasks happen within the loop\n",
    "    * But fail to indent all but the first line "
   ]
  },
  {
   "cell_type": "code",
   "execution_count": 2,
   "metadata": {
    "slideshow": {
     "slide_type": "slide"
    }
   },
   "outputs": [
    {
     "name": "stdout",
     "output_type": "stream",
     "text": [
      "Laramie is a city in Wyoming!\n",
      "Casper is a city in Wyoming!\n",
      "Jackson Hole is a city in Wyoming!\n",
      "Cheyenne is a city in Wyoming!\n",
      "Cheyenne is neat!\n"
     ]
    }
   ],
   "source": [
    "cities = [\"Laramie\",\"Casper\",\"Jackson Hole\",\"Cheyenne\"]\n",
    "\n",
    "for city in cities: \n",
    "    print(f\"{city} is a city in Wyoming!\")\n",
    "print(f\"{city} is neat!\")"
   ]
  },
  {
   "cell_type": "markdown",
   "metadata": {
    "slideshow": {
     "slide_type": "slide"
    }
   },
   "source": [
    "## Forgetting to Indent Additional Lines\n",
    "---\n",
    "* That second print call is supposed to be indented and executed for every city\n",
    "* However, as it isn't indented it only prints for the final city in the loop, after the loop finishes\n",
    "* This is a logical error, the syntax is valid but the code doesn't produce the desired result \n",
    "* If you expect something to be executed for every item, but is only executed for one it may be an indentation error"
   ]
  },
  {
   "cell_type": "markdown",
   "metadata": {
    "slideshow": {
     "slide_type": "slide"
    }
   },
   "source": [
    "## Indenting Unnecessarily \n",
    "---\n",
    "* If you accidentally indent a line that doesn't need to be indented Python also gives an error \n"
   ]
  },
  {
   "cell_type": "code",
   "execution_count": 3,
   "metadata": {
    "slideshow": {
     "slide_type": "slide"
    }
   },
   "outputs": [
    {
     "ename": "IndentationError",
     "evalue": "unexpected indent (730423226.py, line 2)",
     "output_type": "error",
     "traceback": [
      "\u001b[0;36m  File \u001b[0;32m\"/tmp/ipykernel_1264/730423226.py\"\u001b[0;36m, line \u001b[0;32m2\u001b[0m\n\u001b[0;31m    print(message)\u001b[0m\n\u001b[0m    ^\u001b[0m\n\u001b[0;31mIndentationError\u001b[0m\u001b[0;31m:\u001b[0m unexpected indent\n"
     ]
    }
   ],
   "source": [
    "message = \"Hello Class!\"\n",
    "    print(message)"
   ]
  },
  {
   "cell_type": "markdown",
   "metadata": {
    "slideshow": {
     "slide_type": "slide"
    }
   },
   "source": [
    "## Indenting Unnecessarily \n",
    "---\n",
    "* In the previous code the `print()` isn't part of a sub-block of code\n",
    "* As a result it shouldn't (and can't) be indented \n",
    "* You can avoid unexpected indentation errors by indenting only when you have specific reason to\n",
    "* In the programs you write at this stage, the only lines that should be indented are the ones for loops "
   ]
  },
  {
   "cell_type": "markdown",
   "metadata": {
    "slideshow": {
     "slide_type": "slide"
    }
   },
   "source": [
    "## Indenting Unnecessarily After a Loop\n",
    "---\n",
    "* Much like you can fail to indent code meant to be in a loop\n",
    "* You can also accidentally indent code that should occur after a loop \n",
    "* This is another instance of a logical error\n",
    "* Often the code will run, but not with the anticipated output"
   ]
  },
  {
   "cell_type": "code",
   "execution_count": 4,
   "metadata": {
    "slideshow": {
     "slide_type": "slide"
    }
   },
   "outputs": [
    {
     "name": "stdout",
     "output_type": "stream",
     "text": [
      "Laramie is a city in Wyoming!\n",
      "What is your favorite Wyoming city?\n",
      "Casper is a city in Wyoming!\n",
      "What is your favorite Wyoming city?\n",
      "Jackson Hole is a city in Wyoming!\n",
      "What is your favorite Wyoming city?\n",
      "Cheyenne is a city in Wyoming!\n",
      "What is your favorite Wyoming city?\n"
     ]
    }
   ],
   "source": [
    "cities = [\"Laramie\",\"Casper\",\"Jackson Hole\",\"Cheyenne\"]\n",
    "\n",
    "for city in cities: \n",
    "    print(f\"{city} is a city in Wyoming!\")\n",
    "\n",
    "    print(f\"What is your favorite Wyoming city?\")"
   ]
  },
  {
   "cell_type": "markdown",
   "metadata": {
    "slideshow": {
     "slide_type": "slide"
    }
   },
   "source": [
    "## Forgetting the Colon\n",
    "---\n",
    "* The colon at the end of a `for` loop line is important\n",
    "* It tells python to start interpreting the next line(s) as part of the loop\n",
    "* If you forget the colon you will get an error "
   ]
  },
  {
   "cell_type": "code",
   "execution_count": 5,
   "metadata": {
    "slideshow": {
     "slide_type": "slide"
    }
   },
   "outputs": [
    {
     "ename": "SyntaxError",
     "evalue": "expected ':' (1029366817.py, line 3)",
     "output_type": "error",
     "traceback": [
      "\u001b[0;36m  File \u001b[0;32m\"/tmp/ipykernel_1264/1029366817.py\"\u001b[0;36m, line \u001b[0;32m3\u001b[0m\n\u001b[0;31m    for city in cities\u001b[0m\n\u001b[0m                       ^\u001b[0m\n\u001b[0;31mSyntaxError\u001b[0m\u001b[0;31m:\u001b[0m expected ':'\n"
     ]
    }
   ],
   "source": [
    "cities = [\"Laramie\",\"Casper\",\"Jackson Hole\",\"Cheyenne\"]\n",
    "\n",
    "for city in cities \n",
    "    print(f\"{city} is a city in Wyoming!\")"
   ]
  },
  {
   "cell_type": "markdown",
   "metadata": {
    "slideshow": {
     "slide_type": "slide"
    }
   },
   "source": [
    "## Forgetting the Colon\n",
    "---\n",
    "* Without the colon Python isn't sure what you're trying to do\n",
    "* It may think you were writing more code for a more complex loop\n",
    "* If the interpreter can find a possible fix it will suggest one \n",
    "* Some errors are easy and obvious, others aren't "
   ]
  },
  {
   "cell_type": "markdown",
   "metadata": {
    "slideshow": {
     "slide_type": "slide"
    }
   },
   "source": [
    "## Making Numerical Lists\n",
    "--- \n",
    "* Many reasons exist to store a set of numbers\n",
    "* Fore example, keeping track of images in a grid \n",
    "* In data visualization you'll almost always work with sets of numbers\n",
    "    * Temperatures\n",
    "    * Distances\n",
    "    * Population sizes\n",
    "    * Latitude and Longitude"
   ]
  },
  {
   "cell_type": "markdown",
   "metadata": {
    "slideshow": {
     "slide_type": "slide"
    }
   },
   "source": [
    "## Making Numerical Lists\n",
    "--- \n",
    "* Lists are ideal for storing sets of numbers \n",
    "* Python provides a variety of tools to help you work efficiently with lists and numbers\n",
    "* Once you understand these tools your code will work well even with lists containing millions of items"
   ]
  },
  {
   "cell_type": "markdown",
   "metadata": {
    "slideshow": {
     "slide_type": "slide"
    }
   },
   "source": [
    "## Using the `range()` Function\n",
    "---\n",
    "* Python's `range()` function makes it easy to generate a series of numbers\n",
    "* `range()` can be used to print a series of numbers \n",
    "* Among other uses"
   ]
  },
  {
   "cell_type": "code",
   "execution_count": 6,
   "metadata": {
    "slideshow": {
     "slide_type": "slide"
    }
   },
   "outputs": [
    {
     "name": "stdout",
     "output_type": "stream",
     "text": [
      "1\n",
      "2\n",
      "3\n",
      "4\n"
     ]
    }
   ],
   "source": [
    "for value in range(1,5):\n",
    "    print(value)"
   ]
  },
  {
   "cell_type": "markdown",
   "metadata": {
    "slideshow": {
     "slide_type": "slide"
    }
   },
   "source": [
    "## Using the `range()` Function\n",
    "---\n",
    "* Note the code in the previous snippet looks like it should print `1, 2, 3, 4, 5`\n",
    "* However, it only prints `1-4`\n",
    "* This is a result of the *off-by-one* nature of a lot of programming\n",
    "* The `range()` function starts at the lower bound given and stops when it reaches the upper\n",
    "* As it reaches the upper bound before the inner code runs, it is not included \n",
    "I If your output is different that expected when using `range()` try checking your bounds "
   ]
  },
  {
   "cell_type": "markdown",
   "metadata": {
    "slideshow": {
     "slide_type": "slide"
    }
   },
   "source": [
    "## Using `range()` to Make a List of Numbers\n",
    "---\n",
    "* If you want to make a list of numbers you can convert the results of `range()`\n",
    "* They can be directly converted into a list with the `list()` function \n",
    "* When you wrap `list()` around a call to the `range()` function it will output a list of numbers"
   ]
  },
  {
   "cell_type": "code",
   "execution_count": 7,
   "metadata": {
    "slideshow": {
     "slide_type": "slide"
    }
   },
   "outputs": [
    {
     "name": "stdout",
     "output_type": "stream",
     "text": [
      "[1, 2, 3, 4, 5]\n"
     ]
    }
   ],
   "source": [
    "numbers = list(range(1,6))\n",
    "print(numbers)"
   ]
  },
  {
   "cell_type": "markdown",
   "metadata": {
    "slideshow": {
     "slide_type": "slide"
    }
   },
   "source": [
    "## Using `range()` to Make a List of Numbers\n",
    "---\n",
    "* We can also tell `range()` to skip numbers \n",
    "* If you give a third argument to `range()` Python uses that value as a step size \n",
    "* You can use this to do things like generating lists of even (or odd) numbers"
   ]
  },
  {
   "cell_type": "code",
   "execution_count": 8,
   "metadata": {
    "slideshow": {
     "slide_type": "slide"
    }
   },
   "outputs": [
    {
     "name": "stdout",
     "output_type": "stream",
     "text": [
      "[2, 4, 6, 8, 10]\n"
     ]
    }
   ],
   "source": [
    "even_numbers = list(range(2, 11, 2))\n",
    "\n",
    "print(even_numbers)"
   ]
  },
  {
   "cell_type": "markdown",
   "metadata": {
    "slideshow": {
     "slide_type": "slide"
    }
   },
   "source": [
    "## Using `range()` to Make a List of Numbers\n",
    "---\n",
    "* In that code snippet the function starts with 2 \n",
    "* It then adds two at every increment \n",
    "* It does so until it reaches the end of the range "
   ]
  },
  {
   "cell_type": "markdown",
   "metadata": {
    "slideshow": {
     "slide_type": "slide"
    }
   },
   "source": [
    "## Using `range()` to Make a List of Numbers\n",
    "---\n",
    "* You can create almost any set of numbers using `range()`\n",
    "* Suppose you want to create a list of the first 10 square numbers\n",
    "* We know how to make a list \n",
    "* We know how to square numbers\n",
    "* We know how to set a range "
   ]
  },
  {
   "cell_type": "code",
   "execution_count": 9,
   "metadata": {
    "slideshow": {
     "slide_type": "slide"
    }
   },
   "outputs": [
    {
     "name": "stdout",
     "output_type": "stream",
     "text": [
      "[1, 4, 9, 16, 25, 36, 49, 64, 81, 100]\n"
     ]
    }
   ],
   "source": [
    "squares = [] \n",
    "for value in range(1,11):\n",
    "    square = value ** 2 \n",
    "    squares.append(square)\n",
    "print(squares)"
   ]
  },
  {
   "cell_type": "markdown",
   "metadata": {
    "slideshow": {
     "slide_type": "slide"
    }
   },
   "source": [
    "## Using `range()` to Make a List of Numbers\n",
    "---\n",
    "* We started with an empty list of called `squares`\n",
    "* Then we tell Python to loop through the first 10 numbers\n",
    "    * The first 10 squares logically must be part of the squares of 1-10\n",
    "* Inside the loop we range our current `value` to the power of two \n",
    "* We add our squared number to our `squares` list"
   ]
  },
  {
   "cell_type": "markdown",
   "metadata": {
    "slideshow": {
     "slide_type": "slide"
    }
   },
   "source": [
    "## Simple Statistics with a List of Numbers\n",
    "---\n",
    "* A few python functions are helpful when working with a list of numbers\n",
    "* For example, it is easy to find the:\n",
    "    * Minimum `min()`\n",
    "    * Maximum `max()`\n",
    "    * Sum `sum()`"
   ]
  },
  {
   "cell_type": "code",
   "execution_count": 11,
   "metadata": {
    "slideshow": {
     "slide_type": "slide"
    }
   },
   "outputs": [
    {
     "name": "stdout",
     "output_type": "stream",
     "text": [
      "1\n",
      "9\n",
      "45\n"
     ]
    }
   ],
   "source": [
    "digits = list(range(1,10)) \n",
    "print(min(digits))\n",
    "print(max(digits))\n",
    "print(sum(digits))"
   ]
  },
  {
   "cell_type": "markdown",
   "metadata": {
    "slideshow": {
     "slide_type": "slide"
    }
   },
   "source": [
    "# List Comprehensions \n",
    "---\n",
    "* The approach described early for generating squares required three or four lines of code \n",
    "* A *list comprehension* allows you to generate the same list in only a line of code\n",
    "* A *list comprehension* combines the `for` loop and the creation of elements \n",
    "* These are a more *advanced* level of python\n"
   ]
  },
  {
   "cell_type": "code",
   "execution_count": 12,
   "metadata": {
    "slideshow": {
     "slide_type": "slide"
    }
   },
   "outputs": [
    {
     "name": "stdout",
     "output_type": "stream",
     "text": [
      "[1, 4, 9, 16, 25, 36, 49, 64, 81, 100]\n"
     ]
    }
   ],
   "source": [
    "squares = [value**2 for value in range(1, 11)]\n",
    "print(squares)"
   ]
  },
  {
   "cell_type": "markdown",
   "metadata": {
    "slideshow": {
     "slide_type": "slide"
    }
   },
   "source": [
    "# List Comprehensions \n",
    "---\n",
    "* To use this syntax you must first begin with a descriptive name for a list\n",
    "* Next, you open a set of square brackets\n",
    "* within those brackets you define the expression for the values you want to store\n",
    "* Here the expression is `value**2`\n",
    "* Then the loop is written, still within brackets "
   ]
  },
  {
   "cell_type": "markdown",
   "metadata": {
    "slideshow": {
     "slide_type": "slide"
    }
   },
   "source": [
    "# List Comprehensions \n",
    "---\n",
    "* The for loop in this example is `for value in range(1,11)`\n",
    "* this feeds the values 1 through 10 into the expression `value**2`\n",
    "* Notice, there was no colon after this `for` loop\n",
    "* the result was the same as having the assignment within the loop codeblock "
   ]
  },
  {
   "cell_type": "markdown",
   "metadata": {
    "slideshow": {
     "slide_type": "slide"
    }
   },
   "source": [
    "## Working with Part of a list\n",
    "* In our initial list lecture we learned how to access an individual item in a list\n",
    "* Now we've been working our way through all elements of a list\n",
    "* In python you can also work with a specific group of items in a  list called a *slice* "
   ]
  },
  {
   "cell_type": "markdown",
   "metadata": {
    "slideshow": {
     "slide_type": "slide"
    }
   },
   "source": [
    "## Slicing a List\n",
    "---\n",
    "* To make a slice, you specify the index of the first and last elements you want to work with\n",
    "* As with the `range()` function, python stops one item before the upper bound \n",
    "* So, to get the first three items in a list you would request indices 0 through 3\n",
    "* this would return elements 0,1,2 "
   ]
  },
  {
   "cell_type": "code",
   "execution_count": 13,
   "metadata": {
    "slideshow": {
     "slide_type": "slide"
    }
   },
   "outputs": [
    {
     "name": "stdout",
     "output_type": "stream",
     "text": [
      "['Alabama', 'Alaska', 'Arizona']\n"
     ]
    }
   ],
   "source": [
    "states = [\n",
    "    \"Alabama\", \"Alaska\", \"Arizona\", \"Arkansas\", \"California\",\n",
    "    \"Colorado\", \"Connecticut\", \"Delaware\", \"Florida\", \"Georgia\",\n",
    "    \"Hawaii\", \"Idaho\", \"Illinois\", \"Indiana\", \"Iowa\",\n",
    "    \"Kansas\", \"Kentucky\", \"Louisiana\", \"Maine\", \"Maryland\",\n",
    "    \"Massachusetts\", \"Michigan\", \"Minnesota\", \"Mississippi\", \"Missouri\",\n",
    "    \"Montana\", \"Nebraska\", \"Nevada\", \"New Hampshire\", \"New Jersey\",\n",
    "    \"New Mexico\", \"New York\", \"North Carolina\", \"North Dakota\", \"Ohio\",\n",
    "    \"Oklahoma\", \"Oregon\", \"Pennsylvania\", \"Rhode Island\", \"South Carolina\",\n",
    "    \"South Dakota\", \"Tennessee\", \"Texas\", \"Utah\", \"Vermont\",\n",
    "    \"Virginia\", \"Washington\", \"West Virginia\", \"Wisconsin\", \"Wyoming\"\n",
    "]\n",
    "\n",
    "print(states[0:3])"
   ]
  },
  {
   "cell_type": "markdown",
   "metadata": {
    "slideshow": {
     "slide_type": "slide"
    }
   },
   "source": [
    "## Slicing a List\n",
    "---\n",
    "* The previous code prints the first three US states \n",
    "* The output retains the structure of a list \n",
    "* Any subset can be generated, so you can take elements from the center as well as the ends"
   ]
  },
  {
   "cell_type": "code",
   "execution_count": 14,
   "metadata": {
    "slideshow": {
     "slide_type": "slide"
    }
   },
   "outputs": [
    {
     "name": "stdout",
     "output_type": "stream",
     "text": [
      "['Nevada', 'New Hampshire', 'New Jersey', 'New Mexico']\n"
     ]
    }
   ],
   "source": [
    "states = [\n",
    "    \"Alabama\", \"Alaska\", \"Arizona\", \"Arkansas\", \"California\",\n",
    "    \"Colorado\", \"Connecticut\", \"Delaware\", \"Florida\", \"Georgia\",\n",
    "    \"Hawaii\", \"Idaho\", \"Illinois\", \"Indiana\", \"Iowa\",\n",
    "    \"Kansas\", \"Kentucky\", \"Louisiana\", \"Maine\", \"Maryland\",\n",
    "    \"Massachusetts\", \"Michigan\", \"Minnesota\", \"Mississippi\", \"Missouri\",\n",
    "    \"Montana\", \"Nebraska\", \"Nevada\", \"New Hampshire\", \"New Jersey\",\n",
    "    \"New Mexico\", \"New York\", \"North Carolina\", \"North Dakota\", \"Ohio\",\n",
    "    \"Oklahoma\", \"Oregon\", \"Pennsylvania\", \"Rhode Island\", \"South Carolina\",\n",
    "    \"South Dakota\", \"Tennessee\", \"Texas\", \"Utah\", \"Vermont\",\n",
    "    \"Virginia\", \"Washington\", \"West Virginia\", \"Wisconsin\", \"Wyoming\"\n",
    "]\n",
    "\n",
    "print(states[27:31])"
   ]
  },
  {
   "cell_type": "markdown",
   "metadata": {
    "slideshow": {
     "slide_type": "slide"
    }
   },
   "source": [
    "## Slicing a List\n",
    "---\n",
    "* If you omit the first bound Python assumes you want to start at the front\n",
    "    * `states[:3]` is equivalent to `states[0:3]`\n",
    "* A similar syntax works with the end of the list \n",
    "* If you want to include all elements starting part way through to the end you can omit the second bound\n",
    "    * `states [47:]`"
   ]
  },
  {
   "cell_type": "code",
   "execution_count": 15,
   "metadata": {
    "slideshow": {
     "slide_type": "slide"
    }
   },
   "outputs": [
    {
     "name": "stdout",
     "output_type": "stream",
     "text": [
      "['Alabama', 'Alaska', 'Arizona']\n",
      "['West Virginia', 'Wisconsin', 'Wyoming']\n"
     ]
    }
   ],
   "source": [
    "states = [\n",
    "    \"Alabama\", \"Alaska\", \"Arizona\", \"Arkansas\", \"California\",\n",
    "    \"Colorado\", \"Connecticut\", \"Delaware\", \"Florida\", \"Georgia\",\n",
    "    \"Hawaii\", \"Idaho\", \"Illinois\", \"Indiana\", \"Iowa\",\n",
    "    \"Kansas\", \"Kentucky\", \"Louisiana\", \"Maine\", \"Maryland\",\n",
    "    \"Massachusetts\", \"Michigan\", \"Minnesota\", \"Mississippi\", \"Missouri\",\n",
    "    \"Montana\", \"Nebraska\", \"Nevada\", \"New Hampshire\", \"New Jersey\",\n",
    "    \"New Mexico\", \"New York\", \"North Carolina\", \"North Dakota\", \"Ohio\",\n",
    "    \"Oklahoma\", \"Oregon\", \"Pennsylvania\", \"Rhode Island\", \"South Carolina\",\n",
    "    \"South Dakota\", \"Tennessee\", \"Texas\", \"Utah\", \"Vermont\",\n",
    "    \"Virginia\", \"Washington\", \"West Virginia\", \"Wisconsin\", \"Wyoming\"\n",
    "]\n",
    "\n",
    "print(states[:3])\n",
    "print(states[47:])"
   ]
  },
  {
   "cell_type": "markdown",
   "metadata": {
    "slideshow": {
     "slide_type": "slide"
    }
   },
   "source": [
    "## Slicing a List\n",
    "---\n",
    "* This syntax allows you to output all elements from any point in the list\n",
    "* This applies regardless of list size\n",
    "* Recall that a negative number allows us to access a certain distance from the end of the list\n",
    "* You can use this same idea to access the final `x` amount of elements in a list\n",
    "* So if you want the final three states: `states[-3:]`"
   ]
  },
  {
   "cell_type": "code",
   "execution_count": 16,
   "metadata": {
    "slideshow": {
     "slide_type": "slide"
    }
   },
   "outputs": [
    {
     "name": "stdout",
     "output_type": "stream",
     "text": [
      "['West Virginia', 'Wisconsin', 'Wyoming']\n"
     ]
    }
   ],
   "source": [
    "states = [\n",
    "    \"Alabama\", \"Alaska\", \"Arizona\", \"Arkansas\", \"California\",\n",
    "    \"Colorado\", \"Connecticut\", \"Delaware\", \"Florida\", \"Georgia\",\n",
    "    \"Hawaii\", \"Idaho\", \"Illinois\", \"Indiana\", \"Iowa\",\n",
    "    \"Kansas\", \"Kentucky\", \"Louisiana\", \"Maine\", \"Maryland\",\n",
    "    \"Massachusetts\", \"Michigan\", \"Minnesota\", \"Mississippi\", \"Missouri\",\n",
    "    \"Montana\", \"Nebraska\", \"Nevada\", \"New Hampshire\", \"New Jersey\",\n",
    "    \"New Mexico\", \"New York\", \"North Carolina\", \"North Dakota\", \"Ohio\",\n",
    "    \"Oklahoma\", \"Oregon\", \"Pennsylvania\", \"Rhode Island\", \"South Carolina\",\n",
    "    \"South Dakota\", \"Tennessee\", \"Texas\", \"Utah\", \"Vermont\",\n",
    "    \"Virginia\", \"Washington\", \"West Virginia\", \"Wisconsin\", \"Wyoming\"\n",
    "]\n",
    "\n",
    "print(states[-3:])"
   ]
  },
  {
   "cell_type": "markdown",
   "metadata": {
    "slideshow": {
     "slide_type": "slide"
    }
   },
   "source": [
    "## Looping Through a Slice\n",
    "---\n",
    "* You can use a slice in a `for` loop\n",
    "* This lets you loop through only a subset of elements \n",
    "* This works in the same way as a normal loop would\n",
    "* The difference is that where we would normally only have the list name, we include the slice bounds"
   ]
  },
  {
   "cell_type": "code",
   "execution_count": 17,
   "metadata": {
    "slideshow": {
     "slide_type": "slide"
    }
   },
   "outputs": [
    {
     "name": "stdout",
     "output_type": "stream",
     "text": [
      "Washington\n",
      "West Virginia\n",
      "Wisconsin\n",
      "Wyoming\n"
     ]
    }
   ],
   "source": [
    "states = [\n",
    "    \"Alabama\", \"Alaska\", \"Arizona\", \"Arkansas\", \"California\",\n",
    "    \"Colorado\", \"Connecticut\", \"Delaware\", \"Florida\", \"Georgia\",\n",
    "    \"Hawaii\", \"Idaho\", \"Illinois\", \"Indiana\", \"Iowa\",\n",
    "    \"Kansas\", \"Kentucky\", \"Louisiana\", \"Maine\", \"Maryland\",\n",
    "    \"Massachusetts\", \"Michigan\", \"Minnesota\", \"Mississippi\", \"Missouri\",\n",
    "    \"Montana\", \"Nebraska\", \"Nevada\", \"New Hampshire\", \"New Jersey\",\n",
    "    \"New Mexico\", \"New York\", \"North Carolina\", \"North Dakota\", \"Ohio\",\n",
    "    \"Oklahoma\", \"Oregon\", \"Pennsylvania\", \"Rhode Island\", \"South Carolina\",\n",
    "    \"South Dakota\", \"Tennessee\", \"Texas\", \"Utah\", \"Vermont\",\n",
    "    \"Virginia\", \"Washington\", \"West Virginia\", \"Wisconsin\", \"Wyoming\"\n",
    "]\n",
    "\n",
    "for state in states[-4:]:\n",
    "    print(state)"
   ]
  },
  {
   "cell_type": "markdown",
   "metadata": {
    "slideshow": {
     "slide_type": "slide"
    }
   },
   "source": [
    "## Looping Through a Slice\n",
    "---\n",
    "* Slices are useful in a number of situations\n",
    "* When you're working with data you can use slices to process the data in chunks \n",
    "* Or if you're building web applications you can use slices to display information "
   ]
  },
  {
   "cell_type": "markdown",
   "metadata": {
    "slideshow": {
     "slide_type": "slide"
    }
   },
   "source": [
    "## Copying a List\n",
    "---\n",
    "* Often you may start with an existing list and may make a new list based on the first\n",
    "* But how does copying a list in Python work? \n",
    "* To copy a list you can make a slice that includes teh entire original list\n",
    "* This is done by omitting the bounds, only including the colon\n",
    "    * `new_states = states[:]`\n",
    "* But why not `new_states = states[]`?"
   ]
  },
  {
   "cell_type": "markdown",
   "metadata": {
    "slideshow": {
     "slide_type": "slide"
    }
   },
   "source": [
    "## Copying a List\n",
    "---\n",
    "* `new_states = states[]` does not make a true copy of the list\n",
    "* It instead makes a second name for the same list \n",
    "* Meaning any changes we made to `states` would be reflected in `new_states` and vice versa \n",
    "* we are just associating a new variable with the same value "
   ]
  },
  {
   "cell_type": "code",
   "execution_count": 18,
   "metadata": {
    "slideshow": {
     "slide_type": "slide"
    }
   },
   "outputs": [
    {
     "name": "stdout",
     "output_type": "stream",
     "text": [
      "Alaska\n"
     ]
    }
   ],
   "source": [
    "states = [\n",
    "    \"Alabama\", \"Alaska\", \"Arizona\", \"Arkansas\", \"California\",\n",
    "    \"Colorado\", \"Connecticut\", \"Delaware\", \"Florida\", \"Georgia\",\n",
    "    \"Hawaii\", \"Idaho\", \"Illinois\", \"Indiana\", \"Iowa\",\n",
    "    \"Kansas\", \"Kentucky\", \"Louisiana\", \"Maine\", \"Maryland\",\n",
    "    \"Massachusetts\", \"Michigan\", \"Minnesota\", \"Mississippi\", \"Missouri\",\n",
    "    \"Montana\", \"Nebraska\", \"Nevada\", \"New Hampshire\", \"New Jersey\",\n",
    "    \"New Mexico\", \"New York\", \"North Carolina\", \"North Dakota\", \"Ohio\",\n",
    "    \"Oklahoma\", \"Oregon\", \"Pennsylvania\", \"Rhode Island\", \"South Carolina\",\n",
    "    \"South Dakota\", \"Tennessee\", \"Texas\", \"Utah\", \"Vermont\",\n",
    "    \"Virginia\", \"Washington\", \"West Virginia\", \"Wisconsin\", \"Wyoming\"\n",
    "]\n",
    "\n",
    "new_states = states \n",
    "\n",
    "del states[0]\n",
    "print(new_states[0])"
   ]
  },
  {
   "cell_type": "markdown",
   "metadata": {
    "slideshow": {
     "slide_type": "slide"
    }
   },
   "source": [
    "## Copying a List\n",
    "---\n",
    "* So to make a new list based of the original we want to use the slice method\n",
    "* First we make our new variable `new_states`\n",
    "* Then we assign the whole slice of `states` to it\n",
    "* `new_states = states[:]`"
   ]
  },
  {
   "cell_type": "code",
   "execution_count": 19,
   "metadata": {
    "slideshow": {
     "slide_type": "slide"
    }
   },
   "outputs": [
    {
     "name": "stdout",
     "output_type": "stream",
     "text": [
      "Alaska\n",
      "Alabama\n"
     ]
    }
   ],
   "source": [
    "states = [\n",
    "    \"Alabama\", \"Alaska\", \"Arizona\", \"Arkansas\", \"California\",\n",
    "    \"Colorado\", \"Connecticut\", \"Delaware\", \"Florida\", \"Georgia\",\n",
    "    \"Hawaii\", \"Idaho\", \"Illinois\", \"Indiana\", \"Iowa\",\n",
    "    \"Kansas\", \"Kentucky\", \"Louisiana\", \"Maine\", \"Maryland\",\n",
    "    \"Massachusetts\", \"Michigan\", \"Minnesota\", \"Mississippi\", \"Missouri\",\n",
    "    \"Montana\", \"Nebraska\", \"Nevada\", \"New Hampshire\", \"New Jersey\",\n",
    "    \"New Mexico\", \"New York\", \"North Carolina\", \"North Dakota\", \"Ohio\",\n",
    "    \"Oklahoma\", \"Oregon\", \"Pennsylvania\", \"Rhode Island\", \"South Carolina\",\n",
    "    \"South Dakota\", \"Tennessee\", \"Texas\", \"Utah\", \"Vermont\",\n",
    "    \"Virginia\", \"Washington\", \"West Virginia\", \"Wisconsin\", \"Wyoming\"\n",
    "]\n",
    "\n",
    "new_states = states[:]\n",
    "\n",
    "del states[0]\n",
    "print(states[0])\n",
    "print(new_states[0])"
   ]
  },
  {
   "cell_type": "markdown",
   "metadata": {
    "slideshow": {
     "slide_type": "slide"
    }
   },
   "source": [
    "## Tuples\n",
    "---\n",
    "* Lists work well for storing collections of items \n",
    "* These collections may change throughout the run of a program \n",
    "* The ability to modify lists is a particularly important often\n",
    "* Sometimes you may want to create a list of items that doesn't change\n",
    "* *Tuples* allow you to do just that\n",
    "* Python refers to items that cannot change as *immutable*, and *immutable* list is a *tuple*"
   ]
  },
  {
   "cell_type": "markdown",
   "metadata": {
    "slideshow": {
     "slide_type": "slide"
    }
   },
   "source": [
    "## Defining a Tuple \n",
    "---\n",
    "* A tuple looks just like a list\n",
    "* The difference is that it uses parenthesis rather than square brackets \n",
    "* Once a tuple is defined individual items can be accessed using their index\n",
    "* That is the same as you would for a list \n",
    "* Suppose you want to set dimensions for a rectangle that never change"
   ]
  },
  {
   "cell_type": "code",
   "execution_count": 21,
   "metadata": {
    "slideshow": {
     "slide_type": "slide"
    }
   },
   "outputs": [
    {
     "name": "stdout",
     "output_type": "stream",
     "text": [
      "200\n",
      "50\n",
      "(200, 50)\n"
     ]
    }
   ],
   "source": [
    "dimensions = (200,50)\n",
    "print(dimensions[0])\n",
    "print(dimensions[1])\n",
    "print(dimensions)"
   ]
  },
  {
   "cell_type": "markdown",
   "metadata": {
    "slideshow": {
     "slide_type": "slide"
    }
   },
   "source": [
    "## Defining a Tuple \n",
    "---\n",
    "* We defined a tuple dimensions\n",
    "* it uses parenthesis rather than a square bracket \n",
    "* Each item can be printed separately or together from the tuple\n",
    "* But, tuples are supposed to be *immutable* what happens if we try to change one? "
   ]
  },
  {
   "cell_type": "code",
   "execution_count": 22,
   "metadata": {
    "slideshow": {
     "slide_type": "slide"
    }
   },
   "outputs": [
    {
     "ename": "TypeError",
     "evalue": "'tuple' object does not support item assignment",
     "output_type": "error",
     "traceback": [
      "\u001b[0;31m---------------------------------------------------------------------------\u001b[0m",
      "\u001b[0;31mTypeError\u001b[0m                                 Traceback (most recent call last)",
      "\u001b[0;32m/tmp/ipykernel_1264/1314032110.py\u001b[0m in \u001b[0;36m<module>\u001b[0;34m\u001b[0m\n\u001b[1;32m      1\u001b[0m \u001b[0mdimensions\u001b[0m \u001b[0;34m=\u001b[0m \u001b[0;34m(\u001b[0m\u001b[0;36m200\u001b[0m\u001b[0;34m,\u001b[0m\u001b[0;36m50\u001b[0m\u001b[0;34m)\u001b[0m\u001b[0;34m\u001b[0m\u001b[0;34m\u001b[0m\u001b[0m\n\u001b[0;32m----> 2\u001b[0;31m \u001b[0mdimensions\u001b[0m\u001b[0;34m[\u001b[0m\u001b[0;36m1\u001b[0m\u001b[0;34m]\u001b[0m \u001b[0;34m=\u001b[0m \u001b[0;36m200\u001b[0m\u001b[0;34m\u001b[0m\u001b[0;34m\u001b[0m\u001b[0m\n\u001b[0m",
      "\u001b[0;31mTypeError\u001b[0m: 'tuple' object does not support item assignment"
     ]
    }
   ],
   "source": [
    "dimensions = (200,50)\n",
    "dimensions[1] = 200"
   ]
  },
  {
   "cell_type": "markdown",
   "metadata": {
    "slideshow": {
     "slide_type": "slide"
    }
   },
   "source": [
    "## Defining a Tuple \n",
    "---\n",
    "* We can try to assign a new value to the second element\n",
    "* However, Python will kick back an error when a line tries to change it\n",
    "* This is exactly what we want "
   ]
  },
  {
   "cell_type": "markdown",
   "metadata": {
    "slideshow": {
     "slide_type": "slide"
    }
   },
   "source": [
    "## Defining a Tuple - Notes\n",
    "---\n",
    "* Tuples are really defined by the commas\n",
    "* the parenthesis are unneeded, but better for clarity\n",
    "* You can define a Tuple with a single element by having a trailing comma\n",
    "* `my_tuple = 1886,`"
   ]
  },
  {
   "cell_type": "markdown",
   "metadata": {
    "slideshow": {
     "slide_type": "slide"
    }
   },
   "source": [
    "## Looping Through all Values in a Tuple\n",
    "--- \n",
    "* Looping through a tuple is easy\n",
    "* It is done exactly in the same fashion as lists!\n",
    "```\n",
    "for dimension in dimensions:\n",
    "    print(dimension)\n",
    "```"
   ]
  },
  {
   "cell_type": "markdown",
   "metadata": {
    "slideshow": {
     "slide_type": "slide"
    }
   },
   "source": [
    "## Writing Over a Tuple\n",
    "---\n",
    "* Tuples can't be modified, as we saw\n",
    "* They can however have a new value assigned to the variable holding them \n",
    "* For example to change our `dimensions` tuple we can redefine a new tuple"
   ]
  },
  {
   "cell_type": "code",
   "execution_count": 23,
   "metadata": {
    "slideshow": {
     "slide_type": "slide"
    }
   },
   "outputs": [
    {
     "name": "stdout",
     "output_type": "stream",
     "text": [
      "(200, 50)\n",
      "(50, 50)\n"
     ]
    }
   ],
   "source": [
    "dimensions = (200,50)\n",
    "print(dimensions)\n",
    "\n",
    "dimensions = (50,50)\n",
    "print(dimensions)"
   ]
  },
  {
   "cell_type": "markdown",
   "metadata": {
    "slideshow": {
     "slide_type": "slide"
    }
   },
   "source": [
    "## Writing Over a Tuple\n",
    "---\n",
    "* We have our initial tuple and can print it for viewing \n",
    "* We then associate a new tuple with the variable `dimensions` \n",
    "* Python has no qualms as reassignments are fine \n",
    "* When you compare with lists, tuples are simple data structures\n",
    "* Use them if you want to store a set of values that should not be changed "
   ]
  }
 ],
 "metadata": {
  "celltoolbar": "Slideshow",
  "kernelspec": {
   "display_name": "Python 3 (ipykernel)",
   "language": "python",
   "name": "python3"
  },
  "language_info": {
   "codemirror_mode": {
    "name": "ipython",
    "version": 3
   },
   "file_extension": ".py",
   "mimetype": "text/x-python",
   "name": "python",
   "nbconvert_exporter": "python",
   "pygments_lexer": "ipython3",
   "version": "3.10.12"
  }
 },
 "nbformat": 4,
 "nbformat_minor": 2
}
