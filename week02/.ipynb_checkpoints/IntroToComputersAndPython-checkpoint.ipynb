{
 "cells": [
  {
   "cell_type": "markdown",
   "metadata": {
    "slideshow": {
     "slide_type": "slide"
    }
   },
   "source": [
    "# <p style=\"text-align: Center;\">Introduction to Computers and Python</p>\n",
    "## <p style=\"text-align: Center;\">University of Wyoming COSC 1010</p>\n",
    "### <p style=\"text-align: Center;\">Adapted from: *Intro to Python* by Paul Deitel and Harvery Deitel </p>"
   ]
  },
  {
   "cell_type": "markdown",
   "metadata": {
    "slideshow": {
     "slide_type": "slide"
    }
   },
   "source": [
    "## Introduction\n",
    "---\n",
    "* Python is one of the world's most popular languages\n",
    "* Computers can perform any powerful tasks\n",
    "* In this course you'll learn how to make computers do some of those tasks\n",
    "* Python instructs computers on how to perform tasks\n",
    "* Software (the python instructions or *code*) controls hardware (the computer)"
   ]
  },
  {
   "cell_type": "markdown",
   "metadata": {
    "slideshow": {
     "slide_type": "slide"
    }
   },
   "source": [
    "## Introduction\n",
    "---\n",
    "* Previously computer applications ran on \"standalone\" computers\n",
    "* Now applications can communicate among all of the world's computers\n",
    "* This is done through the internet\n"
   ]
  },
  {
   "cell_type": "markdown",
   "metadata": {
    "slideshow": {
     "slide_type": "slide"
    }
   },
   "source": [
    "## Hardware and Software\n",
    "--- \n",
    "* Computers can perform calculations far more quickly than a human can\n",
    "* they can also make logical decisions far faster \n",
    "* Many *super computers* can perform billions of calculations in a second \n",
    "* Computers process data under the control of sequences of instructions or *programs* \n",
    "* Programs guide the computer through an ordered set of actions"
   ]
  },
  {
   "cell_type": "markdown",
   "metadata": {
    "slideshow": {
     "slide_type": "slide"
    }
   },
   "source": [
    "## Hardware and Software\n",
    "--- \n",
    "* Programs that guide a computer on what to are written by programmers\n",
    "* A computer consists of various physical devices referred to as hardware\n",
    "* Hardware can include:\n",
    "    * CPUs\n",
    "    * RAMs\n",
    "    * SSDs\n",
    "    * Keyboards\n",
    "    * Mice\n",
    "* Computer costs drop due to rapid developments in hardware and software technologies \n"
   ]
  },
  {
   "cell_type": "markdown",
   "metadata": {
    "slideshow": {
     "slide_type": "slide"
    }
   },
   "source": [
    "## Hardware and Software\n",
    "--- \n",
    "* Previously computers filled a whole room\n",
    "* Now, chips can be smaller than a finger nail and cost negligible amounts\n",
    "* Silicon is one of the most abundant materials on earth\n",
    "* Silicon is an ingredient in common sand!\n",
    "* Silicon-chip technology has made computing so economical that "
   ]
  },
  {
   "cell_type": "markdown",
   "metadata": {
    "slideshow": {
     "slide_type": "slide"
    }
   },
   "source": [
    "## Moore's Law\n",
    "---\n",
    "* Named for Gordon Moore, co-founder fo Intel\n",
    "* Typically you expect to pay a little more for products and services\n",
    "* Computers have typically been the opposite, especially in relation to hardware supporting computing technologies\n",
    "* For several decades hardware costs  fell rapidly \n",
    "* About every year or two the capacities of computers has approximately doubled \n",
    "    * This trend is called **Moore's Law** "
   ]
  },
  {
   "cell_type": "markdown",
   "metadata": {
    "slideshow": {
     "slide_type": "slide"
    }
   },
   "source": [
    "## Moore's Law\n",
    "---\n",
    "* Moore's Law relates primarily to \n",
    "    * The amount of memory computers have for programs\n",
    "    * The amount of secondary storage\n",
    "    * The processor speeds, the speed at which programs can be executed\n",
    "* Similar growth has occurred in the communications field\n"
   ]
  },
  {
   "cell_type": "markdown",
   "metadata": {
    "slideshow": {
     "slide_type": "slide"
    }
   },
   "source": [
    "## Computer Organization\n",
    "---\n",
    "* Regardless of appearance computers can be broken up into a set of logical units\n",
    "    * Input Unit\n",
    "    * output Unit\n",
    "    * Memory unit\n",
    "    * Arithmetic Unit (ALU)\n",
    "    * Central Processing Unit (CPU)\n",
    "    * Secondary Storage Unit"
   ]
  },
  {
   "cell_type": "markdown",
   "metadata": {},
   "source": []
  }
 ],
 "metadata": {
  "language_info": {
   "name": "python"
  },
  "orig_nbformat": 4
 },
 "nbformat": 4,
 "nbformat_minor": 2
}
