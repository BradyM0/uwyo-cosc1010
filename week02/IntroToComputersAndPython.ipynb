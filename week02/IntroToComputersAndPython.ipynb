{
 "cells": [
  {
   "cell_type": "markdown",
   "metadata": {
    "slideshow": {
     "slide_type": "slide"
    }
   },
   "source": [
    "# <p style=\"text-align: Center;\">Introduction to Computers and Python</p>\n",
    "## <p style=\"text-align: Center;\">University of Wyoming COSC 1010</p>\n",
    "### <p style=\"text-align: Center;\">Adapted from: *Intro to Python* by Paul Deitel and Harvery Deitel </p>"
   ]
  },
  {
   "cell_type": "markdown",
   "metadata": {
    "slideshow": {
     "slide_type": "slide"
    }
   },
   "source": [
    "## Introduction\n",
    "---\n",
    "* Python is one of the world's most popular languages\n",
    "* Computers can perform any powerful tasks\n",
    "* In this course you'll learn how to make computers do some of those tasks\n",
    "* Python instructs computers on how to perform tasks\n",
    "* Software (the python instructions or *code*) controls hardware (the computer)"
   ]
  },
  {
   "cell_type": "markdown",
   "metadata": {},
   "source": []
  }
 ],
 "metadata": {
  "language_info": {
   "name": "python"
  },
  "orig_nbformat": 4
 },
 "nbformat": 4,
 "nbformat_minor": 2
}
