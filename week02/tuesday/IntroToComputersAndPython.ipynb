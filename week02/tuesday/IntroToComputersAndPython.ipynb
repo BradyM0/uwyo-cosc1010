{
 "cells": [
  {
   "cell_type": "markdown",
   "metadata": {
    "slideshow": {
     "slide_type": "slide"
    }
   },
   "source": [
    "# <p style=\"text-align: Center;\">Introduction to Computers and Python</p>\n",
    "## <p style=\"text-align: Center;\">University of Wyoming COSC 1010</p>\n",
    "### <p style=\"text-align: Center;\">Adapted from: *Intro to Python* by Paul Deitel and Harvery Deitel </p>"
   ]
  },
  {
   "cell_type": "markdown",
   "metadata": {
    "slideshow": {
     "slide_type": "slide"
    }
   },
   "source": [
    "## Introduction\n",
    "---\n",
    "* Python is one of the world's most popular languages\n",
    "* Computers can perform any powerful tasks\n",
    "* In this course you'll learn how to make computers do some of those tasks\n",
    "* Python instructs computers on how to perform tasks\n",
    "* Software (the python instructions or *code*) controls hardware (the computer)"
   ]
  },
  {
   "cell_type": "markdown",
   "metadata": {
    "slideshow": {
     "slide_type": "slide"
    }
   },
   "source": [
    "## Introduction\n",
    "---\n",
    "* Previously computer applications ran on \"standalone\" computers\n",
    "* Now applications can communicate among all of the world's computers\n",
    "* This is done through the internet\n"
   ]
  },
  {
   "cell_type": "markdown",
   "metadata": {
    "slideshow": {
     "slide_type": "slide"
    }
   },
   "source": [
    "## Hardware and Software\n",
    "--- \n",
    "* Computers can perform calculations far more quickly than a human can\n",
    "* they can also make logical decisions far faster \n",
    "* Many *super computers* can perform billions of calculations in a second \n",
    "* Computers process data under the control of sequences of instructions or *programs* \n",
    "* Programs guide the computer through an ordered set of actions"
   ]
  },
  {
   "cell_type": "markdown",
   "metadata": {
    "slideshow": {
     "slide_type": "slide"
    }
   },
   "source": [
    "## Hardware and Software\n",
    "--- \n",
    "* Programs that guide a computer on what to are written by programmers\n",
    "* A computer consists of various physical devices referred to as hardware\n",
    "* Hardware can include:\n",
    "    * CPUs\n",
    "    * RAMs\n",
    "    * SSDs\n",
    "    * Keyboards\n",
    "    * Mice\n",
    "* Computer costs drop due to rapid developments in hardware and software technologies \n"
   ]
  },
  {
   "cell_type": "markdown",
   "metadata": {
    "slideshow": {
     "slide_type": "slide"
    }
   },
   "source": [
    "## Hardware and Software\n",
    "--- \n",
    "* Previously computers filled a whole room\n",
    "* Now, chips can be smaller than a finger nail and cost negligible amounts\n",
    "* Silicon is one of the most abundant materials on earth\n",
    "* Silicon is an ingredient in common sand!\n",
    "* Silicon-chip technology has made computing so economical that "
   ]
  },
  {
   "cell_type": "markdown",
   "metadata": {
    "slideshow": {
     "slide_type": "slide"
    }
   },
   "source": [
    "## Moore's Law\n",
    "---\n",
    "* Named for Gordon Moore, co-founder fo Intel\n",
    "* Typically you expect to pay a little more for products and services\n",
    "* Computers have typically been the opposite, especially in relation to hardware supporting computing technologies\n",
    "* For several decades hardware costs  fell rapidly \n",
    "* About every year or two the capacities of computers has approximately doubled \n",
    "    * This trend is called **Moore's Law** "
   ]
  },
  {
   "cell_type": "markdown",
   "metadata": {
    "slideshow": {
     "slide_type": "slide"
    }
   },
   "source": [
    "## Moore's Law\n",
    "---\n",
    "* Moore's Law relates primarily to \n",
    "    * The amount of memory computers have for programs\n",
    "    * The amount of secondary storage\n",
    "    * The processor speeds, the speed at which programs can be executed\n",
    "* Similar growth has occurred in the communications field\n"
   ]
  },
  {
   "cell_type": "markdown",
   "metadata": {
    "slideshow": {
     "slide_type": "slide"
    }
   },
   "source": [
    "## Computer Organization\n",
    "---\n",
    "* Regardless of appearance computers can be broken up into a set of logical units\n",
    "    * Input Unit\n",
    "    * Output Unit\n",
    "    * Memory unit\n",
    "    * Arithmetic Unit (ALU)\n",
    "    * Central Processing Unit (CPU)\n",
    "    * Secondary Storage Unit"
   ]
  },
  {
   "cell_type": "markdown",
   "metadata": {
    "slideshow": {
     "slide_type": "slide"
    }
   },
   "source": [
    "## Input Unit\n",
    "---\n",
    "* The \"receiving\" section\n",
    "* Obtains information (data and programs) from input devices\n",
    "* Typically user input is entered through mice, keyboards, or touchscreens\n",
    "* Input can also include:\n",
    "    * Voice commands\n",
    "    * Scanning images and barcodes\n",
    "    * reading from secondary storage (hard drives, Blu-ray discs, flash drives) \n",
    "    * Receiving video from a webcam\n",
    "    * Receiving information from the internet"
   ]
  },
  {
   "cell_type": "markdown",
   "metadata": {
    "slideshow": {
     "slide_type": "slide"
    }
   },
   "source": [
    "## Input Unit\n",
    "---\n",
    "* New forms of input include:\n",
    "    * Positional data from GPS\n",
    "    * motion and orientation from accelerometer \n",
    "    * Game controllers"
   ]
  },
  {
   "cell_type": "markdown",
   "metadata": {
    "slideshow": {
     "slide_type": "slide"
    }
   },
   "source": [
    "## Output Unit\n",
    "--- \n",
    "* The \"shipping\" section\n",
    "* takes information the computer has processed and places it on an output device\n",
    "* Typically the output is to a screen\n",
    "* The output can also be:\n",
    "    * Printed on paper\n",
    "    * Played as audio or video\n",
    "    * Transmitted over the internet \n",
    "    * Used to control other devices, like self driving cars, robots, or \"smart\" devices\n"
   ]
  },
  {
   "cell_type": "markdown",
   "metadata": {
    "slideshow": {
     "slide_type": "slide"
    }
   },
   "source": [
    "## Output Unit\n",
    "--- \n",
    "* Information is also often output to secondary storage like:\n",
    "    * SSDs\n",
    "    * Hard drives\n",
    "    * DVD drives\n",
    "    * Flash drives\n",
    "* More recently output has also included things like vibration sent to a phone or controller"
   ]
  },
  {
   "cell_type": "markdown",
   "metadata": {
    "slideshow": {
     "slide_type": "slide"
    }
   },
   "source": [
    "## Memory Unit\n",
    "--- \n",
    "* Rapid access, comparatively low-capacity \"warehouse\" section\n",
    "* retains information that has been entered trough the input unit\n",
    "* It makes that information immediately available for processing when needed\n",
    "* Usually it retains processed information until it can be placed on output devices by the output unit\n",
    "* Information in the  memory unit is volatile\n",
    "    * Meaning if power is lost so is the information \n",
    "* The memory unit is either called memory, primary memory, or RAM\n"
   ]
  },
  {
   "cell_type": "markdown",
   "metadata": {
    "slideshow": {
     "slide_type": "slide"
    }
   },
   "source": [
    "## Arithmetic and Logic Unit (ALU) \n",
    "--- \n",
    "* The \"manufacturing\" section performs calculations, like:\n",
    "    * Addition\n",
    "    * Subtraction\n",
    "    * Multiplication\n",
    "    * Division\n",
    "* It also allows the computer to compare if items in memory are equal \n",
    "* In today's systems the ALU is part of the CPU"
   ]
  },
  {
   "cell_type": "markdown",
   "metadata": {
    "slideshow": {
     "slide_type": "slide"
    }
   },
   "source": [
    "## Central Processing Unit\n",
    "---\n",
    "* The \"administrative\" section\n",
    "* Coordinates and supervises the operation of other sections\n",
    "* In charge of telling the input unit when information should be read into the memory unit\n",
    "* Tells the ALU when information from the memory unit should be used in calculations\n",
    "* Tells the output unit where to send information"
   ]
  },
  {
   "cell_type": "markdown",
   "metadata": {
    "slideshow": {
     "slide_type": "slide"
    }
   },
   "source": [
    "## Central Processing Unit\n",
    "---\n",
    "* Most computers have multicore processors\n",
    "    * these implement the multiple processors ona single integrated-circuit chips\n",
    "    * Such processors can perform many operations simultaneously \n",
    "    * A dual-core processor has two CPUs, a quad-core has four\n",
    "    * Desktop CPUs can execute billions of instructions per second\n",
    "    "
   ]
  },
  {
   "cell_type": "markdown",
   "metadata": {
    "slideshow": {
     "slide_type": "slide"
    }
   },
   "source": [
    "## Secondary Storage Unit\n",
    "---\n",
    "* Long-term, high compactly storage \n",
    "* Programs or data not actively being used by other units normally are placed on secondary storage \n",
    "    * e.g. a hard drive\n",
    "* The data is held until it is needed again \n",
    "* information on secondary storage is persistent, meaning it is not lost when power is lost\n",
    "* Secondary storage takes much longer to access than information stored in memory "
   ]
  },
  {
   "cell_type": "markdown",
   "metadata": {
    "slideshow": {
     "slide_type": "slide"
    }
   },
   "source": [
    "## Secondary Storage Unit\n",
    "---\n",
    "* Secondary storage devices can include:\n",
    "    * Solid-state-drives\n",
    "    * Hard drives\n",
    "    * Blu-ray/DVD \n",
    "    * Flash drives\n",
    "* Many hard dives can hold terabytes of data\n",
    "    * A terabyte is 1000 gigabytes \n",
    "    * A gigabyte is about one billion bytes (1,000,000,000)\n",
    "    * A byte is eight bits\n",
    "    * A bit is either 0 or 1 "
   ]
  },
  {
   "cell_type": "markdown",
   "metadata": {
    "slideshow": {
     "slide_type": "slide"
    }
   },
   "source": [
    "## Data Hierarchy\n",
    "---\n",
    "<div>\n",
    "<div style=\"display: inline-block;width:50%;\">\n",
    "<ul>\n",
    "<li> Data items processed by computers from a data hierarchy</li>\n",
    "<li> This  becomes larger and more complex in structure as data moves from bits, to more complex types </li>\n",
    "<li>Bits are the simplest form of data</li>\n",
    "</ul>\n",
    "</div>\n",
    "<div style=\"display: inline-block;float:right;width:50%;\">\n",
    "<img src=\"datahier.png\">\n",
    "</div>\n",
    "</div>\n"
   ]
  },
  {
   "cell_type": "markdown",
   "metadata": {
    "slideshow": {
     "slide_type": "slide"
    }
   },
   "source": [
    "## Bits\n",
    "---\n",
    "* Short for *binary digit* \n",
    "* A digit that can assume one of two values (1,0)\n",
    "* the smallest data item ina  computer\n",
    "* It can have the value 0 or 1\n",
    "* All the functions performed by a computer involve only the simplest manipulations of 1 and 0 \n",
    "    * Examining a bits value\n",
    "    * Setting a value\n",
    "    * Reversing a value\n",
    "* Bits are the basis for the binary number system"
   ]
  },
  {
   "cell_type": "markdown",
   "metadata": {
    "slideshow": {
     "slide_type": "slide"
    }
   },
   "source": [
    "## Characters\n",
    "---\n",
    "* Working *only* with bits would be tedious at best\n",
    "* People usually prefer to work with decimal digits (0-9)\n",
    "* As well as letters (a-z) (A-Z)\n",
    "* Or, special symbols `$ @ % & * ( ) – + \" : ; , ? /`\n",
    "* Digits, letters, and special symbols are known as characters"
   ]
  },
  {
   "cell_type": "markdown",
   "metadata": {
    "slideshow": {
     "slide_type": "slide"
    }
   },
   "source": [
    "## Characters\n",
    "---\n",
    "* The computer's character set contains the characters used to write programs and represent data items\n",
    "* Computers process only 1s and 0s\n",
    "* So, a computer's character set represents every character as a pattern of 1s and 0s\n",
    "* Python uses unicode characters are comprised of:\n",
    "    * One byte (8 bits)\n",
    "    * Two bytes (16 bits)\n",
    "    * Three bytes (24 bits)\n",
    "    * Four bytes (32 bits)\n",
    "* This is known as UTF-8 encoding"
   ]
  },
  {
   "cell_type": "markdown",
   "metadata": {
    "slideshow": {
     "slide_type": "slide"
    }
   },
   "source": [
    "## Characters\n",
    "---\n",
    "* Unicode contains characters for many of the world's languages\n",
    "    * The ASCII (American Standard Code for Information Interchange) character set is a subset of Unicode\n",
    "* The ascii subset can be found at http://unicode.org/charts/PDF/U0000.pdf\n",
    "* The unicode charts for all languages, symbols, emoji, are viewable at http://www.unicode.org/charts/"
   ]
  },
  {
   "cell_type": "markdown",
   "metadata": {
    "slideshow": {
     "slide_type": "slide"
    }
   },
   "source": [
    "## Fields\n",
    "---\n",
    "* Characters are composed of bits\n",
    "* Fields are composed of characters, or bytes\n",
    "* A field is a group of characters or bytes that conveys a meaning\n",
    "* A field consisting of uppercase and lowercase letters can be used to represent a name\n",
    "* A field consisting of decimal digits could represent a person's age"
   ]
  },
  {
   "cell_type": "markdown",
   "metadata": {
    "slideshow": {
     "slide_type": "slide"
    }
   },
   "source": [
    "## Records\n",
    "---\n",
    "* Several related fields can be sued to compose a record\n",
    "* In a payroll system a record for an employee might contain:\n",
    "    * Employee ID number\n",
    "    * Name\n",
    "    * Address\n",
    "    * pay\n",
    "    * Year-to-date earnings\n",
    "    * Takes withheld \n",
    "* All these fields would be for an individual employee, making a  record "
   ]
  },
  {
   "cell_type": "markdown",
   "metadata": {},
   "source": [
    "## Files\n",
    "---\n",
    "* A file is a group of related records\n",
    "* A file contains arbitrary data in arbitrary formats\n",
    "* In some OSes a file is simply a sequence of bytes\n",
    "* Any organization of the bytes in a file, such as into records, is a view created by a programmer \n",
    "* Organizations (and individuals) often have many files"
   ]
  },
  {
   "cell_type": "markdown",
   "metadata": {
    "slideshow": {
     "slide_type": "slide"
    }
   },
   "source": [
    "Databases\n",
    "---\n",
    "* A database is a collection of data\n",
    "* Organized for easy access and manipulation\n",
    "* The most popular variant is a a *relational database*\n",
    "    * In which data is stored in simple tables\n",
    "    * A table includes records and fields\n"
   ]
  },
  {
   "cell_type": "markdown",
   "metadata": {
    "slideshow": {
     "slide_type": "slide"
    }
   },
   "source": [
    "Databases\n",
    "---\n",
    "* A table of students might include:\n",
    "    * First name and last name\n",
    "    * Major\n",
    "    * Year\n",
    "    * Student ID\n",
    "    * GPA \n",
    "* The data for each student is a record, composed of fields\n",
    "* The data can be searched through, sorted, or otherwise manipulated"
   ]
  },
  {
   "cell_type": "markdown",
   "metadata": {
    "slideshow": {
     "slide_type": "slide"
    }
   },
   "source": [
    "## Big Data\n",
    "--- \n",
    "<div>\n",
    "<div style=\"display: inline-block;width:50%;\">\n",
    "<ul>\n",
    "<li> The amount of data produced globally is enormous</li>\n",
    "<li> The growth is accelerating</li>\n",
    "\n",
    "</ul>\n",
    "</div>\n",
    "<div style=\"display: inline-block;float:right;width:50%;\">\n",
    "<img src=\"bigdata.png\">\n",
    "</div>\n",
    "</div>"
   ]
  },
  {
   "cell_type": "markdown",
   "metadata": {
    "slideshow": {
     "slide_type": "slide"
    }
   },
   "source": [
    "# <p style=\"text-align: Center;\">Python</p>"
   ]
  },
  {
   "cell_type": "markdown",
   "metadata": {
    "slideshow": {
     "slide_type": "slide"
    }
   },
   "source": [
    "##  Python\n",
    "---\n",
    "* An object-oriented scripting language first released in 1991\n",
    "* developed by Guido van Rossum of the National Research Institute for Mathematics and Computer Science in Amsterdam\n",
    "* Has rapidly become one of the worlds most popular languages\n",
    "    * Especially popular for educational and scientific computing \n",
    "    * As well as data science "
   ]
  },
  {
   "cell_type": "markdown",
   "metadata": {},
   "source": []
  }
 ],
 "metadata": {
  "kernelspec": {
   "display_name": "Python 3 (ipykernel)",
   "language": "python",
   "name": "python3"
  },
  "language_info": {
   "codemirror_mode": {
    "name": "ipython",
    "version": 3
   },
   "file_extension": ".py",
   "mimetype": "text/x-python",
   "name": "python",
   "nbconvert_exporter": "python",
   "pygments_lexer": "ipython3",
   "version": "3.10.12"
  }
 },
 "nbformat": 4,
 "nbformat_minor": 4
}
