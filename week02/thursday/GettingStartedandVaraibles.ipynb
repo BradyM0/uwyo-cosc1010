{
 "cells": [
  {
   "cell_type": "markdown",
   "metadata": {
    "slideshow": {
     "slide_type": "slide"
    }
   },
   "source": [
    "# <p style=\"text-align: Center;\">Getting Started, Variables and Simple Types </p>\n",
    "## <p style=\"text-align: Center;\">University of Wyoming COSC 1010</p>\n",
    "### <p style=\"text-align: Center;\">Adapted from: *Python Crash Course 3rd Ed* By Eric Matthes </p>"
   ]
  },
  {
   "cell_type": "markdown",
   "metadata": {
    "slideshow": {
     "slide_type": "slide"
    }
   },
   "source": [
    "## <p style=\"text-align: Center;\">Getting Started</p>"
   ]
  },
  {
   "cell_type": "markdown",
   "metadata": {
    "slideshow": {
     "slide_type": "slide"
    }
   },
   "source": [
    "## Getting Started\n",
    "---\n",
    "* We can look at writing your first python program!\n",
    "* Typically the first program one looks at in any language is \"Hello World\"\n",
    "* This program simply outputs \"Hello World\" \n",
    "* But, it helps to show basic syntax and output of a program\n",
    "* As well as how to run it!"
   ]
  },
  {
   "cell_type": "markdown",
   "metadata": {
    "slideshow": {
     "slide_type": "slide"
    }
   },
   "source": [
    "## Running Snippets of Code\n",
    "---\n",
    "* You can run Python's interpreter in a terminal window (Like the one in Replit!)\n",
    "* This allows you to run bits of code without saving and running an entire program! \n",
    "* You can tell when a code snippet is in an interpreter if you have `>>>` prepending a statement\n",
    "* You can start the interpreter by typing `python3` into a terminal on a system with Python installed\n",
    "    * Within a repl this is the \"shell\" option "
   ]
  },
  {
   "cell_type": "markdown",
   "metadata": {
    "slideshow": {
     "slide_type": "slide"
    }
   },
   "source": [
    "## Running Snippets of Code\n",
    "---\n",
    "![Hello Class](helloclassinter.png)"
   ]
  },
  {
   "cell_type": "markdown",
   "metadata": {
    "slideshow": {
     "slide_type": "slide"
    }
   },
   "source": [
    "## Running Snippets of Code\n",
    "---\n",
    "* The `>>>` is the \"python prompt\" \n",
    "* It indicates you are in the python interpreter and can input python code\n",
    "* This is done by typing in the code and hitting enter \n",
    "* Helpful when you need to do quick portions of code, but don't want to write a full file to do so"
   ]
  },
  {
   "cell_type": "markdown",
   "metadata": {
    "slideshow": {
     "slide_type": "slide"
    }
   },
   "source": [
    "## Running a Hello World Program\n",
    "---\n",
    "* Once you have somewhere that you can write python code in (in our case Replit), you can write and run code! \n",
    "* Before you get started, comments are an important part of writing a program\n",
    "* In python comments begin with a \\# \n",
    "* Anything after a \\# will be ignored when the computer runs your program\n",
    "* Comments can be used to:\n",
    "    * Put your Name in your code\n",
    "    * Document what a line of code is doing\n",
    "    * Make notes to yourself, or people who may view the file\n",
    "    * Add any additional documentation "
   ]
  },
  {
   "cell_type": "markdown",
   "metadata": {
    "slideshow": {
     "slide_type": "slide"
    }
   },
   "source": [
    "## Running a Hello World Program\n",
    "---\n",
    "* You should always comment your code \n",
    "* In ths class your files will always need to begin with:\n",
    "    * Your name\n",
    "    * COSC 1010\n",
    "    * Submission Date\n",
    "    * Lab Section: [Your lab section]\n",
    "    * Sources, students worked with online sources used\n",
    "* So, what would the hello world python program look like? "
   ]
  },
  {
   "cell_type": "code",
   "execution_count": 2,
   "metadata": {
    "slideshow": {
     "slide_type": "slide"
    }
   },
   "outputs": [
    {
     "name": "stdout",
     "output_type": "stream",
     "text": [
      "Hello World\n"
     ]
    }
   ],
   "source": [
    "# Danny Radosevich\n",
    "# COSC 1010\n",
    "# 8-23-23\n",
    "# Lab Section: 10\n",
    "# Sources used: None\n",
    "\n",
    "print(\"Hello World\")"
   ]
  },
  {
   "cell_type": "markdown",
   "metadata": {
    "slideshow": {
     "slide_type": "slide"
    }
   },
   "source": [
    "## Running a Hello World Program\n",
    "---\n",
    "* Pretty simple right?\n",
    "* Note, printing from a file is done in the same fashion as we did in the interpreter\n",
    "* This shows you how to get output from any code you write!\n",
    "* the output will be sent to the console associated with your program\n",
    "* In Replit you can run files in a couple different fashions\n",
    "    * Clicking the `run` button at the top\n",
    "    * In the **shell** typing `python3 main.py` (or whatever your file is named)\n",
    "* If you use `run` the output will be sent to **console** \n",
    "* If you manually run your program in shell, the output will be sent to the **shell** "
   ]
  },
  {
   "cell_type": "markdown",
   "metadata": {
    "slideshow": {
     "slide_type": "slide"
    }
   },
   "source": [
    "## Troubleshooting\n",
    "---\n",
    "* Writing programs can be difficult!\n",
    "* If your program doesn't run on the first try that's ok, that doesn't mean it will *never* run \n",
    "* There are many things to do if your program doesn't run\n",
    "* If your program doesn't run due to an error python will give you a traceback message \n",
    "\n",
    "![A traceback error](traceback.png)"
   ]
  },
  {
   "cell_type": "markdown",
   "metadata": {
    "slideshow": {
     "slide_type": "slide"
    }
   },
   "source": [
    "## Troubleshooting\n",
    "---\n",
    "* If you need to, take a step away from your computer\n",
    "    * Clearing your head and coming back does wonders for problem solving\n",
    "* Start over, if you are unable to find the issue in your code try rewriting it\n",
    "    * Sometimes rewriting it helps to catch any mistakes made\n",
    "* Have someone else look over your code\n",
    "* Ask for help online (Only for the strong of will)"
   ]
  },
  {
   "cell_type": "markdown",
   "metadata": {
    "slideshow": {
     "slide_type": "slide"
    }
   },
   "source": [
    "## <p style=\"text-align: Center;\">Variables and Simple Types</p>"
   ]
  },
  {
   "cell_type": "markdown",
   "metadata": {
    "slideshow": {
     "slide_type": "slide"
    }
   },
   "source": [
    "## What really happens when you run \"Hello World\" \n",
    "---\n",
    "* What really happens when running a Hello world program? \n",
    "* well, python does a lot of the work for you\n",
    "* Remember the program is simply ```print(\"Hello World\")``` with the output being `Hello World`\n",
    "* A python file ends with the extension `.py`, which indicates it is a python file \n",
    "* This file is run through the python *interpreter* \n",
    "* The interpreter then reads through the program and determines what each word in the file means\n",
    "* When it sees `print()` it prints to the screen whatever is inside the parenthesis"
   ]
  },
  {
   "cell_type": "markdown",
   "metadata": {
    "slideshow": {
     "slide_type": "slide"
    }
   },
   "source": [
    "## What really happens when you run \"Hello World\" \n",
    "---\n",
    "* When you write a program the editor highlights different parts in different ways \n",
    "* it recognizes that `print()` is the name of a *function* and displays the word in one color\n",
    "* Where as the content within the parenthesis would be a different color, as it is not Python code\n",
    "* This is called *syntax highlighting*  \n",
    "![Syntax Highlighting](syntaxhighlight.png)"
   ]
  },
  {
   "cell_type": "markdown",
   "metadata": {
    "slideshow": {
     "slide_type": "slide"
    }
   },
   "source": [
    "## Variables\n",
    "---\n",
    "* We can start talking Variables\n",
    "* Variables in programming are similar to those in math\n",
    "* They store a value \n",
    "* Assigned with the `=` operator \n",
    "* So `x = 5` we assign the integer value of `5` to be held in our variable `x`\n",
    "* Unlike in math `x = x + 1` is a valid statement"
   ]
  },
  {
   "cell_type": "markdown",
   "metadata": {
    "slideshow": {
     "slide_type": "slide"
    }
   },
   "source": [
    "## Variables\n",
    "---\n",
    "* We can add a variable to our Hello Word code\n",
    "* Previously our code was `print(\"Hello World\")`\n",
    "* Let's try assigning `\"Hello World\"` to a variable\n",
    "* And then print using the variable! "
   ]
  },
  {
   "cell_type": "code",
   "execution_count": 3,
   "metadata": {
    "slideshow": {
     "slide_type": "slide"
    }
   },
   "outputs": [
    {
     "name": "stdout",
     "output_type": "stream",
     "text": [
      "Hello World\n"
     ]
    }
   ],
   "source": [
    "# Danny Radosevich\n",
    "# COSC 1010\n",
    "# 8-23-23\n",
    "# Lab Section: 10\n",
    "# Sources used: None\n",
    "\n",
    "message = \"Hello World\"\n",
    "\n",
    "print(message)"
   ]
  },
  {
   "cell_type": "markdown",
   "metadata": {
    "slideshow": {
     "slide_type": "slide"
    }
   },
   "source": [
    "## Variables\n",
    "---\n",
    "* We added a *variable* to our code, named `message` \n",
    "* Every variable is connected to a *value*, the information associated with that variable \n",
    "* In this case `message` contains the *string* `\"Hello World\"`\n",
    "* Adding a  variable makes a little more work for the interpreter\n",
    "    * When it processes the first line, it associates the variable `message` with `\"Hello World\"`\n",
    "    * When it reaches the second line of code, it prints the value associated with `message` to the screen \n",
    "* Now, let's expand the code to print a second message"
   ]
  },
  {
   "cell_type": "code",
   "execution_count": 4,
   "metadata": {
    "slideshow": {
     "slide_type": "slide"
    }
   },
   "outputs": [
    {
     "name": "stdout",
     "output_type": "stream",
     "text": [
      "Hello World\n",
      "Hi there COSC1010\n"
     ]
    }
   ],
   "source": [
    "# Assign \"Hello World\" to our variable\n",
    "message = \"Hello World\"\n",
    "#Print out the message \n",
    "print(message)\n",
    "\n",
    "#Now, we are going to assign a new message to the same variable \n",
    "message = \"Hi there COSC1010\"\n",
    "print(message)"
   ]
  },
  {
   "cell_type": "markdown",
   "metadata": {
    "slideshow": {
     "slide_type": "slide"
    }
   },
   "source": [
    "## Variables\n",
    "---\n",
    "* Now when the code is run, there are two lines of output \n",
    "* You can change the value of a variable in your program at any time\n",
    "* Python will keep track of the current value after each change \n"
   ]
  },
  {
   "cell_type": "markdown",
   "metadata": {
    "slideshow": {
     "slide_type": "slide"
    }
   },
   "source": [
    "## Naming and Using Variables\n",
    "---\n",
    "* When using a variable in Python, there are a few rules and guidelines \n",
    "* Breaking some of these rules will cause errors\n",
    "* Other rules are in place just to make code easier to read and understand\n"
   ]
  },
  {
   "cell_type": "markdown",
   "metadata": {
    "slideshow": {
     "slide_type": "slide"
    }
   },
   "source": [
    "## Naming and Using Variables\n",
    "---\n",
    "* Keep these rules in mind:\n",
    "    * Variable names contain only letters, numbers, and underscores (Though numbers are rarely used)\n",
    "        * They must start with a letter or underscore\n",
    "        * `message_1` and `_message` are valid\n",
    "        * `1_message` is not\n",
    "* Spaces are not allowed in variable names\n",
    "    * use underscores instead! \n",
    "* Avoid using Python *keywords* and function names as variables\n",
    "    * These are things like `print`\n",
    "* Variable names are short and descriptive \n",
    "* Be careful when using the lowercase letter *l* and uppercase *O* as they may look like 1 and 0"
   ]
  },
  {
   "cell_type": "markdown",
   "metadata": {
    "slideshow": {
     "slide_type": "slide"
    }
   },
   "source": [
    "## Avoid Name Errors When Using Variables\n",
    "--- \n",
    "* Everyone makes mistakes, and most make mistakes daily \n",
    "* Good programmers may create errors, but they also know how to fix those errors\n",
    "* When an error occurs Python tries its best to help you \n",
    "* Let's look at an intentional error, and one that is likely to occur "
   ]
  },
  {
   "cell_type": "code",
   "execution_count": 5,
   "metadata": {
    "slideshow": {
     "slide_type": "slide"
    }
   },
   "outputs": [
    {
     "ename": "NameError",
     "evalue": "name 'emssage' is not defined",
     "output_type": "error",
     "traceback": [
      "\u001b[0;31m---------------------------------------------------------------------------\u001b[0m",
      "\u001b[0;31mNameError\u001b[0m                                 Traceback (most recent call last)",
      "\u001b[0;32m/tmp/ipykernel_6549/1780198087.py\u001b[0m in \u001b[0;36m<module>\u001b[0;34m\u001b[0m\n\u001b[1;32m      2\u001b[0m \u001b[0mmessage\u001b[0m \u001b[0;34m=\u001b[0m \u001b[0;34m\"Go Pokes!\"\u001b[0m\u001b[0;34m\u001b[0m\u001b[0;34m\u001b[0m\u001b[0m\n\u001b[1;32m      3\u001b[0m \u001b[0;31m#now print that message, intentionally misspelling message\u001b[0m\u001b[0;34m\u001b[0m\u001b[0;34m\u001b[0m\u001b[0m\n\u001b[0;32m----> 4\u001b[0;31m \u001b[0mprint\u001b[0m\u001b[0;34m(\u001b[0m\u001b[0memssage\u001b[0m\u001b[0;34m)\u001b[0m\u001b[0;34m\u001b[0m\u001b[0;34m\u001b[0m\u001b[0m\n\u001b[0m",
      "\u001b[0;31mNameError\u001b[0m: name 'emssage' is not defined"
     ]
    }
   ],
   "source": [
    "# assign a message\n",
    "message = \"Go Pokes!\"\n",
    "#now print that message, intentionally misspelling message\n",
    "print(emssage) "
   ]
  },
  {
   "cell_type": "markdown",
   "metadata": {
    "slideshow": {
     "slide_type": "slide"
    }
   },
   "source": [
    "## Avoid Name Errors When Using Variables\n",
    "--- \n",
    "* The interpreter provided a traceback, specifically with the error message `NameError: name 'emssage' is not defined`\n",
    "    * A *traceback* is a record of where the interpreter ran into trouble trying to run the code\n",
    "* It also tells us the line the error occurred on, in this case `4`\n",
    "* The interpreter also shows the line\n",
    "* This allows you as the developer to easily (hopefully) track done the error"
   ]
  },
  {
   "cell_type": "markdown",
   "metadata": {
    "slideshow": {
     "slide_type": "slide"
    }
   },
   "source": [
    "## Avoid Name Errors When Using Variables\n",
    "--- \n",
    "* In this case it was a name error `NameError: name 'emssage' is not defined`\n",
    "* It reports that the variable being printed `emssage` has not been defined \n",
    "* A name error usually means a variable's value hasn't been set, or there was a typo \n",
    "* If it can, Python will try to tell you a possible correct variable name\n"
   ]
  },
  {
   "cell_type": "markdown",
   "metadata": {
    "slideshow": {
     "slide_type": "slide"
    }
   },
   "source": [
    "## Variables are Labels\n",
    "--- \n",
    "* You can think of a variable as a box that stores a value in it\n",
    "* This idea can be helpful when you start out \n",
    "    * But, it isn;t necessarily an accurate way to describe how variables are represented internally in python \n",
    "* It's better to think of variables as labels that you can assign to values \n",
    "* You can say a variable *references* a certain value \n",
    "* Initially this distinction doesn't matter a ton, but it is better to learn it earlier than later"
   ]
  },
  {
   "cell_type": "markdown",
   "metadata": {
    "slideshow": {
     "slide_type": "slide"
    }
   },
   "source": [
    "## Strings\n",
    "---\n",
    "* Programmers often do gather some kind of data, and then do something useful with it\n",
    "* So, it helps to classify those different kinds of data \n",
    "* The first data type we can look at is a *string* \n",
    "* Strings are simple at first glance, but can be exceptionally helpful \n",
    "* Strings are a series of characters \n"
   ]
  },
  {
   "cell_type": "markdown",
   "metadata": {
    "slideshow": {
     "slide_type": "slide"
    }
   },
   "source": [
    "## Strings\n",
    "---\n",
    "* Anything inside of quotes in Python is a string\n",
    "* `\"this is a string\"`\n",
    "* `'this is also a string'`\n",
    "* This allows you to have quotations and apostrophes within strings\n",
    "* `\"when they hear that he's 'a-comin', cause the western folks all know, he's a high-falootin', rootin, tootin', son of a gun from ol' Wyomin\"`\n",
    "* `'And then I said \"Python is fun!\"'`\n"
   ]
  },
  {
   "cell_type": "markdown",
   "metadata": {
    "slideshow": {
     "slide_type": "slide"
    }
   },
   "source": [
    "## Changing the Case in a String with Methods\n",
    "--- \n",
    "* One of the simplest tasks that you can do with strings is changing the case of the words in a  string \n",
    "* Take this snippet of code:\n",
    "```\n",
    "name = \"ada lovelace\"\n",
    "print(name.title())\n",
    "```\n",
    "* What is this code likely doing? "
   ]
  },
  {
   "cell_type": "code",
   "execution_count": 6,
   "metadata": {
    "slideshow": {
     "slide_type": "slide"
    }
   },
   "outputs": [
    {
     "name": "stdout",
     "output_type": "stream",
     "text": [
      "Ada Lovelace\n"
     ]
    }
   ],
   "source": [
    "name = \"ada lovelace\"\n",
    "print(name.title())"
   ]
  },
  {
   "cell_type": "markdown",
   "metadata": {
    "slideshow": {
     "slide_type": "slide"
    }
   },
   "source": [
    "## Changing the Case in a String with Methods\n",
    "--- \n",
    "* The variable `name` refers to the lowercase string `\"ada lovelace\"`\n",
    "* The *method* `title` appears after the variable in the `print()` call\n",
    "* A *method* is an action that python can perform on a piece of data\n",
    "* The dot `.` after `name` in `name.title()` tells python to make the `title()` method act on the variable `name`\n",
    "* Every method is followed by a set of parenthesis, as methods often need additional information to do their work \n",
    "    * title however doesn't need any additional information "
   ]
  },
  {
   "cell_type": "markdown",
   "metadata": {
    "slideshow": {
     "slide_type": "slide"
    }
   },
   "source": [
    "## Changing the Case in a String with Methods\n",
    "--- \n",
    "* The `title()` function changes each word to title case, where each word begins with a capitol letter \n",
    "* This is useful because you will often want to think of a name as a piece of information\n",
    "    * for example you may want you program to recognize the input values\n",
    "        * `Ada`\n",
    "        * `ada`\n",
    "        * `ADA`\n",
    "    * And have the program display them all as `Ada`"
   ]
  },
  {
   "cell_type": "markdown",
   "metadata": {
    "slideshow": {
     "slide_type": "slide"
    }
   },
   "source": [
    "## Changing the Case in a String with Methods\n",
    "--- \n",
    "* There are other useful methods for dealing with case as well \n",
    "* For example you can change teh case to all uppercase `print(name.upper())`\n",
    "* Or, all lowercase `print(name.lower())`\n",
    "* The `lower()` method is particularly useful for storing data\n",
    "* Often you won't want to trust the casing input by a user, so you'll convert them to lower before storing\n",
    "* Then when you retrieve the data you can apply the correct casing for your needs"
   ]
  },
  {
   "cell_type": "code",
   "execution_count": 7,
   "metadata": {
    "slideshow": {
     "slide_type": "slide"
    }
   },
   "outputs": [
    {
     "name": "stdout",
     "output_type": "stream",
     "text": [
      "ADA LOVELACE\n",
      "ada lovelace\n"
     ]
    }
   ],
   "source": [
    "name = \"Ada Lovelace\"\n",
    "print(name.upper())\n",
    "print(name.lower())"
   ]
  },
  {
   "cell_type": "markdown",
   "metadata": {
    "slideshow": {
     "slide_type": "slide"
    }
   },
   "source": [
    "## Using Variables in Strings\n",
    "---\n",
    "* Sometimes you'll want to use a variable's value in a string\n",
    "* For example you may want to use two variables to represent a first and last name\n",
    "* Then, you want to be able to display those together in a string"
   ]
  },
  {
   "cell_type": "code",
   "execution_count": 2,
   "metadata": {
    "slideshow": {
     "slide_type": "slide"
    }
   },
   "outputs": [
    {
     "name": "stdout",
     "output_type": "stream",
     "text": [
      "ada lovelace\n"
     ]
    }
   ],
   "source": [
    "first_name = \"ada\"\n",
    "last_name = \"lovelace\"\n",
    "full_name = f\"{first_name} {last_name}\"\n",
    "print(full_name)"
   ]
  },
  {
   "cell_type": "markdown",
   "metadata": {
    "slideshow": {
     "slide_type": "slide"
    }
   },
   "source": [
    "## Using Variables in Strings\n",
    "---\n",
    "* To insert a variable's value in to a string, place the letter `f` before the opening quotation mark\n",
    "* Put braces around the name or names of variables you want to use in the string\n",
    "* Python will replace each variable with its value when the string is displayed\n",
    "* This strings are called *f-strings* \n",
    "    * The *f* is for *format* "
   ]
  },
  {
   "cell_type": "markdown",
   "metadata": {
    "slideshow": {
     "slide_type": "slide"
    }
   },
   "source": [
    "## Using Variables in Strings\n",
    "---\n",
    "* Python formats the string by replacing the name of any variable in braces with its value \n",
    "* So for our code snippet `full_name = f\"{first_name} {last_name}\"` the output becomes\n",
    "    * `ada lovelace`\n",
    "* A lot can be done with *f-strings* \n",
    "* *f-strings* can be used to compose completable messages \n",
    "* These messages would use the information associated with a variable \n",
    "* You can utilize string based methods on variables within *f-strings*"
   ]
  },
  {
   "cell_type": "code",
   "execution_count": 4,
   "metadata": {
    "slideshow": {
     "slide_type": "slide"
    }
   },
   "outputs": [
    {
     "name": "stdout",
     "output_type": "stream",
     "text": [
      "Hello There, Ada Lovelace\n"
     ]
    }
   ],
   "source": [
    "first_name = \"ada\"\n",
    "last_name = \"lovelace\"\n",
    "full_name = f\"{first_name} {last_name}\"\n",
    "print(f\"Hello There, {full_name.title()}\")"
   ]
  },
  {
   "cell_type": "markdown",
   "metadata": {
    "slideshow": {
     "slide_type": "slide"
    }
   },
   "source": [
    "## Adding Whitespace to Strings with Tabs or Newlines\n",
    "---\n",
    "* In programming *whitespace* refers to any non printing characters\n",
    "    * Spaces\n",
    "    * Tabs\n",
    "    * End-of-line symbols\n",
    "* Whitespace can be used to organize output to make it easier to read "
   ]
  },
  {
   "cell_type": "markdown",
   "metadata": {
    "slideshow": {
     "slide_type": "slide"
    }
   },
   "source": [
    "## Adding Whitespace to Strings with Tabs or Newlines\n",
    "---\n",
    "* Tab characters can be added by inserting `\\t` into a string\n",
    "* Newline characters can be added with `\\n`\n",
    "* As many or as little tabs and newlines can be added to ensure the string is as you want it\n",
    "* The ability to add tabs and newlines are extremely helpful"
   ]
  },
  {
   "cell_type": "code",
   "execution_count": 7,
   "metadata": {
    "slideshow": {
     "slide_type": "slide"
    }
   },
   "outputs": [
    {
     "name": "stdout",
     "output_type": "stream",
     "text": [
      "python\n",
      "\tpython\n",
      "--------------\n",
      "pythonpython\n",
      "python\n",
      "python\n",
      "--------------\n",
      "python\n",
      "\tpython\n"
     ]
    }
   ],
   "source": [
    "print(\"python\")\n",
    "print(\"\\tpython\")\n",
    "\n",
    "print(\"--------------\")\n",
    "print(\"pythonpython\")\n",
    "print(\"python\\npython\")\n",
    "print(\"--------------\")\n",
    "print(\"python\\n\\tpython\")"
   ]
  },
  {
   "cell_type": "markdown",
   "metadata": {
    "slideshow": {
     "slide_type": "slide"
    }
   },
   "source": [
    "## Stripping Whitespace\n",
    "---\n",
    "* Extra whitespace can be confusing in programs\n",
    "* To programmers `'python'` and `'python   '` look effectively the same\n",
    "* To a program they are two different strings thanks to the tailing whitespace \n",
    "* Python considers the whitespace to be significant unless told otherwise "
   ]
  },
  {
   "cell_type": "markdown",
   "metadata": {
    "slideshow": {
     "slide_type": "slide"
    }
   },
   "source": [
    "## Stripping Whitespace\n",
    "---\n",
    "* It is important to think about whitespace\n",
    "* Often two strings will need to be compared to see if they're the same\n",
    "* An example may be checking usernames against a stored one to determine equivalency \n",
    "* Extra whitespace can be confusing in more simple applications as well"
   ]
  },
  {
   "cell_type": "markdown",
   "metadata": {
    "slideshow": {
     "slide_type": "slide"
    }
   },
   "source": [
    "## Stripping Whitespace\n",
    "---\n",
    "* Python make sit easy to eliminate extra whitespace from data that people enter\n",
    "* Python can look for extra whitespace on the right and left sides of strings \n",
    "* To ensure there is no whitespace on the right side `.rstrip()` can be used"
   ]
  },
  {
   "cell_type": "code",
   "execution_count": 8,
   "metadata": {
    "slideshow": {
     "slide_type": "slide"
    }
   },
   "outputs": [
    {
     "name": "stdout",
     "output_type": "stream",
     "text": [
      "py    thon\n",
      "python\n"
     ]
    }
   ],
   "source": [
    "string_one = \"py    \"\n",
    "string_two = \"thon\"\n",
    "\n",
    "print(f\"{string_one}{string_two}\")\n",
    "print(f\"{string_one.rstrip()}{string_two}\")"
   ]
  },
  {
   "cell_type": "markdown",
   "metadata": {
    "slideshow": {
     "slide_type": "slide"
    }
   },
   "source": [
    "## Stripping Whitespace\n",
    "---\n",
    "* `string_one` contained extra tailing whitespace\n",
    "* When `.rstrip()` is applied that whitespace is removed \n",
    "* It is only removed temporarily, if you asked for the variable `string_one` again it would be back \n",
    "* To remove whitespace from a  string permanently you have to associate the stripped version with the variable name"
   ]
  },
  {
   "cell_type": "code",
   "execution_count": 9,
   "metadata": {
    "slideshow": {
     "slide_type": "slide"
    }
   },
   "outputs": [
    {
     "name": "stdout",
     "output_type": "stream",
     "text": [
      "py    thon\n",
      "python\n",
      "py    thon\n",
      "python\n"
     ]
    }
   ],
   "source": [
    "string_one = \"py    \"\n",
    "string_two = \"thon\"\n",
    "\n",
    "print(f\"{string_one}{string_two}\")\n",
    "print(f\"{string_one.rstrip()}{string_two}\")\n",
    "\n",
    "print(f\"{string_one}{string_two}\")\n",
    "\n",
    "string_one = string_one.rstrip()\n",
    "print(f\"{string_one}{string_two}\")"
   ]
  },
  {
   "cell_type": "markdown",
   "metadata": {
    "slideshow": {
     "slide_type": "slide"
    }
   },
   "source": [
    "## Stripping Whitespace\n",
    "---\n",
    "* To remove the whitespace from the variable it is stripped from the right and reassigned\n",
    "* Changing the value associated with a variable is often done in programming\n",
    "* This is how a variable's value can be updated as a program is executed\n",
    "* White space can also be stripped from the left with `.lstrip()`\n",
    "* Or from both sides with `.strip()`"
   ]
  },
  {
   "cell_type": "code",
   "execution_count": 10,
   "metadata": {
    "slideshow": {
     "slide_type": "slide"
    }
   },
   "outputs": [
    {
     "name": "stdout",
     "output_type": "stream",
     "text": [
      "py    thon\n",
      "python\n",
      "*   python   *\n",
      "*python*\n"
     ]
    }
   ],
   "source": [
    "string_one = \"py\"\n",
    "string_two = \"    thon\"\n",
    "print(f\"{string_one}{string_two}\")\n",
    "print(f\"{string_one}{string_two.lstrip()}\")\n",
    "\n",
    "string_three = \"   python   \"\n",
    "print(f\"*{string_three}*\")\n",
    "print(f\"*{string_three.strip()}*\")"
   ]
  },
  {
   "cell_type": "markdown",
   "metadata": {
    "slideshow": {
     "slide_type": "slide"
    }
   },
   "source": [
    "## Removing Prefixes\n",
    "---\n",
    "* When working with strings another common task is to remove a prefix\n",
    "* Consider a URL with the common prefix `https://`\n",
    "* Suppose you want to remove this prefix to just focus on the URL\n",
    "* Tis can be done with the `.removeprefix()` method"
   ]
  },
  {
   "cell_type": "code",
   "execution_count": 12,
   "metadata": {
    "slideshow": {
     "slide_type": "slide"
    }
   },
   "outputs": [
    {
     "name": "stdout",
     "output_type": "stream",
     "text": [
      "https://wyoweb.uwyo.edu/\n",
      "wyoweb.uwyo.edu/\n"
     ]
    }
   ],
   "source": [
    "wyoweb = \"https://wyoweb.uwyo.edu/\"\n",
    "print(wyoweb)\n",
    "\n",
    "\n",
    "\n",
    "print(wyoweb.removeprefix(\"https://\"))"
   ]
  },
  {
   "cell_type": "markdown",
   "metadata": {
    "slideshow": {
     "slide_type": "slide"
    }
   },
   "source": [
    "## Removing Prefixes\n",
    "---\n",
    "* To do this you enter the name of the variable followed by a dot and the method name\n",
    "* In the parenthesis you supply the string of the parenthesis you want to remove\n",
    "* Like the methods for removing white space `.removeprefix()` leaves the original unchanged\n",
    "* To do so permanently you can reassign the variable with the stripped string as its value "
   ]
  },
  {
   "cell_type": "markdown",
   "metadata": {
    "slideshow": {
     "slide_type": "slide"
    }
   },
   "source": [
    "## Avoiding Syntax Errors with Strings\n",
    "---\n",
    "* One kind of error you will often see is a syntax error\n",
    "* A *syntax error* occurs when Python doesn't recognize a section of your program as valid\n",
    "* For example if you use an apostrophe inside a single quote it will produce an error\n",
    "    * `'cause the western folks all know, he's a high-falootin', rootin, tootin', '`\n",
    "* Python assumes the first quotation to the apostrophe is the string\n",
    "* So everything following is an error"
   ]
  },
  {
   "cell_type": "code",
   "execution_count": 13,
   "metadata": {
    "slideshow": {
     "slide_type": "slide"
    }
   },
   "outputs": [
    {
     "ename": "SyntaxError",
     "evalue": "unterminated string literal (detected at line 1) (3334084592.py, line 1)",
     "output_type": "error",
     "traceback": [
      "\u001b[0;36m  File \u001b[0;32m\"/tmp/ipykernel_11649/3334084592.py\"\u001b[0;36m, line \u001b[0;32m1\u001b[0m\n\u001b[0;31m    print(`'cause the western folks all know, he's a high-falootin', rootin, tootin', '`)\u001b[0m\n\u001b[0m                                                                                      ^\u001b[0m\n\u001b[0;31mSyntaxError\u001b[0m\u001b[0;31m:\u001b[0m unterminated string literal (detected at line 1)\n"
     ]
    }
   ],
   "source": [
    "print(`'cause the western folks all know, he's a high-falootin', rootin, tootin', '`)"
   ]
  },
  {
   "cell_type": "markdown",
   "metadata": {
    "slideshow": {
     "slide_type": "slide"
    }
   },
   "source": [
    "## Avoiding Syntax Errors with Strings\n",
    "---\n",
    "* To do this correctly you can use double quotes instead\n",
    "    * `\"cause the western folks all know, he's a high-falootin', rootin, tootin',\"`\n",
    "* Using double quotes to encapsulate the string allows the use of single quotes and apostrophes in the string "
   ]
  },
  {
   "cell_type": "markdown",
   "metadata": {
    "slideshow": {
     "slide_type": "slide"
    }
   },
   "source": [
    "## Numbers\n",
    "---\n",
    "* Numbers are used often in programming\n",
    "    * Keeping score in a game\n",
    "    * Representing data in visualizations \n",
    "    * Storing information in web applications\n",
    "* Python treats numbers in several different ways "
   ]
  },
  {
   "cell_type": "markdown",
   "metadata": {
    "slideshow": {
     "slide_type": "slide"
    }
   },
   "source": [
    "## Integers\n",
    "---\n",
    "* The simplest numbers in Python \n",
    "* With integers you can \n",
    "    * Add (+)\n",
    "    * Subtract (-)\n",
    "    * Multiply (*)\n",
    "    * Divide (/)\n",
    "    * Raise to a power (**)"
   ]
  },
  {
   "cell_type": "markdown",
   "metadata": {
    "slideshow": {
     "slide_type": "slide"
    }
   },
   "source": [
    "## Integers\n",
    "---\n",
    "* In a terminal session python returns the result of an operation \n",
    "![Python Math](pythonmath.png)"
   ]
  },
  {
   "cell_type": "markdown",
   "metadata": {
    "slideshow": {
     "slide_type": "slide"
    }
   },
   "source": [
    "## Integers\n",
    "---\n",
    "* Python supports order of operations too\n",
    "* Multiple operations can be used in a single expression\n",
    "* You can use parenthesis to modify the order of operations \n",
    "* This allows Python to know the order you want the expression evaluated "
   ]
  },
  {
   "cell_type": "code",
   "execution_count": 15,
   "metadata": {
    "slideshow": {
     "slide_type": "slide"
    }
   },
   "outputs": [
    {
     "name": "stdout",
     "output_type": "stream",
     "text": [
      "14\n",
      "20\n"
     ]
    }
   ],
   "source": [
    "x = 2+3*4\n",
    "print(x)\n",
    "y = (2+3)*4\n",
    "print(y)"
   ]
  },
  {
   "cell_type": "markdown",
   "metadata": {
    "slideshow": {
     "slide_type": "slide"
    }
   },
   "source": [
    "## Floats\n",
    "---\n",
    "* Python calls any number with a decimal point a float\n",
    "* The term is used in most programming languages\n",
    "* It refers to the fact that a decimal point may appear at any place in the number \n",
    "* Every programming language must be properly designed to manage decimal numbers, so numbers behave accordingly \n",
    "* Mostly you can use floats without worry "
   ]
  },
  {
   "cell_type": "code",
   "execution_count": 17,
   "metadata": {
    "slideshow": {
     "slide_type": "slide"
    }
   },
   "outputs": [
    {
     "name": "stdout",
     "output_type": "stream",
     "text": [
      "0.2\n",
      "0.4\n",
      "0.2\n"
     ]
    }
   ],
   "source": [
    "x = 0.1 + 0.1\n",
    "print(x)\n",
    "\n",
    "y = 0.2 + 0.2\n",
    "print(y)\n",
    "\n",
    "z = 2 * 0.1\n",
    "print(z)"
   ]
  },
  {
   "cell_type": "markdown",
   "metadata": {
    "slideshow": {
     "slide_type": "slide"
    }
   },
   "source": [
    "## Floats\n",
    "---\n",
    "* However, there are some circumstances where you may get an arbitrary number of decimal places in an answer\n",
    "* This happens in all languages, and is of little concern\n",
    "* Python tries to find a way to represent all the result as precisely as possible \n",
    "* this is difficult given how computers represent numbers internally "
   ]
  },
  {
   "cell_type": "code",
   "execution_count": 19,
   "metadata": {
    "slideshow": {
     "slide_type": "slide"
    }
   },
   "outputs": [
    {
     "name": "stdout",
     "output_type": "stream",
     "text": [
      "0.30000000000000004\n",
      "0.30000000000000004\n"
     ]
    }
   ],
   "source": [
    "x = 0.1 + 0.2\n",
    "print(x)\n",
    "\n",
    "y = 3 * 0.1\n",
    "print(y)"
   ]
  },
  {
   "cell_type": "markdown",
   "metadata": {
    "slideshow": {
     "slide_type": "slide"
    }
   },
   "source": [
    "## Integers and Floats\n",
    "---\n",
    "* When you divide any two numbers you will get a float\n",
    "    * Even if dividing two integers and the result is a whole number\n",
    "* If you mix an integer and float in any operation you will get a float \n",
    "* Python defaults to a float in any operation involving a float, regardless of if the output is a whole number "
   ]
  },
  {
   "cell_type": "code",
   "execution_count": 21,
   "metadata": {
    "slideshow": {
     "slide_type": "slide"
    }
   },
   "outputs": [
    {
     "name": "stdout",
     "output_type": "stream",
     "text": [
      "2.0\n",
      "3.0\n",
      "6.0\n",
      "9.0\n"
     ]
    }
   ],
   "source": [
    "print(4/2)\n",
    "print(1+2.0)\n",
    "print(2*3.0)\n",
    "print(3.0**2)"
   ]
  },
  {
   "cell_type": "markdown",
   "metadata": {
    "slideshow": {
     "slide_type": "slide"
    }
   },
   "source": [
    "## Underscores in Numbers\n",
    "---\n",
    "* When writing long numbers you can group digits using underscores\n",
    "* This makes large numbers more readable\n",
    "    * `universe_age = 14_000_000_000`\n",
    "When a number that was defined using underscores is printed, only the number is shown\n",
    "* Python ignores the underscores when storing these kinds of variables\n",
    "* This applies even ifa  grouping of three isn't used\n",
    "    * `1000 == 1_000 == 10_00`"
   ]
  },
  {
   "cell_type": "code",
   "execution_count": 22,
   "metadata": {
    "slideshow": {
     "slide_type": "slide"
    }
   },
   "outputs": [
    {
     "name": "stdout",
     "output_type": "stream",
     "text": [
      "14000000000\n"
     ]
    }
   ],
   "source": [
    "universe_age = 14_000_000_000\n",
    "print(universe_age)"
   ]
  },
  {
   "cell_type": "markdown",
   "metadata": {
    "slideshow": {
     "slide_type": "slide"
    }
   },
   "source": [
    "## Multiple Assignments\n",
    "---\n",
    "* You can assign values to more than one variables using just a single line\n",
    "* This can help shorten your programs\n",
    "    * While also making them easier to read\n",
    "* You just need to separate the values and variable names by a comma\n",
    "* Python will assign each value to its respective variable as long as the number of items on each side matches "
   ]
  },
  {
   "cell_type": "code",
   "execution_count": 25,
   "metadata": {
    "slideshow": {
     "slide_type": "slide"
    }
   },
   "outputs": [
    {
     "name": "stdout",
     "output_type": "stream",
     "text": [
      "1 2 3\n"
     ]
    }
   ],
   "source": [
    "x,y,z = 1,2,3 \n",
    "print(x,y,z)"
   ]
  },
  {
   "cell_type": "markdown",
   "metadata": {
    "slideshow": {
     "slide_type": "slide"
    }
   },
   "source": [
    "## Constants \n",
    "---\n",
    "* A constant is a variable whose value stays the same throughout program execution \n",
    "* Python doesn't have a built in constant type \n",
    "* Python programmers use all capitol letters to indicate a variable should be treated as constant "
   ]
  },
  {
   "cell_type": "markdown",
   "metadata": {},
   "source": []
  }
 ],
 "metadata": {
  "celltoolbar": "Slideshow",
  "kernelspec": {
   "display_name": "Python 3 (ipykernel)",
   "language": "python",
   "name": "python3"
  },
  "language_info": {
   "codemirror_mode": {
    "name": "ipython",
    "version": 3
   },
   "file_extension": ".py",
   "mimetype": "text/x-python",
   "name": "python",
   "nbconvert_exporter": "python",
   "pygments_lexer": "ipython3",
   "version": "3.10.12"
  }
 },
 "nbformat": 4,
 "nbformat_minor": 2
}
