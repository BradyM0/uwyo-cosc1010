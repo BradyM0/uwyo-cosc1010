{
 "cells": [
  {
   "cell_type": "markdown",
   "metadata": {
    "slideshow": {
     "slide_type": "slide"
    }
   },
   "source": [
    "c# <p style=\"text-align: Center;\">Dictionaries</p>\n",
    "## <p style=\"text-align: Center;\">University of Wyoming COSC 1010</p>\n",
    "### <p style=\"text-align: Center;\">Adapted from: *Python Crash Course 3rd Ed* By Eric Matthes </p>"
   ]
  },
  {
   "cell_type": "markdown",
   "metadata": {
    "slideshow": {
     "slide_type": "slide"
    }
   },
   "source": [
    "## Dictionaries\n",
    "---\n",
    "* Now we can talk about Dictionaries, one of Python's most helpful data structures\n",
    "* These allow pieces of related data to be connected and stored together \n",
    "* We will learn how to access and modify data within a dictionary \n",
    "* Dictionaries can store almost limitless amounts of data, so being able to loop through them is also important"
   ]
  },
  {
   "cell_type": "markdown",
   "metadata": {
    "slideshow": {
     "slide_type": "slide"
    }
   },
   "source": [
    "## Dictionaries \n",
    "---\n",
    "* Dictionaries can be nested within lists\n",
    "* Lists can be nested in Dictionaries \n",
    "* Dictionaries can be nested in other dictionaries "
   ]
  },
  {
   "cell_type": "markdown",
   "metadata": {
    "slideshow": {
     "slide_type": "slide"
    }
   },
   "source": [
    "## Dictionaries \n",
    "---\n",
    "* Understanding Dictionaries enables the modeling of real-world objects more accurately \n",
    "* For example you could create a dictionary about a person, and store information about them \n",
    "* With dictionaries any two kinds of information and be stored together"
   ]
  },
  {
   "cell_type": "markdown",
   "metadata": {
    "slideshow": {
     "slide_type": "slide"
    }
   },
   "source": [
    "## Working with Dictionaries\n",
    "---\n",
    "* A `dictionary` in Python is a collection of *key-value* pairs\n",
    "* Each *key* is connected to a *value*\n",
    "* A key's value can be a number, a string, a list, or even another dictionary\n"
   ]
  },
  {
   "cell_type": "markdown",
   "metadata": {
    "slideshow": {
     "slide_type": "slide"
    }
   },
   "source": [
    "## Working With Dictionaries \n",
    "---\n",
    "* In python a dictionary is wrapped in braces `{}` with a series of `key:value` pairs inside\n",
    "    * `states = {'Wyoming':'Cheyenne','Colorado':'Denver'}`\n",
    "* A `key:value` pair is a set of values associated with each other\n",
    "* When you provide a key, Python returns its associated value \n",
    "* Every `key:value` pair is connected with a colon `:`"
   ]
  },
  {
   "cell_type": "markdown",
   "metadata": {
    "slideshow": {
     "slide_type": "slide"
    }
   },
   "source": [
    "## Working With Dictionaries \n",
    "---\n",
    "* The simplest dictionary contains only one pair\n",
    "* But, dictionaries can store as many pairs as you want "
   ]
  },
  {
   "cell_type": "markdown",
   "metadata": {
    "slideshow": {
     "slide_type": "slide"
    }
   },
   "source": [
    "## Accessing Values in a Dictionary\n",
    "---\n",
    "* To get the value associated with a key, give the name of the dictionary and place the key is square brackets\n",
    "    * `states['Wyoming']`\n",
    "* That returns the value associated with the key, so `\"Cheyenne\"`\n",
    "* You can have an unlimited number of `key:value:` pairs in a dictionary \n",
    "* You can access any of the values with their corresponding key "
   ]
  },
  {
   "cell_type": "code",
   "execution_count": 2,
   "metadata": {
    "slideshow": {
     "slide_type": "slide"
    }
   },
   "outputs": [
    {
     "name": "stdout",
     "output_type": "stream",
     "text": [
      "The capitol of Wyoming is Cheyenne\n"
     ]
    }
   ],
   "source": [
    "states = {\"Wyoming\":\"Cheyenne\",\"Colorado\":\"Denver\"}\n",
    "\n",
    "print(f\"The capitol of Wyoming is {states['Wyoming']}\")"
   ]
  },
  {
   "cell_type": "markdown",
   "metadata": {
    "slideshow": {
     "slide_type": "slide"
    }
   },
   "source": [
    "## Adding New Key-Value Pairs\n",
    "---\n",
    "* Dictionaries are dynamic structures, like lists\n",
    "* You can add new `key-value` pairs to a dictionary at any time\n",
    "* To add a new `key-value` pair you give the name of the dictionary followed by the key in square brackets, assigning the new value \n",
    "* So a new state could be added with `states[\"Montana\"] = \"Helena\"`"
   ]
  },
  {
   "cell_type": "code",
   "execution_count": 2,
   "metadata": {
    "slideshow": {
     "slide_type": "slide"
    }
   },
   "outputs": [
    {
     "name": "stdout",
     "output_type": "stream",
     "text": [
      "{'Wyoming': 'Cheyenne', 'Colorado': 'Denver'}\n",
      "{'Wyoming': 'Cheyenne', 'Colorado': 'Denver', 'Montana': 'Helena'}\n"
     ]
    }
   ],
   "source": [
    "states = {\"Wyoming\":\"Cheyenne\",\"Colorado\":\"Denver\"}\n",
    "print(states)\n",
    "states[\"Montana\"] = \"Helena\"\n",
    "print(states)\n"
   ]
  },
  {
   "cell_type": "markdown",
   "metadata": {
    "slideshow": {
     "slide_type": "slide"
    }
   },
   "source": [
    "## Adding New Key-Value Pairs\n",
    "---\n",
    "* There we defined our states dictionary again\n",
    "* We printed it out to verify the two states were there\n",
    "* Then supplying a new key we assign a new value to the list \n",
    "* Dictionaries retain the order in which they were defined"
   ]
  },
  {
   "cell_type": "markdown",
   "metadata": {
    "slideshow": {
     "slide_type": "slide"
    }
   },
   "source": [
    "## Starting with an Empty Dictionary\n",
    "---\n",
    "* Sometimes it is helpful to start with an empty dictionary\n",
    "* Then as needed adding new elements to it\n",
    "* To start filling an empty dictionary, define a dictionary with an empty set of braces \n",
    "    * `states = {}`\n",
    "* Then, each `key:value` pair can be added\n",
    "* Typically empty dictionaries are used to store suer supplied data"
   ]
  },
  {
   "cell_type": "code",
   "execution_count": 3,
   "metadata": {
    "slideshow": {
     "slide_type": "slide"
    }
   },
   "outputs": [
    {
     "name": "stdout",
     "output_type": "stream",
     "text": [
      "{}\n",
      "{'United States': 'Washington D.C', 'Canada': 'Ottawa'}\n"
     ]
    }
   ],
   "source": [
    "countries = {}\n",
    "print(countries)\n",
    "countries[\"United States\"] = \"Washington D.C\"\n",
    "countries[\"Canada\"] = \"Ottawa\"\n",
    "print(countries)"
   ]
  },
  {
   "cell_type": "markdown",
   "metadata": {
    "slideshow": {
     "slide_type": "slide"
    }
   },
   "source": [
    "## Modifying Values in a Dictionary\n",
    "---\n",
    "* Modifying a value in a dictionary follows the same syntax as adding a value\n",
    "* The dictionary name and key in square brackets with an assignment to it\n",
    "* You need to be careful to not overwrite already existing values when trying to declare a new one"
   ]
  },
  {
   "cell_type": "code",
   "execution_count": 4,
   "metadata": {
    "slideshow": {
     "slide_type": "slide"
    }
   },
   "outputs": [
    {
     "name": "stdout",
     "output_type": "stream",
     "text": [
      "{'Red': '#ff0000', 'Blue': '#0000ff', 'UW-Gold': '#492f24'}\n"
     ]
    }
   ],
   "source": [
    "colors = {\"Red\":\"#ff0000\",\"Blue\":\"#0000ff\",\"UW-Gold\":\"#492f24\"}\n",
    "print(colors)\n",
    "colors[\"UW-Gold\"] = \"#ffc425\""
   ]
  },
  {
   "cell_type": "markdown",
   "metadata": {
    "slideshow": {
     "slide_type": "slide"
    }
   },
   "source": [
    "## Removing `key:value` Pairs\n",
    "---\n",
    "* When you no longer need information in a  dictionary, the `del` statement can be used\n",
    "* All `del` needs is the name of the dictionary and the key you want to remove\n",
    "* So to remove a state: `del states['Colorado']`"
   ]
  },
  {
   "cell_type": "code",
   "execution_count": 5,
   "metadata": {
    "slideshow": {
     "slide_type": "slide"
    }
   },
   "outputs": [
    {
     "name": "stdout",
     "output_type": "stream",
     "text": [
      "{'Red': '#ff0000', 'Blue': '#0000ff', 'UW-Gold': '#492f24'}\n",
      "{'Blue': '#0000ff', 'UW-Gold': '#492f24'}\n"
     ]
    }
   ],
   "source": [
    "colors = {\"Red\":\"#ff0000\",\"Blue\":\"#0000ff\",\"UW-Gold\":\"#492f24\"}\n",
    "print(colors) \n",
    "del colors[\"Red\"]\n",
    "print(colors)"
   ]
  },
  {
   "cell_type": "markdown",
   "metadata": {
    "slideshow": {
     "slide_type": "slide"
    }
   },
   "source": [
    "## Removing `key:value` Pairs\n",
    "---\n",
    "* The `del` statement tells python to delete the key `Red` from the dictionary\n",
    "* It also removes the value associated with that key \n",
    "* the deleted `key:value` pair is removed immediately "
   ]
  },
  {
   "cell_type": "markdown",
   "metadata": {
    "slideshow": {
     "slide_type": "slide"
    }
   },
   "source": [
    "## What to Store in a Dictionary\n",
    "---\n",
    "* Our previous examples were used to store similar kinds of information\n",
    "    * e.g. States and their Capitals\n",
    "* You could also use dictionaries to store multiple pieces of information about one object\n",
    "* Dictionary declarations do not need to declared all out on one line\n",
    "* You can have new lines between entries"
   ]
  },
  {
   "cell_type": "code",
   "execution_count": 11,
   "metadata": {
    "slideshow": {
     "slide_type": "slide"
    }
   },
   "outputs": [
    {
     "name": "stdout",
     "output_type": "stream",
     "text": [
      "{'Name': 'University of Wyoming', 'City': 'Laramie', 'State': 'Wyoming', 'Founded': 1886, 'Students': 11100}\n"
     ]
    }
   ],
   "source": [
    "university_of_wyoming = {\n",
    "    \"Name\": \"University of Wyoming\",\n",
    "    \"City\": \"Laramie\",\n",
    "    \"State\":\"Wyoming\",\n",
    "    \"Founded\":1886, \n",
    "    \"Students\":11_100\n",
    "}\n",
    "print(university_of_wyoming)"
   ]
  },
  {
   "cell_type": "markdown",
   "metadata": {
    "slideshow": {
     "slide_type": "slide"
    }
   },
   "source": [
    "## Using `get()` to Access Values\n",
    "---\n",
    "* Using keys in square brackets to retrieve values has one potential problem:\n",
    "    * If the key doesn't exist you will get an error \n",
    "* Namely a `KeyError`"
   ]
  },
  {
   "cell_type": "code",
   "execution_count": 8,
   "metadata": {
    "slideshow": {
     "slide_type": "slide"
    }
   },
   "outputs": [
    {
     "ename": "KeyError",
     "evalue": "'Blue'",
     "output_type": "error",
     "traceback": [
      "\u001b[0;31m---------------------------------------------------------------------------\u001b[0m",
      "\u001b[0;31mKeyError\u001b[0m                                  Traceback (most recent call last)",
      "\u001b[0;32m/tmp/ipykernel_38630/3593499717.py\u001b[0m in \u001b[0;36m<module>\u001b[0;34m\u001b[0m\n\u001b[1;32m      1\u001b[0m \u001b[0mcolors\u001b[0m \u001b[0;34m=\u001b[0m \u001b[0;34m{\u001b[0m\u001b[0;34m}\u001b[0m\u001b[0;34m\u001b[0m\u001b[0;34m\u001b[0m\u001b[0m\n\u001b[0;32m----> 2\u001b[0;31m \u001b[0mprint\u001b[0m\u001b[0;34m(\u001b[0m\u001b[0mcolors\u001b[0m\u001b[0;34m[\u001b[0m\u001b[0;34m\"Blue\"\u001b[0m\u001b[0;34m]\u001b[0m\u001b[0;34m)\u001b[0m\u001b[0;34m\u001b[0m\u001b[0;34m\u001b[0m\u001b[0m\n\u001b[0m",
      "\u001b[0;31mKeyError\u001b[0m: 'Blue'"
     ]
    }
   ],
   "source": [
    "colors = {} \n",
    "print(colors[\"Blue\"])"
   ]
  },
  {
   "cell_type": "markdown",
   "metadata": {
    "slideshow": {
     "slide_type": "slide"
    }
   },
   "source": [
    "## Using `get()` to Access Values\n",
    "---\n",
    "* Alternatively `get()` can be used\n",
    "* The `get()` method requires a key as its first argument\n",
    "* it also takes a second argument optionally, what will be returned if no corresponding key is found "
   ]
  },
  {
   "cell_type": "code",
   "execution_count": 9,
   "metadata": {
    "slideshow": {
     "slide_type": "slide"
    }
   },
   "outputs": [
    {
     "name": "stdout",
     "output_type": "stream",
     "text": [
      "That key wasn't found\n"
     ]
    }
   ],
   "source": [
    "colors = {} \n",
    "print(colors.get(\"Blue\",\"That key wasn't found\"))"
   ]
  },
  {
   "cell_type": "markdown",
   "metadata": {
    "slideshow": {
     "slide_type": "slide"
    }
   },
   "source": [
    "## Looping Through a Dictionary \n",
    "---\n",
    "* Much like with lists, dictionaries can hold just a few `key:value` pairs, or millions\n",
    "* Because a dictionary can contain large amounts of data, Python lets you loop through a dictionary\n",
    "* Dictionaries can be used to store information in a variety of ways\n",
    "* You can loop through:\n",
    "    * All of the dictionary's `key:value` pairs\n",
    "    * Through its keys\n",
    "    * Or through its values"
   ]
  },
  {
   "cell_type": "markdown",
   "metadata": {
    "slideshow": {
     "slide_type": "slide"
    }
   },
   "source": [
    "## Looping Through All Key-Value Pairs\n",
    "---\n",
    "* To begin, think about the previous UW example\n",
    "* We already know how to access individual values based on their keys\n",
    "* But how can we go about looping through all the elements rather than getting them manually\n",
    "* To do so we can use a `for` loop"
   ]
  },
  {
   "cell_type": "code",
   "execution_count": 12,
   "metadata": {
    "slideshow": {
     "slide_type": "slide"
    }
   },
   "outputs": [
    {
     "name": "stdout",
     "output_type": "stream",
     "text": [
      "Key: Name\n",
      "Value: University of Wyoming\n",
      "\n",
      "Key: City\n",
      "Value: Laramie\n",
      "\n",
      "Key: State\n",
      "Value: Wyoming\n",
      "\n",
      "Key: Founded\n",
      "Value: 1886\n",
      "\n",
      "Key: Students\n",
      "Value: 11100\n",
      "\n"
     ]
    }
   ],
   "source": [
    "university_of_wyoming = {\n",
    "    \"Name\": \"University of Wyoming\",\n",
    "    \"City\": \"Laramie\",\n",
    "    \"State\":\"Wyoming\",\n",
    "    \"Founded\":1886, \n",
    "    \"Students\":11_100\n",
    "}\n",
    "\n",
    "for key, value in university_of_wyoming.items():\n",
    "    print(f\"Key: {key}\")\n",
    "    print(f\"Value: {value}\\n\")"
   ]
  },
  {
   "cell_type": "markdown",
   "metadata": {
    "slideshow": {
     "slide_type": "slide"
    }
   },
   "source": [
    "## Looping Through All Key-Value Pairs\n",
    "---\n",
    "* This loop is a *little* different than we have seen\n",
    "* Here two variables are declared \n",
    "    * These variables can have any name you want\n",
    "* The variables function the same as we have seen previously\n",
    "    * Gaining new values in each iteration through the loop "
   ]
  },
  {
   "cell_type": "markdown",
   "metadata": {
    "slideshow": {
     "slide_type": "slide"
    }
   },
   "source": [
    "## Looping Through All Key-Value Pairs\n",
    "---\n",
    "* The second part of the `for` loop is also different \n",
    "* It includes the dictionary name followed by `.items()`\n",
    "* `.items()` returns a sequence of `key:value` pairs\n",
    "* The `for` loop then assigns each of these pairs to the two variables "
   ]
  },
  {
   "cell_type": "markdown",
   "metadata": {
    "slideshow": {
     "slide_type": "slide"
    }
   },
   "source": [
    "## Looping Through All Key-Value Pairs\n",
    "---\n",
    "* Looping though all `key:value` pairs works particularly well for dictionaries storing the same kind of information \n",
    "    * So the colors example previously\n",
    "    * We know that they `key:value` is always `colorname:hexvalue`\n",
    "    * So, rather than using `key, value` instead `color, hex` could be used "
   ]
  },
  {
   "cell_type": "markdown",
   "metadata": {
    "slideshow": {
     "slide_type": "slide"
    }
   },
   "source": [
    "## Looping Through All the Keys in a Dictionary\n",
    "---\n",
    "* The `.keys()` method is useful when all the values aren't needed \n",
    "* So for example, printing the UW dictionary keys would show what attributes are stored\n",
    "* Doing this would only require a single variable name"
   ]
  },
  {
   "cell_type": "code",
   "execution_count": 13,
   "metadata": {
    "slideshow": {
     "slide_type": "slide"
    }
   },
   "outputs": [
    {
     "name": "stdout",
     "output_type": "stream",
     "text": [
      "The attributes available are: \n",
      "Name\n",
      "City\n",
      "State\n",
      "Founded\n",
      "Students\n"
     ]
    }
   ],
   "source": [
    "university_of_wyoming = {\n",
    "    \"Name\": \"University of Wyoming\",\n",
    "    \"City\": \"Laramie\",\n",
    "    \"State\":\"Wyoming\",\n",
    "    \"Founded\":1886, \n",
    "    \"Students\":11_100\n",
    "}\n",
    "\n",
    "print(\"The attributes available are: \")\n",
    "for key in university_of_wyoming.keys():\n",
    "    print(key)\n"
   ]
  },
  {
   "cell_type": "markdown",
   "metadata": {
    "slideshow": {
     "slide_type": "slide"
    }
   },
   "source": [
    "## Looping Through All the Keys in a Dictionary\n",
    "---\n",
    "* The loop tells Python to pull all the keys from the dictionary\n",
    "* Then, the keys are assigned to the variable `key`\n",
    "* The output shows all attributes recorded in our list \n",
    "* Looping through the keys is actually the default behavior when looping through a dictionary\n",
    "    * `.keys()` just makes it more explicit "
   ]
  },
  {
   "cell_type": "code",
   "execution_count": 14,
   "metadata": {
    "slideshow": {
     "slide_type": "slide"
    }
   },
   "outputs": [
    {
     "name": "stdout",
     "output_type": "stream",
     "text": [
      "Name\n",
      "City\n",
      "State\n",
      "Founded\n",
      "Students\n"
     ]
    }
   ],
   "source": [
    "university_of_wyoming = {\n",
    "    \"Name\": \"University of Wyoming\",\n",
    "    \"City\": \"Laramie\",\n",
    "    \"State\":\"Wyoming\",\n",
    "    \"Founded\":1886, \n",
    "    \"Students\":11_100\n",
    "}\n",
    "\n",
    "for key in university_of_wyoming:\n",
    "    print(key)"
   ]
  },
  {
   "cell_type": "markdown",
   "metadata": {
    "slideshow": {
     "slide_type": "slide"
    }
   },
   "source": [
    "## Looping Through All the Keys in a Dictionary\n",
    "---\n",
    "* You can access the value associated with any key within the loop\n",
    "* This way you can still access both key and value, without explicitly looping through both\n",
    "* The `.keys()` method isn't just for looping \n",
    "* It returns a sequence of all keys, and you can then use it to check for keys with an `if`"
   ]
  },
  {
   "cell_type": "code",
   "execution_count": 16,
   "metadata": {
    "slideshow": {
     "slide_type": "slide"
    }
   },
   "outputs": [
    {
     "name": "stdout",
     "output_type": "stream",
     "text": [
      "University of Wyoming\n",
      "Laramie\n",
      "Wyoming\n",
      "1886\n",
      "11100\n"
     ]
    }
   ],
   "source": [
    "university_of_wyoming = {\n",
    "    \"Name\": \"University of Wyoming\",\n",
    "    \"City\": \"Laramie\",\n",
    "    \"State\":\"Wyoming\",\n",
    "    \"Founded\":1886, \n",
    "    \"Students\":11_100\n",
    "}\n",
    "for key in university_of_wyoming:\n",
    "    print(university_of_wyoming[key])\n",
    "\n",
    "if \"Elevation\" in university_of_wyoming.keys():\n",
    "    print(f\"UW's Elevation is {university_of_wyoming['Elevation']}\")"
   ]
  },
  {
   "cell_type": "markdown",
   "metadata": {
    "slideshow": {
     "slide_type": "slide"
    }
   },
   "source": [
    "## Looping Through a Dictionary's Keys in a Particular Order\n",
    "---\n",
    "* Looping through a dictionary returns the keys in the order they were inserted \n",
    "* Sometimes you may want to loop through the dictionary in a different order \n",
    "* One way to do so is to sort the keys as they are returned in the for loop\n",
    "* The `sorted()` function can be used to get a copy of the keys in order"
   ]
  },
  {
   "cell_type": "code",
   "execution_count": 17,
   "metadata": {
    "slideshow": {
     "slide_type": "slide"
    }
   },
   "outputs": [
    {
     "name": "stdout",
     "output_type": "stream",
     "text": [
      "City\n",
      "Founded\n",
      "Name\n",
      "State\n",
      "Students\n"
     ]
    }
   ],
   "source": [
    "university_of_wyoming = {\n",
    "    \"Name\": \"University of Wyoming\",\n",
    "    \"City\": \"Laramie\",\n",
    "    \"State\":\"Wyoming\",\n",
    "    \"Founded\":1886, \n",
    "    \"Students\":11_100\n",
    "}\n",
    "\n",
    "for key in sorted(university_of_wyoming.keys()):\n",
    "    print(key)"
   ]
  },
  {
   "cell_type": "markdown",
   "metadata": {
    "slideshow": {
     "slide_type": "slide"
    }
   },
   "source": [
    "## Looping Through a Dictionary's Keys in a Particular Order\n",
    "---\n",
    "* This `for` statement is like the other `for` statement's we've seen\n",
    "* But, `sorted()` was wrapped around the `dictionary.keys()`\n",
    "* Now the keys will be in alphabetical order"
   ]
  },
  {
   "cell_type": "markdown",
   "metadata": {
    "slideshow": {
     "slide_type": "slide"
    }
   },
   "source": [
    "## Looping Through all Values in a Dictionary \n",
    "---\n",
    "* Sometimes the values are more important than the keys\n",
    "* The `.values()` method returns a sequence of the values without any keys\n",
    "* So suppose you want all the values associated with UW"
   ]
  },
  {
   "cell_type": "code",
   "execution_count": 18,
   "metadata": {
    "slideshow": {
     "slide_type": "slide"
    }
   },
   "outputs": [
    {
     "name": "stdout",
     "output_type": "stream",
     "text": [
      "University of Wyoming\n",
      "Laramie\n",
      "Wyoming\n",
      "1886\n",
      "11100\n"
     ]
    }
   ],
   "source": [
    "university_of_wyoming = {\n",
    "    \"Name\": \"University of Wyoming\",\n",
    "    \"City\": \"Laramie\",\n",
    "    \"State\":\"Wyoming\",\n",
    "    \"Founded\":1886, \n",
    "    \"Students\":11_100\n",
    "}\n",
    "\n",
    "for value in university_of_wyoming.values():\n",
    "    print(value)"
   ]
  },
  {
   "cell_type": "markdown",
   "metadata": {
    "slideshow": {
     "slide_type": "slide"
    }
   },
   "source": [
    "## Looping Through all Values in a Dictionary \n",
    "---\n",
    "* Here the `for` loop pulls each value from the dictionary and assigns it to the variable `value`\n",
    "* This approach pulls all the values without checking for repeats \n",
    "* If you want all values without repeats the `set()` function can be used \n",
    "* When using `set()` Python identifies all unique items in the collection and builds a set from them "
   ]
  },
  {
   "cell_type": "code",
   "execution_count": 19,
   "metadata": {
    "slideshow": {
     "slide_type": "slide"
    }
   },
   "outputs": [
    {
     "name": "stdout",
     "output_type": "stream",
     "text": [
      "JavaScript\n",
      "C#\n",
      "Java\n",
      "Ruby\n",
      "Python\n",
      "C++\n"
     ]
    }
   ],
   "source": [
    "programming_languages = {\n",
    "    \"Alice\": \"Python\",\n",
    "    \"Bob\": \"JavaScript\",\n",
    "    \"Charlie\": \"Java\",\n",
    "    \"David\": \"C++\",\n",
    "    \"Eve\": \"Python\",\n",
    "    \"Frank\": \"Ruby\",\n",
    "    \"Grace\": \"JavaScript\",\n",
    "    \"Hank\": \"Python\",\n",
    "    \"Ivy\": \"Java\",\n",
    "    \"Jack\": \"C#\"\n",
    "}\n",
    "\n",
    "for language in set(programming_languages.values()):\n",
    "    print(language)"
   ]
  },
  {
   "cell_type": "markdown",
   "metadata": {
    "slideshow": {
     "slide_type": "slide"
    }
   },
   "source": [
    "## Looping Through all Values in a Dictionary \n",
    "---\n",
    "* As you continue using Python you will discover more and more built in features\n",
    "* A set can be created manually using braces and declaring elements as you would a list\n",
    "    * `langauges = {'Python','Julia','Go'}`\n",
    "* Sets and Dictionaries both use braces, but remember dictionaries have `key:value` pairs"
   ]
  },
  {
   "cell_type": "code",
   "execution_count": 20,
   "metadata": {
    "slideshow": {
     "slide_type": "slide"
    }
   },
   "outputs": [],
   "source": [
    "lang_list = ['Python','Julia','Go'] #this is a list \n",
    "lang_tupl = ('Python','Julia','Go') #this is a tuple \n",
    "lang_set  = {'Python','Julia','Go'} #this is a set"
   ]
  },
  {
   "cell_type": "markdown",
   "metadata": {
    "slideshow": {
     "slide_type": "slide"
    }
   },
   "source": [
    "## Nesting\n",
    "---\n",
    "* Sometimes you'll want to store multiple dictionaries in a  list \n",
    "* Or a list of items as the value in dictionary \n",
    "* This is called *nesting* \n",
    "    * A dictionary can be nested within a list\n",
    "    * A list can be nested within a dictionary \n",
    "    * Or, a dictionary can be nested within another dictionary "
   ]
  },
  {
   "cell_type": "markdown",
   "metadata": {
    "slideshow": {
     "slide_type": "slide"
    }
   },
   "source": [
    "# A List of Dictionaries \n",
    "---\n",
    "* Previously we had a dictionary for UW, but what if we wanted to store similar information for multiple Universities? \n",
    "* One way to do so would be to declare each dictionary individually and then place them within a list"
   ]
  },
  {
   "cell_type": "code",
   "execution_count": 21,
   "metadata": {
    "slideshow": {
     "slide_type": "slide"
    }
   },
   "outputs": [
    {
     "name": "stdout",
     "output_type": "stream",
     "text": [
      "{'Name': 'University of Wyoming', 'City': 'Laramie', 'State': 'Wyoming', 'Founded': 1886, 'Students': 11100}\n",
      "{'Name': 'Colorado State University', 'City': 'Fort Collins', 'State': 'Colorado', 'Founded': 1870, 'Students': 33877}\n",
      "{'Name': 'Montana State University', 'City': 'Bozeman', 'State': 'Montana', 'Founded': 1893, 'Students': 16902}\n"
     ]
    }
   ],
   "source": [
    "university_of_wyoming = {\n",
    "    \"Name\": \"University of Wyoming\",\n",
    "    \"City\": \"Laramie\",\n",
    "    \"State\":\"Wyoming\",\n",
    "    \"Founded\":1886, \n",
    "    \"Students\":11_100\n",
    "}\n",
    "colorado_state_university = {\n",
    "    \"Name\": \"Colorado State University\",\n",
    "    \"City\": \"Fort Collins\",\n",
    "    \"State\": \"Colorado\",\n",
    "    \"Founded\": 1870,\n",
    "    \"Students\": 33_877\n",
    "}\n",
    "\n",
    "montana_state_university = {\n",
    "    \"Name\": \"Montana State University\",\n",
    "    \"City\": \"Bozeman\",\n",
    "    \"State\": \"Montana\",\n",
    "    \"Founded\": 1893,\n",
    "    \"Students\": 16_902\n",
    "}\n",
    "\n",
    "universities = [university_of_wyoming, colorado_state_university, montana_state_university]\n",
    "\n",
    "for university in universities:\n",
    "    print(university)\n"
   ]
  },
  {
   "cell_type": "markdown",
   "metadata": {
    "slideshow": {
     "slide_type": "slide"
    }
   },
   "source": [
    "# A List of Dictionaries \n",
    "---\n",
    "* There we created three dictionaries, each representing a different university \n",
    "* Then, each one was stored within the list `universities`\n",
    "* Finally the list is looped through and the universities are all printed out \n",
    "* though, this may not be the most realistic way to do it\n"
   ]
  },
  {
   "cell_type": "markdown",
   "metadata": {
    "slideshow": {
     "slide_type": "slide"
    }
   },
   "source": [
    "# A List of Dictionaries \n",
    "---\n",
    "* A more realistic example would be code that generates up multiple dictionaries within a list \n",
    "* Instead of universities, maybe we want to store students\n",
    "* To begin we could fill a dictionary with default information, to be changed as needed"
   ]
  },
  {
   "cell_type": "code",
   "execution_count": 23,
   "metadata": {
    "slideshow": {
     "slide_type": "slide"
    }
   },
   "outputs": [
    {
     "name": "stdout",
     "output_type": "stream",
     "text": [
      "{'name': 'Pistol Pete', 'email': 'pete@uwyo.edu', 'w#': 'W18860307'}\n",
      "{'name': 'Pistol Pete', 'email': 'pete@uwyo.edu', 'w#': 'W18860307'}\n",
      "{'name': 'Pistol Pete', 'email': 'pete@uwyo.edu', 'w#': 'W18860307'}\n",
      "{'name': 'Pistol Pete', 'email': 'pete@uwyo.edu', 'w#': 'W18860307'}\n",
      "{'name': 'Pistol Pete', 'email': 'pete@uwyo.edu', 'w#': 'W18860307'}\n"
     ]
    }
   ],
   "source": [
    "students = [] #decalre our empty list \n",
    "\n",
    "for student in range(30): #loop through 30 times\n",
    "    new_student = {'name':\"Pistol Pete\",\"email\":\"pete@uwyo.edu\",\"w#\":\"W18860307\"} # declare the default values\n",
    "    students.append(new_student)# add our new student\n",
    "\n",
    "for student in students[:5]: #go through the first 5 students\n",
    "    print(student) #print"
   ]
  },
  {
   "cell_type": "markdown",
   "metadata": {
    "slideshow": {
     "slide_type": "slide"
    }
   },
   "source": [
    "# A List of Dictionaries \n",
    "---\n",
    "* We declared an empty list to hold all the aliens to be created \n",
    "* The range function returns a series of numbers\n",
    "    * Telling python how many times to go through  \n",
    "* Each time though a new student is created and appended to the list \n"
   ]
  },
  {
   "cell_type": "markdown",
   "metadata": {
    "slideshow": {
     "slide_type": "slide"
    }
   },
   "source": [
    "# A List of Dictionaries \n",
    "---\n",
    "* These students all have the same characteristics, but Python considers each a separate object \n",
    "* Then individual students can be modified \n",
    "* It is common to store a number of dictionaries in a list when each dictionary contains many kinds of information about one object "
   ]
  },
  {
   "cell_type": "code",
   "execution_count": 27,
   "metadata": {
    "slideshow": {
     "slide_type": "slide"
    }
   },
   "outputs": [
    {
     "name": "stdout",
     "output_type": "stream",
     "text": [
      "{'name': 'Cowboy Joe', 'email': 'cj@uwyo.edu', 'w#': 'W03071886'}\n",
      "{'name': 'Cowboy Joe', 'email': 'cj@uwyo.edu', 'w#': 'W03071886'}\n",
      "{'name': 'Cowboy Joe', 'email': 'cj@uwyo.edu', 'w#': 'W03071886'}\n",
      "{'name': 'Pistol Pete', 'email': 'pete@uwyo.edu', 'w#': 'W18860307'}\n",
      "{'name': 'Pistol Pete', 'email': 'pete@uwyo.edu', 'w#': 'W18860307'}\n"
     ]
    }
   ],
   "source": [
    "students = [] #decalre our empty list \n",
    "\n",
    "for student in range(30): #loop through 30 times\n",
    "    new_student = {'name':\"Pistol Pete\",\"email\":\"pete@uwyo.edu\",\"w#\":\"W18860307\"} # declare the default values\n",
    "    students.append(new_student)# add our new student\n",
    "\n",
    "for student in students[:3]:\n",
    "    student[\"name\"] = \"Cowboy Joe\"\n",
    "    student[\"email\"] = \"cj@uwyo.edu\"\n",
    "    student[\"w#\"] = \"W03071886\"\n",
    "\n",
    "for student in students[:5]:\n",
    "    print(student)"
   ]
  },
  {
   "cell_type": "markdown",
   "metadata": {
    "slideshow": {
     "slide_type": "slide"
    }
   },
   "source": [
    "## A List in a Dictionary\n",
    "---\n",
    "* Rather than putting a dictionary in a list, sometimes you need a list in a dictionary \n",
    "* Perhaps you want to expand the UW dictionary to include a list of the colleges \n",
    "* This adds another depth of description to something"
   ]
  },
  {
   "cell_type": "code",
   "execution_count": 28,
   "metadata": {
    "slideshow": {
     "slide_type": "slide"
    }
   },
   "outputs": [
    {
     "name": "stdout",
     "output_type": "stream",
     "text": [
      "{'Name': 'University of Wyoming', 'City': 'Laramie', 'State': 'Wyoming', 'Founded': 1886, 'Students': 11100, 'Colleges': ['Agriculture', 'Arts and Sciences', 'Business', 'Education', 'Engineering and Physical Science']}\n"
     ]
    }
   ],
   "source": [
    "university_of_wyoming = {\n",
    "    \"Name\": \"University of Wyoming\",\n",
    "    \"City\": \"Laramie\",\n",
    "    \"State\":\"Wyoming\",\n",
    "    \"Founded\":1886, \n",
    "    \"Students\":11_100,\n",
    "    \"Colleges\": [\"Agriculture\",\"Arts and Sciences\",\"Business\",\"Education\",\"Engineering and Physical Science\"]\n",
    "}\n",
    "\n",
    "print(university_of_wyoming)"
   ]
  },
  {
   "cell_type": "markdown",
   "metadata": {
    "slideshow": {
     "slide_type": "slide"
    }
   },
   "source": [
    "## A List in a Dictionary\n",
    "---\n",
    "* We begin with a dictionary that holds information about the colleges at UW\n",
    "* One key is `Name` which is associated with `University of Wyoming`\n",
    "* Then the dictionary is printed out\n",
    "* You can nest a list in a  dictionary anytime you want more than one value associated with a key\n",
    "* You can utilize `print` statements to refine how you interact with the data "
   ]
  },
  {
   "cell_type": "code",
   "execution_count": 48,
   "metadata": {
    "slideshow": {
     "slide_type": "slide"
    }
   },
   "outputs": [
    {
     "name": "stdout",
     "output_type": "stream",
     "text": [
      "Name:    \tUniversity of Wyoming\n",
      "City:    \tLaramie\n",
      "State:    \tWyoming\n",
      "Founded:    \t1886\n",
      "Students:    \t11100\n",
      "Colleges:\n",
      "\t\tAgriculture\n",
      "\t\tArts and Sciences\n",
      "\t\tBusiness\n",
      "\t\tEducation\n",
      "\t\tEngineering and Physical Science\n"
     ]
    }
   ],
   "source": [
    "university_of_wyoming = {\n",
    "    \"Name\": \"University of Wyoming\",\n",
    "    \"City\": \"Laramie\",\n",
    "    \"State\":\"Wyoming\",\n",
    "    \"Founded\":1886, \n",
    "    \"Students\":11_100,\n",
    "    \"Colleges\": [\"Agriculture\",\"Arts and Sciences\",\"Business\",\"Education\",\"Engineering and Physical Science\"]\n",
    "}\n",
    "\n",
    "for key in university_of_wyoming:\n",
    "    if type(university_of_wyoming[key]) is list:\n",
    "        print(f\"{key}:\")\n",
    "        for elem in university_of_wyoming[key]:\n",
    "            print(f\"\\t\\t{elem}\")\n",
    "    else:\n",
    "        print(f\"{key}:    \\t{university_of_wyoming[key]}\")"
   ]
  },
  {
   "cell_type": "markdown",
   "metadata": {
    "slideshow": {
     "slide_type": "slide"
    }
   },
   "source": [
    "## A Dictionary in a Dictionary\n",
    "---\n",
    "* Dictionaries can be nested in other dictionaries \n",
    "* But, admittedly the code can get complicated quickly\n",
    "* For example if you have users on a  website, each with a unique username\n",
    "* The username could be the key, for a sub dictionary with more information "
   ]
  },
  {
   "cell_type": "code",
   "execution_count": 51,
   "metadata": {
    "slideshow": {
     "slide_type": "slide"
    }
   },
   "outputs": [
    {
     "name": "stdout",
     "output_type": "stream",
     "text": [
      "username: cowboyjoe\n",
      "Name: Cowboy Joe\n",
      "\n",
      "username: pistolpete\n",
      "Name: Pistol Pete\n",
      "\n"
     ]
    }
   ],
   "source": [
    "users = {\n",
    "    \"cowboyjoe\": {\n",
    "        'first': \"cowboy\",\n",
    "        'last' : 'joe'\n",
    "    },\n",
    "    \"pistolpete\":{\n",
    "        'first': 'pistol',\n",
    "        'last': 'pete'\n",
    "    }\n",
    "}\n",
    "\n",
    "for username, user_info in users.items():\n",
    "    print(f\"username: {username}\")\n",
    "    full_name = f\"{user_info['first']} {user_info['last']}\"\n",
    "    print(f\"Name: {full_name.title()}\\n\")"
   ]
  },
  {
   "cell_type": "markdown",
   "metadata": {
    "slideshow": {
     "slide_type": "slide"
    }
   },
   "source": [
    "## A Dictionary in a Dictionary\n",
    "---\n",
    "* Here a dictionary `users` is defined with two `key` values \n",
    "* The value associated with each key is a dictionary with includes the first and last name \n",
    "* Then the dictionary `users` is looped though\n",
    "* Python assigns the key to the variable `username`\n",
    "* And the dictionary value to `user_info`\n",
    "* Alternatively you could manually loop though `user_info`"
   ]
  },
  {
   "cell_type": "code",
   "execution_count": 52,
   "metadata": {
    "slideshow": {
     "slide_type": "slide"
    }
   },
   "outputs": [
    {
     "name": "stdout",
     "output_type": "stream",
     "text": [
      "username: cowboyjoe\n",
      "first: cowboy\n",
      "last: joe\n",
      "\n",
      "username: pistolpete\n",
      "first: pistol\n",
      "last: pete\n",
      "\n"
     ]
    }
   ],
   "source": [
    "users = {\n",
    "    \"cowboyjoe\": {\n",
    "        'first': \"cowboy\",\n",
    "        'last' : 'joe'\n",
    "    },\n",
    "    \"pistolpete\":{\n",
    "        'first': 'pistol',\n",
    "        'last': 'pete'\n",
    "    }\n",
    "}\n",
    "\n",
    "for username, user_info in users.items():\n",
    "    print(f\"username: {username}\")\n",
    "    for key, value in user_info.items():\n",
    "        print(f\"{key}: {value}\")\n",
    "    print()"
   ]
  }
 ],
 "metadata": {
  "celltoolbar": "Slideshow",
  "kernelspec": {
   "display_name": "Python 3 (ipykernel)",
   "language": "python",
   "name": "python3"
  },
  "language_info": {
   "codemirror_mode": {
    "name": "ipython",
    "version": 3
   },
   "file_extension": ".py",
   "mimetype": "text/x-python",
   "name": "python",
   "nbconvert_exporter": "python",
   "pygments_lexer": "ipython3",
   "version": "3.10.12"
  }
 },
 "nbformat": 4,
 "nbformat_minor": 2
}
