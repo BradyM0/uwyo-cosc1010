{
 "cells": [
  {
   "cell_type": "markdown",
   "metadata": {
    "slideshow": {
     "slide_type": "slide"
    }
   },
   "source": [
    "# <p style=\"text-align: Center;\">If Statements</p>\n",
    "## <p style=\"text-align: Center;\">University of Wyoming COSC 1010</p>\n",
    "### <p style=\"text-align: Center;\">Adapted from: *Python Crash Course 3rd Ed* By Eric Matthes </p>"
   ]
  },
  {
   "cell_type": "markdown",
   "metadata": {
    "slideshow": {
     "slide_type": "slide"
    }
   },
   "source": [
    "## If Statements\n",
    "---\n",
    "* Programming often involves evaluating a set of conditions\n",
    "* And then decide what action to take as a result\n",
    "* Python's `if` statements allow you to examine the current state of a program and respond appropriately \n"
   ]
  },
  {
   "cell_type": "markdown",
   "metadata": {
    "slideshow": {
     "slide_type": "slide"
    }
   },
   "source": [
    "## If Statements\n",
    "---\n",
    "* Today we will learn how to:\n",
    "    * Write conditional tests, letting you check any condition\n",
    "    * Write simple `if` statements \n",
    "    * Create more complex statements \n",
    "    * Apply this concept to lists, writing a `for` loop to handle most items in a list"
   ]
  },
  {
   "cell_type": "markdown",
   "metadata": {
    "slideshow": {
     "slide_type": "slide"
    }
   },
   "source": [
    "## Starting Simple\n",
    "---\n",
    "* We are going tos tart off with a test that lets you respond to situations correctly\n",
    "* Imagine you have a list of cities\n",
    "* And you want to print each car with proper casing \n",
    "* City names are proper nouns, so should begin with a capital\n",
    "* But what if you want only a specific city in all upper?"
   ]
  },
  {
   "cell_type": "code",
   "execution_count": 3,
   "metadata": {
    "slideshow": {
     "slide_type": "slide"
    }
   },
   "outputs": [
    {
     "name": "stdout",
     "output_type": "stream",
     "text": [
      "LARAMIE\n",
      "Casper\n",
      "Jackson Hole\n",
      "Cheyenne\n"
     ]
    }
   ],
   "source": [
    "cities = [\"laramie\",\"casper\",\"jackson hole\",\"cheyenne\"]\n",
    "\n",
    "for city in cities:\n",
    "    if city == \"laramie\":\n",
    "        print(city.upper())\n",
    "    else:\n",
    "        print(city.title())"
   ]
  },
  {
   "cell_type": "markdown",
   "metadata": {
    "slideshow": {
     "slide_type": "slide"
    }
   },
   "source": [
    "## Starting Simple\n",
    "---\n",
    "* That code follows a loop through the list\n",
    "* It looks for the value`'laramie'`, printing in upper case when found\n",
    "* All other cases are printed in lowercase \n",
    "* This combines many of the things we will talk about"
   ]
  },
  {
   "cell_type": "markdown",
   "metadata": {
    "slideshow": {
     "slide_type": "slide"
    }
   },
   "source": [
    "## Conditional Tests\n",
    "---\n",
    "* At the heart of every `if` statement is an expression that can be evaluated \n",
    "* These expressions evaluate to either `True` or `False`\n",
    "* Python uses these to determine whether the code in an `if` should be executed\n"
   ]
  },
  {
   "cell_type": "markdown",
   "metadata": {
    "slideshow": {
     "slide_type": "slide"
    }
   },
   "source": [
    "## Conditional Tests\n",
    "---\n",
    "* If the expression evaluates to `True` Python executes the code\n",
    "* If it evaluates to `False` then Python ignores the code within the if statement"
   ]
  },
  {
   "cell_type": "markdown",
   "metadata": {
    "slideshow": {
     "slide_type": "slide"
    }
   },
   "source": [
    "## Checking for Equality \n",
    "---\n",
    "* Most conditional tests compare the current value of a variable to a value of interest \n",
    "* the simplest conditions check whether the value of a variable is equal to the value of interest \n",
    "* Comparisons are done with the double equals `==` operator\n",
    "* You need to use `==` when doing equality comparisons, as `=` is assignment"
   ]
  },
  {
   "cell_type": "code",
   "execution_count": 5,
   "metadata": {
    "slideshow": {
     "slide_type": "slide"
    }
   },
   "outputs": [
    {
     "name": "stdout",
     "output_type": "stream",
     "text": [
      "True\n"
     ]
    }
   ],
   "source": [
    "#Explained in the next cell\n",
    "city = \"Laramie\"\n",
    "print(city==\"Laramie\")"
   ]
  },
  {
   "cell_type": "markdown",
   "metadata": {
    "slideshow": {
     "slide_type": "slide"
    }
   },
   "source": [
    "## Checking for Equality \n",
    "---\n",
    "* The first line assigns `'Laramie'` to the variable `city`\n",
    "    * This is done using `=`\n",
    "* The following line checks whether the value of city is equivalent to `'Laramie'`\n",
    "    * Using `==`\n",
    "* The *equality operator* returns `True` if the values on the left and right side match\n",
    "* `False` if they don't \n"
   ]
  },
  {
   "cell_type": "markdown",
   "metadata": {
    "slideshow": {
     "slide_type": "slide"
    }
   },
   "source": [
    "## Checking for Equality\n",
    "---\n",
    "* A single `=` is really a *statement*, you might read the first line as:\n",
    "    * \"Set the value of city equal to 'Laramie' \n",
    "* On the other hand a double equals asks a question\n",
    "    * \"Is the value of city equal to 'Laramie'\"\n"
   ]
  },
  {
   "cell_type": "code",
   "execution_count": 6,
   "metadata": {
    "slideshow": {
     "slide_type": "slide"
    }
   },
   "outputs": [
    {
     "name": "stdout",
     "output_type": "stream",
     "text": [
      "False\n",
      "False\n"
     ]
    }
   ],
   "source": [
    "city = \"Laramie\"\n",
    "print(city==\"Cheyenne\")\n",
    "print(city==\"laramie\")"
   ]
  },
  {
   "cell_type": "markdown",
   "metadata": {
    "slideshow": {
     "slide_type": "slide"
    }
   },
   "source": [
    "## Ignoring Case when Checking Equality\n",
    "---\n",
    "* Testing for equality is case sensitive in Python\n",
    "* Two values with different capitalization \n",
    "* If case matters this behavior is advantageous\n",
    "* If case doesn't matter it can be inconvenient"
   ]
  },
  {
   "cell_type": "markdown",
   "metadata": {
    "slideshow": {
     "slide_type": "slide"
    }
   },
   "source": [
    "## Ignoring Case when Checking Equality\n",
    "---\n",
    "* So what do we do if case doesn't matter and we want to compare elements?"
   ]
  },
  {
   "cell_type": "code",
   "execution_count": 7,
   "metadata": {
    "slideshow": {
     "slide_type": "slide"
    }
   },
   "outputs": [
    {
     "name": "stdout",
     "output_type": "stream",
     "text": [
      "True\n"
     ]
    }
   ],
   "source": [
    "city = 'Laramie'\n",
    "print(city.upper()=='laramie'.upper())"
   ]
  },
  {
   "cell_type": "markdown",
   "metadata": {
    "slideshow": {
     "slide_type": "slide"
    }
   },
   "source": [
    "## Ignoring Case when Checking Equality\n",
    "---\n",
    "* that test will return true no matter how `Laramie` is formatted\n",
    "* We are setting the value in the variable adn the value we are testing against to be the same case\n",
    "* `.upper()` doesn't change the value, just the casing \n"
   ]
  },
  {
   "cell_type": "markdown",
   "metadata": {
    "slideshow": {
     "slide_type": "slide"
    }
   },
   "source": [
    "## Ignoring Case when Checking Equality\n",
    "---\n",
    "* Websites enforce certain rules for the data that users enter\n",
    "* It is done in a similar way to this\n",
    "* It could be to ensure your email is correct,  regardless of the capitalization you entered \n",
    "* or to ensure all usernames are truly unique"
   ]
  },
  {
   "cell_type": "markdown",
   "metadata": {
    "slideshow": {
     "slide_type": "slide"
    }
   },
   "source": [
    "## Checking for Inequality\n",
    "---\n",
    "* When you want to determine if two values are not equal the *inequality operator* can be used\n",
    "    * `!=`\n",
    "* The syntax to using this is the same as it is for equality\n",
    "* But, this will return `True` when things are not equal and `False` if they are equal "
   ]
  },
  {
   "cell_type": "code",
   "execution_count": 8,
   "metadata": {
    "slideshow": {
     "slide_type": "slide"
    }
   },
   "outputs": [
    {
     "name": "stdout",
     "output_type": "stream",
     "text": [
      "False\n",
      "True\n",
      "Laramie is not equal to Cheyenne\n"
     ]
    }
   ],
   "source": [
    "city = \"Laramie\"\n",
    "city_two = \"Cheyenne\"\n",
    "\n",
    "print(city == city_two)\n",
    "if city == city_two:\n",
    "    print(f\"{city} is equal to {city_two}\")\n",
    "\n",
    "print(city != city_two)\n",
    "if city != city_two:\n",
    "    print(f\"{city} is not equal to {city_two}\")"
   ]
  },
  {
   "cell_type": "markdown",
   "metadata": {
    "slideshow": {
     "slide_type": "slide"
    }
   },
   "source": [
    "## Checking for Inequality\n",
    "---\n",
    "* That code compares the values in the variables `city` and `city_two`\n",
    "* If the two variables match Python returns `False` when using `!=`\n",
    "* IF the two variables do not match `!=` returns `True`\n",
    "* Many comparisons will check for equality,  but inequality can also be useful"
   ]
  },
  {
   "cell_type": "markdown",
   "metadata": {
    "slideshow": {
     "slide_type": "slide"
    }
   },
   "source": [
    "## Numerical Comparisons\n",
    "---\n",
    "* Testing numerical values is straight forward \n",
    "* Numerical comparisons can use both `==` and `!=` \n",
    "* As well as other operators "
   ]
  },
  {
   "cell_type": "code",
   "execution_count": 9,
   "metadata": {
    "slideshow": {
     "slide_type": "slide"
    }
   },
   "outputs": [
    {
     "name": "stdout",
     "output_type": "stream",
     "text": [
      "True\n",
      "False\n"
     ]
    }
   ],
   "source": [
    "age_to_drive = 16\n",
    "\n",
    "print(age_to_drive == 16)\n",
    "print(age_to_drive == 15)"
   ]
  },
  {
   "cell_type": "code",
   "execution_count": 10,
   "metadata": {
    "slideshow": {
     "slide_type": "slide"
    }
   },
   "outputs": [
    {
     "name": "stdout",
     "output_type": "stream",
     "text": [
      "False\n",
      "True\n"
     ]
    }
   ],
   "source": [
    "age_to_drive = 16\n",
    "\n",
    "print(age_to_drive != 16)\n",
    "print(age_to_drive != 15)"
   ]
  },
  {
   "cell_type": "markdown",
   "metadata": {
    "slideshow": {
     "slide_type": "slide"
    }
   },
   "source": [
    "## Numerical Comparisons\n",
    "---\n",
    "* Many mathematical comparisons can also be included in  conditional statements \n",
    "    * less than `<`\n",
    "    * greater than `>`\n",
    "    * less than or equal to `<=`\n",
    "    * greater than or equal to `>=`\n",
    "* Each mathematical comparison can be used within an if statement "
   ]
  },
  {
   "cell_type": "code",
   "execution_count": 11,
   "metadata": {
    "slideshow": {
     "slide_type": "slide"
    }
   },
   "outputs": [
    {
     "name": "stdout",
     "output_type": "stream",
     "text": [
      "False\n",
      "False\n",
      "True\n",
      "True\n"
     ]
    }
   ],
   "source": [
    "age_to_drive = 16\n",
    "print(age_to_drive < 16)\n",
    "print(age_to_drive > 16)\n",
    "print(age_to_drive <= 16)\n",
    "print(age_to_drive >= 16)"
   ]
  },
  {
   "cell_type": "markdown",
   "metadata": {
    "slideshow": {
     "slide_type": "slide"
    }
   },
   "source": [
    "## Checking Multiple Conditions\n",
    "---\n",
    "* You may want to check multiple conditions at the same time\n",
    "* For example you may need two conditions to be `True` to take an action\n",
    "* Other times you may be satisfied with just one condition being `True`\n",
    "* The keywords `and` and `or` help in these cases "
   ]
  },
  {
   "cell_type": "markdown",
   "metadata": {
    "slideshow": {
     "slide_type": "slide"
    }
   },
   "source": [
    "## Using `and` to Check Multiple Conditions\n",
    "---\n",
    "* Sometimes you may need to check if two statements are both `True` simultaneously \n",
    "* To do so the `and` keyword is used to combine the two conditionals \n",
    "* If each passes the overall expression evaluates to `True`\n",
    "* If either test fails, or both, the expression evaluates to `False`"
   ]
  },
  {
   "cell_type": "code",
   "execution_count": 13,
   "metadata": {
    "slideshow": {
     "slide_type": "slide"
    }
   },
   "outputs": [
    {
     "name": "stdout",
     "output_type": "stream",
     "text": [
      "True\n",
      "False\n",
      "False\n"
     ]
    }
   ],
   "source": [
    "age_zero = 22\n",
    "age_one = 20 \n",
    "print(age_zero >= 21)\n",
    "print(age_one >= 21)\n",
    "print(age_zero >= 21 and age_one >= 21)"
   ]
  },
  {
   "cell_type": "markdown",
   "metadata": {
    "slideshow": {
     "slide_type": "slide"
    }
   },
   "source": [
    "## Using `and` to Check Multiple Conditions\n",
    "---\n",
    "* To improve readability you can use parenthesis \n",
    "    * `((age_zero >= 21) and (age_one >= 21))`\n",
    "* They aren't required but it makes it more clear what is going on"
   ]
  },
  {
   "cell_type": "markdown",
   "metadata": {
    "slideshow": {
     "slide_type": "slide"
    }
   },
   "source": [
    "## Using `or` to Check Multiple Conditions\n",
    "---\n",
    "* The `or` keyword allows you to check multiple conditions like `and`\n",
    "* But, this condition passes when one or both of the conditions are true\n",
    "* An `or` expression only fails when both statements are false "
   ]
  },
  {
   "cell_type": "code",
   "execution_count": 14,
   "metadata": {
    "slideshow": {
     "slide_type": "slide"
    }
   },
   "outputs": [
    {
     "name": "stdout",
     "output_type": "stream",
     "text": [
      "True\n",
      "False\n",
      "True\n"
     ]
    }
   ],
   "source": [
    "age_zero = 22\n",
    "age_one = 20 \n",
    "print(age_zero >= 21)\n",
    "print(age_one >= 21)\n",
    "print(age_zero >= 21 or age_one >= 21)"
   ]
  },
  {
   "cell_type": "markdown",
   "metadata": {
    "slideshow": {
     "slide_type": "slide"
    }
   },
   "source": [
    "## Checking Whether a Value is in a List\n",
    "---\n",
    "* Sometimes it is important to check whether a list contains a value\n",
    "* You may want to check to see if  a username already exists in a list\n",
    "* To determine if a value is in a list `in` can be used\n",
    "* Thinking back to our list of cities, what if we want to add new cities only if they aren't already there"
   ]
  },
  {
   "cell_type": "code",
   "execution_count": 17,
   "metadata": {
    "slideshow": {
     "slide_type": "slide"
    }
   },
   "outputs": [
    {
     "name": "stdout",
     "output_type": "stream",
     "text": [
      "Laramie already in the list\n"
     ]
    }
   ],
   "source": [
    "cities = [\"Laramie\",\"Casper\",\"Jackson Hole\",\"Cheyenne\"]\n",
    "\n",
    "if \"Laramie\" in cities:\n",
    "    print(\"Laramie already in the list\")\n"
   ]
  },
  {
   "cell_type": "markdown",
   "metadata": {
    "slideshow": {
     "slide_type": "slide"
    }
   },
   "source": [
    "## Checking Whether a Value is in a List\n",
    "---\n",
    "* The keyword `in` tells Python to check for the existence of `Laramie` in the cities\n",
    "* This technique is very powerful\n",
    "* It allows you to avoid adding duplicates to your list\n",
    "* this can also be used on strings to see if a *substring* exists within"
   ]
  },
  {
   "cell_type": "code",
   "execution_count": 18,
   "metadata": {
    "slideshow": {
     "slide_type": "slide"
    }
   },
   "outputs": [
    {
     "name": "stdout",
     "output_type": "stream",
     "text": [
      "There is a space in Jackson Hole\n"
     ]
    }
   ],
   "source": [
    "cities = [\"Laramie\",\"Casper\",\"Jackson Hole\",\"Cheyenne\"]\n",
    "\n",
    "if \" \" in cities[0]:\n",
    "    print(f\"There is a space in {cities[0]}\")\n",
    "\n",
    "if \" \" in cities[2]:\n",
    "    print(f\"There is a space in {cities[2]}\")"
   ]
  },
  {
   "cell_type": "markdown",
   "metadata": {
    "slideshow": {
     "slide_type": "slide"
    }
   },
   "source": [
    "## Checking Whether a Value is Not in a List\n",
    "---\n",
    "* Other times you may want to check to see if an element is *not* in a list\n",
    "* Suppose you have a list of dis-allowed words\n",
    "* You can ensure a word is not in the list before allowing it to be posted  "
   ]
  },
  {
   "cell_type": "code",
   "execution_count": 19,
   "metadata": {
    "slideshow": {
     "slide_type": "slide"
    }
   },
   "outputs": [
    {
     "name": "stdout",
     "output_type": "stream",
     "text": [
      "Go Pokes\n"
     ]
    }
   ],
   "source": [
    "banned_phrases = [\"Go Rams\",\"Boise is a state\"]\n",
    "\n",
    "if \"Go Pokes\" not in banned_phrases:\n",
    "    print(\"Go Pokes\")"
   ]
  },
  {
   "cell_type": "markdown",
   "metadata": {
    "slideshow": {
     "slide_type": "slide"
    }
   },
   "source": [
    "## Checking Whether a Value is Not in a List\n",
    "---\n",
    "* The if statement should be pretty clear `if \"Go Pokes\" not in banned_phrases`\n",
    "* Python returns true if that statement is not in the list"
   ]
  },
  {
   "cell_type": "markdown",
   "metadata": {
    "slideshow": {
     "slide_type": "slide"
    }
   },
   "source": [
    "## Boolean Expressions\n",
    "---\n",
    "* As you learn more about programming you will here the term *boolean expression* \n",
    "* This is another name for a conditional test \n",
    "* A *boolean value* is either `True` or `False`, just like the value of a conditional expression after evaluation \n",
    "* Boolean values are often used to keep track of certain conditions \n",
    "* Boolean values provide an efficient way to track the state of a program "
   ]
  },
  {
   "cell_type": "markdown",
   "metadata": {
    "slideshow": {
     "slide_type": "slide"
    }
   },
   "source": [
    "## `if` Statements\n",
    "---\n",
    "* When you understand conditional tests, you can start writing `if` statements \n",
    "* Several kinds of `if` statements exist\n",
    "* Your choice of which to use depends on the number of conditions needed to test \n",
    "* We've already seen if statements, but now it is time for a deeper dive "
   ]
  },
  {
   "cell_type": "markdown",
   "metadata": {
    "slideshow": {
     "slide_type": "slide"
    }
   },
   "source": [
    "## Simple `if` Statements \n",
    "---\n",
    "* The simplest kinds of `if` statements only have one test and one action \n",
    "* You can put any conditional test in the first line\n",
    "* And just about any action in the indented block following the test \n",
    "* If the conditional test evaluates to `True` the code block is executed\n",
    "* If the conditional executes to `False` the code is ignored"
   ]
  },
  {
   "cell_type": "code",
   "execution_count": 20,
   "metadata": {
    "slideshow": {
     "slide_type": "slide"
    }
   },
   "outputs": [
    {
     "name": "stdout",
     "output_type": "stream",
     "text": [
      "This will print\n",
      "This will print\n"
     ]
    }
   ],
   "source": [
    "if True:\n",
    "    print('This will print')\n",
    "\n",
    "if False:\n",
    "    print('This not will print')\n",
    "\n",
    "if not True:\n",
    "    print('This not will print')\n",
    "\n",
    "if not False:\n",
    "    print('This will print')"
   ]
  },
  {
   "cell_type": "code",
   "execution_count": 21,
   "metadata": {
    "slideshow": {
     "slide_type": "slide"
    }
   },
   "outputs": [
    {
     "name": "stdout",
     "output_type": "stream",
     "text": [
      "you can vote!\n"
     ]
    }
   ],
   "source": [
    "age = 19 \n",
    "\n",
    "if age >= 18:\n",
    "    print(\"you can vote!\")"
   ]
  },
  {
   "cell_type": "markdown",
   "metadata": {
    "slideshow": {
     "slide_type": "slide"
    }
   },
   "source": [
    "## Simple `if` Statements\n",
    "---\n",
    "* Indentation plays the role role in `if` statements as it does in `for` loops\n",
    "* All indented lines after an `if` statement will be executed if the test passes\n",
    "* The entire block of indented items will be ignored if the test fails \n",
    "* You can have as many lines of code within the block as you need\n"
   ]
  },
  {
   "cell_type": "markdown",
   "metadata": {
    "slideshow": {
     "slide_type": "slide"
    }
   },
   "source": [
    "## `if-else` Statements\n",
    "---\n",
    "* Often you may want to take one action when a condition passes, or another if it fails\n",
    "* Python's `if-else` syntax makes this possible \n",
    "* An `if-else` block is similar to a simple `if` statement\n",
    "* The else allows you to define an action if the conditional test fails "
   ]
  },
  {
   "cell_type": "code",
   "execution_count": 22,
   "metadata": {
    "slideshow": {
     "slide_type": "slide"
    }
   },
   "outputs": [
    {
     "name": "stdout",
     "output_type": "stream",
     "text": [
      "You can't yet vote\n"
     ]
    }
   ],
   "source": [
    "age = 17\n",
    "\n",
    "if age >= 18:\n",
    "    print(\"You are old enough to vote!\")\n",
    "else:\n",
    "    print(\"You can't yet vote\")"
   ]
  },
  {
   "cell_type": "markdown",
   "metadata": {
    "slideshow": {
     "slide_type": "slide"
    }
   },
   "source": [
    "## `if-else` Statements\n",
    "---\n",
    "* If the condition passes the code in the first block runs\n",
    "* If the test evaluates to `False` the `else` block is executed\n",
    "* In the previous example the age was less than 18, so the `else` triggered\n",
    "* This code works because there are only two possible situations to evaluate\n",
    "* Python will always execute one of the two cases"
   ]
  },
  {
   "cell_type": "markdown",
   "metadata": {
    "slideshow": {
     "slide_type": "slide"
    }
   },
   "source": [
    "## The `if-elif-else` Chain\n",
    "---\n",
    "* Often times you will need to test more than two situations\n",
    "* To evaluate these Python's `if-elif-else` syntax can be used\n",
    "* Python will execute only one block in the chain\n",
    "* It runs each conditional test in order, until one passes\n",
    "* When a test passes Python runs the code in its corresponding block, skipping the rest"
   ]
  },
  {
   "cell_type": "markdown",
   "metadata": {
    "slideshow": {
     "slide_type": "slide"
    }
   },
   "source": [
    "## The `if-elif-else` Chain\n",
    "---\n",
    "* Many real world situations involve multiple options\n",
    "* Consider a movie ticket that has a varying price based on age\n",
    "    * Attendees under the age of four could be $2.00\n",
    "    * 5-64 could be $12.00\n",
    "    * And  finally seniors 65 and over could be $7.00"
   ]
  },
  {
   "cell_type": "code",
   "execution_count": 24,
   "metadata": {
    "slideshow": {
     "slide_type": "slide"
    }
   },
   "outputs": [
    {
     "name": "stdout",
     "output_type": "stream",
     "text": [
      "Your cost of admission is $12.00\n"
     ]
    }
   ],
   "source": [
    "age = 12 \n",
    "if age < 4:\n",
    "    price = 2\n",
    "elif age < 65:\n",
    "    price = 12\n",
    "else:\n",
    "    price = 7\n",
    "\n",
    "print(f\"Your cost of admission is ${price}.00\")"
   ]
  },
  {
   "cell_type": "markdown",
   "metadata": {
    "slideshow": {
     "slide_type": "slide"
    }
   },
   "source": [
    "## The `if-elif-else` Chain\n",
    "---\n",
    "* The indented lines set the value of `price` based on age\n",
    "* After the price is set a separate `print()` is used to display the price \n",
    "* In addition to being more efficient, this revised code is easier to modify \n",
    "* To change the text of the message, you only have to alter one line"
   ]
  },
  {
   "cell_type": "markdown",
   "metadata": {
    "slideshow": {
     "slide_type": "slide"
    }
   },
   "source": [
    "## Using Multiple `elif` Blocks\n",
    "---\n",
    "* You can use as many `elif` blocks in your code as needed\n",
    "* Suppose the previous example added a rate for children less than 18 \n",
    "* Most of the code would remain unchanged\n",
    "* You would simply add a new `elif` block to it to check "
   ]
  },
  {
   "cell_type": "code",
   "execution_count": 25,
   "metadata": {
    "slideshow": {
     "slide_type": "slide"
    }
   },
   "outputs": [
    {
     "name": "stdout",
     "output_type": "stream",
     "text": [
      "Your cost of admission is $10.00\n"
     ]
    }
   ],
   "source": [
    "age = 12 \n",
    "if age < 4:\n",
    "    price = 2\n",
    "elif age < 18:\n",
    "    price = 10\n",
    "elif age < 65:\n",
    "    price = 12\n",
    "else:\n",
    "    price = 7\n",
    "\n",
    "print(f\"Your cost of admission is ${price}.00\")"
   ]
  },
  {
   "cell_type": "markdown",
   "metadata": {
    "slideshow": {
     "slide_type": "slide"
    }
   },
   "source": [
    "## Omitting the `else` block\n",
    "---\n",
    "* Python does not require an `else` block at the end of an `if-elif` chain\n",
    "* Sometimes an `else` is useful\n",
    "* Other times it may be clearer to use another `elif`\n",
    "* Or in yet another case you may simply not want a default option "
   ]
  },
  {
   "cell_type": "code",
   "execution_count": 26,
   "metadata": {
    "slideshow": {
     "slide_type": "slide"
    }
   },
   "outputs": [
    {
     "name": "stdout",
     "output_type": "stream",
     "text": [
      "Your cost of admission is $10.00\n"
     ]
    }
   ],
   "source": [
    "age = 12 \n",
    "if age < 4:\n",
    "    price = 2\n",
    "elif age < 18:\n",
    "    price = 10\n",
    "elif age < 65:\n",
    "    price = 12\n",
    "elif age >= 65:\n",
    "    price = 7\n",
    "\n",
    "print(f\"Your cost of admission is ${price}.00\")"
   ]
  },
  {
   "cell_type": "markdown",
   "metadata": {
    "slideshow": {
     "slide_type": "slide"
    }
   },
   "source": [
    "## Omitting the `else` block\n",
    "---\n",
    "* The code shown is functionally the same as the previous code \n",
    "* But now, every code block has to pass a condition before being run \n",
    "* The `else` block is a catch all statement, matching any condition that didn't match one of the checks\n",
    "* If you have a specific final condition use an `elif`\n",
    "* Otherwise, use an `else` if you want a catch all"
   ]
  },
  {
   "cell_type": "markdown",
   "metadata": {
    "slideshow": {
     "slide_type": "slide"
    }
   },
   "source": [
    "## Testing Multiple Conditions\n",
    "---\n",
    "* The `if-elif-else` chain is powerful, but it is only appropriate when you need one test to pass\n",
    "* As soon as one passing test is found, the rest are skipped\n",
    "* This behavior is beneficial because it's efficient and allows you to test for a specific condition \n",
    "* Sometimes it's important to check all conditions of interest \n",
    "* In this case a series of `if` statements can be used\n",
    "* This technique makes sense when more than one conditional could be `True`"
   ]
  },
  {
   "cell_type": "code",
   "execution_count": 27,
   "metadata": {
    "slideshow": {
     "slide_type": "slide"
    }
   },
   "outputs": [
    {
     "name": "stdout",
     "output_type": "stream",
     "text": [
      "Laramie is in Wyoming\n",
      "Cheyenne is in Wyoming\n"
     ]
    }
   ],
   "source": [
    "cities = [\"laramie\",\"casper\",\"jackson hole\",\"cheyenne\"]\n",
    "\n",
    "if 'laramie' in cities:\n",
    "    print(\"Laramie is in Wyoming\")\n",
    "if 'cheyenne' in cities:\n",
    "    print(\"Cheyenne is in Wyoming\")"
   ]
  },
  {
   "cell_type": "markdown",
   "metadata": {
    "slideshow": {
     "slide_type": "slide"
    }
   },
   "source": [
    "## Testing Multiple Conditions\n",
    "---\n",
    "* We start with a list of cities \n",
    "* The first if statement checks to see if \"laramie\" is in the list\n",
    "* The second checks for \"cheyenne\" \n",
    "* As these aren't `if-elif` statements both ifs can be true and execute their block of code\n",
    "* If you want only block to execute then you should use `if-elif-else`\n",
    "* If multiple blocks can execute then `if-if-if` can be used\n"
   ]
  },
  {
   "cell_type": "markdown",
   "metadata": {
    "slideshow": {
     "slide_type": "slide"
    }
   },
   "source": [
    "## Using `if` Statements with Lists\n",
    "---\n",
    "* When coming lists and `if` statements you can do some powerful things\n",
    "* You can watch for special values that need to be treated differently than other values\n",
    "* You can efficiently manage changing conditions\n",
    "* You can also begin to prove that your code works as you expect!"
   ]
  },
  {
   "cell_type": "markdown",
   "metadata": {
    "slideshow": {
     "slide_type": "slide"
    }
   },
   "source": [
    "## Checking for Special Items\n",
    "---\n",
    "* Now you (hopefully) have a basic understanding of conditional tests and `if` statements \n",
    "* That knowledge can be applied to look for special items in a list \n",
    "* We'll work with our cities list once again to see this in action\n",
    "* How could we make a check that prints all cities with an `a` n them? "
   ]
  },
  {
   "cell_type": "code",
   "execution_count": 1,
   "metadata": {
    "slideshow": {
     "slide_type": "slide"
    }
   },
   "outputs": [
    {
     "name": "stdout",
     "output_type": "stream",
     "text": [
      "Laramie has an 'a' in it!\n",
      "Casper has an 'a' in it!\n",
      "Jackson Hole has an 'a' in it!\n"
     ]
    }
   ],
   "source": [
    "cities = [\"Laramie\",\"Casper\",\"Jackson Hole\",\"Cheyenne\"]\n",
    "\n",
    "for city in cities:\n",
    "    if 'a' in city.lower():\n",
    "        print(f\"{city} has an 'a' in it!\")"
   ]
  },
  {
   "cell_type": "markdown",
   "metadata": {
    "slideshow": {
     "slide_type": "slide"
    }
   },
   "source": [
    "## Checking for Special Items\n",
    "---\n",
    "* Alternatively you can check for individual items in the list\n",
    "* This can be done with the equality operator `==`\n",
    "* Just remember when checking strings you need to ensure the casing is the same"
   ]
  },
  {
   "cell_type": "code",
   "execution_count": 2,
   "metadata": {
    "slideshow": {
     "slide_type": "slide"
    }
   },
   "outputs": [
    {
     "name": "stdout",
     "output_type": "stream",
     "text": [
      "Laramie is the home of the University of Wyoming\n"
     ]
    }
   ],
   "source": [
    "cities = [\"Laramie\",\"Casper\",\"Jackson Hole\",\"Cheyenne\"]\n",
    "\n",
    "for city in cities:\n",
    "    if city.lower() == 'laramie':\n",
    "        print(f\"{city} is the home of the University of Wyoming\")"
   ]
  },
  {
   "cell_type": "markdown",
   "metadata": {
    "slideshow": {
     "slide_type": "slide"
    }
   },
   "source": [
    "## Checking That a List is Not Empty\n",
    "---\n",
    "* Thus far our code has made a simple assumption\n",
    "    * That the lists have at least one item \n",
    "* Remember some lists will start empty and will be built via user input\n",
    "* So, you can't always assume a list will have elements"
   ]
  },
  {
   "cell_type": "code",
   "execution_count": 3,
   "metadata": {
    "slideshow": {
     "slide_type": "slide"
    }
   },
   "outputs": [
    {
     "name": "stdout",
     "output_type": "stream",
     "text": [
      "No home cities\n"
     ]
    }
   ],
   "source": [
    "user_home_cities = []\n",
    "\n",
    "if user_home_cities:\n",
    "    for city in cities:\n",
    "        print(city)\n",
    "else:\n",
    "    print(\"No home cities\")"
   ]
  },
  {
   "cell_type": "markdown",
   "metadata": {
    "slideshow": {
     "slide_type": "slide"
    }
   },
   "source": [
    "## Checking That a List is Not Empty\n",
    "---\n",
    "* There we start with an empty list \n",
    "* Prior to doing the loop we check to ensure there are elements in the list\n",
    "* And if there aren't we print out a message to that end\n",
    "* Can you think of another way to check if a list is empty? "
   ]
  },
  {
   "cell_type": "code",
   "execution_count": 4,
   "metadata": {
    "slideshow": {
     "slide_type": "slide"
    }
   },
   "outputs": [
    {
     "name": "stdout",
     "output_type": "stream",
     "text": [
      "No cities stored\n"
     ]
    }
   ],
   "source": [
    "user_home_cities = []\n",
    "\n",
    "if len(user_home_cities) == 0:\n",
    "    print(\"No cities stored\")\n",
    "else:\n",
    "    print(f\"There are {len(user_home_cities)} stored\")"
   ]
  },
  {
   "cell_type": "markdown",
   "metadata": {
    "slideshow": {
     "slide_type": "slide"
    }
   },
   "source": [
    "## Using Multiple Lists\n",
    "---\n",
    "* Sometimes you will need to have multiple lists\n",
    "* And make comparisons between the two \n",
    "* Suppose you work at A Pizzeria and a customer is trying to add toppings to their Pizza\n",
    "* You would have a pre-defined list of allowable toppings\n",
    "* And a list of their requested toppings"
   ]
  },
  {
   "cell_type": "code",
   "execution_count": 6,
   "metadata": {
    "slideshow": {
     "slide_type": "slide"
    }
   },
   "outputs": [
    {
     "name": "stdout",
     "output_type": "stream",
     "text": [
      "Adding extra cheese\n",
      "green onions  not available\n",
      "Adding pepperoni\n"
     ]
    }
   ],
   "source": [
    "avail_toppings = ['pepperoni', 'extra cheese', 'green peppers', 'bacon']\n",
    "\n",
    "requested_toppings = ['extra cheese', 'green onions', 'pepperoni']\n",
    "\n",
    "for req_top in requested_toppings:\n",
    "    if req_top in avail_toppings:\n",
    "        print(f\"Adding {req_top}\")\n",
    "    else:\n",
    "        print(f\"{req_top}  not available\")"
   ]
  },
  {
   "cell_type": "markdown",
   "metadata": {
    "slideshow": {
     "slide_type": "slide"
    }
   },
   "source": [
    "## Using Multiple Lists\n",
    "---\n",
    "* We defined two lists\n",
    "    * One for toppings that are available (could also be a tuple)\n",
    "    * One for the requested toppings\n",
    "* Then in the loop we checked to verify if each requested topping is available\n"
   ]
  }
 ],
 "metadata": {
  "celltoolbar": "Slideshow",
  "kernelspec": {
   "display_name": "Python 3 (ipykernel)",
   "language": "python",
   "name": "python3"
  },
  "language_info": {
   "codemirror_mode": {
    "name": "ipython",
    "version": 3
   },
   "file_extension": ".py",
   "mimetype": "text/x-python",
   "name": "python",
   "nbconvert_exporter": "python",
   "pygments_lexer": "ipython3",
   "version": "3.10.12"
  }
 },
 "nbformat": 4,
 "nbformat_minor": 2
}
