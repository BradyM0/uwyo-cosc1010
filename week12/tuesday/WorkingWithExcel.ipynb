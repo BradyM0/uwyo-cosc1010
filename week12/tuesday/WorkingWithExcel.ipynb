{
 "cells": [
  {
   "cell_type": "markdown",
   "metadata": {},
   "source": [
    "# <p style=\"text-align: Center;\">Working with Excel Spreadsheets</p>\n",
    "## <p style=\"text-align: Center;\">University of Wyoming COSC 1010</p>\n",
    "### <p style=\"text-align: Center;\">Adapted from: *Automate the Boring Stuff with Python* By Al Sweigart </p>"
   ]
  },
  {
   "cell_type": "markdown",
   "metadata": {},
   "source": [
    "## Working with Excel Spreadsheets\n",
    "---\n",
    "* Excel is a popular and powerful spreadsheet application\n",
    "* Using the `openpyxl` module Python programs can easily read and modify excel files\n",
    "* You can automate a ton of work like: \n",
    "    * Copying data between sheets\n",
    "    * Parsing through thousands of rows \n",
    "    * Combing through hundreds of different spreadsheet files "
   ]
  },
  {
   "cell_type": "markdown",
   "metadata": {},
   "source": [
    "## Excel Documents\n",
    "---\n",
    "* First to get some basic semantics out of the way:\n",
    "    * An Excel spreadsheet document is called a *workbook*\n",
    "    * A single workbook is saved in a *file* \n",
    "    * Each workbook can have multiple *sheets*\n",
    "    * The sheet being viewed is the *active sheet* "
   ]
  },
  {
   "cell_type": "markdown",
   "metadata": {},
   "source": [
    "## Excel Documents\n",
    "---\n",
    "* Each sheet has\n",
    "    * *columns* addressed by letters starting with A\n",
    "    * *rows* addressed by numbers starting at 1 \n",
    "* A box at a particular row adn column is a *cell*\n",
    "* Each cell can contain a number or text value\n",
    "* The grid of cess with data make up a sheet"
   ]
  },
  {
   "cell_type": "markdown",
   "metadata": {},
   "source": [
    "## Installing the `openpyxl` Module\n",
    "---\n",
    "* Python does not come with OpenPPyXL by default\n",
    "* So, it needs to be installed and imported\n",
    "* 3rd party Python modules can be installed using a tool called pip \n",
    "    * `pip3 install openpyxl`\n",
    "    * Or whatever package you wish to install"
   ]
  },
  {
   "cell_type": "markdown",
   "metadata": {},
   "source": [
    "## Opening Excel Documents with `OpenPyXl`\n",
    "--- \n",
    "* The first step to being able to use `openpyxl` is  to import it to your code\n",
    "* Once that has happened the `openpyxl.load_workbook()` method ca be used\n",
    "* This method takes in the file name you wish to open \n",
    "* It will create and return a `Workbook` object representing the Excel file\n"
   ]
  },
  {
   "cell_type": "code",
   "execution_count": 1,
   "metadata": {},
   "outputs": [
    {
     "name": "stdout",
     "output_type": "stream",
     "text": [
      "<class 'openpyxl.workbook.workbook.Workbook'>\n"
     ]
    }
   ],
   "source": [
    "import openpyxl \n",
    "\n",
    "wb = openpyxl.load_workbook('example.xlsx')\n",
    "print(type(wb))"
   ]
  },
  {
   "cell_type": "markdown",
   "metadata": {},
   "source": [
    "## Getting Sheets from the Workbook\n",
    "---\n",
    "* Once you have a workbook you can get a list of all the sheets\n",
    "* This is done with the `sheetnames` attribute\n",
    "* Each sheet is represented by a `Worksheet` object\n",
    "* The individual sheets can be obtained using the `[]` and the sheet name, much like when access a value ina dictionary \n",
    "* The `active` attribute can be used to retrieve the active sheet"
   ]
  },
  {
   "cell_type": "code",
   "execution_count": 7,
   "metadata": {},
   "outputs": [
    {
     "name": "stdout",
     "output_type": "stream",
     "text": [
      "['Sheet1', 'Sheet2', 'Sheet3']\n",
      "Sheet1 <class 'str'> <class 'openpyxl.worksheet.worksheet.Worksheet'>\n",
      "Sheet2 <class 'str'> <class 'openpyxl.worksheet.worksheet.Worksheet'>\n",
      "Sheet3 <class 'str'> <class 'openpyxl.worksheet.worksheet.Worksheet'>\n",
      "<Worksheet \"Sheet1\">\n"
     ]
    }
   ],
   "source": [
    "# we already have wb opened from the previous code snippet \n",
    "print(wb.sheetnames)\n",
    "for sheet in wb.sheetnames:\n",
    "    print(sheet, type(sheet), type(wb[sheet]))\n",
    "print(wb.active)"
   ]
  },
  {
   "cell_type": "markdown",
   "metadata": {},
   "source": [
    "## Getting Cells from the Sheets\n",
    "---\n",
    "* Once you have a `Worksheet` object cells can be accessed by their name\n",
    "* The `Cell` object has a `value` attribute that contains the value stored in the cell\n",
    "* `Cell` objects also have `row`, `column`, and `coordinate` attributes that provide location information "
   ]
  },
  {
   "cell_type": "code",
   "execution_count": 13,
   "metadata": {},
   "outputs": [
    {
     "name": "stdout",
     "output_type": "stream",
     "text": [
      "<Cell 'Sheet1'.B1>\n",
      "Apples\n",
      "1\n",
      "2 B\n",
      "B1\n"
     ]
    }
   ],
   "source": [
    "examp_sheet = wb[wb.sheetnames[0]] \n",
    "examp_cell = examp_sheet['B1']\n",
    "print(examp_cell)\n",
    "print(examp_cell.value)\n",
    "print(examp_cell.row)\n",
    "print(examp_cell.column, examp_cell.column_letter)\n",
    "print(examp_cell.coordinate)"
   ]
  },
  {
   "cell_type": "markdown",
   "metadata": {},
   "source": [
    "## Getting Cells from the Sheets\n",
    "---\n",
    "* Accessing the cell `B1` gave the value of apples \n",
    "* Notice the attribute `column` gives a number, rather than the expected letter\n",
    "* Instead `column_letter` needs to be used to get the letter\n",
    "* Specifying a column by a letter can be tricky to program\n",
    "* After the column `Z` columns are denoted by increasing number of letters, starting at `AA`"
   ]
  },
  {
   "cell_type": "markdown",
   "metadata": {},
   "source": [
    "## Getting Cells from the Sheets\n",
    "---\n",
    "* Alternatively a cell can be retrieved with the `.cell()` method \n",
    "* `.cell()` accepts integers for both row and column\n",
    "    * The first row or column is **1** not 0\n",
    "    "
   ]
  },
  {
   "cell_type": "code",
   "execution_count": 15,
   "metadata": {},
   "outputs": [
    {
     "name": "stdout",
     "output_type": "stream",
     "text": [
      "Apples\n"
     ]
    }
   ],
   "source": [
    "print(examp_sheet.cell(1,2).value)"
   ]
  },
  {
   "cell_type": "markdown",
   "metadata": {},
   "source": [
    "## Getting Cells from the Sheets\n",
    "---\n",
    "* Using a sheet's `.cell()` method and passing in `1,2` give the same thing as `examp_sheet['B1']`\n",
    "* You can also write a `for` loop to go through the values for a series of cells\n",
    "* You can determine the size of a sheet with two attributes of `Worksheet`:\n",
    "    * `.max_row`\n",
    "    * `.max_column`\n",
    "        * returns an `int` rather than a letter"
   ]
  },
  {
   "cell_type": "code",
   "execution_count": 19,
   "metadata": {},
   "outputs": [
    {
     "name": "stdout",
     "output_type": "stream",
     "text": [
      "Apples\n",
      "Cherries\n",
      "Pears\n",
      "Oranges\n",
      "Apples\n",
      "Bananas\n",
      "Strawberries\n"
     ]
    }
   ],
   "source": [
    "for i in range(1,examp_sheet.max_row + 1):\n",
    "    print(examp_sheet.cell(i,2).value)"
   ]
  },
  {
   "cell_type": "markdown",
   "metadata": {},
   "source": [
    "## Converting Between Column Letters and Numbers\n",
    "---\n",
    "* To convert from letters to numbers `openpyxl.utils.column_index_from_string()` can be used\n",
    "* To convert from numbers to letters you can use `openpyxl.utils.get_column_letter()`\n",
    "* Once these are imported they can be called\n",
    "* If you pass in the integer 27 to `get_column_letter()` it will give you the letter name for the 27th column \n",
    "* `column_index_from_string()` will do the inverse "
   ]
  },
  {
   "cell_type": "code",
   "execution_count": 24,
   "metadata": {},
   "outputs": [
    {
     "name": "stdout",
     "output_type": "stream",
     "text": [
      "AA\n",
      "27\n"
     ]
    }
   ],
   "source": [
    "from openpyxl.utils import get_column_letter, column_index_from_string\n",
    "\n",
    "print(get_column_letter(27))\n",
    "\n",
    "print(column_index_from_string(\"AA\"))"
   ]
  },
  {
   "cell_type": "markdown",
   "metadata": {},
   "source": [
    "## Getting Rows and Columns from the Sheets\n",
    "--- \n",
    "* `Worksheet` objects can be sliced to get all `Cell` objects in a row, column, or rectangular area \n",
    "* Then all the cells in the slice can be looped over "
   ]
  },
  {
   "cell_type": "code",
   "execution_count": 26,
   "metadata": {},
   "outputs": [
    {
     "name": "stdout",
     "output_type": "stream",
     "text": [
      "((<Cell 'Sheet1'.A1>, <Cell 'Sheet1'.B1>, <Cell 'Sheet1'.C1>), (<Cell 'Sheet1'.A2>, <Cell 'Sheet1'.B2>, <Cell 'Sheet1'.C2>), (<Cell 'Sheet1'.A3>, <Cell 'Sheet1'.B3>, <Cell 'Sheet1'.C3>))\n",
      "A1 2015-04-05 13:34:02\n",
      "B1 Apples\n",
      "C1 73\n",
      "A2 2015-04-05 03:41:23\n",
      "B2 Cherries\n",
      "C2 85\n",
      "A3 2015-04-06 12:46:51\n",
      "B3 Pears\n",
      "C3 14\n"
     ]
    }
   ],
   "source": [
    "exam_sh_tuple = tuple(examp_sheet['A1':'C3'])\n",
    "print(exam_sh_tuple)\n",
    "for rowOfCells in exam_sh_tuple:\n",
    "    for cellObj in rowOfCells:\n",
    "        print(cellObj.coordinate, cellObj.value)"
   ]
  },
  {
   "cell_type": "markdown",
   "metadata": {},
   "source": [
    "## Getting Rows and Columns from the Sheets\n",
    "--- \n",
    "* There we specified that we wanted the `Cell` objects inn a rectangular range \n",
    "    * A1 to C3\n",
    "* It was stored in a tuple, but could have been a list \n",
    "* The tuple contains three sub tuples, one tuple for each row\n",
    "    * The inner tuples contain the cell objects for each individual row\n",
    "* Two loops are needed\n",
    "    * The outer for each row in the slice\n",
    "    * The inner for each cell in the row\n"
   ]
  },
  {
   "cell_type": "markdown",
   "metadata": {},
   "source": [
    "## Getting Rows and Columns from the Sheets\n",
    "--- \n",
    "* To access teh values of cells in a  particular row or column, `Worksheet` has attributes for `rows` and `columns`\n",
    "* Using `rows` will give a tuple of tuples\n",
    "    * Outer tuples again represent rows\n",
    "    * Inner tuples representing the cell objects \n",
    "* Using columns will give a tuple of tuples\n",
    "    * With each inner tuple givin the `Cell` for a particular column"
   ]
  },
  {
   "cell_type": "code",
   "execution_count": 32,
   "metadata": {},
   "outputs": [
    {
     "name": "stdout",
     "output_type": "stream",
     "text": [
      "7\n",
      "2015-04-05 13:34:02\tApples\t73\t\n",
      "2015-04-05 03:41:23\tCherries\t85\t\n",
      "2015-04-06 12:46:51\tPears\t14\t\n",
      "2015-04-08 08:59:43\tOranges\t52\t\n",
      "2015-04-10 02:07:00\tApples\t152\t\n",
      "2015-04-10 18:10:37\tBananas\t23\t\n",
      "2015-04-10 02:40:46\tStrawberries\t98\t\n"
     ]
    }
   ],
   "source": [
    "rows = tuple(examp_sheet.rows) \n",
    "\n",
    "print(len(rows))\n",
    "\n",
    "for row in rows:\n",
    "    for cell in row:\n",
    "        if cell.value:\n",
    "            print(cell.value, end=\"\\t\")\n",
    "    print()"
   ]
  },
  {
   "cell_type": "code",
   "execution_count": 34,
   "metadata": {},
   "outputs": [
    {
     "name": "stdout",
     "output_type": "stream",
     "text": [
      "7\n",
      "2015-04-05 13:34:02\n",
      "2015-04-05 03:41:23\n",
      "2015-04-06 12:46:51\n",
      "2015-04-08 08:59:43\n",
      "2015-04-10 02:07:00\n",
      "2015-04-10 18:10:37\n",
      "2015-04-10 02:40:46\n",
      "\n",
      "Apples\n",
      "Cherries\n",
      "Pears\n",
      "Oranges\n",
      "Apples\n",
      "Bananas\n",
      "Strawberries\n",
      "\n",
      "73\n",
      "85\n",
      "14\n",
      "52\n",
      "152\n",
      "23\n",
      "98\n",
      "\n",
      "\n",
      "\n",
      "\n",
      "\n"
     ]
    }
   ],
   "source": [
    "cols = tuple(examp_sheet.columns) \n",
    "\n",
    "print(len(cols))\n",
    "\n",
    "for col in cols:\n",
    "    for cell in col:\n",
    "        if cell.value:\n",
    "            print(cell.value)\n",
    "    print()"
   ]
  },
  {
   "cell_type": "markdown",
   "metadata": {},
   "source": [
    "## Writing Excel Documents\n",
    "---\n",
    "* We aren't limited to only reading from an Excel file\n",
    "* `openpyxl` also provides way of writing data \n",
    "* Meaning, your programs can create and edit spreadsheet files\n",
    "* With python it is simple to create spreadsheets with thousands of rows "
   ]
  },
  {
   "cell_type": "markdown",
   "metadata": {},
   "source": [
    "## Creating and Saving Excel Documents \n",
    "---\n",
    "* `openpyxl.Workbook()` can be called to create a new, blank `Workbook` object \n",
    "* The workbook starts off with a single sheet, named `Sheet`\n",
    "* The name of the sheet can be changed by storing a new value in the `title` attribute\n",
    "* Anytime the `Workbook` is modified it will not be saved until `.save()` is called, with a name given "
   ]
  },
  {
   "cell_type": "code",
   "execution_count": 44,
   "metadata": {},
   "outputs": [
    {
     "name": "stdout",
     "output_type": "stream",
     "text": [
      "['Sheet']\n",
      "['NewTitle']\n"
     ]
    }
   ],
   "source": [
    "wb = openpyxl.Workbook() \n",
    "print(wb.sheetnames)\n",
    "sheet = wb.active \n",
    "sheet.title = \"NewTitle\"\n",
    "print(wb.sheetnames)\n",
    "wb.save(\"save-example.xlsx\")"
   ]
  },
  {
   "cell_type": "markdown",
   "metadata": {},
   "source": [
    "## Creating and Saving Excel Documents \n",
    "---\n",
    "* We successfully changed the name of the primary sheet\n",
    "* And also saved it locally \n",
    "* When working with sheets you should always save to a copy, not modify the original when working with a pre-populated  data set \n",
    "* This ensures you have a backup incase you mess up "
   ]
  },
  {
   "cell_type": "markdown",
   "metadata": {},
   "source": [
    "## Creating and Removing Sheets\n",
    "---\n",
    "* Sheets can be added to and removed from a workbook \n",
    "    * `.create_sheet()`\n",
    "    * `.remove()`\n",
    "* The `.create_sheet()` method returns a new `Worksheet` object named `SheetX` which by default is set to the last sheet in the workbook\n",
    "* You can optionally supply an index and name as arguments with keyword arguments"
   ]
  },
  {
   "cell_type": "code",
   "execution_count": 45,
   "metadata": {},
   "outputs": [
    {
     "name": "stdout",
     "output_type": "stream",
     "text": [
      "['NewTitle']\n",
      "['NewTitle', 'Sheet']\n",
      "['NewTitle', 'Second', 'Sheet']\n"
     ]
    }
   ],
   "source": [
    "print(wb.sheetnames)\n",
    "wb.create_sheet()\n",
    "print(wb.sheetnames)\n",
    "wb.create_sheet(index=1,title=\"Second\")\n",
    "print(wb.sheetnames)"
   ]
  },
  {
   "cell_type": "markdown",
   "metadata": {},
   "source": [
    "## Creating and Removing Sheets\n",
    "---\n",
    "* The `remove()` method takes a `Worksheet` object as an object\n",
    "    * It does not take the string name of the sheet\n",
    "* If you only know the name, you can retrieve the sheet by the `[]` operators for the book\n",
    "* Remember to call `save()` to save any changes you make "
   ]
  },
  {
   "cell_type": "code",
   "execution_count": 46,
   "metadata": {},
   "outputs": [
    {
     "name": "stdout",
     "output_type": "stream",
     "text": [
      "['NewTitle', 'Second']\n"
     ]
    }
   ],
   "source": [
    "sheet = wb[\"Sheet\"]\n",
    "wb.remove(sheet)\n",
    "print(wb.sheetnames)\n",
    "wb.save(\"save-example.xlsx\")"
   ]
  },
  {
   "cell_type": "markdown",
   "metadata": {},
   "source": [
    "## Writing Values to Cells\n",
    "--- \n",
    "* Writing values to cells is much like writing values to keys in a dictionary \n",
    "* You supply the cell's coordinates as a string in `[]` for the sheet \n",
    "* If you have the coordinates as a string you can use it just like a dictionary key\n"
   ]
  },
  {
   "cell_type": "code",
   "execution_count": 48,
   "metadata": {},
   "outputs": [
    {
     "name": "stdout",
     "output_type": "stream",
     "text": [
      "Hi Class\n"
     ]
    }
   ],
   "source": [
    "wb = openpyxl.load_workbook(\"save-example.xlsx\")\n",
    "sheet = wb[wb.sheetnames[0]]\n",
    "sheet['A1'] = \"Hi Class\"\n",
    "print(sheet['A1'].value)\n",
    "wb.save(\"save-example.xlsx\")"
   ]
  },
  {
   "cell_type": "markdown",
   "metadata": {},
   "source": [
    "## Formulas \n",
    "--- \n",
    "* Formulas, which begin with an equal sign, can configure cells to contain calculated values\n",
    "* `openpyxl` can be used to programmatically add formulas to cells\n",
    "* It is done just like adding other values \n",
    "* A *formula* is set just like any other text value in a cell "
   ]
  },
  {
   "cell_type": "code",
   "execution_count": 52,
   "metadata": {},
   "outputs": [
    {
     "name": "stdout",
     "output_type": "stream",
     "text": [
      "=SUM(A1:A9)\n"
     ]
    }
   ],
   "source": [
    "import random\n",
    "\n",
    "wb = openpyxl.Workbook() \n",
    "\n",
    "sheet = wb.active \n",
    "for i in range(1,10):\n",
    "    cell = 'A'+str(i)\n",
    "    sheet[cell] = random.randint(0,100)\n",
    "sheet['A10'] = '=SUM(A1:A9)'\n",
    "\n",
    "print(sheet['A10'].value)\n",
    "\n",
    "wb.save(\"formulas.xlsx\")"
   ]
  },
  {
   "cell_type": "markdown",
   "metadata": {},
   "source": [
    "## Formulas \n",
    "--- \n",
    "* For cells `A1:A9` we generate a random number in the range of 0-100\n",
    "* Then in cell `A10` we assign the formula to sum the other cells\n",
    "* We can retrieve the formula as we would any other cell value with the `.value` attribute\n",
    "* But what if we want to see the result of the calculation, not just the formula? \n",
    "* To do so we need to load the workbook in with a special keyword argument \n",
    "    `data_only = True`\n",
    "* A workbook can show the formula, or the result. It cannot show both\n",
    "* But, it has to have been cached by excel"
   ]
  },
  {
   "cell_type": "code",
   "execution_count": 57,
   "metadata": {},
   "outputs": [
    {
     "name": "stdout",
     "output_type": "stream",
     "text": [
      "22\n",
      "498\n"
     ]
    }
   ],
   "source": [
    "wb = openpyxl.load_workbook(\"formulas.xlsx\", data_only=True)\n",
    "\n",
    "sheet = wb.active\n",
    "print(sheet['A9'].value)\n",
    "print(sheet['A10'].value)\n"
   ]
  },
  {
   "cell_type": "markdown",
   "metadata": {},
   "source": [
    "## Adjusting Rows and Columns\n",
    "--- \n",
    "* In Excel adjusting the size of rows and columns is easily accomplished by a simple click and drag\n",
    "* If you need to set a row or column's size based on a cell's contents or set sizes for a large number of sheets python can come in handy\n",
    "* Rows and columns can be hidden entirely from view\n",
    "* Or, *frozen* in place so they are always visible on screen and appear on every page  when printed\n",
    "    * Think headers"
   ]
  },
  {
   "cell_type": "markdown",
   "metadata": {},
   "source": [
    "## Setting Row Height and Column Width\n",
    "---\n",
    "* `Worksheet` objects have `row_dimensions` and `column_dimensions` attributes\n",
    "* These can be sued to control row heights and width \n",
    "* A sheet's `row_dimensions` and `column_dimensions` are dictionary-like values\n",
    "    * `row_dimensions` contains `RowDimension` objects \n",
    "    * `column_dimensions` contain `ColumnDimensions` objects \n",
    "* In `row_dimensions` you can access one of the objects using the number of the row\n",
    "* In `column_dimensions` you can access objects using "
   ]
  },
  {
   "cell_type": "code",
   "execution_count": 59,
   "metadata": {},
   "outputs": [],
   "source": [
    "wb = openpyxl.Workbook() \n",
    "sheet = wb.active \n",
    "sheet['A1'] = \"Tall Row\" \n",
    "sheet['B2'] = 'Wide Column'\n",
    "sheet.row_dimensions[1].height= 70 \n",
    "sheet.column_dimensions['B'].width = 20 \n",
    "wb.save(\"dimensions.xlsx\")"
   ]
  },
  {
   "cell_type": "markdown",
   "metadata": {},
   "source": [
    "## Setting Row Height and Column Width\n",
    "---\n",
    "* Once you have a `RowDimension` object you can set its height \n",
    "    * The same applies to `ColumnDimension`\n",
    "* Row height can be set to an integer or float value between 0-409 \n",
    "    * This value represents the height measured in *points* \n",
    "    * One point equates to 1/72 of an inch \n",
    "* Column can be set tp int or float values between 0-255\n",
    "    * This value represents the number of characters at the default font size (11 point) "
   ]
  },
  {
   "cell_type": "markdown",
   "metadata": {},
   "source": [
    "## Merging and Unmerging Cells\n",
    "---\n",
    "* A rectangular area of cells can be merged into a single cell with `merge_cells()`\n",
    "* The argument to `merge_cells()` is a single string\n",
    "    * The string defines the top left to the bottom right\n",
    "    * `'A1:C3'`\n",
    "* To unmerge cells `unmerge_cells()` can be used \n",
    "    * It takes the same string as an argument"
   ]
  },
  {
   "cell_type": "markdown",
   "metadata": {},
   "source": [
    "## Freeze Panes\n",
    "---\n",
    "* For spreadsheets too large to be displayed all at once it is helpful to *freeze* some\n",
    "    * Often the top few rows or left most columns \n",
    "* Frozen column ro row headers are always visible to the user even as they scroll \n",
    "* In `openpyxl` each `Worksheet` has a `freeze_panes` attribute \n",
    "    * It can be set to a Call object, ora  string of cell coordinates \n",
    "* All rows above and all columns to the left of the cell will be frozen \n",
    "* To unfreeze use `freeze_panes = None`"
   ]
  },
  {
   "cell_type": "markdown",
   "metadata": {},
   "source": [
    "## Cell Colors \n",
    "---\n",
    "* You can utilize `openpyxl.styles` to fill cells with a color \n",
    "* It is imported much like we ahd to import something from `openpyxl.utils` "
   ]
  },
  {
   "cell_type": "code",
   "execution_count": 64,
   "metadata": {},
   "outputs": [],
   "source": [
    "from openpyxl.styles import Color, PatternFill\n",
    "wb = openpyxl.Workbook()\n",
    "sheet = wb.active\n",
    "gold = Color(rgb='ffc425')\n",
    "fill = PatternFill(patternType='solid',fgColor=gold)\n",
    "\n",
    "sheet['A1'].fill = fill\n",
    "\n",
    "wb.save(\"colors.xlsx\")"
   ]
  }
 ],
 "metadata": {
  "kernelspec": {
   "display_name": "Python 3",
   "language": "python",
   "name": "python3"
  },
  "language_info": {
   "codemirror_mode": {
    "name": "ipython",
    "version": 3
   },
   "file_extension": ".py",
   "mimetype": "text/x-python",
   "name": "python",
   "nbconvert_exporter": "python",
   "pygments_lexer": "ipython3",
   "version": "3.10.12"
  }
 },
 "nbformat": 4,
 "nbformat_minor": 2
}
