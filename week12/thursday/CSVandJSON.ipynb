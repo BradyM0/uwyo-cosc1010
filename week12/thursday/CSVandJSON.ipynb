{
 "cells": [
  {
   "cell_type": "markdown",
   "metadata": {},
   "source": [
    "# <p style=\"text-align: Center;\">Working with CSV and JSON</p>\n",
    "## <p style=\"text-align: Center;\">University of Wyoming COSC 1010</p>\n",
    "### <p style=\"text-align: Center;\">Adapted from: *Automate the Boring Stuff with Python* By Al Sweigart </p>"
   ]
  },
  {
   "cell_type": "markdown",
   "metadata": {},
   "source": [
    "## Working with CSV files and JSON Data\n",
    "---\n",
    "* CSV and JSON files are plain text, meaning you don't necessarily need a special module to work with them\n",
    "* In addition, you can open them in a normal text editor like Notepad\n",
    "* But, Python has special *csv* and *json* modules to make your life easier when working with them \n",
    "* Each module provides functionality to work with the specific file formats "
   ]
  },
  {
   "cell_type": "markdown",
   "metadata": {},
   "source": [
    "## Working with CSV files and JSON Data\n",
    "---\n",
    "* **CSV** stands for \"comma-separated-value\" \n",
    "* CSV files are simplified spreadsheets, stored as plaintext files \n",
    "* Python's *csv* module makes parsing them easy \n",
    "* **JSON** is a format that stores JavaScript source code in plaintext\n",
    "    * JSON is short for *JavaScript Object Notation* \n",
    "* You don't need to know JavaScript to use JSON"
   ]
  },
  {
   "cell_type": "markdown",
   "metadata": {},
   "source": [
    "## The CSV Module \n",
    "---\n",
    "* Each line in a CSV file represents a row in a spreadsheet\n",
    "* The commas separate the cells in the row\n",
    "* The advantage of CSV files is that they are simple\n",
    "* CSV is widely supported by many types of programs, and can be almost universally viewed without a special program \n",
    "* They are a straightforward way to represent spreadsheet data \n",
    "* It is exactly as advertised, a text file with comma-separated values "
   ]
  },
  {
   "cell_type": "markdown",
   "metadata": {},
   "source": [
    "## The CSV Module \n",
    "---\n",
    "* CSV files are simple, and lack many of the features of an Excel spreadsheet, like:\n",
    "    * They don't have types, everything is a string \n",
    "    * No settings for fonts, size, or color\n",
    "    * Do not have multiple worksheets\n",
    "    * Cell height and width can't be changed \n",
    "    * No merged cells\n",
    "    * No images or charts"
   ]
  },
  {
   "cell_type": "markdown",
   "metadata": {},
   "source": [
    "## The CSV Module \n",
    "---\n",
    "* Since CSV files are just text you can read them in as a string\n",
    "* As each cell is separated by a comma you could split the cells on the commas\n",
    "* The issue is not every comma may represent a boundary between cells\n",
    "* CSV has escape characters that allow commas to be part of values, which `split()` would not properly handle\n",
    "* As a result using the `csv` module is the better choice "
   ]
  },
  {
   "cell_type": "markdown",
   "metadata": {},
   "source": [
    "## Reader Objects\n",
    "--- \n",
    "* To read data from a CSV file with hte `csv` module a `Reader` object is needed\n",
    "* A `Reader` object allows you to iterate over the lines in a CSV file\n",
    "* The `csv` module comes with Python, so it doesn't need to be installed through pip \n",
    "* To work if a CSV file the `csv` module needs to be imported "
   ]
  },
  {
   "cell_type": "markdown",
   "metadata": {},
   "source": [
    "## Reader Objects\n",
    "--- \n",
    "* To read a CSV file first it needs to be opened with `open()`\n",
    "* Then the file object `open()` returns will be passed to `csv.reader()`\n",
    "* `csv.reader()` will return a  `Reader` object for you to utilize "
   ]
  },
  {
   "cell_type": "code",
   "execution_count": 1,
   "metadata": {},
   "outputs": [
    {
     "name": "stdout",
     "output_type": "stream",
     "text": [
      "[['4/5/2014 13:34', 'Apples', '73'], ['4/5/2014 3:41', 'Cherries', '85'], ['4/6/2014 12:46', 'Pears', '14'], ['4/8/2014 8:59', 'Oranges', '52'], ['4/10/2014 2:07', 'Apples', '152'], ['4/10/2014 18:10', 'Bananas', '23'], ['4/10/2014 2:40', 'Strawberries', '98']]\n"
     ]
    }
   ],
   "source": [
    "import csv \n",
    "\n",
    "exampleCSV = open(\"example.csv\")\n",
    "exampleReader = csv.reader(exampleCSV)\n",
    "exampleData = list(exampleReader)\n",
    "print(exampleData)"
   ]
  },
  {
   "cell_type": "markdown",
   "metadata": {},
   "source": [
    "## Reader Objects\n",
    "--- \n",
    "* The most direct way to access values in a Reader object is to pass it to `list()`\n",
    "* Using `list()` will return a  list of lists \n",
    "* This list of lists can then be stored in a variable, like `exampleData`\n",
    "* The data can be printed to show it is a list of lists"
   ]
  },
  {
   "cell_type": "markdown",
   "metadata": {},
   "source": [
    "## Reader Objects\n",
    "--- \n",
    "* Once the CSV files has been converted to a list of lists the individual items can be accessed\n",
    "* You can utilize `exampleData[row][col]` where:\n",
    "    * `row` is the index of one of the lists\n",
    "    * `col` is the index of the item you want to work with in that list"
   ]
  },
  {
   "cell_type": "code",
   "execution_count": 2,
   "metadata": {},
   "outputs": [
    {
     "name": "stdout",
     "output_type": "stream",
     "text": [
      "4/5/2014 13:34\n",
      "Apples\n",
      "73\n"
     ]
    }
   ],
   "source": [
    "print(exampleData[0][0])\n",
    "print(exampleData[0][1])\n",
    "print(exampleData[0][2])"
   ]
  },
  {
   "cell_type": "code",
   "execution_count": 4,
   "metadata": {},
   "outputs": [
    {
     "name": "stdout",
     "output_type": "stream",
     "text": [
      "Cherries\n",
      "Strawberries\n"
     ]
    }
   ],
   "source": [
    "print(exampleData[1][1])\n",
    "print(exampleData[6][1])"
   ]
  },
  {
   "cell_type": "markdown",
   "metadata": {},
   "source": [
    "## Reading Data from Reader Objects in a for loop\n",
    "--- \n",
    "* For larger CSV files, it may be best to sue a `Reader` object in a `for` loop\n",
    "* This avoids loading the entire file into memory at once \n",
    "* This can be done once you have the reader object \n",
    "* You can loop through the rows in the reader object, much like you would a list\n",
    "* The reader object can be looped over only once\n",
    "    * to re-read the CSV file you must call `csv.reader()` to create a new `Reader`"
   ]
  },
  {
   "cell_type": "code",
   "execution_count": 6,
   "metadata": {},
   "outputs": [
    {
     "name": "stdout",
     "output_type": "stream",
     "text": [
      "Row #1 ['4/5/2014 13:34', 'Apples', '73']\n",
      "Row #2 ['4/5/2014 3:41', 'Cherries', '85']\n",
      "Row #3 ['4/6/2014 12:46', 'Pears', '14']\n",
      "Row #4 ['4/8/2014 8:59', 'Oranges', '52']\n",
      "Row #5 ['4/10/2014 2:07', 'Apples', '152']\n",
      "Row #6 ['4/10/2014 18:10', 'Bananas', '23']\n",
      "Row #7 ['4/10/2014 2:40', 'Strawberries', '98']\n"
     ]
    }
   ],
   "source": [
    "exampleCSV = open(\"example.csv\")\n",
    "exampleReader = csv.reader(exampleCSV)\n",
    "for row in exampleReader:\n",
    "    print('Row #' + str(exampleReader.line_num) + ' ' + str(row))"
   ]
  },
  {
   "cell_type": "markdown",
   "metadata": {},
   "source": [
    "## Writer Objects\n",
    "--- \n",
    "* A `Writer` object lets you write data to a CSV file\n",
    "* To create a `Write` object the `csv.writer()` function is called\n",
    "* Again `open()` needs to be called first, but it needs an additional argument \n",
    "    * You need to pass `'w'` to indicate the file will be opened for writing \n",
    "* Then the `writerow()` method for `Writer` objects can be used\n",
    "    * It takes a list of arguments \n",
    "    * Each value in the list is placed in its own cell\n",
    "* The writer will automatically escape any commas in the values "
   ]
  },
  {
   "cell_type": "code",
   "execution_count": 8,
   "metadata": {},
   "outputs": [],
   "source": [
    "outputFile = open(\"output.csv\",\"w\")\n",
    "outputWriter = csv.writer(outputFile)\n",
    "outputWriter.writerow(['spam','eggs','bacon','ham'])\n",
    "outputWriter.writerow(['Hello, class!','eggs','bacon','ham'])\n",
    "outputWriter.writerow([1,2,3,4])\n",
    "\n",
    "outputFile.close()"
   ]
  },
  {
   "cell_type": "markdown",
   "metadata": {},
   "source": [
    "## Delimiters and Line Terminators  \n",
    "---\n",
    "* Suppose you want to separate values with something like a tab character rather than commas\n",
    "* Or, you want to rows to be double spaced \n",
    "* You can change the delimiter and line terminator characters in your file\n",
    "    * The *delimiter* is the character that appears between cells on a row, by default a comma\n",
    "    * The *line terminator* is the character that comes at the end of a row. by default a new line"
   ]
  },
  {
   "cell_type": "code",
   "execution_count": 9,
   "metadata": {},
   "outputs": [],
   "source": [
    "tsvFile = open('example.tsv','w')\n",
    "tsvWriter = csv.writer(tsvFile, delimiter=\"\\t\", lineterminator=\"\\n\\n\")\n",
    "\n",
    "tsvWriter.writerow(['spam','eggs','bacon','ham'])\n",
    "tsvWriter.writerow(['Hello, class!','eggs','bacon','ham'])\n",
    "tsvWriter.writerow([1,2,3,4])\n",
    "\n",
    "tsvFile.close()"
   ]
  },
  {
   "cell_type": "markdown",
   "metadata": {},
   "source": [
    "## Delimiters and Line Terminators  \n",
    "---\n",
    "* Passing `delimiter='\\t'` changes the character between cells to be a tab character \n",
    "* Passing `lineterminator='\\n\\n'` changes the character between rows to be two newline characters \n",
    "* The file being written to ended with `.tsv` to denote it is a *tab separated values* file "
   ]
  },
  {
   "cell_type": "markdown",
   "metadata": {},
   "source": [
    "## JSON and APIs\n",
    "---\n",
    "* JavaScript Object Notation is a popular way to format data as a single human-readable string \n",
    "* JSON is the native way that JavaScript programs write their data structures\n",
    "* You don't need to know JavaScript\n",
    "* JSON is typically a defined order for `key:value` pairs"
   ]
  },
  {
   "cell_type": "markdown",
   "metadata": {},
   "source": [
    "## JSON and APIs\n",
    "---\n",
    "* Here is an example of JSON:\n",
    "```\n",
    "    {\n",
    "        \"universityName\":\"University of Wyoming\"\n",
    "        \"city\":\"Laramie\",\n",
    "        \"state\":\"Wyoming\",\n",
    "        \"elevation\":7220\n",
    "    }\n",
    "```"
   ]
  },
  {
   "cell_type": "markdown",
   "metadata": {},
   "source": [
    "## JSON and APIs\n",
    "---\n",
    "* JSON is useful to know as many websites offer JSON content as a way for programmers to interact with the website\n",
    "* This is known as providing an *application programming interface* (API) \n",
    "* Accessing an API is the same as accessing any other webpage, it is done through a URL \n",
    "* The difference is that rather returning HTML the data returned is formatted for machines, like JSON"
   ]
  },
  {
   "cell_type": "markdown",
   "metadata": {},
   "source": [
    "## JSON and APIs\n",
    "---\n",
    "* Many websites make data available through JSON\n",
    "    * Some require registration \n",
    "    * Others are free \n",
    "    * each site will have its own documentation \n",
    "* Reading documentation is important as it says what URLs your program should use tor equest data\n",
    "* And what the data will look like when it is returned"
   ]
  },
  {
   "cell_type": "markdown",
   "metadata": {},
   "source": [
    "## JSON and APIs\n",
    "---\n",
    "* Using APIs you could write a program that:\n",
    "    * Scrape raw data from websites\n",
    "    * Automatically download new posts from a social network\n",
    "    * Create a *movie encyclopedia* for your personal library by scraping data from IMDb, Wikipedia, etc"
   ]
  },
  {
   "cell_type": "markdown",
   "metadata": {},
   "source": [
    "## The `json` module\n",
    "--- \n",
    "* Python's `json` module handles all the details of translating between a string with JSON data and Python values \n",
    "* This occurs with the `json.loads()`, to load the JSON data\n",
    "* And with `json.dumps()` to write the data  out\n",
    "* JSON cannot represent Python-specific  objects"
   ]
  },
  {
   "cell_type": "markdown",
   "metadata": {},
   "source": [
    "## The `json` module\n",
    "--- \n",
    "* JSON can't store *every* kind of Python value\n",
    "* It can contain only:\n",
    "    * strings\n",
    "    * integers\n",
    "    * floats\n",
    "    * Booleans\n",
    "    * lists\n",
    "    * dictionaries\n",
    "    * NoneType"
   ]
  },
  {
   "cell_type": "markdown",
   "metadata": {},
   "source": [
    "## Reading JSON with the `loads()` Function\n",
    "---\n",
    "* To translate a string containing JSON into a Python value, the string needs to be passed to `json.loads()`\n",
    "    * The name means *load string*\n",
    "* First though, the `json` module must be imported \n",
    "* Then `json.loads()` can be called\n",
    "* JSON strings always use double quotes \n",
    "* It will return the data as a Python dictionary \n",
    "* Python dictionaries are not ordered, so the key value pairs may appear in a different order\n",
    "* Much like we could have dictionaries in dictionaries, you can have JSON objects nested in others"
   ]
  },
  {
   "cell_type": "code",
   "execution_count": 11,
   "metadata": {},
   "outputs": [
    {
     "name": "stdout",
     "output_type": "stream",
     "text": [
      "{'universityName': 'University of Wyoming', 'city': 'Laramie', 'state': 'Wyoming', 'elevation': 7220}\n"
     ]
    }
   ],
   "source": [
    "import json\n",
    "\n",
    "jsonString = \"\"\"{\n",
    "        \"universityName\":\"University of Wyoming\",\n",
    "        \"city\":\"Laramie\",\n",
    "        \"state\":\"Wyoming\",\n",
    "        \"elevation\":7220\n",
    "    }\"\"\"\n",
    "\n",
    "jsonAsPy =  json.loads(jsonString)\n",
    "print(jsonAsPy)"
   ]
  },
  {
   "cell_type": "markdown",
   "metadata": {},
   "source": [
    "## Writing JSON with `dumps()`\n",
    "---\n",
    "* `dumps()` stands for *dump string* \n",
    "* It translates a Python value into  a string of JSON formatted data\n",
    "* The value can only be one of the following types:\n",
    "    * dictionaries\n",
    "    * lists\n",
    "    * integers\n",
    "    * floats\n",
    "    * strings\n",
    "    * Booleans\n",
    "    * None"
   ]
  },
  {
   "cell_type": "code",
   "execution_count": 12,
   "metadata": {},
   "outputs": [
    {
     "name": "stdout",
     "output_type": "stream",
     "text": [
      "{\"keyOne\": \"hi\", \"keyTwo\": 7220}\n"
     ]
    }
   ],
   "source": [
    "randDict = {\"keyOne\":\"hi\", \"keyTwo\":7220}\n",
    "stringOfJSON = json.dumps(randDict)\n",
    "print(stringOfJSON)"
   ]
  },
  {
   "cell_type": "markdown",
   "metadata": {},
   "source": [
    "## Putting it Together\n",
    "---\n",
    "* We can put it together to write a program to give us a weather forecast\n",
    "* We can:\n",
    "    * Make an API call to retrieve a JSON \n",
    "    * Parse that string into a Python dictionary\n",
    "    * Give a forecast for Laramie"
   ]
  },
  {
   "cell_type": "markdown",
   "metadata": {},
   "source": [
    "## Putting it Together\n",
    "--- \n",
    "* To begin we will need an additional module to make the API request\n",
    "    * API requests are very similar to when you visit a website\n",
    "* We will be using the `requests` module to accomplish this\n",
    "* We will also need the URL `https://api.weather.gov/gridpoints/CYS/84,23/forecast`"
   ]
  },
  {
   "cell_type": "code",
   "execution_count": 17,
   "metadata": {},
   "outputs": [
    {
     "name": "stdout",
     "output_type": "stream",
     "text": [
      "{\n",
      "    \"@context\": [\n",
      "        \"https://geojson.org/geojson-ld/geojson-context.jsonld\",\n",
      "        {\n",
      "            \"@version\": \"1.1\",\n",
      "            \"wx\": \"https://api.weather.gov/ontology#\",\n",
      "            \"geo\": \"http://www.opengis.net/ont/geosparql#\",\n",
      "            \"unit\": \"http://codes.wmo.int/common/unit/\",\n",
      "            \"@vocab\": \"https://api.weather.gov/ontology#\"\n",
      "        }\n",
      "    ],\n",
      "    \"type\": \"Feature\",\n",
      "    \"geometry\": {\n",
      "        \"type\": \"Polygon\",\n",
      "        \"coordinates\": [\n",
      "            [\n",
      "                [\n",
      "                    -105.5968706,\n",
      "                    41.312215100000003\n",
      "                ],\n",
      "                [\n",
      "                    -105.59459770000001,\n",
      "                    41.290412000000003\n",
      "                ],\n",
      "                [\n",
      "                    -105.5655653,\n",
      "                    41.292117800000007\n",
      "                ],\n",
      "                [\n",
      "                    -105.56783200000001,\n",
      "                    41.313921100000009\n",
      "                ],\n",
      "                [\n",
      "                    -105.5968706,\n",
      "                    41.312215100000003\n",
      "                ]\n",
      "            ]\n",
      "        ]\n",
      "    },\n",
      "    \"properties\": {\n",
      "        \"updated\": \"2023-11-15T09:15:36+00:00\",\n",
      "        \"units\": \"us\",\n",
      "        \"forecastGenerator\": \"BaselineForecastGenerator\",\n",
      "        \"generatedAt\": \"2023-11-15T18:57:25+00:00\",\n",
      "        \"updateTime\": \"2023-11-15T09:15:36+00:00\",\n",
      "        \"validTimes\": \"2023-11-15T03:00:00+00:00/P7DT22H\",\n",
      "        \"elevation\": {\n",
      "            \"unitCode\": \"wmoUnit:m\",\n",
      "            \"value\": 2193.9504000000002\n",
      "        },\n",
      "        \"periods\": [\n",
      "            {\n",
      "                \"number\": 1,\n",
      "                \"name\": \"Today\",\n",
      "                \"startTime\": \"2023-11-15T11:00:00-07:00\",\n",
      "                \"endTime\": \"2023-11-15T18:00:00-07:00\",\n",
      "                \"isDaytime\": true,\n",
      "                \"temperature\": 58,\n",
      "                \"temperatureUnit\": \"F\",\n",
      "                \"temperatureTrend\": \"falling\",\n",
      "                \"probabilityOfPrecipitation\": {\n",
      "                    \"unitCode\": \"wmoUnit:percent\",\n",
      "                    \"value\": null\n",
      "                },\n",
      "                \"dewpoint\": {\n",
      "                    \"unitCode\": \"wmoUnit:degC\",\n",
      "                    \"value\": -7.7777777777777777\n",
      "                },\n",
      "                \"relativeHumidity\": {\n",
      "                    \"unitCode\": \"wmoUnit:percent\",\n",
      "                    \"value\": 29\n",
      "                },\n",
      "                \"windSpeed\": \"10 to 15 mph\",\n",
      "                \"windDirection\": \"SW\",\n",
      "                \"icon\": \"https://api.weather.gov/icons/land/day/sct?size=medium\",\n",
      "                \"shortForecast\": \"Mostly Sunny\",\n",
      "                \"detailedForecast\": \"Mostly sunny. High near 58, with temperatures falling to around 49 in the afternoon. Southwest wind 10 to 15 mph.\"\n",
      "            },\n",
      "            {\n",
      "                \"number\": 2,\n",
      "                \"name\": \"Tonight\",\n",
      "                \"startTime\": \"2023-11-15T18:00:00-07:00\",\n",
      "                \"endTime\": \"2023-11-16T06:00:00-07:00\",\n",
      "                \"isDaytime\": false,\n",
      "                \"temperature\": 39,\n",
      "                \"temperatureUnit\": \"F\",\n",
      "                \"temperatureTrend\": \"rising\",\n",
      "                \"probabilityOfPrecipitation\": {\n",
      "                    \"unitCode\": \"wmoUnit:percent\",\n",
      "                    \"value\": null\n",
      "                },\n",
      "                \"dewpoint\": {\n",
      "                    \"unitCode\": \"wmoUnit:degC\",\n",
      "                    \"value\": -4.4444444444444446\n",
      "                },\n",
      "                \"relativeHumidity\": {\n",
      "                    \"unitCode\": \"wmoUnit:percent\",\n",
      "                    \"value\": 45\n",
      "                },\n",
      "                \"windSpeed\": \"10 to 25 mph\",\n",
      "                \"windDirection\": \"SW\",\n",
      "                \"icon\": \"https://api.weather.gov/icons/land/night/wind_sct?size=medium\",\n",
      "                \"shortForecast\": \"Partly Cloudy\",\n",
      "                \"detailedForecast\": \"Partly cloudy. Low around 39, with temperatures rising to around 44 overnight. Southwest wind 10 to 25 mph, with gusts as high as 35 mph.\"\n",
      "            },\n",
      "            {\n",
      "                \"number\": 3,\n",
      "                \"name\": \"Thursday\",\n",
      "                \"startTime\": \"2023-11-16T06:00:00-07:00\",\n",
      "                \"endTime\": \"2023-11-16T18:00:00-07:00\",\n",
      "                \"isDaytime\": true,\n",
      "                \"temperature\": 50,\n",
      "                \"temperatureUnit\": \"F\",\n",
      "                \"temperatureTrend\": \"falling\",\n",
      "                \"probabilityOfPrecipitation\": {\n",
      "                    \"unitCode\": \"wmoUnit:percent\",\n",
      "                    \"value\": 30\n",
      "                },\n",
      "                \"dewpoint\": {\n",
      "                    \"unitCode\": \"wmoUnit:degC\",\n",
      "                    \"value\": 0\n",
      "                },\n",
      "                \"relativeHumidity\": {\n",
      "                    \"unitCode\": \"wmoUnit:percent\",\n",
      "                    \"value\": 70\n",
      "                },\n",
      "                \"windSpeed\": \"15 to 30 mph\",\n",
      "                \"windDirection\": \"W\",\n",
      "                \"icon\": \"https://api.weather.gov/icons/land/day/rain_showers,30/snow,30?size=medium\",\n",
      "                \"shortForecast\": \"Chance Rain Showers then Slight Chance Rain And Snow Showers\",\n",
      "                \"detailedForecast\": \"A chance of rain showers between 11am and 5pm, then a slight chance of rain and snow showers. Partly sunny. High near 50, with temperatures falling to around 40 in the afternoon. West wind 15 to 30 mph, with gusts as high as 40 mph. Chance of precipitation is 30%.\"\n",
      "            },\n",
      "            {\n",
      "                \"number\": 4,\n",
      "                \"name\": \"Thursday Night\",\n",
      "                \"startTime\": \"2023-11-16T18:00:00-07:00\",\n",
      "                \"endTime\": \"2023-11-17T06:00:00-07:00\",\n",
      "                \"isDaytime\": false,\n",
      "                \"temperature\": 29,\n",
      "                \"temperatureUnit\": \"F\",\n",
      "                \"temperatureTrend\": null,\n",
      "                \"probabilityOfPrecipitation\": {\n",
      "                    \"unitCode\": \"wmoUnit:percent\",\n",
      "                    \"value\": 20\n",
      "                },\n",
      "                \"dewpoint\": {\n",
      "                    \"unitCode\": \"wmoUnit:degC\",\n",
      "                    \"value\": -0.55555555555555558\n",
      "                },\n",
      "                \"relativeHumidity\": {\n",
      "                    \"unitCode\": \"wmoUnit:percent\",\n",
      "                    \"value\": 85\n",
      "                },\n",
      "                \"windSpeed\": \"15 mph\",\n",
      "                \"windDirection\": \"W\",\n",
      "                \"icon\": \"https://api.weather.gov/icons/land/night/snow,20/sct?size=medium\",\n",
      "                \"shortForecast\": \"Slight Chance Rain And Snow Showers then Partly Cloudy\",\n",
      "                \"detailedForecast\": \"A slight chance of rain and snow showers before 11pm. Partly cloudy, with a low around 29. West wind around 15 mph. Chance of precipitation is 20%.\"\n",
      "            },\n",
      "            {\n",
      "                \"number\": 5,\n",
      "                \"name\": \"Friday\",\n",
      "                \"startTime\": \"2023-11-17T06:00:00-07:00\",\n",
      "                \"endTime\": \"2023-11-17T18:00:00-07:00\",\n",
      "                \"isDaytime\": true,\n",
      "                \"temperature\": 52,\n",
      "                \"temperatureUnit\": \"F\",\n",
      "                \"temperatureTrend\": null,\n",
      "                \"probabilityOfPrecipitation\": {\n",
      "                    \"unitCode\": \"wmoUnit:percent\",\n",
      "                    \"value\": null\n",
      "                },\n",
      "                \"dewpoint\": {\n",
      "                    \"unitCode\": \"wmoUnit:degC\",\n",
      "                    \"value\": -3.3333333333333335\n",
      "                },\n",
      "                \"relativeHumidity\": {\n",
      "                    \"unitCode\": \"wmoUnit:percent\",\n",
      "                    \"value\": 76\n",
      "                },\n",
      "                \"windSpeed\": \"10 to 15 mph\",\n",
      "                \"windDirection\": \"W\",\n",
      "                \"icon\": \"https://api.weather.gov/icons/land/day/few?size=medium\",\n",
      "                \"shortForecast\": \"Sunny\",\n",
      "                \"detailedForecast\": \"Sunny, with a high near 52. West wind 10 to 15 mph.\"\n",
      "            },\n",
      "            {\n",
      "                \"number\": 6,\n",
      "                \"name\": \"Friday Night\",\n",
      "                \"startTime\": \"2023-11-17T18:00:00-07:00\",\n",
      "                \"endTime\": \"2023-11-18T06:00:00-07:00\",\n",
      "                \"isDaytime\": false,\n",
      "                \"temperature\": 27,\n",
      "                \"temperatureUnit\": \"F\",\n",
      "                \"temperatureTrend\": null,\n",
      "                \"probabilityOfPrecipitation\": {\n",
      "                    \"unitCode\": \"wmoUnit:percent\",\n",
      "                    \"value\": null\n",
      "                },\n",
      "                \"dewpoint\": {\n",
      "                    \"unitCode\": \"wmoUnit:degC\",\n",
      "                    \"value\": -3.8888888888888888\n",
      "                },\n",
      "                \"relativeHumidity\": {\n",
      "                    \"unitCode\": \"wmoUnit:percent\",\n",
      "                    \"value\": 78\n",
      "                },\n",
      "                \"windSpeed\": \"5 to 10 mph\",\n",
      "                \"windDirection\": \"SW\",\n",
      "                \"icon\": \"https://api.weather.gov/icons/land/night/few?size=medium\",\n",
      "                \"shortForecast\": \"Mostly Clear\",\n",
      "                \"detailedForecast\": \"Mostly clear, with a low around 27.\"\n",
      "            },\n",
      "            {\n",
      "                \"number\": 7,\n",
      "                \"name\": \"Saturday\",\n",
      "                \"startTime\": \"2023-11-18T06:00:00-07:00\",\n",
      "                \"endTime\": \"2023-11-18T18:00:00-07:00\",\n",
      "                \"isDaytime\": true,\n",
      "                \"temperature\": 53,\n",
      "                \"temperatureUnit\": \"F\",\n",
      "                \"temperatureTrend\": null,\n",
      "                \"probabilityOfPrecipitation\": {\n",
      "                    \"unitCode\": \"wmoUnit:percent\",\n",
      "                    \"value\": null\n",
      "                },\n",
      "                \"dewpoint\": {\n",
      "                    \"unitCode\": \"wmoUnit:degC\",\n",
      "                    \"value\": -3.8888888888888888\n",
      "                },\n",
      "                \"relativeHumidity\": {\n",
      "                    \"unitCode\": \"wmoUnit:percent\",\n",
      "                    \"value\": 73\n",
      "                },\n",
      "                \"windSpeed\": \"10 to 15 mph\",\n",
      "                \"windDirection\": \"SW\",\n",
      "                \"icon\": \"https://api.weather.gov/icons/land/day/sct?size=medium\",\n",
      "                \"shortForecast\": \"Mostly Sunny\",\n",
      "                \"detailedForecast\": \"Mostly sunny, with a high near 53.\"\n",
      "            },\n",
      "            {\n",
      "                \"number\": 8,\n",
      "                \"name\": \"Saturday Night\",\n",
      "                \"startTime\": \"2023-11-18T18:00:00-07:00\",\n",
      "                \"endTime\": \"2023-11-19T06:00:00-07:00\",\n",
      "                \"isDaytime\": false,\n",
      "                \"temperature\": 29,\n",
      "                \"temperatureUnit\": \"F\",\n",
      "                \"temperatureTrend\": null,\n",
      "                \"probabilityOfPrecipitation\": {\n",
      "                    \"unitCode\": \"wmoUnit:percent\",\n",
      "                    \"value\": null\n",
      "                },\n",
      "                \"dewpoint\": {\n",
      "                    \"unitCode\": \"wmoUnit:degC\",\n",
      "                    \"value\": -2.7777777777777777\n",
      "                },\n",
      "                \"relativeHumidity\": {\n",
      "                    \"unitCode\": \"wmoUnit:percent\",\n",
      "                    \"value\": 85\n",
      "                },\n",
      "                \"windSpeed\": \"10 mph\",\n",
      "                \"windDirection\": \"WSW\",\n",
      "                \"icon\": \"https://api.weather.gov/icons/land/night/bkn?size=medium\",\n",
      "                \"shortForecast\": \"Mostly Cloudy\",\n",
      "                \"detailedForecast\": \"Mostly cloudy, with a low around 29.\"\n",
      "            },\n",
      "            {\n",
      "                \"number\": 9,\n",
      "                \"name\": \"Sunday\",\n",
      "                \"startTime\": \"2023-11-19T06:00:00-07:00\",\n",
      "                \"endTime\": \"2023-11-19T18:00:00-07:00\",\n",
      "                \"isDaytime\": true,\n",
      "                \"temperature\": 46,\n",
      "                \"temperatureUnit\": \"F\",\n",
      "                \"temperatureTrend\": null,\n",
      "                \"probabilityOfPrecipitation\": {\n",
      "                    \"unitCode\": \"wmoUnit:percent\",\n",
      "                    \"value\": null\n",
      "                },\n",
      "                \"dewpoint\": {\n",
      "                    \"unitCode\": \"wmoUnit:degC\",\n",
      "                    \"value\": -2.7777777777777777\n",
      "                },\n",
      "                \"relativeHumidity\": {\n",
      "                    \"unitCode\": \"wmoUnit:percent\",\n",
      "                    \"value\": 80\n",
      "                },\n",
      "                \"windSpeed\": \"10 to 20 mph\",\n",
      "                \"windDirection\": \"W\",\n",
      "                \"icon\": \"https://api.weather.gov/icons/land/day/bkn/snow?size=medium\",\n",
      "                \"shortForecast\": \"Partly Sunny then Chance Snow Showers\",\n",
      "                \"detailedForecast\": \"A chance of snow showers after 5pm. Partly sunny, with a high near 46.\"\n",
      "            },\n",
      "            {\n",
      "                \"number\": 10,\n",
      "                \"name\": \"Sunday Night\",\n",
      "                \"startTime\": \"2023-11-19T18:00:00-07:00\",\n",
      "                \"endTime\": \"2023-11-20T06:00:00-07:00\",\n",
      "                \"isDaytime\": false,\n",
      "                \"temperature\": 24,\n",
      "                \"temperatureUnit\": \"F\",\n",
      "                \"temperatureTrend\": null,\n",
      "                \"probabilityOfPrecipitation\": {\n",
      "                    \"unitCode\": \"wmoUnit:percent\",\n",
      "                    \"value\": null\n",
      "                },\n",
      "                \"dewpoint\": {\n",
      "                    \"unitCode\": \"wmoUnit:degC\",\n",
      "                    \"value\": -5\n",
      "                },\n",
      "                \"relativeHumidity\": {\n",
      "                    \"unitCode\": \"wmoUnit:percent\",\n",
      "                    \"value\": 83\n",
      "                },\n",
      "                \"windSpeed\": \"15 to 20 mph\",\n",
      "                \"windDirection\": \"NW\",\n",
      "                \"icon\": \"https://api.weather.gov/icons/land/night/snow?size=medium\",\n",
      "                \"shortForecast\": \"Chance Snow Showers\",\n",
      "                \"detailedForecast\": \"A chance of snow showers. Mostly cloudy, with a low around 24. Little or no snow accumulation expected.\"\n",
      "            },\n",
      "            {\n",
      "                \"number\": 11,\n",
      "                \"name\": \"Monday\",\n",
      "                \"startTime\": \"2023-11-20T06:00:00-07:00\",\n",
      "                \"endTime\": \"2023-11-20T18:00:00-07:00\",\n",
      "                \"isDaytime\": true,\n",
      "                \"temperature\": 37,\n",
      "                \"temperatureUnit\": \"F\",\n",
      "                \"temperatureTrend\": null,\n",
      "                \"probabilityOfPrecipitation\": {\n",
      "                    \"unitCode\": \"wmoUnit:percent\",\n",
      "                    \"value\": null\n",
      "                },\n",
      "                \"dewpoint\": {\n",
      "                    \"unitCode\": \"wmoUnit:degC\",\n",
      "                    \"value\": -6.1111111111111107\n",
      "                },\n",
      "                \"relativeHumidity\": {\n",
      "                    \"unitCode\": \"wmoUnit:percent\",\n",
      "                    \"value\": 82\n",
      "                },\n",
      "                \"windSpeed\": \"20 mph\",\n",
      "                \"windDirection\": \"NW\",\n",
      "                \"icon\": \"https://api.weather.gov/icons/land/day/snow/bkn?size=medium\",\n",
      "                \"shortForecast\": \"Slight Chance Snow Showers then Partly Sunny\",\n",
      "                \"detailedForecast\": \"A slight chance of snow showers before 11am. Partly sunny, with a high near 37.\"\n",
      "            },\n",
      "            {\n",
      "                \"number\": 12,\n",
      "                \"name\": \"Monday Night\",\n",
      "                \"startTime\": \"2023-11-20T18:00:00-07:00\",\n",
      "                \"endTime\": \"2023-11-21T06:00:00-07:00\",\n",
      "                \"isDaytime\": false,\n",
      "                \"temperature\": 18,\n",
      "                \"temperatureUnit\": \"F\",\n",
      "                \"temperatureTrend\": null,\n",
      "                \"probabilityOfPrecipitation\": {\n",
      "                    \"unitCode\": \"wmoUnit:percent\",\n",
      "                    \"value\": null\n",
      "                },\n",
      "                \"dewpoint\": {\n",
      "                    \"unitCode\": \"wmoUnit:degC\",\n",
      "                    \"value\": -10\n",
      "                },\n",
      "                \"relativeHumidity\": {\n",
      "                    \"unitCode\": \"wmoUnit:percent\",\n",
      "                    \"value\": 65\n",
      "                },\n",
      "                \"windSpeed\": \"15 mph\",\n",
      "                \"windDirection\": \"WNW\",\n",
      "                \"icon\": \"https://api.weather.gov/icons/land/night/few?size=medium\",\n",
      "                \"shortForecast\": \"Mostly Clear\",\n",
      "                \"detailedForecast\": \"Mostly clear, with a low around 18.\"\n",
      "            },\n",
      "            {\n",
      "                \"number\": 13,\n",
      "                \"name\": \"Tuesday\",\n",
      "                \"startTime\": \"2023-11-21T06:00:00-07:00\",\n",
      "                \"endTime\": \"2023-11-21T18:00:00-07:00\",\n",
      "                \"isDaytime\": true,\n",
      "                \"temperature\": 46,\n",
      "                \"temperatureUnit\": \"F\",\n",
      "                \"temperatureTrend\": null,\n",
      "                \"probabilityOfPrecipitation\": {\n",
      "                    \"unitCode\": \"wmoUnit:percent\",\n",
      "                    \"value\": null\n",
      "                },\n",
      "                \"dewpoint\": {\n",
      "                    \"unitCode\": \"wmoUnit:degC\",\n",
      "                    \"value\": -9.4444444444444446\n",
      "                },\n",
      "                \"relativeHumidity\": {\n",
      "                    \"unitCode\": \"wmoUnit:percent\",\n",
      "                    \"value\": 62\n",
      "                },\n",
      "                \"windSpeed\": \"15 mph\",\n",
      "                \"windDirection\": \"W\",\n",
      "                \"icon\": \"https://api.weather.gov/icons/land/day/few?size=medium\",\n",
      "                \"shortForecast\": \"Sunny\",\n",
      "                \"detailedForecast\": \"Sunny, with a high near 46.\"\n",
      "            },\n",
      "            {\n",
      "                \"number\": 14,\n",
      "                \"name\": \"Tuesday Night\",\n",
      "                \"startTime\": \"2023-11-21T18:00:00-07:00\",\n",
      "                \"endTime\": \"2023-11-22T06:00:00-07:00\",\n",
      "                \"isDaytime\": false,\n",
      "                \"temperature\": 26,\n",
      "                \"temperatureUnit\": \"F\",\n",
      "                \"temperatureTrend\": null,\n",
      "                \"probabilityOfPrecipitation\": {\n",
      "                    \"unitCode\": \"wmoUnit:percent\",\n",
      "                    \"value\": null\n",
      "                },\n",
      "                \"dewpoint\": {\n",
      "                    \"unitCode\": \"wmoUnit:degC\",\n",
      "                    \"value\": -8.8888888888888893\n",
      "                },\n",
      "                \"relativeHumidity\": {\n",
      "                    \"unitCode\": \"wmoUnit:percent\",\n",
      "                    \"value\": 51\n",
      "                },\n",
      "                \"windSpeed\": \"15 mph\",\n",
      "                \"windDirection\": \"W\",\n",
      "                \"icon\": \"https://api.weather.gov/icons/land/night/few?size=medium\",\n",
      "                \"shortForecast\": \"Mostly Clear\",\n",
      "                \"detailedForecast\": \"Mostly clear, with a low around 26.\"\n",
      "            }\n",
      "        ]\n",
      "    }\n",
      "}\n"
     ]
    }
   ],
   "source": [
    "#import the request module so we can reach out to the external website\n",
    "import requests\n",
    "\n",
    "# first we will store the URL in a variable\n",
    "url = \"https://api.weather.gov/gridpoints/CYS/84,23/forecast\"\n",
    "#we then need to make our request\n",
    "#what we are really doing is sending an HTTP GET request to a website\n",
    "#but getting JSON back, rather HTML or a website\n",
    "response = requests.get(url)\n",
    "# that is the overall response though, we need to pull our data from it\n",
    "response_data = response.text\n",
    "# Print it out, it will be truncated\n",
    "# visiting the URL is a great way to see what it looks like!\n",
    "print(response_data)\n"
   ]
  },
  {
   "cell_type": "code",
   "execution_count": 19,
   "metadata": {},
   "outputs": [],
   "source": [
    "#Just to be safe, we will save that JSON string to a file\n",
    "with open(\"weather.json\",\"w\") as file:\n",
    "    file.write(response_data)"
   ]
  },
  {
   "cell_type": "markdown",
   "metadata": {},
   "source": [
    "## Putting it Together\n",
    "---\n",
    "* OK, we have the JSON data, both in memory and stored locally\n",
    "* The file is a lot, the data we really want is a sub dictionary of a sub dictionary\n",
    "* We can read in the overall data, and then using the keys find the data we really want"
   ]
  },
  {
   "cell_type": "code",
   "execution_count": 21,
   "metadata": {},
   "outputs": [],
   "source": [
    "#Move all the data into a Python dictionary\n",
    "data = json.loads(response_data)\n",
    "#This is the first sub dictionary, you can figure it out by looking at the json file\n",
    "props = data[\"properties\"]\n",
    "#Periods is the data we actually want\n",
    "periods = props[\"periods\"]"
   ]
  },
  {
   "cell_type": "markdown",
   "metadata": {},
   "source": [
    "## Putting it Together\n",
    "---\n",
    "* Ok! WE now have the actual data we want\n",
    "* Now we can parse through that data and give a nice weather forecast for Laramie\n",
    "* Again, looking at your data ahead of time really helps to know what you have access to"
   ]
  },
  {
   "cell_type": "code",
   "execution_count": 31,
   "metadata": {},
   "outputs": [
    {
     "name": "stdout",
     "output_type": "stream",
     "text": [
      "Weather forecast for Laramie:\n",
      "Today             58F\n",
      "---------------------\n",
      "Tonight           39F\n",
      "---------------------\n",
      "Thursday          50F\n",
      "---------------------\n",
      "Thursday Night    29F\n",
      "---------------------\n",
      "Friday            52F\n",
      "---------------------\n",
      "Friday Night      27F\n",
      "---------------------\n",
      "Saturday          53F\n",
      "---------------------\n",
      "Saturday Night    29F\n",
      "---------------------\n",
      "Sunday            46F\n",
      "---------------------\n",
      "Sunday Night      24F\n",
      "---------------------\n",
      "Monday            37F\n",
      "---------------------\n",
      "Monday Night      18F\n",
      "---------------------\n",
      "Tuesday           46F\n",
      "---------------------\n",
      "Tuesday Night     26F\n",
      "---------------------\n"
     ]
    }
   ],
   "source": [
    "print(\"Weather forecast for Laramie:\")\n",
    "\n",
    "for period in periods:\n",
    "    #Periods is a list\n",
    "    #With dictionaries as its elements\n",
    "    name = \"{:18}\".format(period[\"name\"])\n",
    "    print(f\"{name}{period['temperature']}F\")\n",
    "    print(\"---------------------\")"
   ]
  }
 ],
 "metadata": {
  "kernelspec": {
   "display_name": "Python 3",
   "language": "python",
   "name": "python3"
  },
  "language_info": {
   "codemirror_mode": {
    "name": "ipython",
    "version": 3
   },
   "file_extension": ".py",
   "mimetype": "text/x-python",
   "name": "python",
   "nbconvert_exporter": "python",
   "pygments_lexer": "ipython3",
   "version": "3.10.12"
  }
 },
 "nbformat": 4,
 "nbformat_minor": 2
}
