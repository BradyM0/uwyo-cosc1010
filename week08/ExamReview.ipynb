{
 "cells": [
  {
   "cell_type": "markdown",
   "metadata": {},
   "source": [
    "# <p style=\"text-align: Center;\">Exam Review</p>\n",
    "## <p style=\"text-align: Center;\">University of Wyoming COSC 1010</p>\n"
   ]
  },
  {
   "cell_type": "markdown",
   "metadata": {},
   "source": [
    "## Announcements\n",
    "---\n",
    "* Exam this week\n",
    "    * Available on Wednesday and Thursday \n",
    "    * You will have 75 minutes\n",
    "    * One attempt only \n",
    "    * You are not allowed to work with anyone else\n",
    "    * It is NOT open note\n",
    "    * 25 Questions\n"
   ]
  },
  {
   "cell_type": "markdown",
   "metadata": {},
   "source": [
    "## Announcements\n",
    "---\n",
    "* Course pacing\n",
    "    * Back half schedule modified to slow a few things down\n",
    "    * More HWs in the second portion of the course\n",
    "        * Harder and/or more intensive projects \n",
    "    * Weeks 9 and 10 closer to the first 7 content wise "
   ]
  },
  {
   "cell_type": "markdown",
   "metadata": {},
   "source": [
    "## Announcements\n",
    "---\n",
    "* Course pacing\n",
    "    * A couple TAs working on generating supplemental content and extra practice \n",
    "    * There may also be additional practice sessions \n",
    "    * You all are encouraged to attend TA office hours\n",
    "        * The schedule and room (EN 4072) can be found in Modules > Week 02 > TA Office Hour Schedule"
   ]
  },
  {
   "cell_type": "markdown",
   "metadata": {},
   "source": [
    "## Announcements\n",
    "---\n",
    "* Lab Exam Canceled\n",
    "* There will be lab next week, just a normal lab "
   ]
  },
  {
   "cell_type": "markdown",
   "metadata": {},
   "source": [
    "## <p style=\"text-align: Center;\">Exam Review</p>"
   ]
  },
  {
   "cell_type": "markdown",
   "metadata": {},
   "source": [
    "## Exam content\n",
    "---\n",
    "* Random questions shown each section\n",
    "    * One question viewable at a time\n",
    "    * Cannot go back to questions \n",
    "* General knowledge\n",
    "    * Things covered in lecture slides\n",
    "* Parts of a program\n",
    "    * Identify the different parts of a program\n",
    "* Code analysis \n",
    "    * Look at code snippets and be able to identify what is happening \n",
    "* Truth Tables, Boolean Equations, Circuit diagrams"
   ]
  },
  {
   "cell_type": "markdown",
   "metadata": {},
   "source": [
    "## General Knowledge \n",
    "--- \n",
    "* Understand basics in python\n",
    "    * Types of values\n",
    "    * Declarations \n",
    "    * Mathematical operations\n",
    "    * Logical comparisons\n",
    "    * Declarations of different types "
   ]
  },
  {
   "cell_type": "markdown",
   "metadata": {},
   "source": [
    "## General Knowledge \n",
    "--- \n",
    "* Understand basics in python\n",
    "    * Accessing elements in a list \n",
    "    * List index positions \n",
    "    * List operations "
   ]
  },
  {
   "cell_type": "markdown",
   "metadata": {},
   "source": [
    "## General Knowledge \n",
    "--- \n",
    "* Understand basics in python\n",
    "    * If statement usage and evaluation\n",
    "    * Looping \n",
    "    * Utilizing variables"
   ]
  },
  {
   "cell_type": "markdown",
   "metadata": {},
   "source": [
    "## Parts of code\n",
    "---\n",
    "* Identify different aspects of a program\n",
    "    * Code blocks\n",
    "    * Function definitions\n",
    "    * Function calls\n",
    "    * Method calls"
   ]
  },
  {
   "cell_type": "markdown",
   "metadata": {},
   "source": [
    "## Code evaluation\n",
    "---\n",
    "* Understand how the code works\n",
    "    * Be able to identify the output\n",
    "    * Follow the logic of the code\n",
    "    * Understand what the execution flow of a program will be"
   ]
  },
  {
   "cell_type": "markdown",
   "metadata": {},
   "source": [
    "## Code evaluation\n",
    "---\n",
    "* Understand how the code works\n",
    "    * Know what parts of a program do\n",
    "    * Understand how different parts of code work together\n",
    "    * Difference between if/elif and if/if/else \n",
    "    "
   ]
  },
  {
   "cell_type": "markdown",
   "metadata": {},
   "source": [
    "## Truth Tables\n",
    "---\n",
    "* Be able to fill out truth tables \n",
    "* Understand what the different symbols mean\n",
    "    * `xy` denotes and\n",
    "    * `x+y` denotes or\n",
    "    * `x'` is negation \n",
    "* Recorded lecture is expanded from the one given in class "
   ]
  },
  {
   "cell_type": "markdown",
   "metadata": {},
   "source": [
    "## Boolean Expressions\n",
    "---\n",
    "* Translate boolean expressions to their code representation \n",
    "* Know how to do proper nesting within the code"
   ]
  },
  {
   "cell_type": "markdown",
   "metadata": {},
   "source": [
    "## Circuit Diagram\n",
    "---\n",
    "* Be able to translate from a  circuit diagram to a truth table\n",
    "* Recognize all 2 input symbols given in the lecture and what their corresponding table is \n"
   ]
  },
  {
   "cell_type": "markdown",
   "metadata": {},
   "source": []
  }
 ],
 "metadata": {
  "language_info": {
   "name": "python"
  }
 },
 "nbformat": 4,
 "nbformat_minor": 2
}
